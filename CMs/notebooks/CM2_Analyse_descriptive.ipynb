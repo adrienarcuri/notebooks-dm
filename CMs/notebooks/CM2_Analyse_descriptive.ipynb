{
 "cells": [
  {
   "cell_type": "markdown",
   "metadata": {
    "id": "Ll8CV4wDUyVt"
   },
   "source": [
    "# Pré-requis\n",
    "\n",
    "## Installation\n",
    "\n",
    "Un environnement permettant de lire le notebook est nécessaire pour lancer les scripts et lire les données.\n",
    "\n",
    "### Avec Anaconda en local (recommandé)\n",
    "\n",
    "Installer Anaconda: https://www.anaconda.com/products/individual\n",
    "\n",
    "![Logo Anaconda](https://interactivechaos.com/sites/default/files/inline-images/recursos_conda.jpg)\n",
    "\n",
    "Anaconda est une distribution de Python spécialement dédiée au calcul scientifique. Elle inclut par défaut un grand nombre de librairies permettant d'effectuer des calculs massifs rapidement (les chemins de codes critiques étant implémentés en C/Fortran et non en Python).\n",
    "\n",
    "La distribution est gratuite, open source et disponible sur la plupart des environnements. Toujours préférer la version 64 bits si compatible avec le système.\n",
    "\n",
    "Nous allons principalement utiliser **Jupyter Notebook** pour exécuter les notebooks. Jupyter Notebook est une application Web Open Source permettant de créer et de partager des documents contenant du code (exécutable directement dans le document), des équations, des images et du texte).\n",
    "\n",
    "Une fois Anaconda installé, ouvtre l'application et lancer Jupyter Notebook:\n",
    "\n",
    "![](./img/anaconda_jupyter_launch.png)\n",
    "\n",
    "### Alternative dans le Cloud: Google Colab\n",
    "\n",
    "Vous pouvez également lancer le notebook sur Google Colab : https://colab.research.google.com\n",
    "\n",
    "### Autres alternatives\n",
    "\n",
    "- Une autre plateforme de Notebook en ligne (créé par JetBrains): https://datalore.jetbrains.com\n",
    "- Un IDE pour scientifique - Spyder (intégré à Anaconda) : https://www.spyder-ide.org\n",
    "- Un IDE pour codeur - gratuit comme ou VS Code: https://code.visualstudio.com\n",
    "- Un IDE commercial Pycharm Pro (la version gratuite ne prend pas en charge les Notebooks): https://www.jetbrains.com/fr-fr/pycharm/\n",
    "\n",
    "## Les fichiers sources\n",
    "\n",
    "Les fichiers sources sont dans le dossier `data` du répertoire github.\n"
   ]
  },
  {
   "cell_type": "markdown",
   "metadata": {
    "id": "AVqNM6NOue9G"
   },
   "source": [
    "# Analyse descriptive\n",
    "\n",
    "Ce notebook a pour objectif d'effectuer une analyse descriptive.\n",
    "\n",
    "En effet, avant toute analyse statistique approfondie, il est nécessaire d'effectuer une **analyse descriptive** afin de mieux connaitre son jeu de données en essayant de répondre aux questions suivantes :\n",
    "- Quelle est la **distribution du jeu de donnée** ?\n",
    "- Quels sont les **graphiques** qui vont me permettre de **visualiser** les données ?\n",
    "\n",
    "Dans la suite nous verrons les différentes types d'analyses:\n",
    "- **uni-variée**\n",
    "- **bi-variée**"
   ]
  },
  {
   "cell_type": "markdown",
   "metadata": {
    "id": "-Q-xSr1ensuq"
   },
   "source": [
    "## Jeu de données \n",
    "\n",
    "Dans la suite nous avons volontairement choisi d'étudier un jeu de données du traffic ferroviaire français issue sur la **Régularité Mensuelle des TGV sur l'axe Toulouse Paris entre 2018 et 2021** de l'[Open Data SNCF](https://ressources.data.sncf.com/pages/accueil/).\n",
    "\n",
    "![ SNCF Open Data img](https://www.tourmag.com/photo/art/grande/12402458-19522538.jpg?v=1492671286)\n",
    "\n",
    "Il s'agit donc une petite portion de données constituée de seulement 42 enregistements, mais qui est suffisant pour la suite de ce notebook.\n",
    "\n",
    "Source complète: https://ressources.data.sncf.com/explore/dataset/regularite-mensuelle-tgv-aqst/table/?sort=date&refine.gare_depart=TOULOUSE+MATABIAU&refine.gare_arrivee=PARIS+MONTPARNASSE\n",
    "\n"
   ]
  },
  {
   "cell_type": "markdown",
   "metadata": {
    "id": "qCRUOzwp84jw"
   },
   "source": [
    "# Analyse uni-variée\n",
    "\n",
    "L'analyse descriptive **uni-variée** permet, comme son nom l'indique, de **décrire une variable** de notre jeu de données, c'est-à-dire que nous allons étudier les variables une à une pour avoir une première compréhension des données disponibles.\n",
    " \n",
    "Cette analyse se fait généralement selon plusieurs axes:\n",
    "- Analyse de la **Tendance Centrale** (moyenne, médiane, mode)\n",
    "- Analyse de la **Dispersion** (variance, écart-type, l'étendue (minimum, maximum), fréquences, fractiles)\n",
    "- Analyse de la **Forme de la Distribution** (asymétrie, applatissement)"
   ]
  },
  {
   "cell_type": "markdown",
   "metadata": {
    "id": "53igrcG0LgIQ"
   },
   "source": [
    "## Tendance Centrale\n",
    "\n",
    "La *Tendance Centrale* permet de résumer les données par les **valeurs représentative** qui indiquent où ce situe le **centre de la distribution**."
   ]
  },
  {
   "cell_type": "markdown",
   "metadata": {
    "id": "DGLxHQ4K60ok"
   },
   "source": [
    "### Ouverture du fichier et affichage des données\n",
    "\n",
    "1.   Élément de liste\n",
    "2.   Élément de liste\n",
    "\n",
    "\n",
    "\n",
    "Ouvrons le fichier et affichons les 5 premières lignes.\n",
    "Observons nos données."
   ]
  },
  {
   "cell_type": "code",
   "execution_count": 246,
   "metadata": {
    "colab": {
     "base_uri": "https://localhost:8080/",
     "height": 416
    },
    "executionInfo": {
     "elapsed": 516,
     "status": "error",
     "timestamp": 1643200168155,
     "user": {
      "displayName": "Adrien Arcuri",
      "photoUrl": "https://lh3.googleusercontent.com/a-/AOh14Ghwh1vaohRcJu_m9HcAYEuj9tlR4AZyFimNNmoZM0I=s64",
      "userId": "00457817062118620645"
     },
     "user_tz": -60
    },
    "id": "xRoZZj-s4wy9",
    "outputId": "edeb9a03-e53a-471d-ef9d-a0d116e88b2c",
    "scrolled": true
   },
   "outputs": [
    {
     "data": {
      "text/html": [
       "<div>\n",
       "<style scoped>\n",
       "    .dataframe tbody tr th:only-of-type {\n",
       "        vertical-align: middle;\n",
       "    }\n",
       "\n",
       "    .dataframe tbody tr th {\n",
       "        vertical-align: top;\n",
       "    }\n",
       "\n",
       "    .dataframe thead th {\n",
       "        text-align: right;\n",
       "    }\n",
       "</style>\n",
       "<table border=\"1\" class=\"dataframe\">\n",
       "  <thead>\n",
       "    <tr style=\"text-align: right;\">\n",
       "      <th></th>\n",
       "      <th>Date</th>\n",
       "      <th>Service</th>\n",
       "      <th>Gare de départ</th>\n",
       "      <th>Gare d'arrivée</th>\n",
       "      <th>Durée moyenne du trajet</th>\n",
       "      <th>Nombre de circulations prévues</th>\n",
       "      <th>Nombre de trains annulés</th>\n",
       "      <th>Commentaire annulations</th>\n",
       "      <th>Nombre de trains en retard au départ</th>\n",
       "      <th>Retard moyen des trains en retard au départ</th>\n",
       "      <th>...</th>\n",
       "      <th>Nombre trains en retard &gt; 15min</th>\n",
       "      <th>Retard moyen trains en retard &gt; 15 (si liaison concurrencée par vol)</th>\n",
       "      <th>Nombre trains en retard &gt; 30min</th>\n",
       "      <th>Nombre trains en retard &gt; 60min</th>\n",
       "      <th>Prct retard pour causes externes</th>\n",
       "      <th>Prct retard pour cause infrastructure</th>\n",
       "      <th>Prct retard pour cause gestion trafic</th>\n",
       "      <th>Prct retard pour cause matériel roulant</th>\n",
       "      <th>Prct retard pour cause gestion en gare et réutilisation de matériel</th>\n",
       "      <th>Prct retard pour cause prise en compte voyageurs (affluence, gestions PSH, correspondances)</th>\n",
       "    </tr>\n",
       "  </thead>\n",
       "  <tbody>\n",
       "    <tr>\n",
       "      <th>0</th>\n",
       "      <td>2018-01</td>\n",
       "      <td>National</td>\n",
       "      <td>TOULOUSE MATABIAU</td>\n",
       "      <td>PARIS MONTPARNASSE</td>\n",
       "      <td>257</td>\n",
       "      <td>184</td>\n",
       "      <td>0</td>\n",
       "      <td>NaN</td>\n",
       "      <td>23</td>\n",
       "      <td>11.221739</td>\n",
       "      <td>...</td>\n",
       "      <td>26</td>\n",
       "      <td>7.510507</td>\n",
       "      <td>12</td>\n",
       "      <td>3</td>\n",
       "      <td>59.090909</td>\n",
       "      <td>22.727273</td>\n",
       "      <td>4.545455</td>\n",
       "      <td>9.090909</td>\n",
       "      <td>4.545455</td>\n",
       "      <td>0.0</td>\n",
       "    </tr>\n",
       "    <tr>\n",
       "      <th>1</th>\n",
       "      <td>2018-02</td>\n",
       "      <td>National</td>\n",
       "      <td>TOULOUSE MATABIAU</td>\n",
       "      <td>PARIS MONTPARNASSE</td>\n",
       "      <td>257</td>\n",
       "      <td>168</td>\n",
       "      <td>3</td>\n",
       "      <td>NaN</td>\n",
       "      <td>25</td>\n",
       "      <td>17.838667</td>\n",
       "      <td>...</td>\n",
       "      <td>40</td>\n",
       "      <td>15.961111</td>\n",
       "      <td>23</td>\n",
       "      <td>10</td>\n",
       "      <td>58.333333</td>\n",
       "      <td>19.444444</td>\n",
       "      <td>8.333333</td>\n",
       "      <td>11.111111</td>\n",
       "      <td>2.777778</td>\n",
       "      <td>0.0</td>\n",
       "    </tr>\n",
       "    <tr>\n",
       "      <th>2</th>\n",
       "      <td>2018-03</td>\n",
       "      <td>National</td>\n",
       "      <td>TOULOUSE MATABIAU</td>\n",
       "      <td>PARIS MONTPARNASSE</td>\n",
       "      <td>257</td>\n",
       "      <td>183</td>\n",
       "      <td>4</td>\n",
       "      <td>NaN</td>\n",
       "      <td>17</td>\n",
       "      <td>4.467647</td>\n",
       "      <td>...</td>\n",
       "      <td>29</td>\n",
       "      <td>8.020670</td>\n",
       "      <td>12</td>\n",
       "      <td>5</td>\n",
       "      <td>37.500000</td>\n",
       "      <td>25.000000</td>\n",
       "      <td>12.500000</td>\n",
       "      <td>25.000000</td>\n",
       "      <td>0.000000</td>\n",
       "      <td>0.0</td>\n",
       "    </tr>\n",
       "    <tr>\n",
       "      <th>3</th>\n",
       "      <td>2018-04</td>\n",
       "      <td>National</td>\n",
       "      <td>TOULOUSE MATABIAU</td>\n",
       "      <td>PARIS MONTPARNASSE</td>\n",
       "      <td>259</td>\n",
       "      <td>150</td>\n",
       "      <td>42</td>\n",
       "      <td>NaN</td>\n",
       "      <td>16</td>\n",
       "      <td>6.747917</td>\n",
       "      <td>...</td>\n",
       "      <td>17</td>\n",
       "      <td>5.863889</td>\n",
       "      <td>3</td>\n",
       "      <td>0</td>\n",
       "      <td>42.857143</td>\n",
       "      <td>7.142857</td>\n",
       "      <td>14.285714</td>\n",
       "      <td>28.571429</td>\n",
       "      <td>7.142857</td>\n",
       "      <td>0.0</td>\n",
       "    </tr>\n",
       "    <tr>\n",
       "      <th>4</th>\n",
       "      <td>2018-05</td>\n",
       "      <td>National</td>\n",
       "      <td>TOULOUSE MATABIAU</td>\n",
       "      <td>PARIS MONTPARNASSE</td>\n",
       "      <td>258</td>\n",
       "      <td>161</td>\n",
       "      <td>34</td>\n",
       "      <td>NaN</td>\n",
       "      <td>10</td>\n",
       "      <td>21.831667</td>\n",
       "      <td>...</td>\n",
       "      <td>17</td>\n",
       "      <td>6.029396</td>\n",
       "      <td>6</td>\n",
       "      <td>0</td>\n",
       "      <td>23.529412</td>\n",
       "      <td>11.764706</td>\n",
       "      <td>5.882353</td>\n",
       "      <td>52.941176</td>\n",
       "      <td>5.882353</td>\n",
       "      <td>0.0</td>\n",
       "    </tr>\n",
       "  </tbody>\n",
       "</table>\n",
       "<p>5 rows × 26 columns</p>\n",
       "</div>"
      ],
      "text/plain": [
       "      Date   Service     Gare de départ      Gare d'arrivée  \\\n",
       "0  2018-01  National  TOULOUSE MATABIAU  PARIS MONTPARNASSE   \n",
       "1  2018-02  National  TOULOUSE MATABIAU  PARIS MONTPARNASSE   \n",
       "2  2018-03  National  TOULOUSE MATABIAU  PARIS MONTPARNASSE   \n",
       "3  2018-04  National  TOULOUSE MATABIAU  PARIS MONTPARNASSE   \n",
       "4  2018-05  National  TOULOUSE MATABIAU  PARIS MONTPARNASSE   \n",
       "\n",
       "   Durée moyenne du trajet  Nombre de circulations prévues  \\\n",
       "0                      257                             184   \n",
       "1                      257                             168   \n",
       "2                      257                             183   \n",
       "3                      259                             150   \n",
       "4                      258                             161   \n",
       "\n",
       "   Nombre de trains annulés  Commentaire annulations  \\\n",
       "0                         0                      NaN   \n",
       "1                         3                      NaN   \n",
       "2                         4                      NaN   \n",
       "3                        42                      NaN   \n",
       "4                        34                      NaN   \n",
       "\n",
       "   Nombre de trains en retard au départ  \\\n",
       "0                                    23   \n",
       "1                                    25   \n",
       "2                                    17   \n",
       "3                                    16   \n",
       "4                                    10   \n",
       "\n",
       "   Retard moyen des trains en retard au départ  ...  \\\n",
       "0                                    11.221739  ...   \n",
       "1                                    17.838667  ...   \n",
       "2                                     4.467647  ...   \n",
       "3                                     6.747917  ...   \n",
       "4                                    21.831667  ...   \n",
       "\n",
       "   Nombre trains en retard > 15min  \\\n",
       "0                               26   \n",
       "1                               40   \n",
       "2                               29   \n",
       "3                               17   \n",
       "4                               17   \n",
       "\n",
       "   Retard moyen trains en retard > 15 (si liaison concurrencée par vol)  \\\n",
       "0                                           7.510507                      \n",
       "1                                          15.961111                      \n",
       "2                                           8.020670                      \n",
       "3                                           5.863889                      \n",
       "4                                           6.029396                      \n",
       "\n",
       "   Nombre trains en retard > 30min  Nombre trains en retard > 60min  \\\n",
       "0                               12                                3   \n",
       "1                               23                               10   \n",
       "2                               12                                5   \n",
       "3                                3                                0   \n",
       "4                                6                                0   \n",
       "\n",
       "   Prct retard pour causes externes Prct retard pour cause infrastructure  \\\n",
       "0                         59.090909                             22.727273   \n",
       "1                         58.333333                             19.444444   \n",
       "2                         37.500000                             25.000000   \n",
       "3                         42.857143                              7.142857   \n",
       "4                         23.529412                             11.764706   \n",
       "\n",
       "   Prct retard pour cause gestion trafic  \\\n",
       "0                               4.545455   \n",
       "1                               8.333333   \n",
       "2                              12.500000   \n",
       "3                              14.285714   \n",
       "4                               5.882353   \n",
       "\n",
       "   Prct retard pour cause matériel roulant  \\\n",
       "0                                 9.090909   \n",
       "1                                11.111111   \n",
       "2                                25.000000   \n",
       "3                                28.571429   \n",
       "4                                52.941176   \n",
       "\n",
       "   Prct retard pour cause gestion en gare et réutilisation de matériel  \\\n",
       "0                                           4.545455                     \n",
       "1                                           2.777778                     \n",
       "2                                           0.000000                     \n",
       "3                                           7.142857                     \n",
       "4                                           5.882353                     \n",
       "\n",
       "   Prct retard pour cause prise en compte voyageurs (affluence, gestions PSH, correspondances)  \n",
       "0                                                0.0                                            \n",
       "1                                                0.0                                            \n",
       "2                                                0.0                                            \n",
       "3                                                0.0                                            \n",
       "4                                                0.0                                            \n",
       "\n",
       "[5 rows x 26 columns]"
      ]
     },
     "execution_count": 246,
     "metadata": {},
     "output_type": "execute_result"
    }
   ],
   "source": [
    "import pandas as pd\n",
    "df = pd.read_csv(\"./data/regularite-mensuelle-tgv-aqst.csv\", sep=\";\")\n",
    "df.head()"
   ]
  },
  {
   "cell_type": "markdown",
   "metadata": {
    "id": "3Ir3wzEe6kHo"
   },
   "source": [
    "### Moyenne\n",
    "\n",
    "La *Moyenne* est égale au quotient de la somme de toutes les valeurs de la série par l’effectif total. Elle représente le \"centre de gravité\" des données."
   ]
  },
  {
   "cell_type": "code",
   "execution_count": 247,
   "metadata": {
    "id": "-Xxncy1S5YLK"
   },
   "outputs": [
    {
     "name": "stdout",
     "output_type": "stream",
     "text": [
      "Le train met en moyenne 264.36 minutes pour par pacourir Toulouse-Paris\n"
     ]
    }
   ],
   "source": [
    "mean = df['Durée moyenne du trajet'].mean()\n",
    "\n",
    "print(f\"Le train met en moyenne {mean:.2f} minutes pour par pacourir Toulouse-Paris\")"
   ]
  },
  {
   "cell_type": "markdown",
   "metadata": {
    "id": "-RaTQW7M92Xp"
   },
   "source": [
    "### Mode\n",
    "\n",
    "Le *Mode* est la valeur la plus fréquente d'une série statistique — C'est la (ou les) valeur(s) de la série dont l’effectif est le plus grand."
   ]
  },
  {
   "cell_type": "code",
   "execution_count": 248,
   "metadata": {
    "id": "_galrtUq-r8H"
   },
   "outputs": [
    {
     "name": "stdout",
     "output_type": "stream",
     "text": [
      "0    263\n",
      "dtype: int64\n",
      "\n",
      "\n",
      "Le train met le plus fréquemment (ou la plupart du temps) 263 minutes pour par pacourir Toulouse-Paris\n"
     ]
    }
   ],
   "source": [
    "mode = df['Durée moyenne du trajet'].mode()\n",
    "\n",
    "print(mode)\n",
    "print('\\n')\n",
    "print(f\"Le train met le plus fréquemment (ou la plupart du temps) {mode[0]} minutes pour par pacourir Toulouse-Paris\")"
   ]
  },
  {
   "cell_type": "markdown",
   "metadata": {
    "id": "iyp4Bke1Alqi"
   },
   "source": [
    "### Médiane\n",
    "\n",
    "La *Médiane* est la valeur centrale d'une série statistique dont les valeurs observées ont été rangées dans l'ordre croissant, est la valeur qui partage la population étudiée en deux sous-ensembles de même effectif (si le nombre d'observations n est pair, la médiane est la demi-somme des termes de rang n et n + 1)."
   ]
  },
  {
   "cell_type": "markdown",
   "metadata": {
    "id": "Xr2bztisUyV0"
   },
   "source": [
    "### Moyenne Mediane Mode\n",
    "\n",
    "![Moyenne mediane mode](https://upload.wikimedia.org/wikipedia/commons/thumb/3/33/Visualisation_mode_median_mean.svg/280px-Visualisation_mode_median_mean.svg.png)"
   ]
  },
  {
   "cell_type": "code",
   "execution_count": 249,
   "metadata": {
    "id": "ZPPHiyvwA-af"
   },
   "outputs": [
    {
     "name": "stdout",
     "output_type": "stream",
     "text": [
      "La moitée des trajets à pris moins de 263.0, l'autre moitée des trajets ont mis plus 263.0 minutes pour par pacourir Toulouse-Paris\n"
     ]
    }
   ],
   "source": [
    "median = df['Durée moyenne du trajet'].median()\n",
    "\n",
    "print(f\"La moitée des trajets à pris moins de {median}, l'autre moitée des trajets ont mis plus {median} minutes pour par pacourir Toulouse-Paris\")"
   ]
  },
  {
   "cell_type": "markdown",
   "metadata": {
    "id": "n2aHvuu8CO-i"
   },
   "source": [
    "### Histogramme\n",
    "\n",
    "L'*histogramme* est un graphe permettant de représenter la répartition d'une variable. Le principe générale est d'empiler les mesures qui ont la même valeure ou la même \"classe\". Plus la pile est grande, plus grande est le nombre de mesures.\n",
    "On peut utiliser l'histogramme pour prédire dans quelle \"classe\" seront les futures mesures. A partir de l'histogramme on peut utiliser une distribution pour approximer les données.\n",
    "\n",
    "\n",
    "Par exemple, on pourrait utiliser une distribution normale pour approximer les données... \n",
    "\n",
    "**Questions:** Pensez-vous que la distribution normale soit pertinente dans notre cas ?"
   ]
  },
  {
   "cell_type": "code",
   "execution_count": 250,
   "metadata": {
    "id": "G3WbQrIhCOq-"
   },
   "outputs": [
    {
     "data": {
      "image/png": "[encoded data removed]",
      "text/plain": [
       "<Figure size 432x288 with 1 Axes>"
      ]
     },
     "metadata": {
      "needs_background": "light"
     },
     "output_type": "display_data"
    },
    {
     "data": {
      "image/png": "[encoded data removed]",
      "text/plain": [
       "<Figure size 432x288 with 1 Axes>"
      ]
     },
     "metadata": {
      "needs_background": "light"
     },
     "output_type": "display_data"
    }
   ],
   "source": [
    "import matplotlib.pyplot as plt\n",
    "\n",
    "# En utilisant pyplot\n",
    "df['Durée moyenne du trajet'].hist()\n",
    "plt.show()\n",
    "\n",
    "# Ou directement depuis le DataFrame\n",
    "ax = df['Durée moyenne du trajet'].plot.hist(bins=100, density=True, alpha=0.5, color='red', histtype='step')\n",
    "\n",
    "# Affichons maintenant la moyenne et la médiane\n"
   ]
  },
  {
   "cell_type": "code",
   "execution_count": 251,
   "metadata": {
    "id": "dSHrdtJ4FMTq"
   },
   "outputs": [
    {
     "data": {
      "image/png": "[encoded data removed]",
      "text/plain": [
       "<Figure size 432x288 with 1 Axes>"
      ]
     },
     "metadata": {
      "needs_background": "light"
     },
     "output_type": "display_data"
    }
   ],
   "source": [
    "df['Durée moyenne du trajet'].hist()\n",
    "# Affichons maintenant la moyenne avec une ligne verticale rouge sur le diagramme\n",
    "plt.axvline(mean, color='red', linestyle='solid', linewidth=2)\n",
    "# Affichons aussi la médianne avec une ligne verticale jaune sur le diagramme\n",
    "plt.axvline(median, color='yellow', linestyle='solid', linewidth=2)\n",
    "#plt.axvline(mode[0], color='blue', linestyle='solid', linewidth=2)\n",
    "\n",
    "plt.title('Distribution de la durée du temps de trajet Toulouse-Paris en TGV')\n",
    "plt.xlabel('Durée en minutes')\n",
    "plt.ylabel('Mesures')\n",
    "plt.show()"
   ]
  },
  {
   "cell_type": "markdown",
   "metadata": {
    "id": "zXkQHNEhKS6Y"
   },
   "source": [
    "**Question:** Quel est le code pour faire apparaitre le mode sur l'histogramme ?"
   ]
  },
  {
   "cell_type": "code",
   "execution_count": 252,
   "metadata": {
    "id": "2k1dptKFK9FM"
   },
   "outputs": [],
   "source": [
    "# Afficher le mode sur l'histogramme\n",
    "# Votre code ...."
   ]
  },
  {
   "cell_type": "markdown",
   "metadata": {
    "id": "Vv08-zmqLYZ6"
   },
   "source": [
    "## Dispersion\n",
    "\n",
    "Une fois que nous avons obtenus la mesure de la Tendance Centrale, nous allons nous intéresser à l'**étalement des valeurs autour du centre** afin d'obtenir une description plus complète de nos données :  c'est ce qu'on appelle la *Dispersion*.\n",
    "\n",
    "\n",
    "\n"
   ]
  },
  {
   "cell_type": "markdown",
   "metadata": {
    "id": "nOJS9uiHOXir"
   },
   "source": [
    "### Étendue\n",
    "L'*Étendue* est la différence entre la valeure la plus petite et la plus grande."
   ]
  },
  {
   "cell_type": "code",
   "execution_count": 253,
   "metadata": {
    "id": "ZFekwBq3LT5G"
   },
   "outputs": [
    {
     "name": "stdout",
     "output_type": "stream",
     "text": [
      "La durée minimum pour faire Toulouse-Paris est de 257 min\n",
      "La durée maximale pour faire Toulouse-Paris est de 278 min\n",
      "L'étendue de la durée du trajet est de 21 min\n"
     ]
    }
   ],
   "source": [
    "min = df['Durée moyenne du trajet'].min()\n",
    "max = df['Durée moyenne du trajet'].max()\n",
    "etendue = max - min\n",
    "\n",
    "print(f'La durée minimum pour faire Toulouse-Paris est de {min} min')\n",
    "print(f'La durée maximale pour faire Toulouse-Paris est de {max} min')\n",
    "print(f'L\\'étendue de la durée du trajet est de {etendue} min')"
   ]
  },
  {
   "cell_type": "markdown",
   "metadata": {
    "id": "n2Zu6xyaQUaU"
   },
   "source": [
    "### Variance\n",
    "\n",
    "La *Variance* est une mesure qui permet de tenir compte de la **dispersion de toutes les valeurs** d’un ensemble de données. Litteralement il s'agit de la **moyenne des écarts à la moyenne au carré**, c'est-à-dire l'écart entre chaque valeur et le centre de la distribution (représenté par la moyenne) au carré.\n",
    "\n",
    "![Formule variance](./img/formule_variance.png)\n",
    "\n",
    "### Ecart-Type\n",
    "\n",
    "L’*Ecart-Type* correspond à la **racine carrée de la variance** (pour tenir compte des dimensions des unités de grandeurs).\n",
    "\n",
    "![](./img/formule_ecartype.png)\n",
    "\n",
    "L'écart type est utile:\n",
    "- Pour **comparer la dispersion de deux ensembles de données de taille semblable qui ont approximativement la même moyenne** (plus l'écart-type est grand plus les valeurs seront dispersées.\n",
    "- Pour **évaluer l’importance de l’écart-type par rapport à la moyenne**.\n",
    "\n",
    "Cependant, il est mieux d’avoir recours à l’écart interquartile lorsque l’ensemble de données est: \n",
    "- petit\n",
    "- la distribution est asymétrique\n",
    "- l’ensemble de données contient des valeurs extrêmes"
   ]
  },
  {
   "cell_type": "code",
   "execution_count": 254,
   "metadata": {
    "id": "YficaOfVSXzy"
   },
   "outputs": [
    {
     "name": "stdout",
     "output_type": "stream",
     "text": [
      "La variance (biaisé) de la durée du trajet est de 38.479094 min2\n",
      "L'écart type (biaisé) de la durée du trajet est de 6.203152 min sur un trajet de 264.357143 min\n",
      "\n",
      "La variance empirique (non biaisé) de la durée du trajet est de 37.562925 min2\n",
      "L'écart type empirique (non biaisé) de la durée du trajet est de 6.128860 min sur un trajet de 264.357143 min\n"
     ]
    }
   ],
   "source": [
    "#Variance et écart-type théorique (mais biaisé ici car il s'agit d'un échantillon)\n",
    "vrc = df['Durée moyenne du trajet'].var()\n",
    "std = df['Durée moyenne du trajet'].std()\n",
    "\n",
    "print(f'La variance (biaisé) de la durée du trajet est de {vrc:2f} min2')\n",
    "print(f'L\\'écart type (biaisé) de la durée du trajet est de {std:2f} min sur un trajet de {mean:2f} min\\n')\n",
    "\n",
    "# Variance et écart-type empirique\n",
    "vrc = df['Durée moyenne du trajet'].var(ddof=0)\n",
    "std = df['Durée moyenne du trajet'].std(ddof=0)\n",
    "\n",
    "print(f'La variance empirique (non biaisé) de la durée du trajet est de {vrc:2f} min2')\n",
    "print(f'L\\'écart type empirique (non biaisé) de la durée du trajet est de {std:2f} min sur un trajet de {mean:2f} min')"
   ]
  },
  {
   "cell_type": "code",
   "execution_count": 255,
   "metadata": {
    "id": "msp1_2QYYSHm"
   },
   "outputs": [
    {
     "data": {
      "image/png": "[encoded data removed]",
      "text/plain": [
       "<Figure size 432x288 with 1 Axes>"
      ]
     },
     "metadata": {
      "needs_background": "light"
     },
     "output_type": "display_data"
    },
    {
     "data": {
      "image/png": "[encoded data removed]",
      "text/plain": [
       "<Figure size 432x288 with 1 Axes>"
      ]
     },
     "metadata": {
      "needs_background": "light"
     },
     "output_type": "display_data"
    },
    {
     "data": {
      "image/png": "[encoded data removed]",
      "text/plain": [
       "<Figure size 432x288 with 1 Axes>"
      ]
     },
     "metadata": {
      "needs_background": "light"
     },
     "output_type": "display_data"
    },
    {
     "data": {
      "image/png": "[encoded data removed]",
      "text/plain": [
       "<Figure size 432x288 with 1 Axes>"
      ]
     },
     "metadata": {
      "needs_background": "light"
     },
     "output_type": "display_data"
    }
   ],
   "source": [
    "# Afficher l'écart type, la moyenne en faisant varier la taille de la classe dans la distribution\n",
    "for i in reversed(range(1,5)):\n",
    "  binwidth=i # Pour faire des classes de 3 min\n",
    "  df['Durée moyenne du trajet'].hist(alpha=0.75, edgecolor='black', bins=range(int(min), int(max) + binwidth, binwidth))\n",
    "  # Affichons maintenant la moyenne avec une ligne verticale rouge sur le diagramme\n",
    "  plt.axvline(mean, color='red', linestyle='solid', linewidth=2)\n",
    "\n",
    "  # Affichons maintenant l'écart type autour de la moyenne\n",
    "  plt.axvline(mean+std, color='green', linestyle='dashed', linewidth=2)\n",
    "  plt.axvline(mean-std, color='green', linestyle='dashed', linewidth=2)\n",
    "\n",
    "  # Affichons aussi la médianne avec une ligne verticale jaune sur le diagramme\n",
    "  plt.title('Distribution de la durée du temps de trajet Toulouse-Paris en TGV')\n",
    "  plt.xlabel('Durée en minutes')\n",
    "  plt.ylabel('Mesures')\n",
    "  plt.show()"
   ]
  },
  {
   "cell_type": "markdown",
   "metadata": {
    "id": "pkE8SLeIfQ2V"
   },
   "source": [
    "### Boite à moustache\n",
    "\n",
    "La *Boite à Moustache* (ou diagramme en boîte)  est particulièrement utile pour indiquer si une distribution est asymétrique et s’il y a des valeurs potentiellement extrêmes dans l’ensemble de données. La boîte à moustaches est également **idéale pour comparer des distributions**, car elle fait apparaître immédiatement le centre, la dispersion et l’étendue.\n",
    "\n",
    "Il peut être utile pour visualiser les valeurs abbérantes (**outliers**) à l'extérieur des moustaches."
   ]
  },
  {
   "cell_type": "code",
   "execution_count": 256,
   "metadata": {
    "id": "_mbAe6JrbeO4"
   },
   "outputs": [
    {
     "data": {
      "image/png": "[encoded data removed]",
      "text/plain": [
       "<Figure size 432x288 with 1 Axes>"
      ]
     },
     "metadata": {
      "needs_background": "light"
     },
     "output_type": "display_data"
    }
   ],
   "source": [
    "df['Durée moyenne du trajet'].plot.box();"
   ]
  },
  {
   "cell_type": "markdown",
   "metadata": {
    "id": "RVA0Ax2Vjdbm"
   },
   "source": [
    "## Forme de la Distribution\n",
    "\n",
    "La *Forme d'une distribution* est définie par sa **symétrie** (ou son **asymétrie**) et son **applatissement**.\n",
    "\n",
    "\n",
    "\n"
   ]
  },
  {
   "cell_type": "markdown",
   "metadata": {
    "id": "U_BrzeWBjnRp"
   },
   "source": [
    "### Symétrie (Skewness)\n",
    "\n",
    "La *Symétrie* évalue dans **quelle mesure vos données sont symétriques et régularité** (ou non) avec laquelle les mesures se répartissent autour de la valeur centrale.\n",
    "\n",
    "![](https://upload.wikimedia.org/wikipedia/commons/c/cc/Relationship_between_mean_and_median_under_different_skewness.png)\n",
    "\n",
    "**Attention**: Contrairement à son nom (Skewness = Symétrie),  Skewness mesure l'asymétrie.\n",
    "\n",
    "Si skewness=0 alors la distribution est symétrique.\n",
    "\n",
    "Si skewness>0 alors la distribution décalée à gauche de la médiane, et donc une queue de distribution étalée vers la droite.\n",
    "\n",
    "Si skewness<0 alors la distribution est décalée à droite de la médiane, et donc une queue de distribution étalée vers la gauche."
   ]
  },
  {
   "cell_type": "code",
   "execution_count": 257,
   "metadata": {
    "id": "UAo8SKP9jc-y"
   },
   "outputs": [
    {
     "name": "stdout",
     "output_type": "stream",
     "text": [
      "La valeur de la symétrie est égale à 0.87 donc la distribution est étalé à ...\n"
     ]
    }
   ],
   "source": [
    "# Renvoie Symétrie non biaisée\n",
    "skewness = df['Durée moyenne du trajet'].skew()\n",
    "\n",
    "print(f'La valeur de la symétrie est égale à {round(skewness,2)} donc la distribution est étalé à ...')"
   ]
  },
  {
   "cell_type": "markdown",
   "metadata": {
    "id": "l4fBX9-grvkL"
   },
   "source": [
    "### Applatissemnt (Kurtosis)\n",
    "\n",
    "L'applatissement mesure la hauteur selon l'étalement de la distribution. La forme de la courbe de distribution est comparée à celle de la loi normale.\n",
    "\n",
    "![](https://surferhelp.goldensoftware.com/Resources/image/kurtosis.png)\n",
    "\n",
    "Si **Kurtosis < 0**, alors révélateur d’une **courbe aplatie**.\n",
    "\n",
    "Si **Kurtosis = 0**, alors révélateur d’une **similaire à la loi normale**.\n",
    "\n",
    "Si **Kurtosis > 0**, alors révélateur d'un **pic d'obervations**.\n",
    "\n",
    "> 💡Remarque: sachat qu'il est difficile de comparer l'applatissement pour une distribution non symétrique."
   ]
  },
  {
   "cell_type": "markdown",
   "metadata": {
    "id": "Wxn2_pVTvO58"
   },
   "source": [
    "### Concentration\n",
    "\n",
    "On parle d'étude **Concentration** lorsque qu'on veut étudier l'**inégalité de répartition entre les individus d’une\n",
    "population donnée**.\n",
    "L’étude de la concentration permet de caractériser un certain nombre de grandeurs\n",
    "économiques (salaire, revenu, l’impôt, chiffres d’affaires).\n",
    "Un exemple typique est la répartition des salaires d'une population.\n",
    "\n"
   ]
  },
  {
   "cell_type": "markdown",
   "metadata": {
    "id": "TdZYBKVXUyV3"
   },
   "source": [
    "### Courbe de Lorenz\n",
    "\n",
    "L’utilisation la plus connue de la *courbe de Lorenz* est la représentation graphique de la disparité des revenus dans un pays.\n",
    "On place généralement en ordonnée le pourcentage cumulé d'une variable et en abscisse le pourcentage cumulé de la population.\n",
    "\n",
    "![](http://ses.ens-lyon.fr/images/images-articles/mesure-des-inegalites/figure6-1.jpg)\n",
    "\n",
    "En principe, on compare la courbe de courbe Lorenz à la bissectrice à la bissectrice (qui représente l'équidistribution).\n",
    "\n",
    "**Plus la courbe de Lorenz est éloigné de la bissectrice,  plus la répartition est inégalitaire et réciproquement.**\n",
    "\n",
    "*Exemple :*\n",
    "Les X % les plus riches possèdent Y % de la richesse mondiale, ou bien\n",
    "\n",
    "Les X % les plus riches possèdent autant que les Y % les plus pauvres.\n",
    "\n",
    "Pour construire cette courbe il faut classer les individus de la population selon l'ordre croissant de la variable étudié puis cumuler les valeurs de la variable étudier.\n",
    "\n",
    "Voyons ce que donne la répartition de la concentration de la durée des trains."
   ]
  },
  {
   "cell_type": "code",
   "execution_count": 258,
   "metadata": {
    "id": "IK8p5vIqs99b"
   },
   "outputs": [
    {
     "name": "stdout",
     "output_type": "stream",
     "text": [
      "[0.         0.0231469  0.04629379 0.06944069 0.09258759 0.11582455\n",
      " 0.13906151 0.16229848 0.18562551 0.20895254 0.23227956 0.25569666\n",
      " 0.27911375 0.30253085 0.32594794 0.3494551  0.37296226 0.39655949\n",
      " 0.42015671 0.44384401 0.4675313  0.49121859 0.51490588 0.53859317\n",
      " 0.56228046 0.58605782 0.60983518 0.63361254 0.65747996 0.68134738\n",
      " 0.70521481 0.72908223 0.75312978 0.77735747 0.80176529 0.82617311\n",
      " 0.85085112 0.87552914 0.90038728 0.92524543 0.95010358 0.97496172\n",
      " 1.        ]\n"
     ]
    },
    {
     "data": {
      "image/png": "[encoded data removed]",
      "text/plain": [
       "<Figure size 576x576 with 1 Axes>"
      ]
     },
     "metadata": {
      "needs_background": "light"
     },
     "output_type": "display_data"
    }
   ],
   "source": [
    "import numpy as np\n",
    "\n",
    "# Convertissons un DataFrame en array Numpy\n",
    "def lorenz(s):\n",
    "  x = s.to_numpy()\n",
    "  x = np.sort(x)\n",
    "  # On calcule la somme cumulée divisé par la somme totale\n",
    "  x_lorenz = x.cumsum() / x.sum()\n",
    "  # On insert la valeur 0, nécessaire pour notre courbe\n",
    "  x_lorenz = np.insert(x_lorenz, 0, 0)\n",
    "  return x_lorenz\n",
    "\n",
    "def showLorenz(x_lorenz):\n",
    "  fig, ax = plt.subplots(figsize=[8,8])\n",
    "  ## Affichage de la courbe de Lorenz sous forme de nuage de points\n",
    "  ax.plot(np.arange(x_lorenz.size)/(x_lorenz.size-1), x_lorenz, color=\"red\", label='Courbe de Lorenz')\n",
    "  ## line plot of equality\n",
    "  ax.plot([0,1], [0,1], color='black', linewidth=2, label='Bissectrice d\\'équiprobabilité')\n",
    "  plt.xlabel('Pourcentage cumulé de la variable')\n",
    "  plt.ylabel('Pourcentage cumulé des individus')\n",
    "  plt.title('Courbe de Lorenz et bissectrice')\n",
    "  plt.axhline(y=0.2, color='grey', linestyle='dotted', alpha=0.8, linewidth=0.5)\n",
    "  plt.axvline(x=0.5297, color='grey', linestyle='dotted', alpha=0.8, linewidth=0.5)\n",
    "  plt.axhline(y=0, color='grey', linestyle='-', alpha=0.9, linewidth=1)\n",
    "  plt.axvline(x=1, color='grey', linestyle='-', alpha=0.8, linewidth=1)\n",
    "  plt.legend()\n",
    "  \n",
    "x_lorenz = lorenz(df['Durée moyenne du trajet'])\n",
    "\n",
    "print(x_lorenz)\n",
    "\n",
    "showLorenz(x_lorenz)\n"
   ]
  },
  {
   "cell_type": "code",
   "execution_count": 259,
   "metadata": {
    "id": "R77buP7pF6lw"
   },
   "outputs": [
    {
     "data": {
      "text/plain": [
       "(array([0.        , 0.02380952, 0.04761905, 0.07142857, 0.0952381 ,\n",
       "        0.11904762, 0.14285714, 0.16666667, 0.19047619, 0.21428571,\n",
       "        0.23809524, 0.26190476, 0.28571429, 0.30952381, 0.33333333,\n",
       "        0.35714286, 0.38095238, 0.4047619 , 0.42857143, 0.45238095,\n",
       "        0.47619048, 0.5       , 0.52380952, 0.54761905, 0.57142857,\n",
       "        0.5952381 , 0.61904762, 0.64285714, 0.66666667, 0.69047619,\n",
       "        0.71428571, 0.73809524, 0.76190476, 0.78571429, 0.80952381,\n",
       "        0.83333333, 0.85714286, 0.88095238, 0.9047619 , 0.92857143,\n",
       "        0.95238095, 0.97619048, 1.        ]),\n",
       " array([0.        , 0.0231469 , 0.04629379, 0.06944069, 0.09258759,\n",
       "        0.11582455, 0.13906151, 0.16229848, 0.18562551, 0.20895254,\n",
       "        0.23227956, 0.25569666, 0.27911375, 0.30253085, 0.32594794,\n",
       "        0.3494551 , 0.37296226, 0.39655949, 0.42015671, 0.44384401,\n",
       "        0.4675313 , 0.49121859, 0.51490588, 0.53859317, 0.56228046,\n",
       "        0.58605782, 0.60983518, 0.63361254, 0.65747996, 0.68134738,\n",
       "        0.70521481, 0.72908223, 0.75312978, 0.77735747, 0.80176529,\n",
       "        0.82617311, 0.85085112, 0.87552914, 0.90038728, 0.92524543,\n",
       "        0.95010358, 0.97496172, 1.        ]))"
      ]
     },
     "execution_count": 259,
     "metadata": {},
     "output_type": "execute_result"
    }
   ],
   "source": [
    "np.arange(x_lorenz.size)/(x_lorenz.size-1), x_lorenz"
   ]
  },
  {
   "cell_type": "markdown",
   "metadata": {
    "id": "y2mZ0dbygLy5"
   },
   "source": [
    "On remarque très peu de disparité dans la durée des retards mais ce n'est pas l'exemple le plus approprié pour étudier la concentration (surement du à aux moyennes mensuelles). Changeons de jeu de données pour avoir un autre exemple."
   ]
  },
  {
   "cell_type": "markdown",
   "metadata": {
    "id": "S0XA3LGdg35j"
   },
   "source": [
    "### Jeu de données sur les salaires\n",
    "\n",
    "Prenons maintenant un jeu de données sur une liste de salaires issue de Kaggle: https://www.kaggle.com/yasserh/employee-salaries-datatset\n",
    "\n",
    "Il s'agit d'une d'une **liste d'employés** comprenant:\n",
    "- Le salaire (en k$)\n",
    "- Le genre (0:Femme, 1:Homme)\n",
    "- L'age (en année)\n",
    "- L'obtention d'un doctorat (0: Non, 1:Oui)\n",
    "\n",
    "\n",
    "![Kaggle salary dataset](./img/kaggle_salary_screenshot.png)"
   ]
  },
  {
   "cell_type": "code",
   "execution_count": 260,
   "metadata": {
    "id": "6E0hM1Pqnsu-"
   },
   "outputs": [
    {
     "data": {
      "text/html": [
       "<div>\n",
       "<style scoped>\n",
       "    .dataframe tbody tr th:only-of-type {\n",
       "        vertical-align: middle;\n",
       "    }\n",
       "\n",
       "    .dataframe tbody tr th {\n",
       "        vertical-align: top;\n",
       "    }\n",
       "\n",
       "    .dataframe thead th {\n",
       "        text-align: right;\n",
       "    }\n",
       "</style>\n",
       "<table border=\"1\" class=\"dataframe\">\n",
       "  <thead>\n",
       "    <tr style=\"text-align: right;\">\n",
       "      <th></th>\n",
       "      <th>Salary</th>\n",
       "      <th>Gender</th>\n",
       "      <th>Age</th>\n",
       "      <th>PhD</th>\n",
       "    </tr>\n",
       "  </thead>\n",
       "  <tbody>\n",
       "    <tr>\n",
       "      <th>0</th>\n",
       "      <td>140.0</td>\n",
       "      <td>1</td>\n",
       "      <td>47</td>\n",
       "      <td>1</td>\n",
       "    </tr>\n",
       "    <tr>\n",
       "      <th>1</th>\n",
       "      <td>30.0</td>\n",
       "      <td>0</td>\n",
       "      <td>65</td>\n",
       "      <td>1</td>\n",
       "    </tr>\n",
       "    <tr>\n",
       "      <th>2</th>\n",
       "      <td>35.1</td>\n",
       "      <td>0</td>\n",
       "      <td>56</td>\n",
       "      <td>0</td>\n",
       "    </tr>\n",
       "    <tr>\n",
       "      <th>3</th>\n",
       "      <td>30.0</td>\n",
       "      <td>1</td>\n",
       "      <td>23</td>\n",
       "      <td>0</td>\n",
       "    </tr>\n",
       "    <tr>\n",
       "      <th>4</th>\n",
       "      <td>80.0</td>\n",
       "      <td>0</td>\n",
       "      <td>53</td>\n",
       "      <td>1</td>\n",
       "    </tr>\n",
       "    <tr>\n",
       "      <th>...</th>\n",
       "      <td>...</td>\n",
       "      <td>...</td>\n",
       "      <td>...</td>\n",
       "      <td>...</td>\n",
       "    </tr>\n",
       "    <tr>\n",
       "      <th>95</th>\n",
       "      <td>18.6</td>\n",
       "      <td>1</td>\n",
       "      <td>26</td>\n",
       "      <td>0</td>\n",
       "    </tr>\n",
       "    <tr>\n",
       "      <th>96</th>\n",
       "      <td>152.0</td>\n",
       "      <td>1</td>\n",
       "      <td>56</td>\n",
       "      <td>1</td>\n",
       "    </tr>\n",
       "    <tr>\n",
       "      <th>97</th>\n",
       "      <td>1.8</td>\n",
       "      <td>1</td>\n",
       "      <td>28</td>\n",
       "      <td>0</td>\n",
       "    </tr>\n",
       "    <tr>\n",
       "      <th>98</th>\n",
       "      <td>35.0</td>\n",
       "      <td>0</td>\n",
       "      <td>44</td>\n",
       "      <td>0</td>\n",
       "    </tr>\n",
       "    <tr>\n",
       "      <th>99</th>\n",
       "      <td>4.0</td>\n",
       "      <td>0</td>\n",
       "      <td>24</td>\n",
       "      <td>0</td>\n",
       "    </tr>\n",
       "  </tbody>\n",
       "</table>\n",
       "<p>100 rows × 4 columns</p>\n",
       "</div>"
      ],
      "text/plain": [
       "    Salary  Gender  Age  PhD\n",
       "0    140.0       1   47    1\n",
       "1     30.0       0   65    1\n",
       "2     35.1       0   56    0\n",
       "3     30.0       1   23    0\n",
       "4     80.0       0   53    1\n",
       "..     ...     ...  ...  ...\n",
       "95    18.6       1   26    0\n",
       "96   152.0       1   56    1\n",
       "97     1.8       1   28    0\n",
       "98    35.0       0   44    0\n",
       "99     4.0       0   24    0\n",
       "\n",
       "[100 rows x 4 columns]"
      ]
     },
     "execution_count": 260,
     "metadata": {},
     "output_type": "execute_result"
    }
   ],
   "source": [
    "import pandas as pd\n",
    "df_2 = pd.read_csv(\"./data/salary.csv\", sep=\",\")\n",
    "df_2"
   ]
  },
  {
   "cell_type": "code",
   "execution_count": 261,
   "metadata": {
    "id": "G9UoyLEjg2-l",
    "scrolled": true
   },
   "outputs": [
    {
     "data": {
      "image/png": "[encoded data removed]",
      "text/plain": [
       "<Figure size 576x576 with 1 Axes>"
      ]
     },
     "metadata": {
      "needs_background": "light"
     },
     "output_type": "display_data"
    }
   ],
   "source": [
    "x_lorenz_2=lorenz(df_2['Salary'])\n",
    "showLorenz(x_lorenz_2)\n"
   ]
  },
  {
   "cell_type": "markdown",
   "metadata": {
    "id": "7MUrq0gBpJh0"
   },
   "source": [
    "### Coefficient de Gini\n",
    "\n",
    "Le coefficient (ou indice)de Gini mesure les inégalités au sein d'une population et résume la courbe de Lorenz.\n",
    "\n",
    "![Coeff de Gini en action !](https://miro.medium.com/max/908/0*Q0s_toKByySH3YtJ.gif)\n",
    "\n",
    "Si **gini=0**, la population est **parfaitement égalitaire** par rapport à la varible étudiée.\n",
    "\n",
    "Si **gini=1**, la population est **parfaitement inégalitaire**.\n",
    "\n",
    "Le coefficient de gini se calcule en rapportant l'aire du triange formé par la bissectrice sur l'aire formé entre la bissectrice et la courbe de Lorenz."
   ]
  },
  {
   "cell_type": "code",
   "execution_count": 262,
   "metadata": {
    "id": "5cuRKb7zpdEV"
   },
   "outputs": [
    {
     "name": "stdout",
     "output_type": "stream",
     "text": [
      "Le coefficient de gini est égal à 0.53. Donc la réparition des inégalités est...\n"
     ]
    }
   ],
   "source": [
    "# Source: https://neuroplausible.com/gini\n",
    "def gini(array):\n",
    "    \"\"\"Calculate the Gini coefficient of a numpy array.\"\"\"\n",
    "    # based on bottom eq: http://www.statsdirect.com/help/content/image/stat0206_wmf.gif\n",
    "    # from: http://www.statsdirect.com/help/default.htm#nonparametric_methods/gini.htm\n",
    "    array = array.flatten() #all values are treated equally, arrays must be 1d\n",
    "    if np.amin(array) < 0:\n",
    "        array -= np.amin(array) #values cannot be negative\n",
    "    array += 0.0000001 #values cannot be 0\n",
    "    array = np.sort(array) #values must be sorted\n",
    "    index = np.arange(1,array.shape[0]+1) #index per array element\n",
    "    n = array.shape[0]#number of array elements\n",
    "    return ((np.sum((2 * index - n  - 1) * array)) / (n * np.sum(array))) #Gini coefficient\n",
    "\n",
    "gini = gini(x_lorenz_2)\n",
    "print(f'Le coefficient de gini est égal à {round(gini,2)}. Donc la réparition des inégalités est...')"
   ]
  },
  {
   "cell_type": "markdown",
   "metadata": {
    "id": "MYRaTxmUx1-s"
   },
   "source": [
    "**Limite du coefficient de Gini**\n",
    "\n",
    "Le coefficient de Gini **ne prend pas en compte la répartition des revenus** : des courbes de Lorenz différentes peuvent correspondre à un même indice de Gini.\n",
    "Ainsi, un indice de Gini de 0,5 peut aussi correspondre à :\n",
    "- une répartition où 50% de la population n’a pas de revenu et l’autre moitié à les mêmes revenus ;\n",
    "- une répartition où 75% de la population se partage de manière identique 25% du revenu global et où les 25% restants se partage de manière identique les 75% restants du revenu global.\n",
    "\n",
    "Pour gagner en précision, l’indice de Gini doit être combiné avec d’autres indices..."
   ]
  },
  {
   "cell_type": "markdown",
   "metadata": {
    "id": "gyQnRdvA6CmO"
   },
   "source": [
    "# Analyse bi-variée\n",
    "\n",
    "L'**Analyse bivariée** consiste à **étudier la relation entre deux variables**.\n",
    "Elle permet de répondre aux questions suivantes:\n",
    "- Est-ce que les deux variables sont liées ou indépendantes ?\n",
    "- Est-ce que les valeurs d'une variable influence les valeurs de l'autre variable ?\n",
    "\n",
    "La réponse à ces questions peut permettre de faire **des prédictions** sur la valeur prise par une variable en fonction de celle prise par une autre.\n",
    "\n",
    "> 💡Elle peut être étendue à un nombre arbitraire de variable (en comparant toutes les variables 2 à 2).\n",
    "\n",
    "> ⚠️ On parle bien ici de **lien et non de relation de cause** à effet car il n'y a pas de lien de cause à effet à proprement parlé. (A => B, B => A, variable caché... )"
   ]
  },
  {
   "cell_type": "markdown",
   "metadata": {
    "id": "iNsDrFWJnsvA"
   },
   "source": [
    "Nous rencontrerons principalement 3 cas:\n",
    "\n",
    "    - Cas 1: Quantitatif 🔢 / Quantitatif 🔢\n",
    "    - Cas 2: Quantitatif 🔢 / Qualitatif 🔠\n",
    "    - Cas 3: Qualitatif 🔠 / Qualitatif 🔠"
   ]
  },
  {
   "cell_type": "markdown",
   "metadata": {
    "id": "IrpclOzBnsvA"
   },
   "source": [
    "## Cas 1: Quantitatif 🔢 / Quantitatif 🔢\n",
    "\n",
    "Soit deux variables X et Y quantitatives (discrète ou non) et N observation pour chaque variable.\n",
    "\n",
    "La comparaison de deux variables quantitatives graphiquement, en représentant l’ensemble des couples de valeurs (x1,...,xn)...(y1,...,yn).\n",
    "\n",
    "➡️ **Diagramme de Dispersion** (ou nuage de point)\n",
    "\n",
    "> ❓Cas d'usage : A-t-on un salaire plus élévé lorsqu'on est plus agé ?\n"
   ]
  },
  {
   "cell_type": "code",
   "execution_count": 263,
   "metadata": {
    "id": "_646eRZHnsvA",
    "scrolled": false
   },
   "outputs": [
    {
     "data": {
      "image/png": "[encoded data removed]",
      "text/plain": [
       "<Figure size 432x288 with 1 Axes>"
      ]
     },
     "metadata": {
      "needs_background": "light"
     },
     "output_type": "display_data"
    }
   ],
   "source": [
    "import matplotlib.pyplot as plt\n",
    "\n",
    "# Nos variables X et Y\n",
    "x=df_2['Age']\n",
    "y=df_2['Salary']\n",
    "\n",
    "# Titre, Labels\n",
    "plt.xlabel('Age')\n",
    "plt.ylabel('Salaire')\n",
    "plt.title('Diagramme de Dispersion (Scatter Plot)')\n",
    "\n",
    "# Diagramme de Dispersion\n",
    "plt.scatter(x, y, c='green', alpha=0.5)\n",
    "\n",
    "# Sauvegarde de la figure\n",
    "plt.savefig('./figures/salary/age-salary_diagramme-dispersion.png', dpi=400);\n",
    "\n",
    "# Affichage\n",
    "plt.show()"
   ]
  },
  {
   "cell_type": "markdown",
   "metadata": {
    "id": "0g6_O04xnsvA"
   },
   "source": [
    "### Diagramme de Dispersion (Scatter Plot)\n",
    "> ❓ **Peut-on observer une relation entre ces deux variables ?**\n",
    "\n",
    "![Diagramme de Dispersion](./figures/salary/age-salary_diagramme-dispersion.png)"
   ]
  },
  {
   "cell_type": "markdown",
   "metadata": {
    "id": "3vH5igjp_8ec"
   },
   "source": [
    "### Comparaison univariée des deux variables\n",
    "\n",
    "- On calcule les indicateurs univariés pour les deux variables: distribution, moyenne, médiane, écart-type, interquartile ...\n",
    "- On compare deux à deux les indicateurs\n",
    "- On trace les graphiques pour comparer\n"
   ]
  },
  {
   "cell_type": "code",
   "execution_count": 264,
   "metadata": {
    "id": "9NAUljlHnsvA"
   },
   "outputs": [
    {
     "data": {
      "image/png": "[encoded data removed]",
      "text/plain": [
       "<Figure size 864x864 with 4 Axes>"
      ]
     },
     "metadata": {
      "needs_background": "light"
     },
     "output_type": "display_data"
    }
   ],
   "source": [
    "# Création d'une figure avec une ligne et deux colonnes\n",
    "fig, axs = plt.subplots(nrows=2, ncols=2, figsize=(12, 12))\n",
    "figsize=(8, 6)\n",
    "#fig.suptitle('Distribution univariée des deux varibles')\n",
    "a00=axs[0,0]\n",
    "a01=axs[0,1]\n",
    "a10=axs[1,0]\n",
    "a11=axs[1,1]\n",
    "\n",
    "# Figure en haut à gauche\n",
    "a00.scatter(x, y, c='green', alpha=0.5)\n",
    "a00.set_title('Diagramme de Dispersion')\n",
    "\n",
    "# Figure en haut à droite\n",
    "a01.hist(y, color='blue', orientation='horizontal', label='rrr', bins=10)\n",
    "a01.set_title('Histogramme de Salaire (y)')\n",
    "\n",
    "# Figure en bas à gauche\n",
    "a10.hist(x, color='orange', orientation='vertical', bins=10, density=True )\n",
    "a10.set_title('Histogramme de l\\'Age (y)')\n",
    "\n",
    "# Figure en bas à droite\n",
    "a11.hist2d(x, y, bins = 10,  \n",
    "           cmap =\"Greens\")\n",
    "a11.set_title('Diagramme de densité en 2D')\n",
    "\n",
    "\n",
    "# Sauvegarde de la figure\n",
    "plt.savefig('./figures/salary/age-salary_diagramme-dispersion_histogrammes.png', dpi=400);\n",
    "\n",
    "# Afficher\n",
    "plt.show()"
   ]
  },
  {
   "cell_type": "code",
   "execution_count": 265,
   "metadata": {
    "id": "VRkLejClnsvB"
   },
   "outputs": [
    {
     "name": "stdout",
     "output_type": "stream",
     "text": [
      "x: Age\n",
      "count    100.000000\n",
      "mean      46.880000\n",
      "std       15.271469\n",
      "min       20.000000\n",
      "25%       31.500000\n",
      "50%       49.000000\n",
      "75%       60.000000\n",
      "max       77.000000\n",
      "Name: Age, dtype: float64\n",
      "\n",
      "y: Salaire\n",
      "count    100.000000\n",
      "mean      52.524500\n",
      "std       42.220933\n",
      "min        0.250000\n",
      "25%       20.000000\n",
      "50%       39.300000\n",
      "75%       75.500000\n",
      "max      190.000000\n",
      "Name: Salary, dtype: float64\n",
      "\n"
     ]
    }
   ],
   "source": [
    "print(f'x: Age\\n{x.describe()}\\n')\n",
    "print(f'y: Salaire\\n{y.describe()}\\n')"
   ]
  },
  {
   "cell_type": "markdown",
   "metadata": {
    "id": "9ko359fsnsvB"
   },
   "source": [
    "### Covariance\n",
    "\n",
    "L'idée principale de la *Covariance* est de **classifier 3 types de relation entre deux variables aléatoire (X et Y)** :\n",
    "\n",
    "| Relation | Covariance| Interprétation |\n",
    "|-------------------|----------------|---|\n",
    "| Direction Positive | covariance > 0 | X et Y varie dans la même direction. Si X ↗️, Y aura tendance à ↗️ |\n",
    "| Direction Négative | covariance < 0 | X et Y varie dans des direction opposées. Si X ↗️, Y aura tendance à ↘️|\n",
    "| Sans direction  | covariance = 0 | X et Y sont indépendantes|\n",
    "\n",
    "\n",
    "![forumule de la covariance théorique](./img/formule_covariance_theorique.png)\n",
    "\n",
    "C'est une mesure de la **variation simultanée de deux variables aléatoires par rapport à leur moyenne respective** (d'où le terme de covariance...).\n",
    "\n",
    "Ce n'est pas une fin en soit, c'est une **étape de calcul pour la Correlation ou la PCA**.\n",
    "\n",
    "La valeur de la covariance est difficile à interpréter car elle **sensible à l'échelle des données** (contrairement à la correlation...) \n",
    "\n",
    "COV(X,X) = VAR (X)"
   ]
  },
  {
   "cell_type": "code",
   "execution_count": 266,
   "metadata": {
    "id": "I-WeNVWwnsvB"
   },
   "outputs": [
    {
     "data": {
      "image/png": "[encoded data removed]",
      "text/plain": [
       "<Figure size 432x288 with 1 Axes>"
      ]
     },
     "metadata": {
      "needs_background": "light"
     },
     "output_type": "display_data"
    }
   ],
   "source": [
    "# Nos variables X et Y\n",
    "x=df_2['Age']\n",
    "y=df_2['Salary']\n",
    "\n",
    "# Titre, Labels\n",
    "plt.xlabel('Age')\n",
    "plt.ylabel('Salaire')\n",
    "plt.title('Diagramme de Dispersion (Scatter Plot)')\n",
    "\n",
    "# Diagramme de Dispersion\n",
    "plt.scatter(x, y, c='green', alpha=0.5)\n",
    "\n",
    "# Moyenne de x\n",
    "plt.axvline(x.mean(), color='black', linestyle='dashed', linewidth=3, alpha=0.5)\n",
    "# Moyenne de y\n",
    "plt.axhline(y.mean(), color='black', linestyle='dashed', linewidth=3, alpha=0.5)\n",
    "\n",
    "# Sauvegarde de la figure\n",
    "plt.savefig('./figures/salary/age-salary_diagramme-dispersion_covariance.png', dpi=400);\n",
    "\n",
    "# Affichage\n",
    "plt.show()"
   ]
  },
  {
   "cell_type": "code",
   "execution_count": 267,
   "metadata": {
    "id": "qVihNIM_nsvB"
   },
   "outputs": [
    {
     "name": "stdout",
     "output_type": "stream",
     "text": [
      "La covariance est égale à 307.59.\n",
      " Covariance > 0, donc le salaire (Y) varie dans la même direction que l'age (X).\n"
     ]
    }
   ],
   "source": [
    "# Calcule de la covariance de X et X\n",
    "\n",
    "covariance = np.cov(x, y)[0][1]\n",
    "print(f'La covariance est égale à {covariance:.2f}.')\n",
    "print(f' Covariance > 0, donc le salaire (Y) varie dans la même direction que l\\'age (X).')"
   ]
  },
  {
   "cell_type": "markdown",
   "metadata": {
    "id": "OHhLosIoUyV5"
   },
   "source": [
    "Si on analyse la formule de la covariance, on s'aperçoitau niveau des points (xi,yi) (on omet le i ci-dessous pour simplifier):\n",
    "- coin supérieur droit: (x-x̄) < 0 et (y-ȳ) > 0 => (x-x̄).(y-ȳ) > 0\n",
    "- coint supérieur gauche: (x-x̄) < 0 et (y-ȳ) > 0 => (x-x̄).(y-ȳ) < 0\n",
    "- coin inférieur gauche: (x-x̄) < 0 et (y-ȳ) < 0 => (x-x̄).(y-ȳ) > 0\n",
    "- coin inférieur droit: (x-x̄) > 0 et (y-ȳ) < 0 => (x-x̄).(y-ȳ) < 0\n",
    "\n",
    "\n",
    "![covariance expliquée](./img/covariance_explained.jpg)"
   ]
  },
  {
   "cell_type": "markdown",
   "metadata": {
    "id": "0ipXTKiZnsvB"
   },
   "source": [
    "*Exemple de différents types de covariance classés du plus négatif au plus négatif*\n",
    "\n",
    "![Covariance exemple 1](https://i.stack.imgur.com/Kfmhn.png)"
   ]
  },
  {
   "cell_type": "code",
   "execution_count": 268,
   "metadata": {
    "id": "Dcm2jNsbnsvB"
   },
   "outputs": [
    {
     "data": {
      "image/png": "[encoded data removed]",
      "text/plain": [
       "<Figure size 432x288 with 1 Axes>"
      ]
     },
     "metadata": {
      "needs_background": "light"
     },
     "output_type": "display_data"
    },
    {
     "name": "stdout",
     "output_type": "stream",
     "text": [
      "La covariance est égale à 233.22.\n",
      "L'écart type est égale à 15.27.\n"
     ]
    }
   ],
   "source": [
    "# Calcul de la covariance de X par X -> Variance\n",
    "\n",
    "# Titre, Labels\n",
    "plt.xlabel('Age')\n",
    "plt.ylabel('Age')\n",
    "plt.title('Diagramme de Dispersion de X par X(Scatter Plot)')\n",
    "\n",
    "# Diagramme de Dispersion\n",
    "plt.scatter(x, x, c='green', alpha=0.5)\n",
    "\n",
    "# Moyenne de x\n",
    "plt.axvline(x.mean(), color='black', linestyle='dashed', linewidth=3, alpha=0.5)\n",
    "# Moyenne de y\n",
    "plt.axhline(x.mean(), color='black', linestyle='dashed', linewidth=3, alpha=0.5)\n",
    "\n",
    "# Sauvegarde de la figure\n",
    "plt.savefig('./figures/salary/age-salary_diagramme-dispersion_covariance_x_per_x.png', dpi=400);\n",
    "\n",
    "# Affichage\n",
    "plt.show()\n",
    "\n",
    "covariance = np.cov(x, x)[0][1]\n",
    "print(f'La covariance est égale à {covariance:.2f}.')\n",
    "\n",
    "ecarttype= np.sqrt(covariance)\n",
    "print(f'L\\'écart type est égale à {ecarttype:.2f}.')\n",
    "\n",
    "std=np.sqrt(covariance)"
   ]
  },
  {
   "cell_type": "markdown",
   "metadata": {
    "id": "UZMTecSNnsvC"
   },
   "source": [
    "*Approche visuelle de la covariance*\n",
    "\n",
    "![Covariance exemple 2](https://i.stack.imgur.com/2I5eO.png)\n",
    "\n",
    "Les rectangles comparent la valeur de x - x_mean et y - y_mean pour chaque point de données.\n",
    "\n",
    "Le rectangle est vert lorsque :\n",
    "\n",
    "- x et y sont supérieurs à leurs moyennes respectives\n",
    "- x et y sont inférieurs à leurs moyennes respectives\n",
    "\n",
    "Le rectangle est rouge lorsque :\n",
    "\n",
    "- x est supérieur à x_mean mais y est inférieur à y_mean\n",
    "- x est inférieur à x_mean mais y est supérieur à y_mean\n",
    "\n",
    "Si le graphique contient beaucoup plus de vert que de rouge, cela signifie que y augmente généralement lorsque x augmente.\n",
    "Si le graphique contient beaucoup plus de rouge que de vert, cela signifie que y diminue généralement lorsque x augmente.\n",
    "Si le graphique n'est pas dominé par une couleur ou l'autre, cela signifie qu'il n'y a pas beaucoup de modèle dans la relation entre x et y.\n",
    "\n",
    "Source: https://stats.stackexchange.com/questions/18058/how-would-you-explain-covariance-to-someone-who-understands-only-the-mean"
   ]
  },
  {
   "cell_type": "markdown",
   "metadata": {
    "id": "XVUNCXJ9MgKE"
   },
   "source": [
    "## Correlation\n",
    "\n",
    "La *Correlation* permet de **mesurer à la fois la force et le sens d’une association entre deux variables**.\n",
    "\n",
    "Elle qui exprime la notion de liaison linéaire entre deux variables (ce qui veut dire la façon qu'elles ont d'évoluer ensemble) en mesurant l'ajustement des données à une droite.\n",
    "\n",
    "### Coefficient de correlation linéaire de Pearson\n",
    "\n",
    "Il est définit par la covariance de X et Y sur le produit de l'écart type de X et l'éacart type de Y.\n",
    "\n",
    "![Coefficient de corelation de Pearson](https://wikimedia.org/api/rest_v1/media/math/render/svg/9de6507a3540a39b23a37b78a4bbd595e58cf22a)\n",
    "\n",
    "Propriétés:\n",
    "\n",
    "- Sans unité\n",
    "- **-1 < r < 1**\n",
    "- Si **r = 0**, **absence de correlation** entre X et Y\n",
    "- Si **r = 1**, les variables X et Y sont **fortement correlés** et évolue dans la même direction.\n",
    "- Si **r = -1**, les varibles X et Y sont **fortement correlés** et évolue dans la direction opposée.\n",
    "- Si **r = +/-1**, il existe une **relation linéaire** entre X et Y : `Y = a X + B`\n",
    "\n",
    "Limite:\n",
    "- Mesure de relation linéaire uniquement"
   ]
  },
  {
   "cell_type": "code",
   "execution_count": 269,
   "metadata": {
    "id": "Zga1HWmunsvC"
   },
   "outputs": [
    {
     "name": "stdout",
     "output_type": "stream",
     "text": [
      "La correlation entre l'age (X) et le salaire (Y) est de 0.48\n",
      "Nous avons une correlation linéaire positive modérée entre X et Y.\n"
     ]
    },
    {
     "data": {
      "text/plain": [
       "0.47704310700314206"
      ]
     },
     "execution_count": 269,
     "metadata": {},
     "output_type": "execute_result"
    }
   ],
   "source": [
    "# Calcul de la correlation de Pearson\n",
    "\n",
    "# Avec scipy\n",
    "import scipy.stats\n",
    "\n",
    "r = scipy.stats.pearsonr(x, y)[0]\n",
    "print(f'La correlation entre l\\'age (X) et le salaire (Y) est de {r:.2f}')\n",
    "print(f'Nous avons une correlation linéaire positive modérée entre X et Y.')\n",
    "\n",
    "# Ou directement avec pandas\n",
    "x.corr(y)\n",
    "\n"
   ]
  },
  {
   "cell_type": "markdown",
   "metadata": {
    "id": "8KVRwVncnsvC"
   },
   "source": [
    "### Les types de correlation et leur valeur du coefficient de Pearson\n",
    "\n",
    "![Les type de correlation et leurs valeurs](https://miro.medium.com/max/1400/1*nElSDIp1jloJiqWX7hniaQ.png)\n",
    "\n",
    "Source : https://medium.com/swlh/scatter-plot-a-tool-for-descriptive-statistics-4b746d36f94"
   ]
  },
  {
   "cell_type": "markdown",
   "metadata": {
    "id": "6Cn0dsy1nsvC"
   },
   "source": [
    "💡: Avez-vous déjà entendu parlé des fausses correlations ?\n",
    "\n",
    "C'est par là :\n",
    "http://www.tylervigen.com/spurious-correlations\n",
    "\n",
    "Impossible d’établir la causalité sur la base d’une étude observationnelle\n",
    "\n",
    "→ La causalité ne réside pas dans les données, mais dans l’acquisition des données\n"
   ]
  },
  {
   "cell_type": "markdown",
   "metadata": {
    "id": "6pUOI1VGnsvD"
   },
   "source": [
    "### Autres correlations:\n",
    "\n",
    "**Coefficient de correlation de Spearman**\n",
    "\n",
    "![Formule coeff correlation Spearman](https://wikimedia.org/api/rest_v1/media/math/render/svg/cbcb564f1674eaf928728c9c9b87753a59dc8750)\n",
    "\n",
    "Elle consiste à trouver un coefficient de corrélation, non pas entre les valeurs prises par les deux variables mais entre les rangs de ces valeurs.\n",
    "\n",
    "Le coefficient de Spearman permet de détecter des tendances monotone (croissante ou décroissante).\n",
    "\n",
    "\n",
    "**Coefficient de correlation de Kendall**\n",
    "\n",
    "https://fr.wikipedia.org/wiki/Tau_de_Kendall\n"
   ]
  },
  {
   "cell_type": "markdown",
   "metadata": {
    "id": "Fhnwac2onsvD"
   },
   "source": [
    "## Régression Linéaire\n",
    "\n",
    "La *Régression Linéaire* vise à **modéliser la relation entre deux variable X et Y par une équation de droite affine** (sous l'hypothèse que la relation entre X et Y est linéaire... ).\n",
    "\n",
    "![Illustration de la régression linéaire](https://qph.fs.quoracdn.net/main-qimg-8862171796962f452c65f9ac5269596e)\n",
    "\n",
    "La *Régression Linéaire* permet d'obtenir une **droite de régression** qui servira à interpoler (plage de données de l'étude) et extrapoler (plage de données hors étude) de nouveau résultats.\n",
    "\n",
    "On dit *regression* car il s'agit de **réduire un ensemble d'observation à un modèle continu linéaire**\n",
    "\n",
    "> 💡La régression linéaire consiste à voir si une **loi affine y=ax+b** peut convenir pour **modéliser ces données**\n",
    "\n",
    "> 🤔Bien qu'on soit conscient que ce n'est peut etre pas le meilleur modèle à choisir au vu du coefficient de correlaion linéaire et la visualiation des données, on accepte de faire de continuer l'expérience."
   ]
  },
  {
   "cell_type": "code",
   "execution_count": 270,
   "metadata": {
    "id": "iNAgGPIfnsvD"
   },
   "outputs": [
    {
     "data": {
      "text/html": [
       "<table class=\"simpletable\">\n",
       "<caption>OLS Regression Results</caption>\n",
       "<tr>\n",
       "  <th>Dep. Variable:</th>         <td>Salary</td>      <th>  R-squared (uncentered):</th>      <td>   0.697</td>\n",
       "</tr>\n",
       "<tr>\n",
       "  <th>Model:</th>                   <td>OLS</td>       <th>  Adj. R-squared (uncentered):</th> <td>   0.694</td>\n",
       "</tr>\n",
       "<tr>\n",
       "  <th>Method:</th>             <td>Least Squares</td>  <th>  F-statistic:       </th>          <td>   227.6</td>\n",
       "</tr>\n",
       "<tr>\n",
       "  <th>Date:</th>             <td>Thu, 27 Jan 2022</td> <th>  Prob (F-statistic):</th>          <td>2.10e-27</td>\n",
       "</tr>\n",
       "<tr>\n",
       "  <th>Time:</th>                 <td>00:46:41</td>     <th>  Log-Likelihood:    </th>          <td> -503.07</td>\n",
       "</tr>\n",
       "<tr>\n",
       "  <th>No. Observations:</th>      <td>   100</td>      <th>  AIC:               </th>          <td>   1008.</td>\n",
       "</tr>\n",
       "<tr>\n",
       "  <th>Df Residuals:</th>          <td>    99</td>      <th>  BIC:               </th>          <td>   1011.</td>\n",
       "</tr>\n",
       "<tr>\n",
       "  <th>Df Model:</th>              <td>     1</td>      <th>                     </th>              <td> </td>   \n",
       "</tr>\n",
       "<tr>\n",
       "  <th>Covariance Type:</th>      <td>nonrobust</td>    <th>                     </th>              <td> </td>   \n",
       "</tr>\n",
       "</table>\n",
       "<table class=\"simpletable\">\n",
       "<tr>\n",
       "   <td></td>      <th>coef</th>     <th>std err</th>      <th>t</th>      <th>P>|t|</th>  <th>[0.025</th>    <th>0.975]</th>  \n",
       "</tr>\n",
       "<tr>\n",
       "  <th>Age</th> <td>    1.1393</td> <td>    0.076</td> <td>   15.085</td> <td> 0.000</td> <td>    0.989</td> <td>    1.289</td>\n",
       "</tr>\n",
       "</table>\n",
       "<table class=\"simpletable\">\n",
       "<tr>\n",
       "  <th>Omnibus:</th>       <td>10.775</td> <th>  Durbin-Watson:     </th> <td>   1.967</td>\n",
       "</tr>\n",
       "<tr>\n",
       "  <th>Prob(Omnibus):</th> <td> 0.005</td> <th>  Jarque-Bera (JB):  </th> <td>  10.904</td>\n",
       "</tr>\n",
       "<tr>\n",
       "  <th>Skew:</th>          <td> 0.746</td> <th>  Prob(JB):          </th> <td> 0.00429</td>\n",
       "</tr>\n",
       "<tr>\n",
       "  <th>Kurtosis:</th>      <td> 3.627</td> <th>  Cond. No.          </th> <td>    1.00</td>\n",
       "</tr>\n",
       "</table><br/><br/>Notes:<br/>[1] R² is computed without centering (uncentered) since the model does not contain a constant.<br/>[2] Standard Errors assume that the covariance matrix of the errors is correctly specified."
      ],
      "text/plain": [
       "<class 'statsmodels.iolib.summary.Summary'>\n",
       "\"\"\"\n",
       "                                 OLS Regression Results                                \n",
       "=======================================================================================\n",
       "Dep. Variable:                 Salary   R-squared (uncentered):                   0.697\n",
       "Model:                            OLS   Adj. R-squared (uncentered):              0.694\n",
       "Method:                 Least Squares   F-statistic:                              227.6\n",
       "Date:                Thu, 27 Jan 2022   Prob (F-statistic):                    2.10e-27\n",
       "Time:                        00:46:41   Log-Likelihood:                         -503.07\n",
       "No. Observations:                 100   AIC:                                      1008.\n",
       "Df Residuals:                      99   BIC:                                      1011.\n",
       "Df Model:                           1                                                  \n",
       "Covariance Type:            nonrobust                                                  \n",
       "==============================================================================\n",
       "                 coef    std err          t      P>|t|      [0.025      0.975]\n",
       "------------------------------------------------------------------------------\n",
       "Age            1.1393      0.076     15.085      0.000       0.989       1.289\n",
       "==============================================================================\n",
       "Omnibus:                       10.775   Durbin-Watson:                   1.967\n",
       "Prob(Omnibus):                  0.005   Jarque-Bera (JB):               10.904\n",
       "Skew:                           0.746   Prob(JB):                      0.00429\n",
       "Kurtosis:                       3.627   Cond. No.                         1.00\n",
       "==============================================================================\n",
       "\n",
       "Notes:\n",
       "[1] R² is computed without centering (uncentered) since the model does not contain a constant.\n",
       "[2] Standard Errors assume that the covariance matrix of the errors is correctly specified.\n",
       "\"\"\""
      ]
     },
     "execution_count": 270,
     "metadata": {},
     "output_type": "execute_result"
    }
   ],
   "source": [
    "# Avec statsmodels\n",
    "\n",
    "# Effectuer une Regression Linéaire avec la méthode des moindre carrés ordinaire (ordinary least squares (OLS))\n",
    "from statsmodels.regression.linear_model import OLS\n",
    "model = OLS(y,x)\n",
    "results = model.fit()\n",
    "su = results.summary()\n",
    "su\n",
    "#results.params\n",
    "#a,b = results.params['Age'],results.params['Salary']"
   ]
  },
  {
   "cell_type": "markdown",
   "metadata": {
    "id": "YSp_wFHbUyV6"
   },
   "source": [
    "> ⚠️ OLS nous dit que le modèle est peu robuste aux outliers (on s'y attendait au vu du coefficient de correlation)...\n",
    "\n",
    "> 💡 On se doute que notre modèle (de régression linéaire) ne pourra pas expliquer la totalité des variations (de notre jeu de donnés)."
   ]
  },
  {
   "cell_type": "code",
   "execution_count": 271,
   "metadata": {
    "id": "pWhDvGBznsvD"
   },
   "outputs": [
    {
     "data": {
      "image/png": "[encoded data removed]",
      "text/plain": [
       "<Figure size 360x360 with 1 Axes>"
      ]
     },
     "metadata": {
      "needs_background": "light"
     },
     "output_type": "display_data"
    }
   ],
   "source": [
    "# Affichage de la droite de régression avec un interval de confiance de 95%\n",
    "import seaborn as sns\n",
    "\n",
    "sns.lmplot(x=\"Age\", y=\"Salary\", data=df_2);"
   ]
  },
  {
   "cell_type": "markdown",
   "metadata": {
    "id": "IUsGyPkansvD"
   },
   "source": [
    "> ❓Comment la relation entre le Salaire et l'Age change-t-elle en fonction du Sexe ?\n",
    "\n",
    "> ❓Comment la relation entre ces deux variables X et Y change-t-elle en fonction d'une troisième variable Z ?"
   ]
  },
  {
   "cell_type": "code",
   "execution_count": 272,
   "metadata": {
    "id": "xLurvalynsvD"
   },
   "outputs": [
    {
     "data": {
      "image/png": "[encoded data removed]",
      "text/plain": [
       "<Figure size 404.875x360 with 1 Axes>"
      ]
     },
     "metadata": {
      "needs_background": "light"
     },
     "output_type": "display_data"
    }
   ],
   "source": [
    "# Affichage de la droite de régression avec un interval de confiance de 95%\n",
    "import seaborn as sns\n",
    "\n",
    "sns.lmplot(x=\"Age\", y=\"Salary\", hue=\"Gender\", data=df_2);"
   ]
  },
  {
   "cell_type": "markdown",
   "metadata": {
    "id": "GnOG2dtunsvD"
   },
   "source": [
    "#### Paradoxe de Simpson\n",
    "\n",
    "> 💡 Vidéo explicative du Paradoxe de Simpson (Science Etonnante): https://www.youtube.com/watch?v=vs_Zzf_vL2I"
   ]
  }
 ],
 "metadata": {
  "celltoolbar": "Diaporama",
  "colab": {
   "collapsed_sections": [],
   "name": "Analyse descriptive",
   "provenance": []
  },
  "kernelspec": {
   "display_name": "Python 3",
   "language": "python",
   "name": "python3"
  },
  "language_info": {
   "codemirror_mode": {
    "name": "ipython",
    "version": 3
   },
   "file_extension": ".py",
   "mimetype": "text/x-python",
   "name": "python",
   "nbconvert_exporter": "python",
   "pygments_lexer": "ipython3",
   "version": "3.8.8"
  }
 },
 "nbformat": 4,
 "nbformat_minor": 1
}
