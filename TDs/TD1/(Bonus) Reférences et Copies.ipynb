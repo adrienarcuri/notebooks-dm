{
 "cells": [
  {
   "cell_type": "markdown",
   "id": "50ae9537-51c9-48ba-a069-31776f573676",
   "metadata": {},
   "source": [
    "# (Bonus) Références et copies"
   ]
  },
  {
   "cell_type": "markdown",
   "id": "310027cd-8ea1-469c-a557-76d389934534",
   "metadata": {},
   "source": [
    "## Références\n",
    "\n",
    "En Python, une variable ne contient pas la valeur d'un objet comme on pourrait le penser. En faite, on dit plutôt qu'**une variable fait référence** à un objet.\n",
    "\n",
    "Par exemple:\n",
    "\n",
    "```python\n",
    "a = 0\n",
    "b = 1\n",
    "c = 1\n",
    "d = c\n",
    "```\n",
    "\n",
    "> a --référence--> 0\n",
    "\n",
    "> a et b --référence--> 0\n",
    "\n",
    "> c --référence--> 0\n",
    "\n",
    "> d --référence--> 0\n",
    "\n",
    "Pour la variable `a`, Python recherche l'objet référencé par `a`, c'est l'objet 0.\n",
    "\n",
    "Pour la variable `b`, Python recherche l'objet référencé par `b`, c'est l'objet 1. Idem pour la variable `c` qui référence vers l'objet `1`.\n",
    "\n",
    "Enfin, pour la variable `d`, elle ne référence pas `c` mais l'objet que référence `c`, c'est-à-dire `1` également.\n",
    "\n",
    "Visualison les identifiants des objets avec la fonction `id()`\n",
    "\n"
   ]
  },
  {
   "cell_type": "code",
   "execution_count": 19,
   "id": "f6477d3b-1d19-46bc-a5d6-b526afce8190",
   "metadata": {},
   "outputs": [
    {
     "name": "stdout",
     "output_type": "stream",
     "text": [
      "4376365376\n",
      "4376365408\n"
     ]
    },
    {
     "data": {
      "text/plain": [
       "True"
      ]
     },
     "execution_count": 19,
     "metadata": {},
     "output_type": "execute_result"
    }
   ],
   "source": [
    "a = 0\n",
    "b = 1\n",
    "c = 1\n",
    "d = c\n",
    "\n",
    "print(id(0))\n",
    "print(id(1))\n",
    "\n",
    "# On s'aperçoit que les identité des objets référencés par\n",
    "# les varibles sont les mêmes, c'est à dire l'identité de l'objet 1\n",
    "# On dit que l'objet 1 à plusieurs références\n",
    "id (1) == id(b) == id(c) == id(d) "
   ]
  },
  {
   "cell_type": "code",
   "execution_count": 29,
   "id": "b9b4998b-47af-4ddc-b954-d665b08cc803",
   "metadata": {},
   "outputs": [
    {
     "name": "stdout",
     "output_type": "stream",
     "text": [
      "False\n",
      "True\n"
     ]
    },
    {
     "data": {
      "text/plain": [
       "True"
      ]
     },
     "execution_count": 29,
     "metadata": {},
     "output_type": "execute_result"
    }
   ],
   "source": [
    "l1 = [0,1,2]\n",
    "l2 = [10,9,8]\n",
    "# l1 et l2 références deux objets liste différents\n",
    "print(id(l1) == id(l2))\n",
    "\n",
    "l2 = l1 \n",
    "# l1 et l2 références maintenant le même objet liste\n",
    "print(id(l1) == id(l2))\n",
    "\n",
    "# l2[0] et a références le même objet 0\n",
    "id(l2[0]) == id(a)\n",
    "# l2[0] et b références le même objet 1\n",
    "id(l2[1]) == id(b)"
   ]
  },
  {
   "cell_type": "markdown",
   "id": "8ee46603-69c4-4569-8034-4773ff926da2",
   "metadata": {},
   "source": [
    "### Copies superficielles vs Copies profondes en Python\n",
    "\n",
    "La **copie superficielles (Shallow Copy)** et la **copie profonde (Deep Copy)** sont 2 façons de copier les objets en Python\n",
    "\n",
    "```python\n",
    "# Module pour effectuer les copies\n",
    "import copy\n",
    "```"
   ]
  },
  {
   "cell_type": "markdown",
   "id": "7501e3af-b8ad-41ed-be5e-8fb74a4f35fb",
   "metadata": {},
   "source": [
    "#### Copies profondes (Deep Copy)\n",
    "\n",
    "Une copie profonde (Deep copie) **crée une copie complètement indépendante de l'objet d'origine**.\n",
    "\n",
    "```python\n",
    "copy.deepcopy(object)\n",
    "```"
   ]
  },
  {
   "cell_type": "code",
   "execution_count": 55,
   "id": "9fa83cb8-b438-4881-ba07-ea282617091b",
   "metadata": {},
   "outputs": [
    {
     "name": "stdout",
     "output_type": "stream",
     "text": [
      "[[1, 2, 3], [9, 8, 7]]\n",
      "[[1, 2, 3], [9, 8, 7]]\n",
      "False\n",
      "False\n",
      "[['Cacao', 2, 3], [9, 8, 7]]\n",
      "[[1, 2, 3], [9, 8, 7]]\n"
     ]
    }
   ],
   "source": [
    "import copy\n",
    "\n",
    "parent_list = [[1,2,3], [9,8,7]]\n",
    "print(parent_list)\n",
    "\n",
    "deep_list = copy.deepcopy(parent_list)\n",
    "print(deep_list)\n",
    "\n",
    "# Vérifions que les identités des objets, des sous objets sont tous différents\n",
    "print(id(deep_list) == id(parent_list))\n",
    "print(id(deep_list[0]) == id(parent_list[0]))\n",
    "\n",
    "# Un changement dans un élement d'un sous objet, ne change pas l'objet profond\n",
    "parent_list[0][0] = 'Cacao'\n",
    "print(parent_list)\n",
    "print(deep_list)"
   ]
  },
  {
   "cell_type": "markdown",
   "id": "f1912546-3780-441f-9628-71226ca2f175",
   "metadata": {},
   "source": [
    "#### Copies superficielles (Shallow Copy)\n",
    "\n",
    "La copie superficielle va **copier un objet en faisant références aux objets enfants de l'objet d'origine** (donc elle ne va pas copier les objets enfants).\n",
    "\n",
    "```python\n",
    "copy.copy(object)\n",
    "```"
   ]
  },
  {
   "cell_type": "code",
   "execution_count": 47,
   "id": "70d6a6b0-a993-4704-9042-7d6d813a2b6f",
   "metadata": {},
   "outputs": [
    {
     "name": "stdout",
     "output_type": "stream",
     "text": [
      "[[1, 2, 3], [9, 8, 7]]\n",
      "[[1, 2, 3], [9, 8, 7]]\n",
      "[[555, 2, 3], [9, 8, 7]]\n",
      "[[555, 2, 3], [9, 8, 7]]\n",
      "True\n",
      "[[555, 2, 3], [9, 8, 7]]\n",
      "[[893, 973, 789], [9, 8, 7]]\n",
      "False\n"
     ]
    }
   ],
   "source": [
    "import copy\n",
    "\n",
    "parent_list = [[1,2,3], [9,8,7]]\n",
    "print(parent_list)\n",
    "\n",
    "shallow_list = copy.copy(parent_list)\n",
    "print(shallow_list)\n",
    "\n",
    "# Changeons un élement d'une sous liste\n",
    "parent_list[0][0] = 555\n",
    "print(shallow_list)\n",
    "print(parent_list)\n",
    "\n",
    "# Vérifions que les identités des élements enfants sont identiques\n",
    "print(id(shallow_list[0])==id(parent_list[0])) \n",
    "\n",
    "# Mais si on change la première sous liste parente\n",
    "# les identités ne sont plus les mêmes\n",
    "parent_list[0] = [893,973,789]\n",
    "print(shallow_list)\n",
    "print(parent_list)\n",
    "\n",
    "# Vérifions que les identités des élements enfants sont différents\n",
    "print(id(shallow_list[0])==id(parent_list[0])) "
   ]
  },
  {
   "cell_type": "markdown",
   "id": "c9d86410-16c9-4689-93c8-c98b51975e0d",
   "metadata": {},
   "source": [
    "Pour aller plus loin :\n",
    "- Références : https://www.pythontutorial.net/advanced-python/python-references/\n",
    "- Shallow vs Deep Copy : https://betterprogramming.pub/shallow-copy-vs-deep-copy-in-python-357e5f502bf9"
   ]
  },
  {
   "cell_type": "code",
   "execution_count": null,
   "id": "ffbe7786-a7bf-470f-a7f4-8bd2cabc1d67",
   "metadata": {},
   "outputs": [],
   "source": []
  }
 ],
 "metadata": {
  "kernelspec": {
   "display_name": "Python 3",
   "language": "python",
   "name": "python3"
  },
  "language_info": {
   "codemirror_mode": {
    "name": "ipython",
    "version": 3
   },
   "file_extension": ".py",
   "mimetype": "text/x-python",
   "name": "python",
   "nbconvert_exporter": "python",
   "pygments_lexer": "ipython3",
   "version": "3.8.8"
  }
 },
 "nbformat": 4,
 "nbformat_minor": 5
}
