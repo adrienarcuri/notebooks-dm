{
 "cells": [
  {
   "cell_type": "markdown",
   "metadata": {
    "id": "ZjC1_T-gkeMJ"
   },
   "source": [
    "# <a href=\"https://www.python.org/\"><img src=\"https://upload.wikimedia.org/wikipedia/commons/thumb/f/f8/Python_logo_and_wordmark.svg/390px-Python_logo_and_wordmark.svg.png\" style=\"max-width: 200px; display: inline\" alt=\"Python\"/></a> pour Statistique et Science des Données"
   ]
  },
  {
   "cell_type": "markdown",
   "metadata": {
    "id": "z6wQHYLQkeMN"
   },
   "source": [
    "Ce notebook est fortement inspiré du cours d'[introduction à Python](https://github.com/wikistat/Intro-Python) réalisé par **Philippe Besse** pour l'INSA Toulouse et utilisé avec respect de la licence. Quelques modifications ont été apportées afin de mieux cibler les besoins du cours de Data Mining."
   ]
  },
  {
   "cell_type": "markdown",
   "metadata": {
    "id": "7T1jUFlDkeMN"
   },
   "source": [
    "# Traitement de données avec  <a href=\"https://www.python.org/\"><img src=\"https://upload.wikimedia.org/wikipedia/commons/thumb/f/f8/Python_logo_and_wordmark.svg/390px-Python_logo_and_wordmark.svg.png\" style=\"max-width: 150px; display: inline\" alt=\"Python\"/></a> & <a href=\"http://pandas.pydata.org/\"><img src=\"http://pandas.pydata.org/_static/pandas_logo.png\" style=\"max-width: 250px; display: inline\" alt=\"Pandas\"/></a> \n",
    "\n",
    "**Résumé**:  Utilisation de Python pour la préparation (*data preprocessing*) de données pas trop massives: qui tiennent en mémoire une fois réorganisées. Cette étape est abordée par l'initiation aux fonctionnalités de la librairie `pandas` et à la classe `DataFrame`; lire et écrire des fichiers, gérer une table de données et les types des variables, échantillonner, discrétiser, regrouper des modalités, description élémentaires uni et bi-variées; concaténation et jointure de tables."
   ]
  },
  {
   "cell_type": "markdown",
   "metadata": {
    "id": "ephOE6E7keMO"
   },
   "source": [
    "## 1 Introduction\n",
    "### 1.1 Objectifs\n",
    "Le *data preprocessing* est l'ensemble des opérations permettant de passer de données brutes à une table (**DataFrame**) correcte et adaptée aux objectifs à atteindre par des  méthodes statistiques d'analyse, exploration, modélisation ou apprentissage. \n",
    "\n",
    "En présence de données complexes, peu ou mal organisées, présentant des trous, trop massives pour tenir en mémoire...  la qualité de cette étape est fondamentale (*garbage in, garbage out*) pour la bonne réalisation d'une étude. Compte tenu de la diversité des situations envisageables, il serait vain de vouloir exposer tous les outils et techniques qui peuvent s'avérer nécessaires. Tâchons néanmoins de résumer les problèmes qui peuvent être rencontrés.\n",
    "\n",
    "### 1.2 Croissance du volume\n",
    "\n",
    "De façon générale, pandas est à utiliser pour traiter des **données pouvant tenir telles quelles en mémoire vive** une fois chargées. Attention : en raison des informations supplémentaires à charger (métadonnées), charger un fichier CSV de 500 Mo nécessitera légèrement plus que 500 Mo de RAM.\n",
    "\n",
    "Si ces données sont trop larges (*out of core processing*), trois solutions :\n",
    "* Acheter de la mémoire vive\n",
    "* Réduire la quantité de données par transformation avec un système de calcul distribué approprié (Spark, Dask, requête SQL bien ficelée, etc...)\n",
    "* Charger et traiter les données blocs par blocs avec pandas. Cette pratique est dite *chunking*.\n",
    "\n",
    "La première solution est simple mais vite limitée. \n",
    "\n",
    "La deuxième est certainement la meilleure mais nécessite le déploiement (et la maintenance !) de services tiers qui sont en dehors du cadre de ce cours. \n",
    "\n",
    "Enfin, la dernière pratique est à éviter si possible car elle impose des restrictions sur les traitements (pas possible de définir des traitements dépendants d'une donnée dans un autre bloc notamment).\n",
    "\n",
    "### 1.3 Quelques problèmes\n",
    "\n",
    "Liste non exhaustive des problèmes pouvant être rencontrés et dont la résolution nécessite simultanément des compétences en Informatique, Statistique, Mathématiques et aussi \"métier\" du domaine de l'étude. \n",
    "-  Identifier les \"individus\" $\\times$ \"variables\" (*instances* $\\times$ *features* en langue informatique) de la table à mettre en forme à partir de bases de données variées; *i.e.* logs d'un site web, listes d'incidents, localisations...\n",
    "- Donnés atypiques/aberrantes (*outliers*): correction, suppression, transformation des variables ou méthode statistique robuste?\n",
    "- Variable qualitative avec beaucoup de modalités dont certaines très peu fréquentes: suppression, modalité `autres`, recodage aléatoire, regroupement \"métier\" ou méthode tolérante?\n",
    "- Distributions a-normales (log-normale, Poisson, multimodales...) et problèmes d'hétéroscédasticité: transformation, discrétisation ou méthodes tolérantes?\n",
    "- Données manquantes: suppressions (ligne ou colonne), imputation ou méthodes tolérantes ?\n",
    "- Représentations (splines, Fourier, ondelettes) et recalage (*time warping*) de données fonctionnelles.\n",
    "- Représentation de trajectoires, de chemins sur un graphe ? \n",
    "- Choix d'une distance (quadratique, absolue, géodésique...) entre les objets étudiés.\n",
    "- ...\n",
    "\n",
    "Bien entendu les \"bons\" choix dépendent directement de l'objectif poursuivi et des méthodes mises en oeuvre par la suite. D'où l'importance d'intégrer de façon précoce, dès la planification du recueil des données, les compétences statistiques nécessaires au sein d'une équipe. \n",
    "\n",
    "### 1.4 Fonctionnalités de `pandas`\n",
    "\n",
    "La richesse des fonctionnalités de la librairie `pandas` est une des raisons, si ce n'est la principale, d'utiliser Python pour extraire, préparer, et éventuellement analyser, des données. En voici un bref aperçu. \n",
    "\n",
    "- *Objets*: les classes `Series` et `DataFrame` étendant les capacités des `array` numpy.\n",
    "- *Lire, écrire* : création et exportation de tables de données à partir de fichiers textes (séparateurs, `.csv`, format fixe, compressés), binaires (HDF5 avec `Pytable`), HTML, XML, JSON, MongoDB, SQL... \n",
    "- *Gestion*  d'une table: sélection des lignes, colonnes, transformations, réorganisation par niveau d'une modalité, discrétisation de variables quantitatives, exclusion ou imputation élémentaire de données manquantes, permutation et échantillonnage aléatoire, variables indicatrices, chaînes de caractères...\n",
    "- *Statistiques* élémentaires  uni- et bivariées, tri à plat (nombre de modalités, de valeurs nulles, de valeurs manquantes...), graphiques associés, statistiques par groupe, détection élémentaire de valeurs atypiques...\n",
    "- *Manipulation* de tables : concaténations, fusions, jointures, tri, gestion des types et formats...\n",
    "- *Manipulation de données temporelle* : rééchantillonnage, découpage en fréquence, parsing de date, extraction de composants d'un timestamp, etc...\n",
    "- *Visualisation (simple)* : création rapide de graphes statiques simples, idéaux pour une exploration rapide\n",
    "\n",
    "La maîtrise de `pandas` est un **passage incontournable pour analyser des données en Python** (et de plus en plus un passage incontournable pour analyser des données tout court). La librairie est surtout adaptée au **traitement de données tabulaires**. Pour des données d'autres types, d'autres librairies seront plus adaptées (e.g. `networkx` pour les données en graphes).\n",
    "\n",
    "*A contrario*, la maîtrise de `numpy` est davantage utile pour accéder à des fonctions plus bas niveau ou pour du calcul scientifique.\n",
    "\n",
    "`numpy` et `pandas` sont parfaitement compatibles. La plupart des fonctions de `numpy` peuvent fonctionner directement sur des objets définis par `pandas` sans la moindre modification.\n",
    "\n",
    "### 1.5 Références\n",
    "\n",
    "Ce tutoriel élémentaire s'inspire largement de la [documentation en ligne](http://pandas.pydata.org/pandas-docs/stable/) à consulter **sans modération**. Vous trouverez d'ailleurs un raccourci vers cette documentation directement dans l'interface des notebooks (en haut, dans le menu *Help*).\n",
    "\n",
    "La documentation officielle inclut également des [tutoriels](http://pandas.pydata.org/pandas-docs/stable/tutorials.html) à exécuter pour compléter et approfondir la première ébauche d'un sujet relativement technique et qui peut prendre des tournures très diverses en fonction de la qualité et des types de données traitées.\n",
    "\n",
    "Les deux livres suivants sont également bien conçus et raisonnablement à jour\n",
    "* **Chen Daniel** (2017). *Pandas for Everyone: Python Data Analysis*\n",
    "* **Petrou Theodore** (2017). *Pandas Cookbook: Recipes for Scientific Computing, Time Series Analysis and Data Visualization using Python*\n",
    "\n",
    "### 1.6 Données d'exemple\n",
    "\n",
    "Les données choisies pour illustrer ce tutoriel sont issues d'une compétition du site [Kaggle](https://www.kaggle.com/): [Titanic: Machine learnic from Disaster](https://www.kaggle.com/c/titanic-gettingStarted). Le concours est terminé mais les [données](https://www.kaggle.com/c/titanic-gettingStarted/data) sont toujours disponibles sur le site avec des tutoriels utilisant Excel, Python ou R.\n",
    "\n",
    "Ces données sont reproduites dans le fichier `titanic.csv` présent dans le répertoire courant.\n",
    "\n",
    "Une des raisons du drame, qui provoqua la mort de 1502 personnes sur les 2224 passagers et membres d'équipage, fut le manque de canots de sauvetage. Il apparaît que les chances de survie dépendaient de différents facteurs (sexe, âge, classe...). Le but du concours est de construire un modèle de prévision (classification supervisée) de survie en fonction de ces facteurs. Les données sont composées d'un échantillon d'apprentissage (891) et d'un échantillon test (418) chacun décrit par 11 variables dont la première indiquant la survie ou non lors du naufrage.\n",
    "\n",
    "On se cantonnera dans cette introduction à une simple exploration de ces données et non une modélisation."
   ]
  },
  {
   "cell_type": "markdown",
   "metadata": {
    "id": "I-EGmdlOkeMT"
   },
   "source": [
    "#### Liste des variables\n",
    "\n",
    "Label  | Intitulé\n",
    "----------|-------------\n",
    "survival   |     Survival (0 = No; 1 = Yes)\n",
    "pclass   |       Passenger Class (1 = 1st; 2 = 2nd; 3 = 3rd)\n",
    "name    |       Name\n",
    "sex     |        Sex\n",
    "age     |        Age\n",
    "sibsp   |        Number of Siblings/Spouses Aboard\n",
    "parch    |       Number of Parents/Children Aboard\n",
    "ticket   |       Ticket Number\n",
    "fare    |        Passenger Fare\n",
    "cabin   |        Cabin\n",
    "embarked |       Port of Embarkation (C = Cherbourg; Q = Queenstown; S = Southampton)"
   ]
  },
  {
   "cell_type": "markdown",
   "metadata": {
    "id": "V_7GQ7w0keMU"
   },
   "source": [
    "## 2 Les classes `Series` et `DataFrame`\n",
    "De même que la librairie `numpy` introduit le type `array` indispensable à la manipulation de matrices en calcul scientifique, `pandas` introduit les classes `Series` (séries 1D) et `DataFrame` (tableaux 2D) ou table de données indispensables en statistique. \n",
    "\n",
    "### 2.1 *Series*\n",
    "La classe `Series` est l'association de deux `arrays` unidimensionnels. Le premier est un ensemble de valeurs indexées par le 2ème qui est souvent une série temporelle.  Ce type est introduit principalement pour des applications en Econométrie et Finance où Python est largement utilisé."
   ]
  },
  {
   "cell_type": "markdown",
   "metadata": {
    "id": "3fNZqECxkeMU"
   },
   "source": [
    "### 2.2 *DataFrame*\n",
    "Cette classe est proche de celle du même nom dans le langage R, il s'agit d'associer avec le même index de lignes des **colonnes de types différents** (entier, réel, booléen, caractère). C'est un **tableau bi-dimensionnel** avec des index de lignes et de colonnes mais il peut également être vu comme une liste de `Series` partageant le même index. C'est la classe qui sera principalement utilisée dans ce tutoriel. "
   ]
  },
  {
   "cell_type": "code",
   "execution_count": 1,
   "metadata": {
    "id": "LUpqGiB_keMV",
    "outputId": "61af2c0d-319f-4ef6-d270-d11af8b8f849"
   },
   "outputs": [
    {
     "data": {
      "text/html": [
       "<div>\n",
       "<style scoped>\n",
       "    .dataframe tbody tr th:only-of-type {\n",
       "        vertical-align: middle;\n",
       "    }\n",
       "\n",
       "    .dataframe tbody tr th {\n",
       "        vertical-align: top;\n",
       "    }\n",
       "\n",
       "    .dataframe thead th {\n",
       "        text-align: right;\n",
       "    }\n",
       "</style>\n",
       "<table border=\"1\" class=\"dataframe\">\n",
       "  <thead>\n",
       "    <tr style=\"text-align: right;\">\n",
       "      <th></th>\n",
       "      <th>year</th>\n",
       "      <th>state</th>\n",
       "      <th>pop</th>\n",
       "    </tr>\n",
       "  </thead>\n",
       "  <tbody>\n",
       "    <tr>\n",
       "      <th>0</th>\n",
       "      <td>2000</td>\n",
       "      <td>Ohio</td>\n",
       "      <td>1.5</td>\n",
       "    </tr>\n",
       "    <tr>\n",
       "      <th>1</th>\n",
       "      <td>2001</td>\n",
       "      <td>Ohio</td>\n",
       "      <td>1.7</td>\n",
       "    </tr>\n",
       "    <tr>\n",
       "      <th>2</th>\n",
       "      <td>2002</td>\n",
       "      <td>Ohio</td>\n",
       "      <td>3.6</td>\n",
       "    </tr>\n",
       "    <tr>\n",
       "      <th>3</th>\n",
       "      <td>2001</td>\n",
       "      <td>Nevada</td>\n",
       "      <td>2.4</td>\n",
       "    </tr>\n",
       "    <tr>\n",
       "      <th>4</th>\n",
       "      <td>2002</td>\n",
       "      <td>Nevada</td>\n",
       "      <td>2.9</td>\n",
       "    </tr>\n",
       "  </tbody>\n",
       "</table>\n",
       "</div>"
      ],
      "text/plain": [
       "   year   state  pop\n",
       "0  2000    Ohio  1.5\n",
       "1  2001    Ohio  1.7\n",
       "2  2002    Ohio  3.6\n",
       "3  2001  Nevada  2.4\n",
       "4  2002  Nevada  2.9"
      ]
     },
     "execution_count": 1,
     "metadata": {},
     "output_type": "execute_result"
    }
   ],
   "source": [
    "# Exemple de DataFrame\n",
    "import pandas as pd\n",
    "\n",
    "# On peut définir les données colonne par colonne\n",
    "# Remarque : un dictionnaire ne garantit pas de conserver l'ordre d'insertion\n",
    "\n",
    "data = {\"state\": [\"Ohio\", \"Ohio\", \"Ohio\", \"Nevada\", \"Nevada\"],\n",
    "        \"year\": [2000, 2001, 2002, 2001, 2002],\n",
    "        \"pop\": [1.5, 1.7, 3.6, 2.4, 2.9]}\n",
    "\n",
    "# L'ordre des colonnes dépend de l'ordre dans le dictionnaire data, qui n'est pas certain\n",
    "df = pd.DataFrame(data)\n",
    "\n",
    "# Pour fixer l'ordre des colonnes\n",
    "pd.DataFrame(data, columns=[\"year\", \"state\", \"pop\"])"
   ]
  },
  {
   "cell_type": "code",
   "execution_count": 2,
   "metadata": {
    "id": "AAdB06rXkeMX",
    "outputId": "7d521b9e-17ca-49f7-fb2d-52155a9b1119"
   },
   "outputs": [
    {
     "data": {
      "text/plain": [
       "Index(['year', 'state', 'pop', 'debt'], dtype='object')"
      ]
     },
     "execution_count": 2,
     "metadata": {},
     "output_type": "execute_result"
    }
   ],
   "source": [
    "# index des lignes et valeurs manquantes (NaN)\n",
    "df2 = pd.DataFrame(data, \n",
    "                   columns=[\"year\", \"state\", \"pop\", \"debt\"], \n",
    "                   index=[\"one\", \"two\", \"three\", \"four\", \"five\"])\n",
    "\n",
    "# Liste des colonnes\n",
    "df2.columns"
   ]
  },
  {
   "cell_type": "code",
   "execution_count": 3,
   "metadata": {
    "id": "KSSPOLs9keMY",
    "outputId": "59b1e7df-fad0-4e16-b673-f02878d73fa6",
    "scrolled": true
   },
   "outputs": [
    {
     "data": {
      "text/plain": [
       "0      Ohio\n",
       "1      Ohio\n",
       "2      Ohio\n",
       "3    Nevada\n",
       "4    Nevada\n",
       "Name: state, dtype: object"
      ]
     },
     "execution_count": 3,
     "metadata": {},
     "output_type": "execute_result"
    }
   ],
   "source": [
    "# Accéder à une colonne en particulier\n",
    "df[\"state\"]"
   ]
  },
  {
   "cell_type": "code",
   "execution_count": 4,
   "metadata": {
    "id": "48jGhTy5keMY",
    "outputId": "dcfbaf77-ace5-47cb-98dd-4845f6580661"
   },
   "outputs": [
    {
     "data": {
      "text/plain": [
       "one        Ohio\n",
       "two        Ohio\n",
       "three      Ohio\n",
       "four     Nevada\n",
       "five     Nevada\n",
       "Name: state, dtype: object"
      ]
     },
     "execution_count": 4,
     "metadata": {},
     "output_type": "execute_result"
    }
   ],
   "source": [
    "df2.state # Equivalent à la cellule précédente"
   ]
  },
  {
   "cell_type": "code",
   "execution_count": 5,
   "metadata": {
    "id": "B7GcycxxkeMZ",
    "outputId": "41eb82d8-f32a-457c-9d74-1799b5102a7b"
   },
   "outputs": [
    {
     "data": {
      "text/plain": [
       "pandas.core.series.Series"
      ]
     },
     "execution_count": 5,
     "metadata": {},
     "output_type": "execute_result"
    }
   ],
   "source": [
    "type(df2.state) # Chaque colonne d'un DataFrame est une Series"
   ]
  },
  {
   "cell_type": "code",
   "execution_count": 6,
   "metadata": {
    "id": "aQdEkCiMkeMZ",
    "outputId": "6f073729-48d6-4982-bd1a-baa8eece0f97"
   },
   "outputs": [
    {
     "data": {
      "text/plain": [
       "array(['Ohio', 'Nevada'], dtype=object)"
      ]
     },
     "execution_count": 6,
     "metadata": {},
     "output_type": "execute_result"
    }
   ],
   "source": [
    "df2.state.unique() # Equivalent à un SELECT DISTINCT en SQL"
   ]
  },
  {
   "cell_type": "code",
   "execution_count": 7,
   "metadata": {
    "id": "b5IljjY2keMZ",
    "outputId": "0aa4815d-d91b-4a38-ffe5-b141717d337a"
   },
   "outputs": [
    {
     "data": {
      "text/html": [
       "<div>\n",
       "<style scoped>\n",
       "    .dataframe tbody tr th:only-of-type {\n",
       "        vertical-align: middle;\n",
       "    }\n",
       "\n",
       "    .dataframe tbody tr th {\n",
       "        vertical-align: top;\n",
       "    }\n",
       "\n",
       "    .dataframe thead th {\n",
       "        text-align: right;\n",
       "    }\n",
       "</style>\n",
       "<table border=\"1\" class=\"dataframe\">\n",
       "  <thead>\n",
       "    <tr style=\"text-align: right;\">\n",
       "      <th></th>\n",
       "      <th>year</th>\n",
       "      <th>state</th>\n",
       "      <th>pop</th>\n",
       "      <th>debt</th>\n",
       "    </tr>\n",
       "  </thead>\n",
       "  <tbody>\n",
       "    <tr>\n",
       "      <th>one</th>\n",
       "      <td>2000</td>\n",
       "      <td>Ohio</td>\n",
       "      <td>1.5</td>\n",
       "      <td>16.5</td>\n",
       "    </tr>\n",
       "    <tr>\n",
       "      <th>two</th>\n",
       "      <td>2001</td>\n",
       "      <td>Ohio</td>\n",
       "      <td>1.7</td>\n",
       "      <td>16.5</td>\n",
       "    </tr>\n",
       "    <tr>\n",
       "      <th>three</th>\n",
       "      <td>2002</td>\n",
       "      <td>Ohio</td>\n",
       "      <td>3.6</td>\n",
       "      <td>16.5</td>\n",
       "    </tr>\n",
       "    <tr>\n",
       "      <th>four</th>\n",
       "      <td>2001</td>\n",
       "      <td>Nevada</td>\n",
       "      <td>2.4</td>\n",
       "      <td>16.5</td>\n",
       "    </tr>\n",
       "    <tr>\n",
       "      <th>five</th>\n",
       "      <td>2002</td>\n",
       "      <td>Nevada</td>\n",
       "      <td>2.9</td>\n",
       "      <td>16.5</td>\n",
       "    </tr>\n",
       "  </tbody>\n",
       "</table>\n",
       "</div>"
      ],
      "text/plain": [
       "       year   state  pop  debt\n",
       "one    2000    Ohio  1.5  16.5\n",
       "two    2001    Ohio  1.7  16.5\n",
       "three  2002    Ohio  3.6  16.5\n",
       "four   2001  Nevada  2.4  16.5\n",
       "five   2002  Nevada  2.9  16.5"
      ]
     },
     "execution_count": 7,
     "metadata": {},
     "output_type": "execute_result"
    }
   ],
   "source": [
    "# Remplir une colonne avec une valeur unique\n",
    "df2.debt = 16.5\n",
    "df2"
   ]
  },
  {
   "cell_type": "code",
   "execution_count": 8,
   "metadata": {
    "id": "ocd_QPEakeMa",
    "outputId": "ca20aa11-e596-44b0-f876-7bf6121c35aa"
   },
   "outputs": [
    {
     "data": {
      "text/html": [
       "<div>\n",
       "<style scoped>\n",
       "    .dataframe tbody tr th:only-of-type {\n",
       "        vertical-align: middle;\n",
       "    }\n",
       "\n",
       "    .dataframe tbody tr th {\n",
       "        vertical-align: top;\n",
       "    }\n",
       "\n",
       "    .dataframe thead th {\n",
       "        text-align: right;\n",
       "    }\n",
       "</style>\n",
       "<table border=\"1\" class=\"dataframe\">\n",
       "  <thead>\n",
       "    <tr style=\"text-align: right;\">\n",
       "      <th></th>\n",
       "      <th>year</th>\n",
       "      <th>state</th>\n",
       "      <th>pop</th>\n",
       "      <th>debt</th>\n",
       "    </tr>\n",
       "  </thead>\n",
       "  <tbody>\n",
       "    <tr>\n",
       "      <th>one</th>\n",
       "      <td>2000</td>\n",
       "      <td>Ohio</td>\n",
       "      <td>1.5</td>\n",
       "      <td>5.2</td>\n",
       "    </tr>\n",
       "    <tr>\n",
       "      <th>two</th>\n",
       "      <td>2001</td>\n",
       "      <td>Ohio</td>\n",
       "      <td>1.7</td>\n",
       "      <td>3.2</td>\n",
       "    </tr>\n",
       "    <tr>\n",
       "      <th>three</th>\n",
       "      <td>2002</td>\n",
       "      <td>Ohio</td>\n",
       "      <td>3.6</td>\n",
       "      <td>1.0</td>\n",
       "    </tr>\n",
       "    <tr>\n",
       "      <th>four</th>\n",
       "      <td>2001</td>\n",
       "      <td>Nevada</td>\n",
       "      <td>2.4</td>\n",
       "      <td>15.0</td>\n",
       "    </tr>\n",
       "    <tr>\n",
       "      <th>five</th>\n",
       "      <td>2002</td>\n",
       "      <td>Nevada</td>\n",
       "      <td>2.9</td>\n",
       "      <td>65.0</td>\n",
       "    </tr>\n",
       "  </tbody>\n",
       "</table>\n",
       "</div>"
      ],
      "text/plain": [
       "       year   state  pop  debt\n",
       "one    2000    Ohio  1.5   5.2\n",
       "two    2001    Ohio  1.7   3.2\n",
       "three  2002    Ohio  3.6   1.0\n",
       "four   2001  Nevada  2.4  15.0\n",
       "five   2002  Nevada  2.9  65.0"
      ]
     },
     "execution_count": 8,
     "metadata": {},
     "output_type": "execute_result"
    }
   ],
   "source": [
    "# Ou alors avec une valeur par ligne\n",
    "df2.debt = [5.2, 3.2, 1.0, 15.0, 65.0]\n",
    "df2"
   ]
  },
  {
   "cell_type": "code",
   "execution_count": 9,
   "metadata": {
    "id": "qLhvWHQZkeMa",
    "outputId": "6cec6dfe-50b3-41dc-e197-9f25e99cd741"
   },
   "outputs": [
    {
     "data": {
      "text/html": [
       "<div>\n",
       "<style scoped>\n",
       "    .dataframe tbody tr th:only-of-type {\n",
       "        vertical-align: middle;\n",
       "    }\n",
       "\n",
       "    .dataframe tbody tr th {\n",
       "        vertical-align: top;\n",
       "    }\n",
       "\n",
       "    .dataframe thead th {\n",
       "        text-align: right;\n",
       "    }\n",
       "</style>\n",
       "<table border=\"1\" class=\"dataframe\">\n",
       "  <thead>\n",
       "    <tr style=\"text-align: right;\">\n",
       "      <th></th>\n",
       "      <th>year</th>\n",
       "      <th>state</th>\n",
       "      <th>pop</th>\n",
       "      <th>debt</th>\n",
       "      <th>new_column</th>\n",
       "    </tr>\n",
       "  </thead>\n",
       "  <tbody>\n",
       "    <tr>\n",
       "      <th>one</th>\n",
       "      <td>2000</td>\n",
       "      <td>Ohio</td>\n",
       "      <td>1.5</td>\n",
       "      <td>5.2</td>\n",
       "      <td>this is new !</td>\n",
       "    </tr>\n",
       "    <tr>\n",
       "      <th>two</th>\n",
       "      <td>2001</td>\n",
       "      <td>Ohio</td>\n",
       "      <td>1.7</td>\n",
       "      <td>3.2</td>\n",
       "      <td>this is new !</td>\n",
       "    </tr>\n",
       "    <tr>\n",
       "      <th>three</th>\n",
       "      <td>2002</td>\n",
       "      <td>Ohio</td>\n",
       "      <td>3.6</td>\n",
       "      <td>1.0</td>\n",
       "      <td>this is new !</td>\n",
       "    </tr>\n",
       "    <tr>\n",
       "      <th>four</th>\n",
       "      <td>2001</td>\n",
       "      <td>Nevada</td>\n",
       "      <td>2.4</td>\n",
       "      <td>15.0</td>\n",
       "      <td>this is new !</td>\n",
       "    </tr>\n",
       "    <tr>\n",
       "      <th>five</th>\n",
       "      <td>2002</td>\n",
       "      <td>Nevada</td>\n",
       "      <td>2.9</td>\n",
       "      <td>65.0</td>\n",
       "      <td>this is new !</td>\n",
       "    </tr>\n",
       "  </tbody>\n",
       "</table>\n",
       "</div>"
      ],
      "text/plain": [
       "       year   state  pop  debt     new_column\n",
       "one    2000    Ohio  1.5   5.2  this is new !\n",
       "two    2001    Ohio  1.7   3.2  this is new !\n",
       "three  2002    Ohio  3.6   1.0  this is new !\n",
       "four   2001  Nevada  2.4  15.0  this is new !\n",
       "five   2002  Nevada  2.9  65.0  this is new !"
      ]
     },
     "execution_count": 9,
     "metadata": {},
     "output_type": "execute_result"
    }
   ],
   "source": [
    "# Créer une colonne à la volée\n",
    "df2['new_column'] = 'this is new !'\n",
    "df2"
   ]
  },
  {
   "cell_type": "code",
   "execution_count": 10,
   "metadata": {
    "id": "brrtQtejkeMb",
    "outputId": "f73926ce-05f4-4898-a4f6-748bdd35bedd"
   },
   "outputs": [
    {
     "data": {
      "text/plain": [
       "one      False\n",
       "two      False\n",
       "three     True\n",
       "four     False\n",
       "five     False\n",
       "dtype: bool"
      ]
     },
     "execution_count": 10,
     "metadata": {},
     "output_type": "execute_result"
    }
   ],
   "source": [
    "# Comparer des colonnes ensemble (élément par élément)\n",
    "df2['pop'] >= df2.debt"
   ]
  },
  {
   "cell_type": "code",
   "execution_count": 11,
   "metadata": {
    "id": "9A-BXtQ5keMb",
    "outputId": "42bb374d-eb6c-4838-b605-14b2a8666fcf"
   },
   "outputs": [
    {
     "data": {
      "text/plain": [
       "Index(['year', 'state', 'pop', 'debt'], dtype='object')"
      ]
     },
     "execution_count": 11,
     "metadata": {},
     "output_type": "execute_result"
    }
   ],
   "source": [
    "# Supprimer une colonne\n",
    "del df2[\"new_column\"]\n",
    "df2.columns"
   ]
  },
  {
   "cell_type": "code",
   "execution_count": 12,
   "metadata": {
    "id": "OSO-edytkeMb",
    "outputId": "4fdddac2-9e61-4402-f7f8-04662bc5918f"
   },
   "outputs": [
    {
     "data": {
      "text/html": [
       "<div>\n",
       "<style scoped>\n",
       "    .dataframe tbody tr th:only-of-type {\n",
       "        vertical-align: middle;\n",
       "    }\n",
       "\n",
       "    .dataframe tbody tr th {\n",
       "        vertical-align: top;\n",
       "    }\n",
       "\n",
       "    .dataframe thead th {\n",
       "        text-align: right;\n",
       "    }\n",
       "</style>\n",
       "<table border=\"1\" class=\"dataframe\">\n",
       "  <thead>\n",
       "    <tr style=\"text-align: right;\">\n",
       "      <th></th>\n",
       "      <th>year</th>\n",
       "      <th>state</th>\n",
       "      <th>population</th>\n",
       "      <th>debt</th>\n",
       "    </tr>\n",
       "  </thead>\n",
       "  <tbody>\n",
       "    <tr>\n",
       "      <th>one</th>\n",
       "      <td>2000</td>\n",
       "      <td>Ohio</td>\n",
       "      <td>1.5</td>\n",
       "      <td>5.2</td>\n",
       "    </tr>\n",
       "    <tr>\n",
       "      <th>two</th>\n",
       "      <td>2001</td>\n",
       "      <td>Ohio</td>\n",
       "      <td>1.7</td>\n",
       "      <td>3.2</td>\n",
       "    </tr>\n",
       "    <tr>\n",
       "      <th>three</th>\n",
       "      <td>2002</td>\n",
       "      <td>Ohio</td>\n",
       "      <td>3.6</td>\n",
       "      <td>1.0</td>\n",
       "    </tr>\n",
       "    <tr>\n",
       "      <th>four</th>\n",
       "      <td>2001</td>\n",
       "      <td>Nevada</td>\n",
       "      <td>2.4</td>\n",
       "      <td>15.0</td>\n",
       "    </tr>\n",
       "    <tr>\n",
       "      <th>five</th>\n",
       "      <td>2002</td>\n",
       "      <td>Nevada</td>\n",
       "      <td>2.9</td>\n",
       "      <td>65.0</td>\n",
       "    </tr>\n",
       "  </tbody>\n",
       "</table>\n",
       "</div>"
      ],
      "text/plain": [
       "       year   state  population  debt\n",
       "one    2000    Ohio         1.5   5.2\n",
       "two    2001    Ohio         1.7   3.2\n",
       "three  2002    Ohio         3.6   1.0\n",
       "four   2001  Nevada         2.4  15.0\n",
       "five   2002  Nevada         2.9  65.0"
      ]
     },
     "execution_count": 12,
     "metadata": {},
     "output_type": "execute_result"
    }
   ],
   "source": [
    "# Renommer les colonnes\n",
    "df2.rename(columns={'pop': 'population'}) # seules les colonnes indiquées sont modifiées"
   ]
  },
  {
   "cell_type": "markdown",
   "metadata": {
    "id": "zXNfJxslkeMc"
   },
   "source": [
    "### 2.3 Index\n",
    "Les `Index` sont un cas particulier de `Series`. Une grande attention est en effet apporté à leur stockage afin d'optimiser les requêtes et les traitements dans les DataFrame.\n",
    "\n",
    "Ainsi un Index régulier allant de 0 à 50 ne sera pas stocké dans une liste `[0, 1, 2, ..., 49]` mais dans un `RangeIndex`. De même, les Index contenant des dates ou des temps seront rangés de façon optimisé.\n",
    "\n",
    "Ces détails d'implémentation ne sont pas très importants pour l'instant, mais justifie que l'on ne récupère pas directement une `Series` lorsque l'on sélectionne uniquement l'index."
   ]
  },
  {
   "cell_type": "code",
   "execution_count": 13,
   "metadata": {
    "id": "vrsPqRzikeMc",
    "outputId": "ccfecf2f-d9c6-40c8-8f6f-a683958aff42"
   },
   "outputs": [
    {
     "data": {
      "text/plain": [
       "RangeIndex(start=0, stop=5, step=1)"
      ]
     },
     "execution_count": 13,
     "metadata": {},
     "output_type": "execute_result"
    }
   ],
   "source": [
    "df.index"
   ]
  },
  {
   "cell_type": "markdown",
   "metadata": {
    "id": "aAhuoB1KkeMc"
   },
   "source": [
    "## 3 Lire écrire des tables de données\n",
    "`pandas` offre des [outils efficaces](https://pandas.pydata.org/pandas-docs/stable/user_guide/io.html) pour lire écrire des fichiers selon différents formats (csv, texte, fixe, compressé, xml, html, hdf5) ou interagir avec des bases de données SQL, MongoDB, des APIs web... Ce document se contente de décrire la fonction la plus courante en analyse : **`read_csv`**. \n",
    "\n",
    "En principe ces fonctions font appel à un code écrit en C dont très rapide à l'exécution sauf pour l'emploi de certaines options (`skip_footer`, `sep` autre qu'un seul caractère), à éviter si possible, qui provoquent une exécution en Python plus lente. \n",
    "\n",
    "A l'inverse, exporter un DataFrame `df` en mémoire vers un fichier CSV se fait simplement avec la commande `df.to_csv` qui utilise des options similaires. \n",
    "\n",
    "### 3.1 Syntaxe\n",
    "\n",
    "L'exemple de base est donné pour lire un fichier au format `.csv` dont les valeurs sont séparées par des virgules (`,`) et dont la première ligne contient le nom des variables.\n",
    "\n",
    "```python\n",
    "import pandas as pd\n",
    "data = pd.read_csv(\"fichier.csv\") # Lecture, analyse des bons types, chargement en mémoire, en une seule ligne !\n",
    "```\n",
    "\n",
    "Il est important de connaître la liste des possibilités et options offertes par cette simple commande. Voici les principales ci-dessous et un lien à la [liste complète](http://pandas.pydata.org/pandas-docs/stable/io.html#io-read-csv-table).\n",
    "- `path` chemin ou nom du fichier ou URL.\n",
    "- `sep` délimiteur comme `+` `,` `;` `|` `\\t` (tabulation) `\\s+` (nombre variable d'espaces). Par défaut une virgule `,`\n",
    "- `header` défaut 0, la première ligne contient le nom des variables; si `None` les noms sont générés ou définis par ailleurs.\n",
    "- `index_col` noms ou numéros de colonnes définissant les index de lignes.\n",
    "- `nrows` nombre maximal de lignes à lire. Par défaut lit tout le fichier.\n",
    "- `skiprow` liste de lignes à sauter en lecture.\n",
    "- `na_values` liste de valeurs à considérer comme des valeurs manquantes (e.g. `['n/a', 'na', 'null', 'absent']`)\n",
    "- `usecols` noms des colonnes à conserver lors de la lecture. Par défaut sélectionne toutes les colonnes du fichier\n",
    "- `chunksize` taille des morceaux à lire itérativement.\n",
    "- `encoding` type d'encodage comme \"utf-8\" ou \"latin-1\". Par défaut \"utf-8\"\n",
    "- `thousand` séparateur des miliers: \".\" ou \",\". Par défaut pas de séparateur\n",
    "\n",
    "Rassurez-vous, toutes ces options ont généralement une **valeur par défaut bien choisie** qui conviendra dans la plupart des cas. Néanmoins, si vous avez un fichier curieusement formaté, vous pourrez tout de même le lire et l'analyser rapidement grâce à la flexibilité permise par toutes ces options.\n",
    "\n",
    "Remarques:\n",
    "- De nombreuses options de gestion des dates et séries ne sont pas citées.\n",
    "- `chunksize` provoque la lecture d'un gros fichiers par morceaux de même taille (nombre de lignes). On applique alors les mêmes traitements à chaque morceau puis on écrit les résultats dans un même fichier. Cette fonction permet donc de faire des traitements simples sur des fichiers trop gros pour être chargés en mémoire.\n"
   ]
  },
  {
   "cell_type": "markdown",
   "metadata": {
    "id": "zAmnPGPzkeMc"
   },
   "source": [
    "### 3.2 Exemple\n",
    "On charge les données sur le naufrage du Titanic en mémoire.\n",
    "\n",
    "Note : on suppose que ces données sont dans un fichier `titanic.csv` situées dans le même dossier que ce notebook."
   ]
  },
  {
   "cell_type": "code",
   "execution_count": 14,
   "metadata": {
    "id": "XeUWKJE5keMd"
   },
   "outputs": [],
   "source": [
    "import pandas as pd\n",
    "import numpy as np\n",
    "\n",
    "\n",
    "df = pd.read_csv('titanic.csv')"
   ]
  },
  {
   "cell_type": "code",
   "execution_count": 15,
   "metadata": {
    "id": "k5Au5IUpkeMd",
    "outputId": "0b6fb972-e46f-484a-d6d6-9f30285da842"
   },
   "outputs": [
    {
     "data": {
      "text/html": [
       "<div>\n",
       "<style scoped>\n",
       "    .dataframe tbody tr th:only-of-type {\n",
       "        vertical-align: middle;\n",
       "    }\n",
       "\n",
       "    .dataframe tbody tr th {\n",
       "        vertical-align: top;\n",
       "    }\n",
       "\n",
       "    .dataframe thead th {\n",
       "        text-align: right;\n",
       "    }\n",
       "</style>\n",
       "<table border=\"1\" class=\"dataframe\">\n",
       "  <thead>\n",
       "    <tr style=\"text-align: right;\">\n",
       "      <th></th>\n",
       "      <th>PassengerId</th>\n",
       "      <th>Survived</th>\n",
       "      <th>Pclass</th>\n",
       "      <th>Name</th>\n",
       "      <th>Sex</th>\n",
       "      <th>Age</th>\n",
       "      <th>SibSp</th>\n",
       "      <th>Parch</th>\n",
       "      <th>Ticket</th>\n",
       "      <th>Fare</th>\n",
       "      <th>Cabin</th>\n",
       "      <th>Embarked</th>\n",
       "    </tr>\n",
       "  </thead>\n",
       "  <tbody>\n",
       "    <tr>\n",
       "      <th>0</th>\n",
       "      <td>1</td>\n",
       "      <td>0</td>\n",
       "      <td>3</td>\n",
       "      <td>Braund, Mr. Owen Harris</td>\n",
       "      <td>male</td>\n",
       "      <td>22.0</td>\n",
       "      <td>1</td>\n",
       "      <td>0</td>\n",
       "      <td>A/5 21171</td>\n",
       "      <td>7.2500</td>\n",
       "      <td>NaN</td>\n",
       "      <td>S</td>\n",
       "    </tr>\n",
       "    <tr>\n",
       "      <th>1</th>\n",
       "      <td>2</td>\n",
       "      <td>1</td>\n",
       "      <td>1</td>\n",
       "      <td>Cumings, Mrs. John Bradley (Florence Briggs Th...</td>\n",
       "      <td>female</td>\n",
       "      <td>38.0</td>\n",
       "      <td>1</td>\n",
       "      <td>0</td>\n",
       "      <td>PC 17599</td>\n",
       "      <td>71.2833</td>\n",
       "      <td>C85</td>\n",
       "      <td>C</td>\n",
       "    </tr>\n",
       "    <tr>\n",
       "      <th>2</th>\n",
       "      <td>3</td>\n",
       "      <td>1</td>\n",
       "      <td>3</td>\n",
       "      <td>Heikkinen, Miss. Laina</td>\n",
       "      <td>female</td>\n",
       "      <td>26.0</td>\n",
       "      <td>0</td>\n",
       "      <td>0</td>\n",
       "      <td>STON/O2. 3101282</td>\n",
       "      <td>7.9250</td>\n",
       "      <td>NaN</td>\n",
       "      <td>S</td>\n",
       "    </tr>\n",
       "    <tr>\n",
       "      <th>3</th>\n",
       "      <td>4</td>\n",
       "      <td>1</td>\n",
       "      <td>1</td>\n",
       "      <td>Futrelle, Mrs. Jacques Heath (Lily May Peel)</td>\n",
       "      <td>female</td>\n",
       "      <td>35.0</td>\n",
       "      <td>1</td>\n",
       "      <td>0</td>\n",
       "      <td>113803</td>\n",
       "      <td>53.1000</td>\n",
       "      <td>C123</td>\n",
       "      <td>S</td>\n",
       "    </tr>\n",
       "    <tr>\n",
       "      <th>4</th>\n",
       "      <td>5</td>\n",
       "      <td>0</td>\n",
       "      <td>3</td>\n",
       "      <td>Allen, Mr. William Henry</td>\n",
       "      <td>male</td>\n",
       "      <td>35.0</td>\n",
       "      <td>0</td>\n",
       "      <td>0</td>\n",
       "      <td>373450</td>\n",
       "      <td>8.0500</td>\n",
       "      <td>NaN</td>\n",
       "      <td>S</td>\n",
       "    </tr>\n",
       "  </tbody>\n",
       "</table>\n",
       "</div>"
      ],
      "text/plain": [
       "   PassengerId  Survived  Pclass  \\\n",
       "0            1         0       3   \n",
       "1            2         1       1   \n",
       "2            3         1       3   \n",
       "3            4         1       1   \n",
       "4            5         0       3   \n",
       "\n",
       "                                                Name     Sex   Age  SibSp  \\\n",
       "0                            Braund, Mr. Owen Harris    male  22.0      1   \n",
       "1  Cumings, Mrs. John Bradley (Florence Briggs Th...  female  38.0      1   \n",
       "2                             Heikkinen, Miss. Laina  female  26.0      0   \n",
       "3       Futrelle, Mrs. Jacques Heath (Lily May Peel)  female  35.0      1   \n",
       "4                           Allen, Mr. William Henry    male  35.0      0   \n",
       "\n",
       "   Parch            Ticket     Fare Cabin Embarked  \n",
       "0      0         A/5 21171   7.2500   NaN        S  \n",
       "1      0          PC 17599  71.2833   C85        C  \n",
       "2      0  STON/O2. 3101282   7.9250   NaN        S  \n",
       "3      0            113803  53.1000  C123        S  \n",
       "4      0            373450   8.0500   NaN        S  "
      ]
     },
     "execution_count": 15,
     "metadata": {},
     "output_type": "execute_result"
    }
   ],
   "source": [
    "# Vérifions que les données aient bien été chargées\n",
    "\n",
    "# La fonction suivante affiche les premières lignes et permet d'observer les erreurs flagrantes de lecture\n",
    "df.head()\n",
    "# On a également df.tail() pour afficher les dernières lignes"
   ]
  },
  {
   "cell_type": "markdown",
   "metadata": {
    "id": "Bpoz3_oikeMd"
   },
   "source": [
    "Les notebooks améliorent automatiquement l'affichage des DataFrame pour faciliter leur lecture !\n",
    "\n",
    "Toutes les variables ci-dessous ne sont pas forcément utiles. On décide donc de relire le fichier en excluant les colonnes `Name`, `Ticket` et `Cabin`.\n",
    "\n",
    "On utilisera également `PassengerID` comme index du DataFrame plutôt que de laisser pandas créer automatiquement un index incrémental."
   ]
  },
  {
   "cell_type": "code",
   "execution_count": 16,
   "metadata": {
    "id": "1zuNRVYDkeMd",
    "outputId": "384c50d9-e960-4d03-ab19-effd1cba72d0"
   },
   "outputs": [
    {
     "data": {
      "text/html": [
       "<div>\n",
       "<style scoped>\n",
       "    .dataframe tbody tr th:only-of-type {\n",
       "        vertical-align: middle;\n",
       "    }\n",
       "\n",
       "    .dataframe tbody tr th {\n",
       "        vertical-align: top;\n",
       "    }\n",
       "\n",
       "    .dataframe thead th {\n",
       "        text-align: right;\n",
       "    }\n",
       "</style>\n",
       "<table border=\"1\" class=\"dataframe\">\n",
       "  <thead>\n",
       "    <tr style=\"text-align: right;\">\n",
       "      <th></th>\n",
       "      <th>Survived</th>\n",
       "      <th>Pclass</th>\n",
       "      <th>Sex</th>\n",
       "      <th>Age</th>\n",
       "      <th>SibSp</th>\n",
       "      <th>Parch</th>\n",
       "      <th>Fare</th>\n",
       "      <th>Embarked</th>\n",
       "    </tr>\n",
       "    <tr>\n",
       "      <th>PassengerId</th>\n",
       "      <th></th>\n",
       "      <th></th>\n",
       "      <th></th>\n",
       "      <th></th>\n",
       "      <th></th>\n",
       "      <th></th>\n",
       "      <th></th>\n",
       "      <th></th>\n",
       "    </tr>\n",
       "  </thead>\n",
       "  <tbody>\n",
       "    <tr>\n",
       "      <th>1</th>\n",
       "      <td>0</td>\n",
       "      <td>3</td>\n",
       "      <td>male</td>\n",
       "      <td>22.0</td>\n",
       "      <td>1</td>\n",
       "      <td>0</td>\n",
       "      <td>7.2500</td>\n",
       "      <td>S</td>\n",
       "    </tr>\n",
       "    <tr>\n",
       "      <th>2</th>\n",
       "      <td>1</td>\n",
       "      <td>1</td>\n",
       "      <td>female</td>\n",
       "      <td>38.0</td>\n",
       "      <td>1</td>\n",
       "      <td>0</td>\n",
       "      <td>71.2833</td>\n",
       "      <td>C</td>\n",
       "    </tr>\n",
       "    <tr>\n",
       "      <th>3</th>\n",
       "      <td>1</td>\n",
       "      <td>3</td>\n",
       "      <td>female</td>\n",
       "      <td>26.0</td>\n",
       "      <td>0</td>\n",
       "      <td>0</td>\n",
       "      <td>7.9250</td>\n",
       "      <td>S</td>\n",
       "    </tr>\n",
       "    <tr>\n",
       "      <th>4</th>\n",
       "      <td>1</td>\n",
       "      <td>1</td>\n",
       "      <td>female</td>\n",
       "      <td>35.0</td>\n",
       "      <td>1</td>\n",
       "      <td>0</td>\n",
       "      <td>53.1000</td>\n",
       "      <td>S</td>\n",
       "    </tr>\n",
       "    <tr>\n",
       "      <th>5</th>\n",
       "      <td>0</td>\n",
       "      <td>3</td>\n",
       "      <td>male</td>\n",
       "      <td>35.0</td>\n",
       "      <td>0</td>\n",
       "      <td>0</td>\n",
       "      <td>8.0500</td>\n",
       "      <td>S</td>\n",
       "    </tr>\n",
       "  </tbody>\n",
       "</table>\n",
       "</div>"
      ],
      "text/plain": [
       "             Survived  Pclass     Sex   Age  SibSp  Parch     Fare Embarked\n",
       "PassengerId                                                                \n",
       "1                   0       3    male  22.0      1      0   7.2500        S\n",
       "2                   1       1  female  38.0      1      0  71.2833        C\n",
       "3                   1       3  female  26.0      0      0   7.9250        S\n",
       "4                   1       1  female  35.0      1      0  53.1000        S\n",
       "5                   0       3    male  35.0      0      0   8.0500        S"
      ]
     },
     "execution_count": 16,
     "metadata": {},
     "output_type": "execute_result"
    }
   ],
   "source": [
    "df = pd.read_csv(\"titanic.csv\", \n",
    "                 usecols=['PassengerId', 'Survived', 'Pclass', 'Sex', 'Age', 'SibSp', 'Parch', 'Fare', 'Embarked'],\n",
    "                 index_col='PassengerId')\n",
    "\n",
    "df.head()"
   ]
  },
  {
   "cell_type": "markdown",
   "metadata": {
    "id": "8n98Gla-keMd"
   },
   "source": [
    "On peut déceler rapidement les erreurs de lecture en analysant le tableau des `dtypes` (*data types*). Ce tableau indique le type attribué à chaque colonne du DataFrame."
   ]
  },
  {
   "cell_type": "code",
   "execution_count": 17,
   "metadata": {
    "id": "cj41rdRwkeMd",
    "outputId": "1f28d61d-268a-4bbc-9704-ba8b41b8abb4",
    "scrolled": true
   },
   "outputs": [
    {
     "data": {
      "text/plain": [
       "Survived      int64\n",
       "Pclass        int64\n",
       "Sex          object\n",
       "Age         float64\n",
       "SibSp         int64\n",
       "Parch         int64\n",
       "Fare        float64\n",
       "Embarked     object\n",
       "dtype: object"
      ]
     },
     "execution_count": 17,
     "metadata": {},
     "output_type": "execute_result"
    }
   ],
   "source": [
    "df.dtypes"
   ]
  },
  {
   "cell_type": "markdown",
   "metadata": {
    "id": "QqC44_6kkeMd"
   },
   "source": [
    "Deux remarques importantes sur la gestion des types de données avec pandas\n",
    "* le type `object` est le plus générique. Toutes les chaînes de caractères sont stockées par défaut dans ce type. Si vous observez une colonne censée être numérique avec un type `object`, il y a de fortes chances pour que certaines cellules de la colonne contiennent du texte.\n",
    "* le type `int64` ne pouvait pas contenir de valeurs manquantes (`nan`) jusqu'à très récemment. Une colonne contenant uniquement des entiers et au moins une valeur nulle se verra donc affecter le type `float64`.\n",
    "\n",
    "À partir de la version 0.15, `pandas`, inclut un type **`category`** assez proche de celui ` factor` de R et destiné aux **variables qualitatives**. Néanmoins pandas est bien entendu incapable de reconnaître seul si une colonne contient une mesure (types `object`, `int64`, etc...) ou un facteur (type `category`). Il faut donc **indiquer manuellement les colonnes contenant des modalités** (qu'elles soient numériques ou textuelles).\n",
    "\n",
    "Deux possibilités pour déclarer ces facteurs :\n",
    "* Lors de la lecture, en passant un dictionnaire de dtypes à `read_csv` : `dtype={'Surv': pd.Categorical}`\n",
    "* Après la lecture, en castant la colonne dans le dtype `category` : `df.Sex = df.Sex.astype('category')`\n",
    "\n",
    "Il est vivement recommandé de bien affecter les bons types à chaque variable ne serait-ce que pour éviter de faire des opérations douteuses, par exemple arithmétiques sur des codes de modalités."
   ]
  },
  {
   "cell_type": "code",
   "execution_count": 18,
   "metadata": {
    "id": "s8nsSMkWkeMd",
    "outputId": "df67fab7-b888-4e25-d014-175363a31ae8"
   },
   "outputs": [
    {
     "data": {
      "text/html": [
       "<div>\n",
       "<style scoped>\n",
       "    .dataframe tbody tr th:only-of-type {\n",
       "        vertical-align: middle;\n",
       "    }\n",
       "\n",
       "    .dataframe tbody tr th {\n",
       "        vertical-align: top;\n",
       "    }\n",
       "\n",
       "    .dataframe thead th {\n",
       "        text-align: right;\n",
       "    }\n",
       "</style>\n",
       "<table border=\"1\" class=\"dataframe\">\n",
       "  <thead>\n",
       "    <tr style=\"text-align: right;\">\n",
       "      <th></th>\n",
       "      <th>survie</th>\n",
       "      <th>classe</th>\n",
       "      <th>genre</th>\n",
       "      <th>age</th>\n",
       "      <th>nb_freres_soeurs</th>\n",
       "      <th>nb_parents</th>\n",
       "      <th>prix</th>\n",
       "      <th>port</th>\n",
       "    </tr>\n",
       "    <tr>\n",
       "      <th>PassengerId</th>\n",
       "      <th></th>\n",
       "      <th></th>\n",
       "      <th></th>\n",
       "      <th></th>\n",
       "      <th></th>\n",
       "      <th></th>\n",
       "      <th></th>\n",
       "      <th></th>\n",
       "    </tr>\n",
       "  </thead>\n",
       "  <tbody>\n",
       "    <tr>\n",
       "      <th>1</th>\n",
       "      <td>False</td>\n",
       "      <td>3</td>\n",
       "      <td>male</td>\n",
       "      <td>22.0</td>\n",
       "      <td>1</td>\n",
       "      <td>0</td>\n",
       "      <td>7.2500</td>\n",
       "      <td>S</td>\n",
       "    </tr>\n",
       "    <tr>\n",
       "      <th>2</th>\n",
       "      <td>True</td>\n",
       "      <td>1</td>\n",
       "      <td>female</td>\n",
       "      <td>38.0</td>\n",
       "      <td>1</td>\n",
       "      <td>0</td>\n",
       "      <td>71.2833</td>\n",
       "      <td>C</td>\n",
       "    </tr>\n",
       "    <tr>\n",
       "      <th>3</th>\n",
       "      <td>True</td>\n",
       "      <td>3</td>\n",
       "      <td>female</td>\n",
       "      <td>26.0</td>\n",
       "      <td>0</td>\n",
       "      <td>0</td>\n",
       "      <td>7.9250</td>\n",
       "      <td>S</td>\n",
       "    </tr>\n",
       "    <tr>\n",
       "      <th>4</th>\n",
       "      <td>True</td>\n",
       "      <td>1</td>\n",
       "      <td>female</td>\n",
       "      <td>35.0</td>\n",
       "      <td>1</td>\n",
       "      <td>0</td>\n",
       "      <td>53.1000</td>\n",
       "      <td>S</td>\n",
       "    </tr>\n",
       "    <tr>\n",
       "      <th>5</th>\n",
       "      <td>False</td>\n",
       "      <td>3</td>\n",
       "      <td>male</td>\n",
       "      <td>35.0</td>\n",
       "      <td>0</td>\n",
       "      <td>0</td>\n",
       "      <td>8.0500</td>\n",
       "      <td>S</td>\n",
       "    </tr>\n",
       "  </tbody>\n",
       "</table>\n",
       "</div>"
      ],
      "text/plain": [
       "             survie classe   genre   age  nb_freres_soeurs  nb_parents  \\\n",
       "PassengerId                                                              \n",
       "1             False      3    male  22.0                 1           0   \n",
       "2              True      1  female  38.0                 1           0   \n",
       "3              True      3  female  26.0                 0           0   \n",
       "4              True      1  female  35.0                 1           0   \n",
       "5             False      3    male  35.0                 0           0   \n",
       "\n",
       "                prix port  \n",
       "PassengerId                \n",
       "1             7.2500    S  \n",
       "2            71.2833    C  \n",
       "3             7.9250    S  \n",
       "4            53.1000    S  \n",
       "5             8.0500    S  "
      ]
     },
     "execution_count": 18,
     "metadata": {},
     "output_type": "execute_result"
    }
   ],
   "source": [
    "# Commençons par renommer toutes les colonnes pour faciliter l'analyse\n",
    "df.columns = ['survie', 'classe', 'genre', 'age', 'nb_freres_soeurs', 'nb_parents', 'prix', 'port']\n",
    "\n",
    "# On convertit ensuite les colonnes vers les bons types\n",
    "df = df.astype({'survie': 'bool',\n",
    "               'classe': 'category',\n",
    "               'genre': 'category',\n",
    "               'port': 'category'})\n",
    "\n",
    "df.head()"
   ]
  },
  {
   "cell_type": "code",
   "execution_count": 19,
   "metadata": {
    "id": "dap8pDUOkeMd",
    "outputId": "17a5cd81-3a2c-43b8-de96-806781f639ca"
   },
   "outputs": [
    {
     "data": {
      "text/plain": [
       "survie                  bool\n",
       "classe              category\n",
       "genre               category\n",
       "age                  float64\n",
       "nb_freres_soeurs       int64\n",
       "nb_parents             int64\n",
       "prix                 float64\n",
       "port                category\n",
       "dtype: object"
      ]
     },
     "execution_count": 19,
     "metadata": {},
     "output_type": "execute_result"
    }
   ],
   "source": [
    "# Vérifions que tous les dtypes soient corrects désormais\n",
    "df.dtypes"
   ]
  },
  {
   "cell_type": "markdown",
   "metadata": {
    "id": "61NCWE8bkeMd"
   },
   "source": [
    "## 3 Gérer une table de données\n",
    "\n",
    "### 3.1 Indexer simplement un DataFrame\n",
    "\n",
    "Les méthodes `loc` et `iloc` permettent de sélectionner précisément des données contenues dans un DataFrame\n",
    "\n",
    "* `loc` est dite *label-based* : vous pouvez utiliser des noms de colonnes ou des valeurs de l'index pour repérer les valeurs à sélectionner\n",
    "* `iloc` est dite *position-based* : vous sélectionnez des variables en fonction de leur position dans le DataFrame\n",
    "\n",
    "`loc` est donc à utiliser pour un besoin du type \"je veux sélectionner toutes les lignes à l'index \"Occitanie\"\", `iloc` vous permet de répondre à un besoin comme \"je veux sélectionner la 5e ligne en partant du début du DataFrame\"."
   ]
  },
  {
   "cell_type": "code",
   "execution_count": 20,
   "metadata": {
    "id": "lEgtd5CskeMe",
    "outputId": "a9663430-e636-4133-ddf6-44865e1e7893"
   },
   "outputs": [
    {
     "data": {
      "text/html": [
       "<div>\n",
       "<style scoped>\n",
       "    .dataframe tbody tr th:only-of-type {\n",
       "        vertical-align: middle;\n",
       "    }\n",
       "\n",
       "    .dataframe tbody tr th {\n",
       "        vertical-align: top;\n",
       "    }\n",
       "\n",
       "    .dataframe thead th {\n",
       "        text-align: right;\n",
       "    }\n",
       "</style>\n",
       "<table border=\"1\" class=\"dataframe\">\n",
       "  <thead>\n",
       "    <tr style=\"text-align: right;\">\n",
       "      <th></th>\n",
       "      <th>population</th>\n",
       "      <th>age_moyen</th>\n",
       "    </tr>\n",
       "  </thead>\n",
       "  <tbody>\n",
       "    <tr>\n",
       "      <th>Occitanie</th>\n",
       "      <td>45</td>\n",
       "      <td>30</td>\n",
       "    </tr>\n",
       "    <tr>\n",
       "      <th>IDF</th>\n",
       "      <td>96</td>\n",
       "      <td>35</td>\n",
       "    </tr>\n",
       "    <tr>\n",
       "      <th>PACA</th>\n",
       "      <td>32</td>\n",
       "      <td>64</td>\n",
       "    </tr>\n",
       "    <tr>\n",
       "      <th>Corse</th>\n",
       "      <td>21</td>\n",
       "      <td>40</td>\n",
       "    </tr>\n",
       "    <tr>\n",
       "      <th>Hauts de France</th>\n",
       "      <td>1</td>\n",
       "      <td>15</td>\n",
       "    </tr>\n",
       "  </tbody>\n",
       "</table>\n",
       "</div>"
      ],
      "text/plain": [
       "                 population  age_moyen\n",
       "Occitanie                45         30\n",
       "IDF                      96         35\n",
       "PACA                     32         64\n",
       "Corse                    21         40\n",
       "Hauts de France           1         15"
      ]
     },
     "execution_count": 20,
     "metadata": {},
     "output_type": "execute_result"
    }
   ],
   "source": [
    "# On crée un petit DataFrame de test\n",
    "\n",
    "pop_region = pd.DataFrame(data={'population': [45, 96, 32, 21, 1],\n",
    "                                'age_moyen' : [30, 35, 64, 40, 15]}, \n",
    "                          index=['Occitanie', 'IDF', 'PACA', 'Corse', 'Hauts de France'])\n",
    "pop_region"
   ]
  },
  {
   "cell_type": "code",
   "execution_count": 21,
   "metadata": {
    "id": "cIR45IuxkeMe",
    "outputId": "73c4f54a-be44-41a6-e91f-8bb8b45f9c19"
   },
   "outputs": [
    {
     "data": {
      "text/plain": [
       "PACA     32\n",
       "Corse    21\n",
       "Name: population, dtype: int64"
      ]
     },
     "execution_count": 21,
     "metadata": {},
     "output_type": "execute_result"
    }
   ],
   "source": [
    "# Sélectionner la population en Corse et PACA avec loc\n",
    "# Autrement dit, on veut la colonne population pour les lignes PACA et Corse\n",
    "pop_region.loc[['PACA', 'Corse'], 'population']"
   ]
  },
  {
   "cell_type": "code",
   "execution_count": 22,
   "metadata": {
    "id": "y2TY9DI1keMe",
    "outputId": "d67623c3-a17e-4115-8980-73281f266e78"
   },
   "outputs": [
    {
     "data": {
      "text/plain": [
       "Corse              40\n",
       "Hauts de France    15\n",
       "Name: age_moyen, dtype: int64"
      ]
     },
     "execution_count": 22,
     "metadata": {},
     "output_type": "execute_result"
    }
   ],
   "source": [
    "# Sélectionner la dernière colonne pour les deux dernières lignes avec iloc\n",
    "pop_region.iloc[-2:, -1]"
   ]
  },
  {
   "cell_type": "markdown",
   "metadata": {
    "id": "1JPb7jlkkeMe"
   },
   "source": [
    "**Bien maîtriser `loc` et `iloc` est crucial** pour pouvoir manipuler avec facilité des données dans pandas. N'hésitez pas à expérimenter avec un des DataFrame précédents pour vous entraîner.\n",
    "\n",
    "### 3.2 Indexation avancée avec les filtres booléens\n",
    "\n",
    "Vous voudrez souvent sélectionner des données en fonction d'un filtre : récupérer toutes les données supérieures à la moyenne, tous les textes commençants par la lettre \"s\", etc...\n",
    "Les **filtres booléens** vous permettent de réaliser cette opération simplement\n",
    "\n",
    "Un filtre booléen est automatiquement créé lorsqu'une opération booléenne (opérateurs `<` et `>`, fonction de comparaison, etc...) est appliquée sur un DataFrame. "
   ]
  },
  {
   "cell_type": "code",
   "execution_count": 23,
   "metadata": {
    "id": "qS8k67RwkeMe",
    "outputId": "6f0ab6bf-95a1-4837-f593-3a1f5be71294"
   },
   "outputs": [
    {
     "data": {
      "text/plain": [
       "Occitanie          False\n",
       "IDF                 True\n",
       "PACA                True\n",
       "Corse               True\n",
       "Hauts de France    False\n",
       "Name: age_moyen, dtype: bool"
      ]
     },
     "execution_count": 23,
     "metadata": {},
     "output_type": "execute_result"
    }
   ],
   "source": [
    "# Pour chaque ligne, True si l'âge moyen est >= à la médiane de la colonne (médiane des âges moyens)\n",
    "pop_region.age_moyen >= pop_region.age_moyen.median()"
   ]
  },
  {
   "cell_type": "markdown",
   "metadata": {
    "id": "7CW5rbdtkeMe"
   },
   "source": [
    "En utilisant ce filtre comme indexeur, on récupère ainsi uniquement les lignes remplissant le filtre (avec une valeur à `True`)."
   ]
  },
  {
   "cell_type": "code",
   "execution_count": 24,
   "metadata": {
    "id": "ZbB1Z0jykeMe",
    "outputId": "486d38a2-f3b3-4508-8d72-b8e7268361b8"
   },
   "outputs": [
    {
     "data": {
      "text/html": [
       "<div>\n",
       "<style scoped>\n",
       "    .dataframe tbody tr th:only-of-type {\n",
       "        vertical-align: middle;\n",
       "    }\n",
       "\n",
       "    .dataframe tbody tr th {\n",
       "        vertical-align: top;\n",
       "    }\n",
       "\n",
       "    .dataframe thead th {\n",
       "        text-align: right;\n",
       "    }\n",
       "</style>\n",
       "<table border=\"1\" class=\"dataframe\">\n",
       "  <thead>\n",
       "    <tr style=\"text-align: right;\">\n",
       "      <th></th>\n",
       "      <th>population</th>\n",
       "      <th>age_moyen</th>\n",
       "    </tr>\n",
       "  </thead>\n",
       "  <tbody>\n",
       "    <tr>\n",
       "      <th>IDF</th>\n",
       "      <td>96</td>\n",
       "      <td>35</td>\n",
       "    </tr>\n",
       "    <tr>\n",
       "      <th>PACA</th>\n",
       "      <td>32</td>\n",
       "      <td>64</td>\n",
       "    </tr>\n",
       "    <tr>\n",
       "      <th>Corse</th>\n",
       "      <td>21</td>\n",
       "      <td>40</td>\n",
       "    </tr>\n",
       "  </tbody>\n",
       "</table>\n",
       "</div>"
      ],
      "text/plain": [
       "       population  age_moyen\n",
       "IDF            96         35\n",
       "PACA           32         64\n",
       "Corse          21         40"
      ]
     },
     "execution_count": 24,
     "metadata": {},
     "output_type": "execute_result"
    }
   ],
   "source": [
    "pop_region[pop_region.age_moyen >= pop_region.age_moyen.median()]"
   ]
  },
  {
   "cell_type": "markdown",
   "metadata": {
    "id": "csVZjAsikeMe"
   },
   "source": [
    "On peut accumuler les filtres avec les opérateurs `|` (or) et `&` (and)"
   ]
  },
  {
   "cell_type": "code",
   "execution_count": 25,
   "metadata": {
    "id": "BSlGldzmkeMe",
    "outputId": "ff23d9e0-a43e-4c92-df87-539ebf9335b0",
    "scrolled": true
   },
   "outputs": [
    {
     "data": {
      "text/html": [
       "<div>\n",
       "<style scoped>\n",
       "    .dataframe tbody tr th:only-of-type {\n",
       "        vertical-align: middle;\n",
       "    }\n",
       "\n",
       "    .dataframe tbody tr th {\n",
       "        vertical-align: top;\n",
       "    }\n",
       "\n",
       "    .dataframe thead th {\n",
       "        text-align: right;\n",
       "    }\n",
       "</style>\n",
       "<table border=\"1\" class=\"dataframe\">\n",
       "  <thead>\n",
       "    <tr style=\"text-align: right;\">\n",
       "      <th></th>\n",
       "      <th>survie</th>\n",
       "      <th>classe</th>\n",
       "      <th>genre</th>\n",
       "      <th>age</th>\n",
       "      <th>nb_freres_soeurs</th>\n",
       "      <th>nb_parents</th>\n",
       "      <th>prix</th>\n",
       "      <th>port</th>\n",
       "    </tr>\n",
       "    <tr>\n",
       "      <th>PassengerId</th>\n",
       "      <th></th>\n",
       "      <th></th>\n",
       "      <th></th>\n",
       "      <th></th>\n",
       "      <th></th>\n",
       "      <th></th>\n",
       "      <th></th>\n",
       "      <th></th>\n",
       "    </tr>\n",
       "  </thead>\n",
       "  <tbody>\n",
       "    <tr>\n",
       "      <th>10</th>\n",
       "      <td>True</td>\n",
       "      <td>2</td>\n",
       "      <td>female</td>\n",
       "      <td>14.0</td>\n",
       "      <td>1</td>\n",
       "      <td>0</td>\n",
       "      <td>30.0708</td>\n",
       "      <td>C</td>\n",
       "    </tr>\n",
       "    <tr>\n",
       "      <th>11</th>\n",
       "      <td>True</td>\n",
       "      <td>3</td>\n",
       "      <td>female</td>\n",
       "      <td>4.0</td>\n",
       "      <td>1</td>\n",
       "      <td>1</td>\n",
       "      <td>16.7000</td>\n",
       "      <td>S</td>\n",
       "    </tr>\n",
       "    <tr>\n",
       "      <th>23</th>\n",
       "      <td>True</td>\n",
       "      <td>3</td>\n",
       "      <td>female</td>\n",
       "      <td>15.0</td>\n",
       "      <td>0</td>\n",
       "      <td>0</td>\n",
       "      <td>8.0292</td>\n",
       "      <td>Q</td>\n",
       "    </tr>\n",
       "    <tr>\n",
       "      <th>40</th>\n",
       "      <td>True</td>\n",
       "      <td>3</td>\n",
       "      <td>female</td>\n",
       "      <td>14.0</td>\n",
       "      <td>1</td>\n",
       "      <td>0</td>\n",
       "      <td>11.2417</td>\n",
       "      <td>C</td>\n",
       "    </tr>\n",
       "    <tr>\n",
       "      <th>44</th>\n",
       "      <td>True</td>\n",
       "      <td>2</td>\n",
       "      <td>female</td>\n",
       "      <td>3.0</td>\n",
       "      <td>1</td>\n",
       "      <td>2</td>\n",
       "      <td>41.5792</td>\n",
       "      <td>C</td>\n",
       "    </tr>\n",
       "    <tr>\n",
       "      <th>...</th>\n",
       "      <td>...</td>\n",
       "      <td>...</td>\n",
       "      <td>...</td>\n",
       "      <td>...</td>\n",
       "      <td>...</td>\n",
       "      <td>...</td>\n",
       "      <td>...</td>\n",
       "      <td>...</td>\n",
       "    </tr>\n",
       "    <tr>\n",
       "      <th>854</th>\n",
       "      <td>True</td>\n",
       "      <td>1</td>\n",
       "      <td>female</td>\n",
       "      <td>16.0</td>\n",
       "      <td>0</td>\n",
       "      <td>1</td>\n",
       "      <td>39.4000</td>\n",
       "      <td>S</td>\n",
       "    </tr>\n",
       "    <tr>\n",
       "      <th>856</th>\n",
       "      <td>True</td>\n",
       "      <td>3</td>\n",
       "      <td>female</td>\n",
       "      <td>18.0</td>\n",
       "      <td>0</td>\n",
       "      <td>1</td>\n",
       "      <td>9.3500</td>\n",
       "      <td>S</td>\n",
       "    </tr>\n",
       "    <tr>\n",
       "      <th>870</th>\n",
       "      <td>True</td>\n",
       "      <td>3</td>\n",
       "      <td>male</td>\n",
       "      <td>4.0</td>\n",
       "      <td>1</td>\n",
       "      <td>1</td>\n",
       "      <td>11.1333</td>\n",
       "      <td>S</td>\n",
       "    </tr>\n",
       "    <tr>\n",
       "      <th>876</th>\n",
       "      <td>True</td>\n",
       "      <td>3</td>\n",
       "      <td>female</td>\n",
       "      <td>15.0</td>\n",
       "      <td>0</td>\n",
       "      <td>0</td>\n",
       "      <td>7.2250</td>\n",
       "      <td>C</td>\n",
       "    </tr>\n",
       "    <tr>\n",
       "      <th>888</th>\n",
       "      <td>True</td>\n",
       "      <td>1</td>\n",
       "      <td>female</td>\n",
       "      <td>19.0</td>\n",
       "      <td>0</td>\n",
       "      <td>0</td>\n",
       "      <td>30.0000</td>\n",
       "      <td>S</td>\n",
       "    </tr>\n",
       "  </tbody>\n",
       "</table>\n",
       "<p>79 rows × 8 columns</p>\n",
       "</div>"
      ],
      "text/plain": [
       "             survie classe   genre   age  nb_freres_soeurs  nb_parents  \\\n",
       "PassengerId                                                              \n",
       "10             True      2  female  14.0                 1           0   \n",
       "11             True      3  female   4.0                 1           1   \n",
       "23             True      3  female  15.0                 0           0   \n",
       "40             True      3  female  14.0                 1           0   \n",
       "44             True      2  female   3.0                 1           2   \n",
       "...             ...    ...     ...   ...               ...         ...   \n",
       "854            True      1  female  16.0                 0           1   \n",
       "856            True      3  female  18.0                 0           1   \n",
       "870            True      3    male   4.0                 1           1   \n",
       "876            True      3  female  15.0                 0           0   \n",
       "888            True      1  female  19.0                 0           0   \n",
       "\n",
       "                prix port  \n",
       "PassengerId                \n",
       "10           30.0708    C  \n",
       "11           16.7000    S  \n",
       "23            8.0292    Q  \n",
       "40           11.2417    C  \n",
       "44           41.5792    C  \n",
       "...              ...  ...  \n",
       "854          39.4000    S  \n",
       "856           9.3500    S  \n",
       "870          11.1333    S  \n",
       "876           7.2250    C  \n",
       "888          30.0000    S  \n",
       "\n",
       "[79 rows x 8 columns]"
      ]
     },
     "execution_count": 25,
     "metadata": {},
     "output_type": "execute_result"
    }
   ],
   "source": [
    "df[(df.survie) & (df.age < 20)] # Tous les individus de -20 ans ayant survécu au naufrage"
   ]
  },
  {
   "cell_type": "markdown",
   "metadata": {
    "id": "dezTwfIokeMf"
   },
   "source": [
    "Les `Series` (i.e. chaque colonne du DataFrame) peuvent également utiliser des [accesseurs](https://pandas.pydata.org/pandas-docs/stable/reference/series.html#accessors) donnant accès rapidement à des fonctions automatiquement appliquées à chaque élément de la `Series`. Les accesseurs principaux sont :\n",
    "* `.str.` : méthodes sur les chaînes de caractères\n",
    "* `.dt.` : méthodes sur les datetimes\n",
    "* `.cat.` : méthodes sur les modalités d'un facteur\n",
    "\n",
    "\n",
    "Ces accesseurs peuvent entre autres permettre de concevoir des filtres complexes en quelques lignes.\n",
    "\n",
    "La preuve par l'exemple :"
   ]
  },
  {
   "cell_type": "code",
   "execution_count": 26,
   "metadata": {
    "id": "9_YIaaw7keMf",
    "outputId": "a573fe80-d5d2-44a6-c73f-f33a51cf8836"
   },
   "outputs": [
    {
     "data": {
      "text/html": [
       "<div>\n",
       "<style scoped>\n",
       "    .dataframe tbody tr th:only-of-type {\n",
       "        vertical-align: middle;\n",
       "    }\n",
       "\n",
       "    .dataframe tbody tr th {\n",
       "        vertical-align: top;\n",
       "    }\n",
       "\n",
       "    .dataframe thead th {\n",
       "        text-align: right;\n",
       "    }\n",
       "</style>\n",
       "<table border=\"1\" class=\"dataframe\">\n",
       "  <thead>\n",
       "    <tr style=\"text-align: right;\">\n",
       "      <th></th>\n",
       "      <th>PassengerId</th>\n",
       "      <th>Survived</th>\n",
       "      <th>Pclass</th>\n",
       "      <th>Name</th>\n",
       "      <th>Sex</th>\n",
       "      <th>Age</th>\n",
       "      <th>SibSp</th>\n",
       "      <th>Parch</th>\n",
       "      <th>Ticket</th>\n",
       "      <th>Fare</th>\n",
       "      <th>Cabin</th>\n",
       "      <th>Embarked</th>\n",
       "    </tr>\n",
       "  </thead>\n",
       "  <tbody>\n",
       "    <tr>\n",
       "      <th>1</th>\n",
       "      <td>2</td>\n",
       "      <td>1</td>\n",
       "      <td>1</td>\n",
       "      <td>Cumings, Mrs. John Bradley (Florence Briggs Th...</td>\n",
       "      <td>female</td>\n",
       "      <td>38.0</td>\n",
       "      <td>1</td>\n",
       "      <td>0</td>\n",
       "      <td>PC 17599</td>\n",
       "      <td>71.2833</td>\n",
       "      <td>C85</td>\n",
       "      <td>C</td>\n",
       "    </tr>\n",
       "    <tr>\n",
       "      <th>3</th>\n",
       "      <td>4</td>\n",
       "      <td>1</td>\n",
       "      <td>1</td>\n",
       "      <td>Futrelle, Mrs. Jacques Heath (Lily May Peel)</td>\n",
       "      <td>female</td>\n",
       "      <td>35.0</td>\n",
       "      <td>1</td>\n",
       "      <td>0</td>\n",
       "      <td>113803</td>\n",
       "      <td>53.1000</td>\n",
       "      <td>C123</td>\n",
       "      <td>S</td>\n",
       "    </tr>\n",
       "    <tr>\n",
       "      <th>151</th>\n",
       "      <td>152</td>\n",
       "      <td>1</td>\n",
       "      <td>1</td>\n",
       "      <td>Pears, Mrs. Thomas (Edith Wearne)</td>\n",
       "      <td>female</td>\n",
       "      <td>22.0</td>\n",
       "      <td>1</td>\n",
       "      <td>0</td>\n",
       "      <td>113776</td>\n",
       "      <td>66.6000</td>\n",
       "      <td>C2</td>\n",
       "      <td>S</td>\n",
       "    </tr>\n",
       "    <tr>\n",
       "      <th>230</th>\n",
       "      <td>231</td>\n",
       "      <td>1</td>\n",
       "      <td>1</td>\n",
       "      <td>Harris, Mrs. Henry Birkhardt (Irene Wallach)</td>\n",
       "      <td>female</td>\n",
       "      <td>35.0</td>\n",
       "      <td>1</td>\n",
       "      <td>0</td>\n",
       "      <td>36973</td>\n",
       "      <td>83.4750</td>\n",
       "      <td>C83</td>\n",
       "      <td>S</td>\n",
       "    </tr>\n",
       "    <tr>\n",
       "      <th>268</th>\n",
       "      <td>269</td>\n",
       "      <td>1</td>\n",
       "      <td>1</td>\n",
       "      <td>Graham, Mrs. William Thompson (Edith Junkins)</td>\n",
       "      <td>female</td>\n",
       "      <td>58.0</td>\n",
       "      <td>0</td>\n",
       "      <td>1</td>\n",
       "      <td>PC 17582</td>\n",
       "      <td>153.4625</td>\n",
       "      <td>C125</td>\n",
       "      <td>S</td>\n",
       "    </tr>\n",
       "    <tr>\n",
       "      <th>307</th>\n",
       "      <td>308</td>\n",
       "      <td>1</td>\n",
       "      <td>1</td>\n",
       "      <td>Penasco y Castellana, Mrs. Victor de Satode (M...</td>\n",
       "      <td>female</td>\n",
       "      <td>17.0</td>\n",
       "      <td>1</td>\n",
       "      <td>0</td>\n",
       "      <td>PC 17758</td>\n",
       "      <td>108.9000</td>\n",
       "      <td>C65</td>\n",
       "      <td>C</td>\n",
       "    </tr>\n",
       "    <tr>\n",
       "      <th>486</th>\n",
       "      <td>487</td>\n",
       "      <td>1</td>\n",
       "      <td>1</td>\n",
       "      <td>Hoyt, Mrs. Frederick Maxfield (Jane Anne Forby)</td>\n",
       "      <td>female</td>\n",
       "      <td>35.0</td>\n",
       "      <td>1</td>\n",
       "      <td>0</td>\n",
       "      <td>19943</td>\n",
       "      <td>90.0000</td>\n",
       "      <td>C93</td>\n",
       "      <td>S</td>\n",
       "    </tr>\n",
       "    <tr>\n",
       "      <th>498</th>\n",
       "      <td>499</td>\n",
       "      <td>0</td>\n",
       "      <td>1</td>\n",
       "      <td>Allison, Mrs. Hudson J C (Bessie Waldo Daniels)</td>\n",
       "      <td>female</td>\n",
       "      <td>25.0</td>\n",
       "      <td>1</td>\n",
       "      <td>2</td>\n",
       "      <td>113781</td>\n",
       "      <td>151.5500</td>\n",
       "      <td>C22 C26</td>\n",
       "      <td>S</td>\n",
       "    </tr>\n",
       "    <tr>\n",
       "      <th>571</th>\n",
       "      <td>572</td>\n",
       "      <td>1</td>\n",
       "      <td>1</td>\n",
       "      <td>Appleton, Mrs. Edward Dale (Charlotte Lamson)</td>\n",
       "      <td>female</td>\n",
       "      <td>53.0</td>\n",
       "      <td>2</td>\n",
       "      <td>0</td>\n",
       "      <td>11769</td>\n",
       "      <td>51.4792</td>\n",
       "      <td>C101</td>\n",
       "      <td>S</td>\n",
       "    </tr>\n",
       "    <tr>\n",
       "      <th>581</th>\n",
       "      <td>582</td>\n",
       "      <td>1</td>\n",
       "      <td>1</td>\n",
       "      <td>Thayer, Mrs. John Borland (Marian Longstreth M...</td>\n",
       "      <td>female</td>\n",
       "      <td>39.0</td>\n",
       "      <td>1</td>\n",
       "      <td>1</td>\n",
       "      <td>17421</td>\n",
       "      <td>110.8833</td>\n",
       "      <td>C68</td>\n",
       "      <td>C</td>\n",
       "    </tr>\n",
       "    <tr>\n",
       "      <th>669</th>\n",
       "      <td>670</td>\n",
       "      <td>1</td>\n",
       "      <td>1</td>\n",
       "      <td>Taylor, Mrs. Elmer Zebley (Juliet Cummins Wright)</td>\n",
       "      <td>female</td>\n",
       "      <td>NaN</td>\n",
       "      <td>1</td>\n",
       "      <td>0</td>\n",
       "      <td>19996</td>\n",
       "      <td>52.0000</td>\n",
       "      <td>C126</td>\n",
       "      <td>S</td>\n",
       "    </tr>\n",
       "    <tr>\n",
       "      <th>700</th>\n",
       "      <td>701</td>\n",
       "      <td>1</td>\n",
       "      <td>1</td>\n",
       "      <td>Astor, Mrs. John Jacob (Madeleine Talmadge Force)</td>\n",
       "      <td>female</td>\n",
       "      <td>18.0</td>\n",
       "      <td>1</td>\n",
       "      <td>0</td>\n",
       "      <td>PC 17757</td>\n",
       "      <td>227.5250</td>\n",
       "      <td>C62 C64</td>\n",
       "      <td>C</td>\n",
       "    </tr>\n",
       "    <tr>\n",
       "      <th>710</th>\n",
       "      <td>711</td>\n",
       "      <td>1</td>\n",
       "      <td>1</td>\n",
       "      <td>Mayne, Mlle. Berthe Antonine (\"Mrs de Villiers\")</td>\n",
       "      <td>female</td>\n",
       "      <td>24.0</td>\n",
       "      <td>0</td>\n",
       "      <td>0</td>\n",
       "      <td>PC 17482</td>\n",
       "      <td>49.5042</td>\n",
       "      <td>C90</td>\n",
       "      <td>C</td>\n",
       "    </tr>\n",
       "    <tr>\n",
       "      <th>849</th>\n",
       "      <td>850</td>\n",
       "      <td>1</td>\n",
       "      <td>1</td>\n",
       "      <td>Goldenberg, Mrs. Samuel L (Edwiga Grabowska)</td>\n",
       "      <td>female</td>\n",
       "      <td>NaN</td>\n",
       "      <td>1</td>\n",
       "      <td>0</td>\n",
       "      <td>17453</td>\n",
       "      <td>89.1042</td>\n",
       "      <td>C92</td>\n",
       "      <td>C</td>\n",
       "    </tr>\n",
       "    <tr>\n",
       "      <th>879</th>\n",
       "      <td>880</td>\n",
       "      <td>1</td>\n",
       "      <td>1</td>\n",
       "      <td>Potter, Mrs. Thomas Jr (Lily Alexenia Wilson)</td>\n",
       "      <td>female</td>\n",
       "      <td>56.0</td>\n",
       "      <td>0</td>\n",
       "      <td>1</td>\n",
       "      <td>11767</td>\n",
       "      <td>83.1583</td>\n",
       "      <td>C50</td>\n",
       "      <td>C</td>\n",
       "    </tr>\n",
       "  </tbody>\n",
       "</table>\n",
       "</div>"
      ],
      "text/plain": [
       "     PassengerId  Survived  Pclass  \\\n",
       "1              2         1       1   \n",
       "3              4         1       1   \n",
       "151          152         1       1   \n",
       "230          231         1       1   \n",
       "268          269         1       1   \n",
       "307          308         1       1   \n",
       "486          487         1       1   \n",
       "498          499         0       1   \n",
       "571          572         1       1   \n",
       "581          582         1       1   \n",
       "669          670         1       1   \n",
       "700          701         1       1   \n",
       "710          711         1       1   \n",
       "849          850         1       1   \n",
       "879          880         1       1   \n",
       "\n",
       "                                                  Name     Sex   Age  SibSp  \\\n",
       "1    Cumings, Mrs. John Bradley (Florence Briggs Th...  female  38.0      1   \n",
       "3         Futrelle, Mrs. Jacques Heath (Lily May Peel)  female  35.0      1   \n",
       "151                  Pears, Mrs. Thomas (Edith Wearne)  female  22.0      1   \n",
       "230       Harris, Mrs. Henry Birkhardt (Irene Wallach)  female  35.0      1   \n",
       "268      Graham, Mrs. William Thompson (Edith Junkins)  female  58.0      0   \n",
       "307  Penasco y Castellana, Mrs. Victor de Satode (M...  female  17.0      1   \n",
       "486    Hoyt, Mrs. Frederick Maxfield (Jane Anne Forby)  female  35.0      1   \n",
       "498    Allison, Mrs. Hudson J C (Bessie Waldo Daniels)  female  25.0      1   \n",
       "571      Appleton, Mrs. Edward Dale (Charlotte Lamson)  female  53.0      2   \n",
       "581  Thayer, Mrs. John Borland (Marian Longstreth M...  female  39.0      1   \n",
       "669  Taylor, Mrs. Elmer Zebley (Juliet Cummins Wright)  female   NaN      1   \n",
       "700  Astor, Mrs. John Jacob (Madeleine Talmadge Force)  female  18.0      1   \n",
       "710   Mayne, Mlle. Berthe Antonine (\"Mrs de Villiers\")  female  24.0      0   \n",
       "849       Goldenberg, Mrs. Samuel L (Edwiga Grabowska)  female   NaN      1   \n",
       "879      Potter, Mrs. Thomas Jr (Lily Alexenia Wilson)  female  56.0      0   \n",
       "\n",
       "     Parch    Ticket      Fare    Cabin Embarked  \n",
       "1        0  PC 17599   71.2833      C85        C  \n",
       "3        0    113803   53.1000     C123        S  \n",
       "151      0    113776   66.6000       C2        S  \n",
       "230      0     36973   83.4750      C83        S  \n",
       "268      1  PC 17582  153.4625     C125        S  \n",
       "307      0  PC 17758  108.9000      C65        C  \n",
       "486      0     19943   90.0000      C93        S  \n",
       "498      2    113781  151.5500  C22 C26        S  \n",
       "571      0     11769   51.4792     C101        S  \n",
       "581      1     17421  110.8833      C68        C  \n",
       "669      0     19996   52.0000     C126        S  \n",
       "700      0  PC 17757  227.5250  C62 C64        C  \n",
       "710      0  PC 17482   49.5042      C90        C  \n",
       "849      0     17453   89.1042      C92        C  \n",
       "879      1     11767   83.1583      C50        C  "
      ]
     },
     "execution_count": 26,
     "metadata": {},
     "output_type": "execute_result"
    }
   ],
   "source": [
    "# On relit tous le fichier titanic.csv\n",
    "full_df = pd.read_csv('titanic.csv')\n",
    "\n",
    "# Sélectionner tous les passagers avec le statut \"Mrs\" (Mademoiselle) et dont la cabine est dans le bloc C\n",
    "full_df[full_df.Name.str.contains('Mrs') & full_df.Cabin.str.startswith('C')]"
   ]
  },
  {
   "cell_type": "code",
   "execution_count": 27,
   "metadata": {
    "id": "oDa5ChdNkeMf",
    "outputId": "0c168e38-b58a-447c-b05b-95f471975243"
   },
   "outputs": [
    {
     "data": {
      "text/html": [
       "<div>\n",
       "<style scoped>\n",
       "    .dataframe tbody tr th:only-of-type {\n",
       "        vertical-align: middle;\n",
       "    }\n",
       "\n",
       "    .dataframe tbody tr th {\n",
       "        vertical-align: top;\n",
       "    }\n",
       "\n",
       "    .dataframe thead th {\n",
       "        text-align: right;\n",
       "    }\n",
       "</style>\n",
       "<table border=\"1\" class=\"dataframe\">\n",
       "  <thead>\n",
       "    <tr style=\"text-align: right;\">\n",
       "      <th></th>\n",
       "      <th>PassengerId</th>\n",
       "      <th>Survived</th>\n",
       "      <th>Pclass</th>\n",
       "      <th>Name</th>\n",
       "      <th>Sex</th>\n",
       "      <th>Age</th>\n",
       "      <th>SibSp</th>\n",
       "      <th>Parch</th>\n",
       "      <th>Ticket</th>\n",
       "      <th>Fare</th>\n",
       "      <th>Cabin</th>\n",
       "      <th>Embarked</th>\n",
       "    </tr>\n",
       "  </thead>\n",
       "  <tbody>\n",
       "    <tr>\n",
       "      <th>0</th>\n",
       "      <td>1</td>\n",
       "      <td>0</td>\n",
       "      <td>3</td>\n",
       "      <td>Braund, Mr. Owen Harris</td>\n",
       "      <td>male</td>\n",
       "      <td>22.0</td>\n",
       "      <td>1</td>\n",
       "      <td>0</td>\n",
       "      <td>A/5 21171</td>\n",
       "      <td>7.2500</td>\n",
       "      <td>NaN</td>\n",
       "      <td>S</td>\n",
       "    </tr>\n",
       "    <tr>\n",
       "      <th>1</th>\n",
       "      <td>2</td>\n",
       "      <td>1</td>\n",
       "      <td>1</td>\n",
       "      <td>Cumings, Mrs. John Bradley (Florence Briggs Th...</td>\n",
       "      <td>female</td>\n",
       "      <td>38.0</td>\n",
       "      <td>1</td>\n",
       "      <td>0</td>\n",
       "      <td>PC 17599</td>\n",
       "      <td>71.2833</td>\n",
       "      <td>C85</td>\n",
       "      <td>C</td>\n",
       "    </tr>\n",
       "    <tr>\n",
       "      <th>2</th>\n",
       "      <td>3</td>\n",
       "      <td>1</td>\n",
       "      <td>3</td>\n",
       "      <td>Heikkinen, Miss. Laina</td>\n",
       "      <td>female</td>\n",
       "      <td>26.0</td>\n",
       "      <td>0</td>\n",
       "      <td>0</td>\n",
       "      <td>STON/O2. 3101282</td>\n",
       "      <td>7.9250</td>\n",
       "      <td>NaN</td>\n",
       "      <td>S</td>\n",
       "    </tr>\n",
       "    <tr>\n",
       "      <th>3</th>\n",
       "      <td>4</td>\n",
       "      <td>1</td>\n",
       "      <td>1</td>\n",
       "      <td>Futrelle, Mrs. Jacques Heath (Lily May Peel)</td>\n",
       "      <td>female</td>\n",
       "      <td>35.0</td>\n",
       "      <td>1</td>\n",
       "      <td>0</td>\n",
       "      <td>113803</td>\n",
       "      <td>53.1000</td>\n",
       "      <td>C123</td>\n",
       "      <td>S</td>\n",
       "    </tr>\n",
       "    <tr>\n",
       "      <th>4</th>\n",
       "      <td>5</td>\n",
       "      <td>0</td>\n",
       "      <td>3</td>\n",
       "      <td>Allen, Mr. William Henry</td>\n",
       "      <td>male</td>\n",
       "      <td>35.0</td>\n",
       "      <td>0</td>\n",
       "      <td>0</td>\n",
       "      <td>373450</td>\n",
       "      <td>8.0500</td>\n",
       "      <td>NaN</td>\n",
       "      <td>S</td>\n",
       "    </tr>\n",
       "  </tbody>\n",
       "</table>\n",
       "</div>"
      ],
      "text/plain": [
       "   PassengerId  Survived  Pclass  \\\n",
       "0            1         0       3   \n",
       "1            2         1       1   \n",
       "2            3         1       3   \n",
       "3            4         1       1   \n",
       "4            5         0       3   \n",
       "\n",
       "                                                Name     Sex   Age  SibSp  \\\n",
       "0                            Braund, Mr. Owen Harris    male  22.0      1   \n",
       "1  Cumings, Mrs. John Bradley (Florence Briggs Th...  female  38.0      1   \n",
       "2                             Heikkinen, Miss. Laina  female  26.0      0   \n",
       "3       Futrelle, Mrs. Jacques Heath (Lily May Peel)  female  35.0      1   \n",
       "4                           Allen, Mr. William Henry    male  35.0      0   \n",
       "\n",
       "   Parch            Ticket     Fare Cabin Embarked  \n",
       "0      0         A/5 21171   7.2500   NaN        S  \n",
       "1      0          PC 17599  71.2833   C85        C  \n",
       "2      0  STON/O2. 3101282   7.9250   NaN        S  \n",
       "3      0            113803  53.1000  C123        S  \n",
       "4      0            373450   8.0500   NaN        S  "
      ]
     },
     "execution_count": 27,
     "metadata": {},
     "output_type": "execute_result"
    }
   ],
   "source": [
    "full_df.head()"
   ]
  },
  {
   "cell_type": "markdown",
   "metadata": {
    "id": "63XMi1NwkeMf"
   },
   "source": [
    "### 3.3 Discrétisation d'une variable quantitative\n",
    "\n",
    "Pour discrétiser une variable quantitative, pandas fournit deux méthodes :\n",
    "* `cut` qui crée des intervalles d'amplitudes égales (equal-width)\n",
    "* `qcut` qui crée des intervalles d'effectifs égaux (equal-size)\n",
    "\n",
    "`qcut` vous permet donc également de trier et de répartir vos données en quantiles.\n",
    "\n",
    "Dans les deux cas, il vous incombe de choisir le nombre de classes à générer.\n",
    "\n",
    "Les paramètres principaux de `qcut` sont les suivants :\n",
    "* `x` : la `Series` à discrétiser\n",
    "* `q` : le nombre de quantiles à calculer : 4 pour des quartiles, 10 pour des déciles, etc...\n",
    "* `labels` : le nom à donner à chaque modalité pour les quantiles\n",
    "\n",
    "Appliquons cette fonction pour discrétiser la variable `age` en quartiles."
   ]
  },
  {
   "cell_type": "code",
   "execution_count": 28,
   "metadata": {
    "id": "5kwiq3U7keMf",
    "outputId": "72479cf1-573a-4f07-f934-ef1c9a96ef85"
   },
   "outputs": [
    {
     "data": {
      "text/html": [
       "<div>\n",
       "<style scoped>\n",
       "    .dataframe tbody tr th:only-of-type {\n",
       "        vertical-align: middle;\n",
       "    }\n",
       "\n",
       "    .dataframe tbody tr th {\n",
       "        vertical-align: top;\n",
       "    }\n",
       "\n",
       "    .dataframe thead th {\n",
       "        text-align: right;\n",
       "    }\n",
       "</style>\n",
       "<table border=\"1\" class=\"dataframe\">\n",
       "  <thead>\n",
       "    <tr style=\"text-align: right;\">\n",
       "      <th></th>\n",
       "      <th>survie</th>\n",
       "      <th>classe</th>\n",
       "      <th>genre</th>\n",
       "      <th>age</th>\n",
       "      <th>nb_freres_soeurs</th>\n",
       "      <th>nb_parents</th>\n",
       "      <th>prix</th>\n",
       "      <th>port</th>\n",
       "      <th>age_q</th>\n",
       "    </tr>\n",
       "    <tr>\n",
       "      <th>PassengerId</th>\n",
       "      <th></th>\n",
       "      <th></th>\n",
       "      <th></th>\n",
       "      <th></th>\n",
       "      <th></th>\n",
       "      <th></th>\n",
       "      <th></th>\n",
       "      <th></th>\n",
       "      <th></th>\n",
       "    </tr>\n",
       "  </thead>\n",
       "  <tbody>\n",
       "    <tr>\n",
       "      <th>1</th>\n",
       "      <td>False</td>\n",
       "      <td>3</td>\n",
       "      <td>male</td>\n",
       "      <td>22.0</td>\n",
       "      <td>1</td>\n",
       "      <td>0</td>\n",
       "      <td>7.2500</td>\n",
       "      <td>S</td>\n",
       "      <td>age_q2</td>\n",
       "    </tr>\n",
       "    <tr>\n",
       "      <th>2</th>\n",
       "      <td>True</td>\n",
       "      <td>1</td>\n",
       "      <td>female</td>\n",
       "      <td>38.0</td>\n",
       "      <td>1</td>\n",
       "      <td>0</td>\n",
       "      <td>71.2833</td>\n",
       "      <td>C</td>\n",
       "      <td>age_q3</td>\n",
       "    </tr>\n",
       "    <tr>\n",
       "      <th>3</th>\n",
       "      <td>True</td>\n",
       "      <td>3</td>\n",
       "      <td>female</td>\n",
       "      <td>26.0</td>\n",
       "      <td>0</td>\n",
       "      <td>0</td>\n",
       "      <td>7.9250</td>\n",
       "      <td>S</td>\n",
       "      <td>age_q2</td>\n",
       "    </tr>\n",
       "    <tr>\n",
       "      <th>4</th>\n",
       "      <td>True</td>\n",
       "      <td>1</td>\n",
       "      <td>female</td>\n",
       "      <td>35.0</td>\n",
       "      <td>1</td>\n",
       "      <td>0</td>\n",
       "      <td>53.1000</td>\n",
       "      <td>S</td>\n",
       "      <td>age_q3</td>\n",
       "    </tr>\n",
       "    <tr>\n",
       "      <th>5</th>\n",
       "      <td>False</td>\n",
       "      <td>3</td>\n",
       "      <td>male</td>\n",
       "      <td>35.0</td>\n",
       "      <td>0</td>\n",
       "      <td>0</td>\n",
       "      <td>8.0500</td>\n",
       "      <td>S</td>\n",
       "      <td>age_q3</td>\n",
       "    </tr>\n",
       "    <tr>\n",
       "      <th>...</th>\n",
       "      <td>...</td>\n",
       "      <td>...</td>\n",
       "      <td>...</td>\n",
       "      <td>...</td>\n",
       "      <td>...</td>\n",
       "      <td>...</td>\n",
       "      <td>...</td>\n",
       "      <td>...</td>\n",
       "      <td>...</td>\n",
       "    </tr>\n",
       "    <tr>\n",
       "      <th>887</th>\n",
       "      <td>False</td>\n",
       "      <td>2</td>\n",
       "      <td>male</td>\n",
       "      <td>27.0</td>\n",
       "      <td>0</td>\n",
       "      <td>0</td>\n",
       "      <td>13.0000</td>\n",
       "      <td>S</td>\n",
       "      <td>age_q2</td>\n",
       "    </tr>\n",
       "    <tr>\n",
       "      <th>888</th>\n",
       "      <td>True</td>\n",
       "      <td>1</td>\n",
       "      <td>female</td>\n",
       "      <td>19.0</td>\n",
       "      <td>0</td>\n",
       "      <td>0</td>\n",
       "      <td>30.0000</td>\n",
       "      <td>S</td>\n",
       "      <td>age_q1</td>\n",
       "    </tr>\n",
       "    <tr>\n",
       "      <th>889</th>\n",
       "      <td>False</td>\n",
       "      <td>3</td>\n",
       "      <td>female</td>\n",
       "      <td>NaN</td>\n",
       "      <td>1</td>\n",
       "      <td>2</td>\n",
       "      <td>23.4500</td>\n",
       "      <td>S</td>\n",
       "      <td>NaN</td>\n",
       "    </tr>\n",
       "    <tr>\n",
       "      <th>890</th>\n",
       "      <td>True</td>\n",
       "      <td>1</td>\n",
       "      <td>male</td>\n",
       "      <td>26.0</td>\n",
       "      <td>0</td>\n",
       "      <td>0</td>\n",
       "      <td>30.0000</td>\n",
       "      <td>C</td>\n",
       "      <td>age_q2</td>\n",
       "    </tr>\n",
       "    <tr>\n",
       "      <th>891</th>\n",
       "      <td>False</td>\n",
       "      <td>3</td>\n",
       "      <td>male</td>\n",
       "      <td>32.0</td>\n",
       "      <td>0</td>\n",
       "      <td>0</td>\n",
       "      <td>7.7500</td>\n",
       "      <td>Q</td>\n",
       "      <td>age_q3</td>\n",
       "    </tr>\n",
       "  </tbody>\n",
       "</table>\n",
       "<p>891 rows × 9 columns</p>\n",
       "</div>"
      ],
      "text/plain": [
       "             survie classe   genre   age  nb_freres_soeurs  nb_parents  \\\n",
       "PassengerId                                                              \n",
       "1             False      3    male  22.0                 1           0   \n",
       "2              True      1  female  38.0                 1           0   \n",
       "3              True      3  female  26.0                 0           0   \n",
       "4              True      1  female  35.0                 1           0   \n",
       "5             False      3    male  35.0                 0           0   \n",
       "...             ...    ...     ...   ...               ...         ...   \n",
       "887           False      2    male  27.0                 0           0   \n",
       "888            True      1  female  19.0                 0           0   \n",
       "889           False      3  female   NaN                 1           2   \n",
       "890            True      1    male  26.0                 0           0   \n",
       "891           False      3    male  32.0                 0           0   \n",
       "\n",
       "                prix port   age_q  \n",
       "PassengerId                        \n",
       "1             7.2500    S  age_q2  \n",
       "2            71.2833    C  age_q3  \n",
       "3             7.9250    S  age_q2  \n",
       "4            53.1000    S  age_q3  \n",
       "5             8.0500    S  age_q3  \n",
       "...              ...  ...     ...  \n",
       "887          13.0000    S  age_q2  \n",
       "888          30.0000    S  age_q1  \n",
       "889          23.4500    S     NaN  \n",
       "890          30.0000    C  age_q2  \n",
       "891           7.7500    Q  age_q3  \n",
       "\n",
       "[891 rows x 9 columns]"
      ]
     },
     "execution_count": 28,
     "metadata": {},
     "output_type": "execute_result"
    }
   ],
   "source": [
    "df['age_q'] = pd.qcut(df.age, 4 , labels=['age_q1', 'age_q2', 'age_q3', 'age_q4'])\n",
    "\n",
    "df"
   ]
  },
  {
   "cell_type": "markdown",
   "metadata": {
    "id": "F6m1E0nNkeMf"
   },
   "source": [
    "### 3.4 Modifier des modalités\n",
    "\n",
    "Cette opération permet de renommer le nom des différentes modalités pour une variable qualitative.\n",
    "\n",
    "Renommons ici le port d'embarquement pour être plus explicite."
   ]
  },
  {
   "cell_type": "code",
   "execution_count": 29,
   "metadata": {
    "id": "f8wOfzM5keMf",
    "outputId": "79475c78-2777-43df-9525-257d32e1a11c"
   },
   "outputs": [
    {
     "data": {
      "text/html": [
       "<div>\n",
       "<style scoped>\n",
       "    .dataframe tbody tr th:only-of-type {\n",
       "        vertical-align: middle;\n",
       "    }\n",
       "\n",
       "    .dataframe tbody tr th {\n",
       "        vertical-align: top;\n",
       "    }\n",
       "\n",
       "    .dataframe thead th {\n",
       "        text-align: right;\n",
       "    }\n",
       "</style>\n",
       "<table border=\"1\" class=\"dataframe\">\n",
       "  <thead>\n",
       "    <tr style=\"text-align: right;\">\n",
       "      <th></th>\n",
       "      <th>survie</th>\n",
       "      <th>classe</th>\n",
       "      <th>genre</th>\n",
       "      <th>age</th>\n",
       "      <th>nb_freres_soeurs</th>\n",
       "      <th>nb_parents</th>\n",
       "      <th>prix</th>\n",
       "      <th>port</th>\n",
       "      <th>age_q</th>\n",
       "    </tr>\n",
       "    <tr>\n",
       "      <th>PassengerId</th>\n",
       "      <th></th>\n",
       "      <th></th>\n",
       "      <th></th>\n",
       "      <th></th>\n",
       "      <th></th>\n",
       "      <th></th>\n",
       "      <th></th>\n",
       "      <th></th>\n",
       "      <th></th>\n",
       "    </tr>\n",
       "  </thead>\n",
       "  <tbody>\n",
       "    <tr>\n",
       "      <th>1</th>\n",
       "      <td>False</td>\n",
       "      <td>3</td>\n",
       "      <td>male</td>\n",
       "      <td>22.0</td>\n",
       "      <td>1</td>\n",
       "      <td>0</td>\n",
       "      <td>7.2500</td>\n",
       "      <td>Southampton</td>\n",
       "      <td>age_q2</td>\n",
       "    </tr>\n",
       "    <tr>\n",
       "      <th>2</th>\n",
       "      <td>True</td>\n",
       "      <td>1</td>\n",
       "      <td>female</td>\n",
       "      <td>38.0</td>\n",
       "      <td>1</td>\n",
       "      <td>0</td>\n",
       "      <td>71.2833</td>\n",
       "      <td>Cherbourg</td>\n",
       "      <td>age_q3</td>\n",
       "    </tr>\n",
       "    <tr>\n",
       "      <th>3</th>\n",
       "      <td>True</td>\n",
       "      <td>3</td>\n",
       "      <td>female</td>\n",
       "      <td>26.0</td>\n",
       "      <td>0</td>\n",
       "      <td>0</td>\n",
       "      <td>7.9250</td>\n",
       "      <td>Southampton</td>\n",
       "      <td>age_q2</td>\n",
       "    </tr>\n",
       "    <tr>\n",
       "      <th>4</th>\n",
       "      <td>True</td>\n",
       "      <td>1</td>\n",
       "      <td>female</td>\n",
       "      <td>35.0</td>\n",
       "      <td>1</td>\n",
       "      <td>0</td>\n",
       "      <td>53.1000</td>\n",
       "      <td>Southampton</td>\n",
       "      <td>age_q3</td>\n",
       "    </tr>\n",
       "    <tr>\n",
       "      <th>5</th>\n",
       "      <td>False</td>\n",
       "      <td>3</td>\n",
       "      <td>male</td>\n",
       "      <td>35.0</td>\n",
       "      <td>0</td>\n",
       "      <td>0</td>\n",
       "      <td>8.0500</td>\n",
       "      <td>Southampton</td>\n",
       "      <td>age_q3</td>\n",
       "    </tr>\n",
       "  </tbody>\n",
       "</table>\n",
       "</div>"
      ],
      "text/plain": [
       "             survie classe   genre   age  nb_freres_soeurs  nb_parents  \\\n",
       "PassengerId                                                              \n",
       "1             False      3    male  22.0                 1           0   \n",
       "2              True      1  female  38.0                 1           0   \n",
       "3              True      3  female  26.0                 0           0   \n",
       "4              True      1  female  35.0                 1           0   \n",
       "5             False      3    male  35.0                 0           0   \n",
       "\n",
       "                prix         port   age_q  \n",
       "PassengerId                                \n",
       "1             7.2500  Southampton  age_q2  \n",
       "2            71.2833    Cherbourg  age_q3  \n",
       "3             7.9250  Southampton  age_q2  \n",
       "4            53.1000  Southampton  age_q3  \n",
       "5             8.0500  Southampton  age_q3  "
      ]
     },
     "execution_count": 29,
     "metadata": {},
     "output_type": "execute_result"
    }
   ],
   "source": [
    "df.port = df.port.cat.rename_categories({'C': 'Cherbourg', 'Q': 'Queenstown', 'S': 'Southampton'})\n",
    "df.head()"
   ]
  },
  {
   "cell_type": "markdown",
   "metadata": {
    "id": "jfxIym8LkeMf"
   },
   "source": [
    "### 3.5 Variables indicatrices\n",
    "\n",
    "La fonction `get_dummies` permet de générer automatiquement une colonne par modalité de facteur, préfixée par le nom du facteur. Cette opération revient à créer des colonnes représentant les fonctions indicatrices de chaque modalité évaluées sur toutes les lignes.\n",
    "\n",
    "Remarque : en anglais, une variable indicatrice est également dite *dummy variable*.\n",
    "\n",
    "Autrement dit, `get_dummies` permet de passer du format long au format large de donnée. On ne l'utilisera quasiment jamas au cours de ces TD."
   ]
  },
  {
   "cell_type": "code",
   "execution_count": 30,
   "metadata": {
    "id": "2KGlidmNkeMf",
    "outputId": "43e1d40a-31c8-471a-9edc-8fb73ff86c90"
   },
   "outputs": [
    {
     "data": {
      "text/html": [
       "<div>\n",
       "<style scoped>\n",
       "    .dataframe tbody tr th:only-of-type {\n",
       "        vertical-align: middle;\n",
       "    }\n",
       "\n",
       "    .dataframe tbody tr th {\n",
       "        vertical-align: top;\n",
       "    }\n",
       "\n",
       "    .dataframe thead th {\n",
       "        text-align: right;\n",
       "    }\n",
       "</style>\n",
       "<table border=\"1\" class=\"dataframe\">\n",
       "  <thead>\n",
       "    <tr style=\"text-align: right;\">\n",
       "      <th></th>\n",
       "      <th>survie</th>\n",
       "      <th>age</th>\n",
       "      <th>nb_freres_soeurs</th>\n",
       "      <th>nb_parents</th>\n",
       "      <th>prix</th>\n",
       "      <th>classe_1</th>\n",
       "      <th>classe_2</th>\n",
       "      <th>classe_3</th>\n",
       "      <th>genre_female</th>\n",
       "      <th>genre_male</th>\n",
       "      <th>port_Cherbourg</th>\n",
       "      <th>port_Queenstown</th>\n",
       "      <th>port_Southampton</th>\n",
       "      <th>age_q_age_q1</th>\n",
       "      <th>age_q_age_q2</th>\n",
       "      <th>age_q_age_q3</th>\n",
       "      <th>age_q_age_q4</th>\n",
       "    </tr>\n",
       "    <tr>\n",
       "      <th>PassengerId</th>\n",
       "      <th></th>\n",
       "      <th></th>\n",
       "      <th></th>\n",
       "      <th></th>\n",
       "      <th></th>\n",
       "      <th></th>\n",
       "      <th></th>\n",
       "      <th></th>\n",
       "      <th></th>\n",
       "      <th></th>\n",
       "      <th></th>\n",
       "      <th></th>\n",
       "      <th></th>\n",
       "      <th></th>\n",
       "      <th></th>\n",
       "      <th></th>\n",
       "      <th></th>\n",
       "    </tr>\n",
       "  </thead>\n",
       "  <tbody>\n",
       "    <tr>\n",
       "      <th>1</th>\n",
       "      <td>False</td>\n",
       "      <td>22.0</td>\n",
       "      <td>1</td>\n",
       "      <td>0</td>\n",
       "      <td>7.2500</td>\n",
       "      <td>0</td>\n",
       "      <td>0</td>\n",
       "      <td>1</td>\n",
       "      <td>0</td>\n",
       "      <td>1</td>\n",
       "      <td>0</td>\n",
       "      <td>0</td>\n",
       "      <td>1</td>\n",
       "      <td>0</td>\n",
       "      <td>1</td>\n",
       "      <td>0</td>\n",
       "      <td>0</td>\n",
       "    </tr>\n",
       "    <tr>\n",
       "      <th>2</th>\n",
       "      <td>True</td>\n",
       "      <td>38.0</td>\n",
       "      <td>1</td>\n",
       "      <td>0</td>\n",
       "      <td>71.2833</td>\n",
       "      <td>1</td>\n",
       "      <td>0</td>\n",
       "      <td>0</td>\n",
       "      <td>1</td>\n",
       "      <td>0</td>\n",
       "      <td>1</td>\n",
       "      <td>0</td>\n",
       "      <td>0</td>\n",
       "      <td>0</td>\n",
       "      <td>0</td>\n",
       "      <td>1</td>\n",
       "      <td>0</td>\n",
       "    </tr>\n",
       "    <tr>\n",
       "      <th>3</th>\n",
       "      <td>True</td>\n",
       "      <td>26.0</td>\n",
       "      <td>0</td>\n",
       "      <td>0</td>\n",
       "      <td>7.9250</td>\n",
       "      <td>0</td>\n",
       "      <td>0</td>\n",
       "      <td>1</td>\n",
       "      <td>1</td>\n",
       "      <td>0</td>\n",
       "      <td>0</td>\n",
       "      <td>0</td>\n",
       "      <td>1</td>\n",
       "      <td>0</td>\n",
       "      <td>1</td>\n",
       "      <td>0</td>\n",
       "      <td>0</td>\n",
       "    </tr>\n",
       "    <tr>\n",
       "      <th>4</th>\n",
       "      <td>True</td>\n",
       "      <td>35.0</td>\n",
       "      <td>1</td>\n",
       "      <td>0</td>\n",
       "      <td>53.1000</td>\n",
       "      <td>1</td>\n",
       "      <td>0</td>\n",
       "      <td>0</td>\n",
       "      <td>1</td>\n",
       "      <td>0</td>\n",
       "      <td>0</td>\n",
       "      <td>0</td>\n",
       "      <td>1</td>\n",
       "      <td>0</td>\n",
       "      <td>0</td>\n",
       "      <td>1</td>\n",
       "      <td>0</td>\n",
       "    </tr>\n",
       "    <tr>\n",
       "      <th>5</th>\n",
       "      <td>False</td>\n",
       "      <td>35.0</td>\n",
       "      <td>0</td>\n",
       "      <td>0</td>\n",
       "      <td>8.0500</td>\n",
       "      <td>0</td>\n",
       "      <td>0</td>\n",
       "      <td>1</td>\n",
       "      <td>0</td>\n",
       "      <td>1</td>\n",
       "      <td>0</td>\n",
       "      <td>0</td>\n",
       "      <td>1</td>\n",
       "      <td>0</td>\n",
       "      <td>0</td>\n",
       "      <td>1</td>\n",
       "      <td>0</td>\n",
       "    </tr>\n",
       "  </tbody>\n",
       "</table>\n",
       "</div>"
      ],
      "text/plain": [
       "             survie   age  nb_freres_soeurs  nb_parents     prix  classe_1  \\\n",
       "PassengerId                                                                  \n",
       "1             False  22.0                 1           0   7.2500         0   \n",
       "2              True  38.0                 1           0  71.2833         1   \n",
       "3              True  26.0                 0           0   7.9250         0   \n",
       "4              True  35.0                 1           0  53.1000         1   \n",
       "5             False  35.0                 0           0   8.0500         0   \n",
       "\n",
       "             classe_2  classe_3  genre_female  genre_male  port_Cherbourg  \\\n",
       "PassengerId                                                                 \n",
       "1                   0         1             0           1               0   \n",
       "2                   0         0             1           0               1   \n",
       "3                   0         1             1           0               0   \n",
       "4                   0         0             1           0               0   \n",
       "5                   0         1             0           1               0   \n",
       "\n",
       "             port_Queenstown  port_Southampton  age_q_age_q1  age_q_age_q2  \\\n",
       "PassengerId                                                                  \n",
       "1                          0                 1             0             1   \n",
       "2                          0                 0             0             0   \n",
       "3                          0                 1             0             1   \n",
       "4                          0                 1             0             0   \n",
       "5                          0                 1             0             0   \n",
       "\n",
       "             age_q_age_q3  age_q_age_q4  \n",
       "PassengerId                              \n",
       "1                       0             0  \n",
       "2                       1             0  \n",
       "3                       0             0  \n",
       "4                       1             0  \n",
       "5                       1             0  "
      ]
     },
     "execution_count": 30,
     "metadata": {},
     "output_type": "execute_result"
    }
   ],
   "source": [
    "pd.get_dummies(df).head()"
   ]
  },
  {
   "cell_type": "markdown",
   "metadata": {
    "id": "BWXkik_XkeMf"
   },
   "source": [
    "### 3.6 Echantillonnage aléatoire\n",
    "\n",
    "Il peut parfois être utile de ne s'intéresser qu'à un échantillon aléatoire des données, afin de tester la qualité d'une analyse avant de l'appliquer à l'ensemble des données par exemple.\n",
    "\n",
    "pandas fournit la fonction `sample` à cet effet. Cette dernière accepte soit `n` le nombre de lignes échantillonnées à retourner, soit `frac` la fraction de lignes initales à retourner.\n",
    "\n",
    "Il est également possible de procéder à un échantillonnage avec remplacement à l'aide du paramètre booléan `replace`.\n",
    "\n",
    "Le tirage par défaut est équiprobable (**distribution uniforme** pour toutes les lignes), mais personnalisable si nécessaire (paramètre `weights`).\n",
    "\n",
    "`pandas` ne possède pas (encore) de fonction pour réaliser un échantillonnage stratifié."
   ]
  },
  {
   "cell_type": "code",
   "execution_count": 31,
   "metadata": {
    "id": "WZtpcZL6keMf",
    "outputId": "efa3c6ee-fee9-44b0-898e-d6e8d2a48a3b"
   },
   "outputs": [
    {
     "data": {
      "text/html": [
       "<div>\n",
       "<style scoped>\n",
       "    .dataframe tbody tr th:only-of-type {\n",
       "        vertical-align: middle;\n",
       "    }\n",
       "\n",
       "    .dataframe tbody tr th {\n",
       "        vertical-align: top;\n",
       "    }\n",
       "\n",
       "    .dataframe thead th {\n",
       "        text-align: right;\n",
       "    }\n",
       "</style>\n",
       "<table border=\"1\" class=\"dataframe\">\n",
       "  <thead>\n",
       "    <tr style=\"text-align: right;\">\n",
       "      <th></th>\n",
       "      <th>survie</th>\n",
       "      <th>classe</th>\n",
       "      <th>genre</th>\n",
       "      <th>age</th>\n",
       "      <th>nb_freres_soeurs</th>\n",
       "      <th>nb_parents</th>\n",
       "      <th>prix</th>\n",
       "      <th>port</th>\n",
       "      <th>age_q</th>\n",
       "    </tr>\n",
       "    <tr>\n",
       "      <th>PassengerId</th>\n",
       "      <th></th>\n",
       "      <th></th>\n",
       "      <th></th>\n",
       "      <th></th>\n",
       "      <th></th>\n",
       "      <th></th>\n",
       "      <th></th>\n",
       "      <th></th>\n",
       "      <th></th>\n",
       "    </tr>\n",
       "  </thead>\n",
       "  <tbody>\n",
       "    <tr>\n",
       "      <th>528</th>\n",
       "      <td>False</td>\n",
       "      <td>1</td>\n",
       "      <td>male</td>\n",
       "      <td>NaN</td>\n",
       "      <td>0</td>\n",
       "      <td>0</td>\n",
       "      <td>221.7792</td>\n",
       "      <td>Southampton</td>\n",
       "      <td>NaN</td>\n",
       "    </tr>\n",
       "    <tr>\n",
       "      <th>714</th>\n",
       "      <td>False</td>\n",
       "      <td>3</td>\n",
       "      <td>male</td>\n",
       "      <td>29.0</td>\n",
       "      <td>0</td>\n",
       "      <td>0</td>\n",
       "      <td>9.4833</td>\n",
       "      <td>Southampton</td>\n",
       "      <td>age_q3</td>\n",
       "    </tr>\n",
       "    <tr>\n",
       "      <th>489</th>\n",
       "      <td>False</td>\n",
       "      <td>3</td>\n",
       "      <td>male</td>\n",
       "      <td>30.0</td>\n",
       "      <td>0</td>\n",
       "      <td>0</td>\n",
       "      <td>8.0500</td>\n",
       "      <td>Southampton</td>\n",
       "      <td>age_q3</td>\n",
       "    </tr>\n",
       "    <tr>\n",
       "      <th>610</th>\n",
       "      <td>True</td>\n",
       "      <td>1</td>\n",
       "      <td>female</td>\n",
       "      <td>40.0</td>\n",
       "      <td>0</td>\n",
       "      <td>0</td>\n",
       "      <td>153.4625</td>\n",
       "      <td>Southampton</td>\n",
       "      <td>age_q4</td>\n",
       "    </tr>\n",
       "    <tr>\n",
       "      <th>271</th>\n",
       "      <td>False</td>\n",
       "      <td>1</td>\n",
       "      <td>male</td>\n",
       "      <td>NaN</td>\n",
       "      <td>0</td>\n",
       "      <td>0</td>\n",
       "      <td>31.0000</td>\n",
       "      <td>Southampton</td>\n",
       "      <td>NaN</td>\n",
       "    </tr>\n",
       "  </tbody>\n",
       "</table>\n",
       "</div>"
      ],
      "text/plain": [
       "             survie classe   genre   age  nb_freres_soeurs  nb_parents  \\\n",
       "PassengerId                                                              \n",
       "528           False      1    male   NaN                 0           0   \n",
       "714           False      3    male  29.0                 0           0   \n",
       "489           False      3    male  30.0                 0           0   \n",
       "610            True      1  female  40.0                 0           0   \n",
       "271           False      1    male   NaN                 0           0   \n",
       "\n",
       "                 prix         port   age_q  \n",
       "PassengerId                                 \n",
       "528          221.7792  Southampton     NaN  \n",
       "714            9.4833  Southampton  age_q3  \n",
       "489            8.0500  Southampton  age_q3  \n",
       "610          153.4625  Southampton  age_q4  \n",
       "271           31.0000  Southampton     NaN  "
      ]
     },
     "execution_count": 31,
     "metadata": {},
     "output_type": "execute_result"
    }
   ],
   "source": [
    "# Lancer la commande plusieurs fois pour observer que les lignes renvoyées changent\n",
    "df.sample(n=5)"
   ]
  },
  {
   "cell_type": "code",
   "execution_count": 32,
   "metadata": {
    "id": "k46wGHf6keMf",
    "outputId": "b68b81fe-9fa3-4a70-a8d0-ad28ac7a0418"
   },
   "outputs": [
    {
     "data": {
      "text/html": [
       "<div>\n",
       "<style scoped>\n",
       "    .dataframe tbody tr th:only-of-type {\n",
       "        vertical-align: middle;\n",
       "    }\n",
       "\n",
       "    .dataframe tbody tr th {\n",
       "        vertical-align: top;\n",
       "    }\n",
       "\n",
       "    .dataframe thead th {\n",
       "        text-align: right;\n",
       "    }\n",
       "</style>\n",
       "<table border=\"1\" class=\"dataframe\">\n",
       "  <thead>\n",
       "    <tr style=\"text-align: right;\">\n",
       "      <th></th>\n",
       "      <th>survie</th>\n",
       "      <th>classe</th>\n",
       "      <th>genre</th>\n",
       "      <th>age</th>\n",
       "      <th>nb_freres_soeurs</th>\n",
       "      <th>nb_parents</th>\n",
       "      <th>prix</th>\n",
       "      <th>port</th>\n",
       "      <th>age_q</th>\n",
       "    </tr>\n",
       "    <tr>\n",
       "      <th>PassengerId</th>\n",
       "      <th></th>\n",
       "      <th></th>\n",
       "      <th></th>\n",
       "      <th></th>\n",
       "      <th></th>\n",
       "      <th></th>\n",
       "      <th></th>\n",
       "      <th></th>\n",
       "      <th></th>\n",
       "    </tr>\n",
       "  </thead>\n",
       "  <tbody>\n",
       "    <tr>\n",
       "      <th>832</th>\n",
       "      <td>True</td>\n",
       "      <td>2</td>\n",
       "      <td>male</td>\n",
       "      <td>0.83</td>\n",
       "      <td>1</td>\n",
       "      <td>1</td>\n",
       "      <td>18.7500</td>\n",
       "      <td>Southampton</td>\n",
       "      <td>age_q1</td>\n",
       "    </tr>\n",
       "    <tr>\n",
       "      <th>398</th>\n",
       "      <td>False</td>\n",
       "      <td>2</td>\n",
       "      <td>male</td>\n",
       "      <td>46.00</td>\n",
       "      <td>0</td>\n",
       "      <td>0</td>\n",
       "      <td>26.0000</td>\n",
       "      <td>Southampton</td>\n",
       "      <td>age_q4</td>\n",
       "    </tr>\n",
       "    <tr>\n",
       "      <th>56</th>\n",
       "      <td>True</td>\n",
       "      <td>1</td>\n",
       "      <td>male</td>\n",
       "      <td>NaN</td>\n",
       "      <td>0</td>\n",
       "      <td>0</td>\n",
       "      <td>35.5000</td>\n",
       "      <td>Southampton</td>\n",
       "      <td>NaN</td>\n",
       "    </tr>\n",
       "    <tr>\n",
       "      <th>740</th>\n",
       "      <td>False</td>\n",
       "      <td>3</td>\n",
       "      <td>male</td>\n",
       "      <td>NaN</td>\n",
       "      <td>0</td>\n",
       "      <td>0</td>\n",
       "      <td>7.8958</td>\n",
       "      <td>Southampton</td>\n",
       "      <td>NaN</td>\n",
       "    </tr>\n",
       "    <tr>\n",
       "      <th>711</th>\n",
       "      <td>True</td>\n",
       "      <td>1</td>\n",
       "      <td>female</td>\n",
       "      <td>24.00</td>\n",
       "      <td>0</td>\n",
       "      <td>0</td>\n",
       "      <td>49.5042</td>\n",
       "      <td>Cherbourg</td>\n",
       "      <td>age_q2</td>\n",
       "    </tr>\n",
       "  </tbody>\n",
       "</table>\n",
       "</div>"
      ],
      "text/plain": [
       "             survie classe   genre    age  nb_freres_soeurs  nb_parents  \\\n",
       "PassengerId                                                               \n",
       "832            True      2    male   0.83                 1           1   \n",
       "398           False      2    male  46.00                 0           0   \n",
       "56             True      1    male    NaN                 0           0   \n",
       "740           False      3    male    NaN                 0           0   \n",
       "711            True      1  female  24.00                 0           0   \n",
       "\n",
       "                prix         port   age_q  \n",
       "PassengerId                                \n",
       "832          18.7500  Southampton  age_q1  \n",
       "398          26.0000  Southampton  age_q4  \n",
       "56           35.5000  Southampton     NaN  \n",
       "740           7.8958  Southampton     NaN  \n",
       "711          49.5042    Cherbourg  age_q2  "
      ]
     },
     "execution_count": 32,
     "metadata": {},
     "output_type": "execute_result"
    }
   ],
   "source": [
    "# Remarque : un échantillonnage complet du DataFrame revient à effectuer une permutation aléatoire\n",
    "df.sample(frac=1).head()"
   ]
  },
  {
   "cell_type": "markdown",
   "metadata": {
    "id": "Q3qss9UAkeMg"
   },
   "source": [
    "### 3.7 Opérations mathématiques\n",
    "Les opérations arithmétiques entre `Series` et `DataFrame` sont possibles au même titre qu'entre `array`. \n",
    "Cependant, les opérations termes à termes sont effectuées entre deux termes possédant **le même index** (et non la même position).\n",
    "\n",
    "Une démonstration s'impose : "
   ]
  },
  {
   "cell_type": "code",
   "execution_count": 33,
   "metadata": {
    "id": "dNhvQw7PkeMg",
    "outputId": "e3e02856-5d77-47d0-c11d-19a653b8c269"
   },
   "outputs": [
    {
     "name": "stdout",
     "output_type": "stream",
     "text": [
      "df1 \n",
      "    col1  col2\n",
      "0     0     1\n",
      "1     2     3\n",
      "2     4     5\n",
      "3     6     7\n",
      "4     8     9 \n",
      "\n",
      "df2 \n",
      "    col1  col2\n",
      "0     0     1\n",
      "3     6     7\n",
      "4     8     9\n",
      "1     2     3\n",
      "2     4     5 \n",
      "\n"
     ]
    }
   ],
   "source": [
    "# Générer un DataFrame factice\n",
    "df1 = pd.DataFrame(np.arange(10).reshape(5, 2), columns=['col1', 'col2'])\n",
    "# On modifie l'ordre des lignes entre df1 et df2, mais l'index est conservé (juste permuté) !\n",
    "df2 = df1.sample(frac=1)\n",
    "\n",
    "print('df1 \\n', df1, '\\n')\n",
    "print('df2 \\n', df2, '\\n')"
   ]
  },
  {
   "cell_type": "code",
   "execution_count": 34,
   "metadata": {
    "id": "EcK3cwgykeMg",
    "outputId": "d25f71ca-6955-4e56-ec93-bbc5d222391b"
   },
   "outputs": [
    {
     "data": {
      "text/html": [
       "<div>\n",
       "<style scoped>\n",
       "    .dataframe tbody tr th:only-of-type {\n",
       "        vertical-align: middle;\n",
       "    }\n",
       "\n",
       "    .dataframe tbody tr th {\n",
       "        vertical-align: top;\n",
       "    }\n",
       "\n",
       "    .dataframe thead th {\n",
       "        text-align: right;\n",
       "    }\n",
       "</style>\n",
       "<table border=\"1\" class=\"dataframe\">\n",
       "  <thead>\n",
       "    <tr style=\"text-align: right;\">\n",
       "      <th></th>\n",
       "      <th>col1</th>\n",
       "      <th>col2</th>\n",
       "    </tr>\n",
       "  </thead>\n",
       "  <tbody>\n",
       "    <tr>\n",
       "      <th>0</th>\n",
       "      <td>0</td>\n",
       "      <td>0</td>\n",
       "    </tr>\n",
       "    <tr>\n",
       "      <th>1</th>\n",
       "      <td>0</td>\n",
       "      <td>0</td>\n",
       "    </tr>\n",
       "    <tr>\n",
       "      <th>2</th>\n",
       "      <td>0</td>\n",
       "      <td>0</td>\n",
       "    </tr>\n",
       "    <tr>\n",
       "      <th>3</th>\n",
       "      <td>0</td>\n",
       "      <td>0</td>\n",
       "    </tr>\n",
       "    <tr>\n",
       "      <th>4</th>\n",
       "      <td>0</td>\n",
       "      <td>0</td>\n",
       "    </tr>\n",
       "  </tbody>\n",
       "</table>\n",
       "</div>"
      ],
      "text/plain": [
       "   col1  col2\n",
       "0     0     0\n",
       "1     0     0\n",
       "2     0     0\n",
       "3     0     0\n",
       "4     0     0"
      ]
     },
     "execution_count": 34,
     "metadata": {},
     "output_type": "execute_result"
    }
   ],
   "source": [
    "# Opération terme à terme\n",
    "df2 - df1"
   ]
  },
  {
   "cell_type": "markdown",
   "metadata": {
    "id": "PKrrGImekeMg"
   },
   "source": [
    "Si ce comportement est indésirable et on veut simplement appliquer une opération terme à terme en fonction de la position des lignes (première ligne de `df2` - première ligne de `df1`, etc...), il faut d'abord réinitialiser les index. "
   ]
  },
  {
   "cell_type": "code",
   "execution_count": 35,
   "metadata": {
    "id": "kjoPmi0fkeMg"
   },
   "outputs": [],
   "source": [
    "df2 = df2.reset_index(drop=True) # drop=True pour ne pas conserver l'index original dans une nouvelle colonne"
   ]
  },
  {
   "cell_type": "code",
   "execution_count": 36,
   "metadata": {
    "id": "-n5MXhfxkeMg",
    "outputId": "f37097fd-9c4d-4d2a-9aea-a883de90bb3e"
   },
   "outputs": [
    {
     "data": {
      "text/html": [
       "<div>\n",
       "<style scoped>\n",
       "    .dataframe tbody tr th:only-of-type {\n",
       "        vertical-align: middle;\n",
       "    }\n",
       "\n",
       "    .dataframe tbody tr th {\n",
       "        vertical-align: top;\n",
       "    }\n",
       "\n",
       "    .dataframe thead th {\n",
       "        text-align: right;\n",
       "    }\n",
       "</style>\n",
       "<table border=\"1\" class=\"dataframe\">\n",
       "  <thead>\n",
       "    <tr style=\"text-align: right;\">\n",
       "      <th></th>\n",
       "      <th>col1</th>\n",
       "      <th>col2</th>\n",
       "    </tr>\n",
       "  </thead>\n",
       "  <tbody>\n",
       "    <tr>\n",
       "      <th>0</th>\n",
       "      <td>0</td>\n",
       "      <td>0</td>\n",
       "    </tr>\n",
       "    <tr>\n",
       "      <th>1</th>\n",
       "      <td>4</td>\n",
       "      <td>4</td>\n",
       "    </tr>\n",
       "    <tr>\n",
       "      <th>2</th>\n",
       "      <td>4</td>\n",
       "      <td>4</td>\n",
       "    </tr>\n",
       "    <tr>\n",
       "      <th>3</th>\n",
       "      <td>-4</td>\n",
       "      <td>-4</td>\n",
       "    </tr>\n",
       "    <tr>\n",
       "      <th>4</th>\n",
       "      <td>-4</td>\n",
       "      <td>-4</td>\n",
       "    </tr>\n",
       "  </tbody>\n",
       "</table>\n",
       "</div>"
      ],
      "text/plain": [
       "   col1  col2\n",
       "0     0     0\n",
       "1     4     4\n",
       "2     4     4\n",
       "3    -4    -4\n",
       "4    -4    -4"
      ]
     },
     "execution_count": 36,
     "metadata": {},
     "output_type": "execute_result"
    }
   ],
   "source": [
    "df2 - df1"
   ]
  },
  {
   "cell_type": "markdown",
   "metadata": {
    "id": "IUa251RdkeMg"
   },
   "source": [
    "### 3.8 Tri et rangs\n",
    "Trier une table selon les valeurs d'une variable ou d'un index."
   ]
  },
  {
   "cell_type": "code",
   "execution_count": 37,
   "metadata": {
    "id": "L86SSrPFkeMg",
    "outputId": "2f67f527-faa0-4231-980e-361925e52085"
   },
   "outputs": [
    {
     "data": {
      "text/html": [
       "<div>\n",
       "<style scoped>\n",
       "    .dataframe tbody tr th:only-of-type {\n",
       "        vertical-align: middle;\n",
       "    }\n",
       "\n",
       "    .dataframe tbody tr th {\n",
       "        vertical-align: top;\n",
       "    }\n",
       "\n",
       "    .dataframe thead th {\n",
       "        text-align: right;\n",
       "    }\n",
       "</style>\n",
       "<table border=\"1\" class=\"dataframe\">\n",
       "  <thead>\n",
       "    <tr style=\"text-align: right;\">\n",
       "      <th></th>\n",
       "      <th>d</th>\n",
       "      <th>a</th>\n",
       "      <th>b</th>\n",
       "      <th>c</th>\n",
       "    </tr>\n",
       "  </thead>\n",
       "  <tbody>\n",
       "    <tr>\n",
       "      <th>three</th>\n",
       "      <td>0</td>\n",
       "      <td>1</td>\n",
       "      <td>2</td>\n",
       "      <td>3</td>\n",
       "    </tr>\n",
       "    <tr>\n",
       "      <th>one</th>\n",
       "      <td>4</td>\n",
       "      <td>5</td>\n",
       "      <td>6</td>\n",
       "      <td>7</td>\n",
       "    </tr>\n",
       "  </tbody>\n",
       "</table>\n",
       "</div>"
      ],
      "text/plain": [
       "       d  a  b  c\n",
       "three  0  1  2  3\n",
       "one    4  5  6  7"
      ]
     },
     "execution_count": 37,
     "metadata": {},
     "output_type": "execute_result"
    }
   ],
   "source": [
    "frame= pd.DataFrame(np.arange(8).reshape((2,4)), \n",
    "        index=[\"three\", \"one\"],\n",
    "        columns=[\"d\", \"a\", \"b\", \"c\"])\n",
    "frame"
   ]
  },
  {
   "cell_type": "code",
   "execution_count": 38,
   "metadata": {
    "id": "k3caw2lwkeMg",
    "outputId": "240520bc-cc57-4adb-8979-38122d451c9e"
   },
   "outputs": [
    {
     "data": {
      "text/html": [
       "<div>\n",
       "<style scoped>\n",
       "    .dataframe tbody tr th:only-of-type {\n",
       "        vertical-align: middle;\n",
       "    }\n",
       "\n",
       "    .dataframe tbody tr th {\n",
       "        vertical-align: top;\n",
       "    }\n",
       "\n",
       "    .dataframe thead th {\n",
       "        text-align: right;\n",
       "    }\n",
       "</style>\n",
       "<table border=\"1\" class=\"dataframe\">\n",
       "  <thead>\n",
       "    <tr style=\"text-align: right;\">\n",
       "      <th></th>\n",
       "      <th>d</th>\n",
       "      <th>a</th>\n",
       "      <th>b</th>\n",
       "      <th>c</th>\n",
       "    </tr>\n",
       "  </thead>\n",
       "  <tbody>\n",
       "    <tr>\n",
       "      <th>one</th>\n",
       "      <td>4</td>\n",
       "      <td>5</td>\n",
       "      <td>6</td>\n",
       "      <td>7</td>\n",
       "    </tr>\n",
       "    <tr>\n",
       "      <th>three</th>\n",
       "      <td>0</td>\n",
       "      <td>1</td>\n",
       "      <td>2</td>\n",
       "      <td>3</td>\n",
       "    </tr>\n",
       "  </tbody>\n",
       "</table>\n",
       "</div>"
      ],
      "text/plain": [
       "       d  a  b  c\n",
       "one    4  5  6  7\n",
       "three  0  1  2  3"
      ]
     },
     "execution_count": 38,
     "metadata": {},
     "output_type": "execute_result"
    }
   ],
   "source": [
    "frame.sort_index() # Tri sur l'index des lignes par défaut"
   ]
  },
  {
   "cell_type": "code",
   "execution_count": 39,
   "metadata": {
    "id": "zGcjyQhLkeMg",
    "outputId": "74ef018c-88d1-44eb-80d5-fc1dbddc9c5d"
   },
   "outputs": [
    {
     "data": {
      "text/html": [
       "<div>\n",
       "<style scoped>\n",
       "    .dataframe tbody tr th:only-of-type {\n",
       "        vertical-align: middle;\n",
       "    }\n",
       "\n",
       "    .dataframe tbody tr th {\n",
       "        vertical-align: top;\n",
       "    }\n",
       "\n",
       "    .dataframe thead th {\n",
       "        text-align: right;\n",
       "    }\n",
       "</style>\n",
       "<table border=\"1\" class=\"dataframe\">\n",
       "  <thead>\n",
       "    <tr style=\"text-align: right;\">\n",
       "      <th></th>\n",
       "      <th>a</th>\n",
       "      <th>b</th>\n",
       "      <th>c</th>\n",
       "      <th>d</th>\n",
       "    </tr>\n",
       "  </thead>\n",
       "  <tbody>\n",
       "    <tr>\n",
       "      <th>three</th>\n",
       "      <td>1</td>\n",
       "      <td>2</td>\n",
       "      <td>3</td>\n",
       "      <td>0</td>\n",
       "    </tr>\n",
       "    <tr>\n",
       "      <th>one</th>\n",
       "      <td>5</td>\n",
       "      <td>6</td>\n",
       "      <td>7</td>\n",
       "      <td>4</td>\n",
       "    </tr>\n",
       "  </tbody>\n",
       "</table>\n",
       "</div>"
      ],
      "text/plain": [
       "       a  b  c  d\n",
       "three  1  2  3  0\n",
       "one    5  6  7  4"
      ]
     },
     "execution_count": 39,
     "metadata": {},
     "output_type": "execute_result"
    }
   ],
   "source": [
    "frame.sort_index(axis=1) # Tri sur l'index des colonnes en le demandant expréssément"
   ]
  },
  {
   "cell_type": "code",
   "execution_count": 40,
   "metadata": {
    "id": "xzAIbFoCkeMg",
    "outputId": "64c5fbce-fdd4-4d17-f41f-b447a3fc9be6"
   },
   "outputs": [
    {
     "data": {
      "text/html": [
       "<div>\n",
       "<style scoped>\n",
       "    .dataframe tbody tr th:only-of-type {\n",
       "        vertical-align: middle;\n",
       "    }\n",
       "\n",
       "    .dataframe tbody tr th {\n",
       "        vertical-align: top;\n",
       "    }\n",
       "\n",
       "    .dataframe thead th {\n",
       "        text-align: right;\n",
       "    }\n",
       "</style>\n",
       "<table border=\"1\" class=\"dataframe\">\n",
       "  <thead>\n",
       "    <tr style=\"text-align: right;\">\n",
       "      <th></th>\n",
       "      <th>d</th>\n",
       "      <th>a</th>\n",
       "      <th>b</th>\n",
       "      <th>c</th>\n",
       "    </tr>\n",
       "  </thead>\n",
       "  <tbody>\n",
       "    <tr>\n",
       "      <th>one</th>\n",
       "      <td>4</td>\n",
       "      <td>5</td>\n",
       "      <td>6</td>\n",
       "      <td>7</td>\n",
       "    </tr>\n",
       "    <tr>\n",
       "      <th>three</th>\n",
       "      <td>0</td>\n",
       "      <td>1</td>\n",
       "      <td>2</td>\n",
       "      <td>3</td>\n",
       "    </tr>\n",
       "  </tbody>\n",
       "</table>\n",
       "</div>"
      ],
      "text/plain": [
       "       d  a  b  c\n",
       "one    4  5  6  7\n",
       "three  0  1  2  3"
      ]
     },
     "execution_count": 40,
     "metadata": {},
     "output_type": "execute_result"
    }
   ],
   "source": [
    "frame.sort_values(by=\"b\", ascending=False) # Tri décroissant sur les valeurs, ici celles de la colonne 'b'"
   ]
  },
  {
   "cell_type": "markdown",
   "metadata": {
    "id": "tlGYS0FMkeMg"
   },
   "source": [
    "### 3.9 Agrégations\n",
    "\n",
    "pandas est capable d'effectuer des agrégations en tout genre et propose pour les fonctions classiques d'aggrégation (max, min, moyenne, etc...) des méthodes aux performances optimisées.\n",
    "\n",
    "La fonction de base pour effectuer une aggrégation est tout simplement **`groupby`**. Celle-ci accepte la ou les colonnes à utiliser pour agréger le DataFrame."
   ]
  },
  {
   "cell_type": "code",
   "execution_count": 41,
   "metadata": {
    "id": "qqbUcBRckeMg",
    "outputId": "d1818cb5-0d2b-42e0-f5a3-3b9ad0ac5b78"
   },
   "outputs": [
    {
     "data": {
      "text/html": [
       "<div>\n",
       "<style scoped>\n",
       "    .dataframe tbody tr th:only-of-type {\n",
       "        vertical-align: middle;\n",
       "    }\n",
       "\n",
       "    .dataframe tbody tr th {\n",
       "        vertical-align: top;\n",
       "    }\n",
       "\n",
       "    .dataframe thead th {\n",
       "        text-align: right;\n",
       "    }\n",
       "</style>\n",
       "<table border=\"1\" class=\"dataframe\">\n",
       "  <thead>\n",
       "    <tr style=\"text-align: right;\">\n",
       "      <th></th>\n",
       "      <th>survie</th>\n",
       "      <th>classe</th>\n",
       "      <th>genre</th>\n",
       "      <th>age</th>\n",
       "      <th>nb_freres_soeurs</th>\n",
       "      <th>nb_parents</th>\n",
       "      <th>prix</th>\n",
       "      <th>port</th>\n",
       "      <th>age_q</th>\n",
       "    </tr>\n",
       "    <tr>\n",
       "      <th>PassengerId</th>\n",
       "      <th></th>\n",
       "      <th></th>\n",
       "      <th></th>\n",
       "      <th></th>\n",
       "      <th></th>\n",
       "      <th></th>\n",
       "      <th></th>\n",
       "      <th></th>\n",
       "      <th></th>\n",
       "    </tr>\n",
       "  </thead>\n",
       "  <tbody>\n",
       "    <tr>\n",
       "      <th>1</th>\n",
       "      <td>False</td>\n",
       "      <td>3</td>\n",
       "      <td>male</td>\n",
       "      <td>22.0</td>\n",
       "      <td>1</td>\n",
       "      <td>0</td>\n",
       "      <td>7.2500</td>\n",
       "      <td>Southampton</td>\n",
       "      <td>age_q2</td>\n",
       "    </tr>\n",
       "    <tr>\n",
       "      <th>2</th>\n",
       "      <td>True</td>\n",
       "      <td>1</td>\n",
       "      <td>female</td>\n",
       "      <td>38.0</td>\n",
       "      <td>1</td>\n",
       "      <td>0</td>\n",
       "      <td>71.2833</td>\n",
       "      <td>Cherbourg</td>\n",
       "      <td>age_q3</td>\n",
       "    </tr>\n",
       "    <tr>\n",
       "      <th>3</th>\n",
       "      <td>True</td>\n",
       "      <td>3</td>\n",
       "      <td>female</td>\n",
       "      <td>26.0</td>\n",
       "      <td>0</td>\n",
       "      <td>0</td>\n",
       "      <td>7.9250</td>\n",
       "      <td>Southampton</td>\n",
       "      <td>age_q2</td>\n",
       "    </tr>\n",
       "    <tr>\n",
       "      <th>4</th>\n",
       "      <td>True</td>\n",
       "      <td>1</td>\n",
       "      <td>female</td>\n",
       "      <td>35.0</td>\n",
       "      <td>1</td>\n",
       "      <td>0</td>\n",
       "      <td>53.1000</td>\n",
       "      <td>Southampton</td>\n",
       "      <td>age_q3</td>\n",
       "    </tr>\n",
       "    <tr>\n",
       "      <th>5</th>\n",
       "      <td>False</td>\n",
       "      <td>3</td>\n",
       "      <td>male</td>\n",
       "      <td>35.0</td>\n",
       "      <td>0</td>\n",
       "      <td>0</td>\n",
       "      <td>8.0500</td>\n",
       "      <td>Southampton</td>\n",
       "      <td>age_q3</td>\n",
       "    </tr>\n",
       "  </tbody>\n",
       "</table>\n",
       "</div>"
      ],
      "text/plain": [
       "             survie classe   genre   age  nb_freres_soeurs  nb_parents  \\\n",
       "PassengerId                                                              \n",
       "1             False      3    male  22.0                 1           0   \n",
       "2              True      1  female  38.0                 1           0   \n",
       "3              True      3  female  26.0                 0           0   \n",
       "4              True      1  female  35.0                 1           0   \n",
       "5             False      3    male  35.0                 0           0   \n",
       "\n",
       "                prix         port   age_q  \n",
       "PassengerId                                \n",
       "1             7.2500  Southampton  age_q2  \n",
       "2            71.2833    Cherbourg  age_q3  \n",
       "3             7.9250  Southampton  age_q2  \n",
       "4            53.1000  Southampton  age_q3  \n",
       "5             8.0500  Southampton  age_q3  "
      ]
     },
     "execution_count": 41,
     "metadata": {},
     "output_type": "execute_result"
    }
   ],
   "source": [
    "# Rappel du DataFrame\n",
    "df.head()"
   ]
  },
  {
   "cell_type": "code",
   "execution_count": 42,
   "metadata": {
    "id": "GeLd5tolkeMh",
    "outputId": "95dcb954-285e-4190-fd15-7a7223deab9e"
   },
   "outputs": [
    {
     "data": {
      "text/plain": [
       "<pandas.core.groupby.generic.DataFrameGroupBy object at 0x7fb508239640>"
      ]
     },
     "execution_count": 42,
     "metadata": {},
     "output_type": "execute_result"
    }
   ],
   "source": [
    "# Regrouper par genre et port d'embarquement\n",
    "df.groupby(['genre', 'port'])"
   ]
  },
  {
   "cell_type": "code",
   "execution_count": 43,
   "metadata": {
    "id": "NUWqSq14keMh",
    "outputId": "4eada087-0d41-48c0-aacb-40aa4f66b4b6"
   },
   "outputs": [
    {
     "data": {
      "text/plain": [
       "{('female', 'Cherbourg'): [2, 10, 20, 32, 40, 44, 53, 112, 115, 129, 141, 178, 195, 196, 216, 219, 241, 256, 257, 259, 292, 300, 307, 308, 310, 311, 312, 320, 326, 330, 338, 363, 367, 368, 370, 376, 381, 382, 390, 394, 449, 470, 474, 497, 514, 524, 534, 538, 540, 557, 579, 582, 592, 609, 642, 645, 692, 701, 703, 711, 717, 743, 781, 831, 836, 843, 850, 853, 859, 867, 875, 876, 880], ('female', 'Queenstown'): [23, 29, 33, 45, 48, 83, 110, 157, 187, 199, 209, 242, 265, 275, 290, 301, 304, 323, 331, 359, 360, 369, 413, 502, 503, 574, 594, 613, 654, 655, 658, 681, 698, 728, 768, 886], ('female', 'Southampton'): [3, 4, 9, 11, 12, 15, 16, 19, 25, 26, 39, 41, 42, 50, 54, 57, 59, 67, 69, 72, 80, 85, 86, 89, 99, 101, 107, 114, 120, 124, 133, 134, 137, 142, 143, 148, 152, 162, 167, 168, 173, 181, 185, 191, 193, 200, 206, 212, 217, 230, 231, 234, 236, 238, 247, 248, 252, 255, 258, 260, 269, 270, 273, 276, 277, 280, 291, 294, 298, 313, 316, 317, 319, 324, 328, 329, 335, 342, 346, 347, 348, 357, 358, 375, 377, 384, 388, 395, 397, 400, 403, 405, 410, 416, 417, 418, 420, 424, 427, 428, ...], ('female', nan): [62, 830], ('male', 'Cherbourg'): [27, 31, 35, 37, 43, 49, 55, 58, 61, 65, 66, 74, 97, 98, 119, 123, 126, 131, 136, 140, 156, 175, 182, 204, 208, 210, 245, 274, 286, 293, 296, 297, 309, 353, 355, 362, 371, 374, 378, 379, 421, 453, 454, 456, 485, 488, 494, 496, 506, 523, 525, 532, 533, 545, 548, 551, 554, 558, 569, 584, 585, 588, 599, 600, 605, 621, 623, 633, 646, 648, 660, 662, 680, 682, 686, 694, 699, 710, 732, 738, 763, 767, 774, 790, 794, 799, 804, 818, 828, 833, 840, 844, 848, 860, 890], ('male', 'Queenstown'): [6, 17, 47, 117, 127, 144, 172, 189, 197, 215, 246, 261, 279, 281, 302, 365, 389, 412, 422, 429, 460, 469, 511, 518, 526, 553, 561, 614, 627, 630, 704, 719, 750, 769, 777, 779, 788, 791, 826, 829, 891], ('male', 'Southampton'): [1, 5, 7, 8, 13, 14, 18, 21, 22, 24, 28, 30, 34, 36, 38, 46, 51, 52, 56, 60, 63, 64, 68, 70, 71, 73, 75, 76, 77, 78, 79, 81, 82, 84, 87, 88, 90, 91, 92, 93, 94, 95, 96, 100, 102, 103, 104, 105, 106, 108, 109, 111, 113, 116, 118, 121, 122, 125, 128, 130, 132, 135, 138, 139, 145, 146, 147, 149, 150, 151, 153, 154, 155, 158, 159, 160, 161, 163, 164, 165, 166, 169, 170, 171, 174, 176, 177, 179, 180, 183, 184, 186, 188, 190, 192, 194, 198, 201, 202, 203, ...]}"
      ]
     },
     "execution_count": 43,
     "metadata": {},
     "output_type": "execute_result"
    }
   ],
   "source": [
    "# Afficher les différentes modalités créées pour l'agrégation\n",
    "df.groupby(['genre', 'port']).groups"
   ]
  },
  {
   "cell_type": "markdown",
   "metadata": {
    "id": "Qr0FcI7MkeMh"
   },
   "source": [
    "On peut également choisir de regrouper le jeu de données selon des critères plus complexes, notamment grâce aux accesseurs"
   ]
  },
  {
   "cell_type": "code",
   "execution_count": 44,
   "metadata": {
    "id": "WQzlKqj4keMh",
    "outputId": "2ebaad22-f7bb-4642-87d6-8a8eb8b606cc"
   },
   "outputs": [
    {
     "data": {
      "text/plain": [
       "<pandas.core.groupby.generic.DataFrameGroupBy object at 0x7fb508239cd0>"
      ]
     },
     "execution_count": 44,
     "metadata": {},
     "output_type": "execute_result"
    }
   ],
   "source": [
    "full_df.groupby(full_df.Name.str.len()) # Regrouper selon le nombre de caractères dans le nom du passager"
   ]
  },
  {
   "cell_type": "markdown",
   "metadata": {
    "id": "qdPq99zlkeMh"
   },
   "source": [
    "Cette fonction retourne un objet interne à pandas qui représente en quelque sorte un pré-regroupement des données. Afin d'obtenir un résultat utilisable il est nécessaire de définir l'opération à appliquer.\n",
    "\n",
    "Trois familles d'opérations peuvent être appliquées :\n",
    "* **Opérations d'aggrégation** : retourne une unique valeur pour chaque groupe (ex: max)\n",
    "* **Opérations de transformation** : retourne un groupe transformé de la même taille pour chaque groupe (ex: moyenne glissante)\n",
    "* **Opérations de filtrage** : retourne un groupe uniquement s'il vérifie une condition (ex: filtrage en fonction de la moyenne du groupe)\n",
    "\n",
    "On se focalise ici sur le premier cas qui est généralement le plus courant.\n",
    "\n",
    "Les [opérations d'aggrégations les plus courantes](https://pandas.pydata.org/pandas-docs/stable/user_guide/groupby.html#aggregation) peuvent être appliquées rapidement grâce à des raccourcis de notation."
   ]
  },
  {
   "cell_type": "code",
   "execution_count": 45,
   "metadata": {
    "id": "ee59Suk3keMh",
    "outputId": "51f97636-3a70-48a5-e623-0ac0e9962cad"
   },
   "outputs": [
    {
     "data": {
      "text/html": [
       "<div>\n",
       "<style scoped>\n",
       "    .dataframe tbody tr th:only-of-type {\n",
       "        vertical-align: middle;\n",
       "    }\n",
       "\n",
       "    .dataframe tbody tr th {\n",
       "        vertical-align: top;\n",
       "    }\n",
       "\n",
       "    .dataframe thead th {\n",
       "        text-align: right;\n",
       "    }\n",
       "</style>\n",
       "<table border=\"1\" class=\"dataframe\">\n",
       "  <thead>\n",
       "    <tr style=\"text-align: right;\">\n",
       "      <th></th>\n",
       "      <th></th>\n",
       "      <th></th>\n",
       "      <th>age</th>\n",
       "      <th>nb_freres_soeurs</th>\n",
       "      <th>nb_parents</th>\n",
       "      <th>prix</th>\n",
       "    </tr>\n",
       "    <tr>\n",
       "      <th>port</th>\n",
       "      <th>genre</th>\n",
       "      <th>survie</th>\n",
       "      <th></th>\n",
       "      <th></th>\n",
       "      <th></th>\n",
       "      <th></th>\n",
       "    </tr>\n",
       "  </thead>\n",
       "  <tbody>\n",
       "    <tr>\n",
       "      <th rowspan=\"4\" valign=\"top\">Cherbourg</th>\n",
       "      <th rowspan=\"2\" valign=\"top\">female</th>\n",
       "      <th>False</th>\n",
       "      <td>25.583333</td>\n",
       "      <td>0.444444</td>\n",
       "      <td>0.555556</td>\n",
       "      <td>16.215278</td>\n",
       "    </tr>\n",
       "    <tr>\n",
       "      <th>True</th>\n",
       "      <td>28.645455</td>\n",
       "      <td>0.562500</td>\n",
       "      <td>0.484375</td>\n",
       "      <td>83.460286</td>\n",
       "    </tr>\n",
       "    <tr>\n",
       "      <th rowspan=\"2\" valign=\"top\">male</th>\n",
       "      <th>False</th>\n",
       "      <td>34.744444</td>\n",
       "      <td>0.227273</td>\n",
       "      <td>0.212121</td>\n",
       "      <td>38.065342</td>\n",
       "    </tr>\n",
       "    <tr>\n",
       "      <th>True</th>\n",
       "      <td>29.725833</td>\n",
       "      <td>0.344828</td>\n",
       "      <td>0.379310</td>\n",
       "      <td>71.468545</td>\n",
       "    </tr>\n",
       "    <tr>\n",
       "      <th rowspan=\"4\" valign=\"top\">Queenstown</th>\n",
       "      <th rowspan=\"2\" valign=\"top\">female</th>\n",
       "      <th>False</th>\n",
       "      <td>28.100000</td>\n",
       "      <td>0.111111</td>\n",
       "      <td>0.888889</td>\n",
       "      <td>10.904633</td>\n",
       "    </tr>\n",
       "    <tr>\n",
       "      <th>True</th>\n",
       "      <td>21.571429</td>\n",
       "      <td>0.259259</td>\n",
       "      <td>0.000000</td>\n",
       "      <td>13.211733</td>\n",
       "    </tr>\n",
       "    <tr>\n",
       "      <th rowspan=\"2\" valign=\"top\">male</th>\n",
       "      <th>False</th>\n",
       "      <td>31.066667</td>\n",
       "      <td>0.605263</td>\n",
       "      <td>0.131579</td>\n",
       "      <td>13.911732</td>\n",
       "    </tr>\n",
       "    <tr>\n",
       "      <th>True</th>\n",
       "      <td>29.000000</td>\n",
       "      <td>0.666667</td>\n",
       "      <td>0.000000</td>\n",
       "      <td>12.916667</td>\n",
       "    </tr>\n",
       "    <tr>\n",
       "      <th rowspan=\"4\" valign=\"top\">Southampton</th>\n",
       "      <th rowspan=\"2\" valign=\"top\">female</th>\n",
       "      <th>False</th>\n",
       "      <td>24.698113</td>\n",
       "      <td>1.476190</td>\n",
       "      <td>1.126984</td>\n",
       "      <td>25.728508</td>\n",
       "    </tr>\n",
       "    <tr>\n",
       "      <th>True</th>\n",
       "      <td>28.996241</td>\n",
       "      <td>0.550000</td>\n",
       "      <td>0.635714</td>\n",
       "      <td>44.596518</td>\n",
       "    </tr>\n",
       "    <tr>\n",
       "      <th rowspan=\"2\" valign=\"top\">male</th>\n",
       "      <th>False</th>\n",
       "      <td>31.176667</td>\n",
       "      <td>0.461538</td>\n",
       "      <td>0.214286</td>\n",
       "      <td>19.881281</td>\n",
       "    </tr>\n",
       "    <tr>\n",
       "      <th>True</th>\n",
       "      <td>26.386029</td>\n",
       "      <td>0.389610</td>\n",
       "      <td>0.363636</td>\n",
       "      <td>30.366286</td>\n",
       "    </tr>\n",
       "  </tbody>\n",
       "</table>\n",
       "</div>"
      ],
      "text/plain": [
       "                                 age  nb_freres_soeurs  nb_parents       prix\n",
       "port        genre  survie                                                    \n",
       "Cherbourg   female False   25.583333          0.444444    0.555556  16.215278\n",
       "                   True    28.645455          0.562500    0.484375  83.460286\n",
       "            male   False   34.744444          0.227273    0.212121  38.065342\n",
       "                   True    29.725833          0.344828    0.379310  71.468545\n",
       "Queenstown  female False   28.100000          0.111111    0.888889  10.904633\n",
       "                   True    21.571429          0.259259    0.000000  13.211733\n",
       "            male   False   31.066667          0.605263    0.131579  13.911732\n",
       "                   True    29.000000          0.666667    0.000000  12.916667\n",
       "Southampton female False   24.698113          1.476190    1.126984  25.728508\n",
       "                   True    28.996241          0.550000    0.635714  44.596518\n",
       "            male   False   31.176667          0.461538    0.214286  19.881281\n",
       "                   True    26.386029          0.389610    0.363636  30.366286"
      ]
     },
     "execution_count": 45,
     "metadata": {},
     "output_type": "execute_result"
    }
   ],
   "source": [
    "df.groupby(['port', 'genre', 'survie']).mean() # L'ordre des colonnes de regroupement indique l'ordre d'agrégation\n",
    "# Les opérations arithmétiques d'agrégation sont appliquées uniquement sur les variables quantitatives\n",
    "# Les autres variables sont ignorées silencieusement"
   ]
  },
  {
   "cell_type": "code",
   "execution_count": 46,
   "metadata": {
    "id": "dn6IPWVlkeMh",
    "outputId": "2c4fc5d5-229d-435c-cd0c-b6af10108ad2"
   },
   "outputs": [
    {
     "data": {
      "text/html": [
       "<div>\n",
       "<style scoped>\n",
       "    .dataframe tbody tr th:only-of-type {\n",
       "        vertical-align: middle;\n",
       "    }\n",
       "\n",
       "    .dataframe tbody tr th {\n",
       "        vertical-align: top;\n",
       "    }\n",
       "\n",
       "    .dataframe thead th {\n",
       "        text-align: right;\n",
       "    }\n",
       "</style>\n",
       "<table border=\"1\" class=\"dataframe\">\n",
       "  <thead>\n",
       "    <tr style=\"text-align: right;\">\n",
       "      <th></th>\n",
       "      <th>port</th>\n",
       "      <th>genre</th>\n",
       "      <th>survie</th>\n",
       "      <th>age</th>\n",
       "      <th>nb_freres_soeurs</th>\n",
       "      <th>nb_parents</th>\n",
       "      <th>prix</th>\n",
       "    </tr>\n",
       "  </thead>\n",
       "  <tbody>\n",
       "    <tr>\n",
       "      <th>0</th>\n",
       "      <td>Cherbourg</td>\n",
       "      <td>female</td>\n",
       "      <td>False</td>\n",
       "      <td>25.583333</td>\n",
       "      <td>0.444444</td>\n",
       "      <td>0.555556</td>\n",
       "      <td>16.215278</td>\n",
       "    </tr>\n",
       "    <tr>\n",
       "      <th>1</th>\n",
       "      <td>Cherbourg</td>\n",
       "      <td>female</td>\n",
       "      <td>True</td>\n",
       "      <td>28.645455</td>\n",
       "      <td>0.562500</td>\n",
       "      <td>0.484375</td>\n",
       "      <td>83.460286</td>\n",
       "    </tr>\n",
       "    <tr>\n",
       "      <th>2</th>\n",
       "      <td>Cherbourg</td>\n",
       "      <td>male</td>\n",
       "      <td>False</td>\n",
       "      <td>34.744444</td>\n",
       "      <td>0.227273</td>\n",
       "      <td>0.212121</td>\n",
       "      <td>38.065342</td>\n",
       "    </tr>\n",
       "    <tr>\n",
       "      <th>3</th>\n",
       "      <td>Cherbourg</td>\n",
       "      <td>male</td>\n",
       "      <td>True</td>\n",
       "      <td>29.725833</td>\n",
       "      <td>0.344828</td>\n",
       "      <td>0.379310</td>\n",
       "      <td>71.468545</td>\n",
       "    </tr>\n",
       "    <tr>\n",
       "      <th>4</th>\n",
       "      <td>Queenstown</td>\n",
       "      <td>female</td>\n",
       "      <td>False</td>\n",
       "      <td>28.100000</td>\n",
       "      <td>0.111111</td>\n",
       "      <td>0.888889</td>\n",
       "      <td>10.904633</td>\n",
       "    </tr>\n",
       "    <tr>\n",
       "      <th>5</th>\n",
       "      <td>Queenstown</td>\n",
       "      <td>female</td>\n",
       "      <td>True</td>\n",
       "      <td>21.571429</td>\n",
       "      <td>0.259259</td>\n",
       "      <td>0.000000</td>\n",
       "      <td>13.211733</td>\n",
       "    </tr>\n",
       "    <tr>\n",
       "      <th>6</th>\n",
       "      <td>Queenstown</td>\n",
       "      <td>male</td>\n",
       "      <td>False</td>\n",
       "      <td>31.066667</td>\n",
       "      <td>0.605263</td>\n",
       "      <td>0.131579</td>\n",
       "      <td>13.911732</td>\n",
       "    </tr>\n",
       "    <tr>\n",
       "      <th>7</th>\n",
       "      <td>Queenstown</td>\n",
       "      <td>male</td>\n",
       "      <td>True</td>\n",
       "      <td>29.000000</td>\n",
       "      <td>0.666667</td>\n",
       "      <td>0.000000</td>\n",
       "      <td>12.916667</td>\n",
       "    </tr>\n",
       "    <tr>\n",
       "      <th>8</th>\n",
       "      <td>Southampton</td>\n",
       "      <td>female</td>\n",
       "      <td>False</td>\n",
       "      <td>24.698113</td>\n",
       "      <td>1.476190</td>\n",
       "      <td>1.126984</td>\n",
       "      <td>25.728508</td>\n",
       "    </tr>\n",
       "    <tr>\n",
       "      <th>9</th>\n",
       "      <td>Southampton</td>\n",
       "      <td>female</td>\n",
       "      <td>True</td>\n",
       "      <td>28.996241</td>\n",
       "      <td>0.550000</td>\n",
       "      <td>0.635714</td>\n",
       "      <td>44.596518</td>\n",
       "    </tr>\n",
       "    <tr>\n",
       "      <th>10</th>\n",
       "      <td>Southampton</td>\n",
       "      <td>male</td>\n",
       "      <td>False</td>\n",
       "      <td>31.176667</td>\n",
       "      <td>0.461538</td>\n",
       "      <td>0.214286</td>\n",
       "      <td>19.881281</td>\n",
       "    </tr>\n",
       "    <tr>\n",
       "      <th>11</th>\n",
       "      <td>Southampton</td>\n",
       "      <td>male</td>\n",
       "      <td>True</td>\n",
       "      <td>26.386029</td>\n",
       "      <td>0.389610</td>\n",
       "      <td>0.363636</td>\n",
       "      <td>30.366286</td>\n",
       "    </tr>\n",
       "  </tbody>\n",
       "</table>\n",
       "</div>"
      ],
      "text/plain": [
       "           port   genre  survie        age  nb_freres_soeurs  nb_parents  \\\n",
       "0     Cherbourg  female   False  25.583333          0.444444    0.555556   \n",
       "1     Cherbourg  female    True  28.645455          0.562500    0.484375   \n",
       "2     Cherbourg    male   False  34.744444          0.227273    0.212121   \n",
       "3     Cherbourg    male    True  29.725833          0.344828    0.379310   \n",
       "4    Queenstown  female   False  28.100000          0.111111    0.888889   \n",
       "5    Queenstown  female    True  21.571429          0.259259    0.000000   \n",
       "6    Queenstown    male   False  31.066667          0.605263    0.131579   \n",
       "7    Queenstown    male    True  29.000000          0.666667    0.000000   \n",
       "8   Southampton  female   False  24.698113          1.476190    1.126984   \n",
       "9   Southampton  female    True  28.996241          0.550000    0.635714   \n",
       "10  Southampton    male   False  31.176667          0.461538    0.214286   \n",
       "11  Southampton    male    True  26.386029          0.389610    0.363636   \n",
       "\n",
       "         prix  \n",
       "0   16.215278  \n",
       "1   83.460286  \n",
       "2   38.065342  \n",
       "3   71.468545  \n",
       "4   10.904633  \n",
       "5   13.211733  \n",
       "6   13.911732  \n",
       "7   12.916667  \n",
       "8   25.728508  \n",
       "9   44.596518  \n",
       "10  19.881281  \n",
       "11  30.366286  "
      ]
     },
     "execution_count": 46,
     "metadata": {},
     "output_type": "execute_result"
    }
   ],
   "source": [
    "# On peut éviter d'utiliser les modalités des facteurs de regroupement comme index avec as_index = False\n",
    "# Dans ce cas, on se rapproche du fonctionnement d'un GROUP BY en SQL (clés d'agrégation disponibles en colonnes)\n",
    "df.groupby(['port', 'genre', 'survie'], as_index=False).mean()"
   ]
  },
  {
   "cell_type": "markdown",
   "metadata": {
    "id": "6_5cwCHPkeMh"
   },
   "source": [
    "On remarque que par défaut, les opérations d'aggrégation sont appliquées à toutes les colonnes compatibles (numériques ici).\n",
    "\n",
    "#### Agrégations nommées\n",
    "\n",
    "On veut souvent appliquer des méthodes d'agrégation spécifiques sur chaque colonne et envoyer le résultat vers une nouvelle colonne. `pandas` supporte depuis peu ce mode de fonctionnement.\n",
    "\n",
    "La fonction à utiliser dans ce cas est **`agg`**. Elle accepte un nombre illimité de paramètres. Chacun de ces paramètres correspond au nom de la colonne cible.\n",
    "\n",
    "Le contenu de chaque paramètre est un tuple `(nom de la colonne d'origine (à agréger), fonction d'agrégation)`."
   ]
  },
  {
   "cell_type": "code",
   "execution_count": 47,
   "metadata": {
    "id": "PewABEK0keMh",
    "outputId": "bbf2b771-f6ea-4e81-b0f2-5580379c1e9a"
   },
   "outputs": [
    {
     "data": {
      "text/html": [
       "<div>\n",
       "<style scoped>\n",
       "    .dataframe tbody tr th:only-of-type {\n",
       "        vertical-align: middle;\n",
       "    }\n",
       "\n",
       "    .dataframe tbody tr th {\n",
       "        vertical-align: top;\n",
       "    }\n",
       "\n",
       "    .dataframe thead th {\n",
       "        text-align: right;\n",
       "    }\n",
       "</style>\n",
       "<table border=\"1\" class=\"dataframe\">\n",
       "  <thead>\n",
       "    <tr style=\"text-align: right;\">\n",
       "      <th></th>\n",
       "      <th>max_nb_freres_soeurs</th>\n",
       "      <th>moyenne_prix</th>\n",
       "    </tr>\n",
       "    <tr>\n",
       "      <th>genre</th>\n",
       "      <th></th>\n",
       "      <th></th>\n",
       "    </tr>\n",
       "  </thead>\n",
       "  <tbody>\n",
       "    <tr>\n",
       "      <th>female</th>\n",
       "      <td>8</td>\n",
       "      <td>44.479818</td>\n",
       "    </tr>\n",
       "    <tr>\n",
       "      <th>male</th>\n",
       "      <td>8</td>\n",
       "      <td>25.523893</td>\n",
       "    </tr>\n",
       "  </tbody>\n",
       "</table>\n",
       "</div>"
      ],
      "text/plain": [
       "        max_nb_freres_soeurs  moyenne_prix\n",
       "genre                                     \n",
       "female                     8     44.479818\n",
       "male                       8     25.523893"
      ]
     },
     "execution_count": 47,
     "metadata": {},
     "output_type": "execute_result"
    }
   ],
   "source": [
    "df.groupby('genre').agg(max_nb_freres_soeurs=('nb_freres_soeurs', 'max'),\n",
    "                        moyenne_prix=('prix', 'mean'))"
   ]
  },
  {
   "cell_type": "markdown",
   "metadata": {
    "id": "IcA7AFI9keMh"
   },
   "source": [
    "De même que pour les opérations de filtrage, les opérations de regroupement et d'aggrégation sont critiques pour effectuer des analyses. Prenez un moment pour vous entraîner avant de passer à la partie suivante"
   ]
  },
  {
   "cell_type": "markdown",
   "metadata": {
    "id": "S2KczbHTkeMh"
   },
   "source": [
    "### 3.10 Gestion des données manquantes\n",
    "La gestion des données manquantes est souvent un point délicat. De nombreuses stratégies plus ou moins complexes ont été élaborées à cet effet. Nous ne décrivons ici que les plus élémentaires à [mettre en oeuvre](http://pandas.pydata.org/pandas-docs/version/0.15.2/missing_data.html) avec `pandas`.\n",
    "\n",
    "Il est ainsi facile de supprimer toutes les observations présentant des données manquantes lorsque celles-ci sont peu nombreuses et majoritairement regroupées sur certaines lignes ou colonnes.\n",
    "\n",
    "``\n",
    "df = df.dropna(axis=0) # suppression des lignes vides\n",
    "df = df.dropna(axis=1) # suppression des colonnes vides (toute la colonne est vide)\n",
    "``\n",
    "\n",
    "`pandas` permet également de faire le choix pour une variable qualitative de considérer `np.nan` comme une modalité spécifique ou d'ignorer l'observation correspondante.\n",
    "\n",
    "Autres stratégies:\n",
    "* Cas quantitatif: une valeur manquante est remplacée par la moyenne ou la médiane.\n",
    "*  Cas d'une série chronologique: imputation par la valeur précédente ou suivante ou par interpolation linéaire, polynomiale ou encore lissage spline.\n",
    "* Cas qualitatif: modalité la plus fréquente ou répartition aléatoire selon les fréquences observées des modalités.\n",
    "\n",
    "La variable âge contient de nombreuses données manquantes. La fonction `fillna` présente plusieurs options d'imputation."
   ]
  },
  {
   "cell_type": "code",
   "execution_count": 48,
   "metadata": {
    "id": "WtwiiDUrkeMh",
    "outputId": "20746413-b42f-4393-996d-2449cd8f46d0",
    "scrolled": true
   },
   "outputs": [
    {
     "data": {
      "text/html": [
       "<div>\n",
       "<style scoped>\n",
       "    .dataframe tbody tr th:only-of-type {\n",
       "        vertical-align: middle;\n",
       "    }\n",
       "\n",
       "    .dataframe tbody tr th {\n",
       "        vertical-align: top;\n",
       "    }\n",
       "\n",
       "    .dataframe thead th {\n",
       "        text-align: right;\n",
       "    }\n",
       "</style>\n",
       "<table border=\"1\" class=\"dataframe\">\n",
       "  <thead>\n",
       "    <tr style=\"text-align: right;\">\n",
       "      <th></th>\n",
       "      <th>survie</th>\n",
       "      <th>classe</th>\n",
       "      <th>genre</th>\n",
       "      <th>age</th>\n",
       "      <th>nb_freres_soeurs</th>\n",
       "      <th>nb_parents</th>\n",
       "      <th>prix</th>\n",
       "      <th>port</th>\n",
       "      <th>age_q</th>\n",
       "    </tr>\n",
       "    <tr>\n",
       "      <th>PassengerId</th>\n",
       "      <th></th>\n",
       "      <th></th>\n",
       "      <th></th>\n",
       "      <th></th>\n",
       "      <th></th>\n",
       "      <th></th>\n",
       "      <th></th>\n",
       "      <th></th>\n",
       "      <th></th>\n",
       "    </tr>\n",
       "  </thead>\n",
       "  <tbody>\n",
       "    <tr>\n",
       "      <th>1</th>\n",
       "      <td>False</td>\n",
       "      <td>3</td>\n",
       "      <td>male</td>\n",
       "      <td>22.0</td>\n",
       "      <td>1</td>\n",
       "      <td>0</td>\n",
       "      <td>7.2500</td>\n",
       "      <td>Southampton</td>\n",
       "      <td>age_q2</td>\n",
       "    </tr>\n",
       "    <tr>\n",
       "      <th>2</th>\n",
       "      <td>True</td>\n",
       "      <td>1</td>\n",
       "      <td>female</td>\n",
       "      <td>38.0</td>\n",
       "      <td>1</td>\n",
       "      <td>0</td>\n",
       "      <td>71.2833</td>\n",
       "      <td>Cherbourg</td>\n",
       "      <td>age_q3</td>\n",
       "    </tr>\n",
       "    <tr>\n",
       "      <th>3</th>\n",
       "      <td>True</td>\n",
       "      <td>3</td>\n",
       "      <td>female</td>\n",
       "      <td>26.0</td>\n",
       "      <td>0</td>\n",
       "      <td>0</td>\n",
       "      <td>7.9250</td>\n",
       "      <td>Southampton</td>\n",
       "      <td>age_q2</td>\n",
       "    </tr>\n",
       "    <tr>\n",
       "      <th>4</th>\n",
       "      <td>True</td>\n",
       "      <td>1</td>\n",
       "      <td>female</td>\n",
       "      <td>35.0</td>\n",
       "      <td>1</td>\n",
       "      <td>0</td>\n",
       "      <td>53.1000</td>\n",
       "      <td>Southampton</td>\n",
       "      <td>age_q3</td>\n",
       "    </tr>\n",
       "    <tr>\n",
       "      <th>5</th>\n",
       "      <td>False</td>\n",
       "      <td>3</td>\n",
       "      <td>male</td>\n",
       "      <td>35.0</td>\n",
       "      <td>0</td>\n",
       "      <td>0</td>\n",
       "      <td>8.0500</td>\n",
       "      <td>Southampton</td>\n",
       "      <td>age_q3</td>\n",
       "    </tr>\n",
       "    <tr>\n",
       "      <th>...</th>\n",
       "      <td>...</td>\n",
       "      <td>...</td>\n",
       "      <td>...</td>\n",
       "      <td>...</td>\n",
       "      <td>...</td>\n",
       "      <td>...</td>\n",
       "      <td>...</td>\n",
       "      <td>...</td>\n",
       "      <td>...</td>\n",
       "    </tr>\n",
       "    <tr>\n",
       "      <th>887</th>\n",
       "      <td>False</td>\n",
       "      <td>2</td>\n",
       "      <td>male</td>\n",
       "      <td>27.0</td>\n",
       "      <td>0</td>\n",
       "      <td>0</td>\n",
       "      <td>13.0000</td>\n",
       "      <td>Southampton</td>\n",
       "      <td>age_q2</td>\n",
       "    </tr>\n",
       "    <tr>\n",
       "      <th>888</th>\n",
       "      <td>True</td>\n",
       "      <td>1</td>\n",
       "      <td>female</td>\n",
       "      <td>19.0</td>\n",
       "      <td>0</td>\n",
       "      <td>0</td>\n",
       "      <td>30.0000</td>\n",
       "      <td>Southampton</td>\n",
       "      <td>age_q1</td>\n",
       "    </tr>\n",
       "    <tr>\n",
       "      <th>889</th>\n",
       "      <td>False</td>\n",
       "      <td>3</td>\n",
       "      <td>female</td>\n",
       "      <td>28.0</td>\n",
       "      <td>1</td>\n",
       "      <td>2</td>\n",
       "      <td>23.4500</td>\n",
       "      <td>Southampton</td>\n",
       "      <td>NaN</td>\n",
       "    </tr>\n",
       "    <tr>\n",
       "      <th>890</th>\n",
       "      <td>True</td>\n",
       "      <td>1</td>\n",
       "      <td>male</td>\n",
       "      <td>26.0</td>\n",
       "      <td>0</td>\n",
       "      <td>0</td>\n",
       "      <td>30.0000</td>\n",
       "      <td>Cherbourg</td>\n",
       "      <td>age_q2</td>\n",
       "    </tr>\n",
       "    <tr>\n",
       "      <th>891</th>\n",
       "      <td>False</td>\n",
       "      <td>3</td>\n",
       "      <td>male</td>\n",
       "      <td>32.0</td>\n",
       "      <td>0</td>\n",
       "      <td>0</td>\n",
       "      <td>7.7500</td>\n",
       "      <td>Queenstown</td>\n",
       "      <td>age_q3</td>\n",
       "    </tr>\n",
       "  </tbody>\n",
       "</table>\n",
       "<p>891 rows × 9 columns</p>\n",
       "</div>"
      ],
      "text/plain": [
       "             survie classe   genre   age  nb_freres_soeurs  nb_parents  \\\n",
       "PassengerId                                                              \n",
       "1             False      3    male  22.0                 1           0   \n",
       "2              True      1  female  38.0                 1           0   \n",
       "3              True      3  female  26.0                 0           0   \n",
       "4              True      1  female  35.0                 1           0   \n",
       "5             False      3    male  35.0                 0           0   \n",
       "...             ...    ...     ...   ...               ...         ...   \n",
       "887           False      2    male  27.0                 0           0   \n",
       "888            True      1  female  19.0                 0           0   \n",
       "889           False      3  female  28.0                 1           2   \n",
       "890            True      1    male  26.0                 0           0   \n",
       "891           False      3    male  32.0                 0           0   \n",
       "\n",
       "                prix         port   age_q  \n",
       "PassengerId                                \n",
       "1             7.2500  Southampton  age_q2  \n",
       "2            71.2833    Cherbourg  age_q3  \n",
       "3             7.9250  Southampton  age_q2  \n",
       "4            53.1000  Southampton  age_q3  \n",
       "5             8.0500  Southampton  age_q3  \n",
       "...              ...          ...     ...  \n",
       "887          13.0000  Southampton  age_q2  \n",
       "888          30.0000  Southampton  age_q1  \n",
       "889          23.4500  Southampton     NaN  \n",
       "890          30.0000    Cherbourg  age_q2  \n",
       "891           7.7500   Queenstown  age_q3  \n",
       "\n",
       "[891 rows x 9 columns]"
      ]
     },
     "execution_count": 48,
     "metadata": {},
     "output_type": "execute_result"
    }
   ],
   "source": [
    "# Variables quantitatives remplacées par leurs médianes (colonne par colonne)\n",
    "df.fillna(df.median())"
   ]
  },
  {
   "cell_type": "code",
   "execution_count": 49,
   "metadata": {
    "id": "U6VkcU5UkeMi",
    "outputId": "0ed6f0b3-a1a3-4dcc-ae78-458561907808"
   },
   "outputs": [
    {
     "data": {
      "text/plain": [
       "PassengerId\n",
       "1      age_q2\n",
       "2      age_q3\n",
       "3      age_q2\n",
       "4      age_q3\n",
       "5      age_q3\n",
       "        ...  \n",
       "887    age_q2\n",
       "888    age_q1\n",
       "889    age_q2\n",
       "890    age_q2\n",
       "891    age_q3\n",
       "Name: age_q, Length: 891, dtype: category\n",
       "Categories (4, object): ['age_q1' < 'age_q2' < 'age_q3' < 'age_q4']"
      ]
     },
     "execution_count": 49,
     "metadata": {},
     "output_type": "execute_result"
    }
   ],
   "source": [
    "# Valeurs qualitatives \"age_q\" manquantes remplacées par une valeur arbitraire (\"age_q2\", la valeur médiane)\n",
    "df.age_q.fillna('age_q2')"
   ]
  },
  {
   "cell_type": "markdown",
   "metadata": {
    "id": "ssTGF-hmkeMi"
   },
   "source": [
    "D'autres fonctions sont proposées pour supprimer les duplicatas (`drop_duplicates`), modifier les dimensions, traquer des atypiques unidimensionnels selon un modèle gaussien ou par rapport à des quantiles. Elles ne seront pas abordées dans cette introduction."
   ]
  },
  {
   "cell_type": "markdown",
   "metadata": {
    "id": "EPckPa7QkeMi"
   },
   "source": [
    "## 4 Manipuler des tables de données\n",
    "### 5.1 Jointure\n",
    "Il s'agit de joindre deux tables partageant la même clef ou encore de concaténer horizontalement les lignes en faisant correspondre les valeurs d'une variable clef qui peuvent ne pas être uniques."
   ]
  },
  {
   "cell_type": "code",
   "execution_count": 50,
   "metadata": {
    "id": "mQJI4fVQkeMi",
    "outputId": "49ac265e-17e7-48c3-d836-5f2744d182b2"
   },
   "outputs": [
    {
     "data": {
      "text/html": [
       "<div>\n",
       "<style scoped>\n",
       "    .dataframe tbody tr th:only-of-type {\n",
       "        vertical-align: middle;\n",
       "    }\n",
       "\n",
       "    .dataframe tbody tr th {\n",
       "        vertical-align: top;\n",
       "    }\n",
       "\n",
       "    .dataframe thead th {\n",
       "        text-align: right;\n",
       "    }\n",
       "</style>\n",
       "<table border=\"1\" class=\"dataframe\">\n",
       "  <thead>\n",
       "    <tr style=\"text-align: right;\">\n",
       "      <th></th>\n",
       "      <th>key</th>\n",
       "      <th>data1</th>\n",
       "      <th>data2</th>\n",
       "    </tr>\n",
       "  </thead>\n",
       "  <tbody>\n",
       "    <tr>\n",
       "      <th>0</th>\n",
       "      <td>b</td>\n",
       "      <td>0</td>\n",
       "      <td>1</td>\n",
       "    </tr>\n",
       "    <tr>\n",
       "      <th>1</th>\n",
       "      <td>b</td>\n",
       "      <td>1</td>\n",
       "      <td>1</td>\n",
       "    </tr>\n",
       "    <tr>\n",
       "      <th>2</th>\n",
       "      <td>b</td>\n",
       "      <td>6</td>\n",
       "      <td>1</td>\n",
       "    </tr>\n",
       "    <tr>\n",
       "      <th>3</th>\n",
       "      <td>a</td>\n",
       "      <td>2</td>\n",
       "      <td>0</td>\n",
       "    </tr>\n",
       "    <tr>\n",
       "      <th>4</th>\n",
       "      <td>a</td>\n",
       "      <td>4</td>\n",
       "      <td>0</td>\n",
       "    </tr>\n",
       "    <tr>\n",
       "      <th>5</th>\n",
       "      <td>a</td>\n",
       "      <td>5</td>\n",
       "      <td>0</td>\n",
       "    </tr>\n",
       "  </tbody>\n",
       "</table>\n",
       "</div>"
      ],
      "text/plain": [
       "  key  data1  data2\n",
       "0   b      0      1\n",
       "1   b      1      1\n",
       "2   b      6      1\n",
       "3   a      2      0\n",
       "4   a      4      0\n",
       "5   a      5      0"
      ]
     },
     "execution_count": 50,
     "metadata": {},
     "output_type": "execute_result"
    }
   ],
   "source": [
    "df1 = pd.DataFrame({\"key\": [\"b\", \"b\", \"a\", \"c\", \"a\",\"a\", \"b\"], \n",
    "                    \"data1\": range(7)})\n",
    "df2 = pd.DataFrame({\"key\": [\"a\", \"b\", \"d\"],\n",
    "                    \"data2\": range(3)})\n",
    "pd.merge(df1,df2,on=\"key\")"
   ]
  },
  {
   "cell_type": "markdown",
   "metadata": {
    "id": "fGToxbrokeMi"
   },
   "source": [
    "On retrouve les même modes de gestion de clefs manquantes qu'en SQL (INNER vs. OUTER joins)."
   ]
  },
  {
   "cell_type": "code",
   "execution_count": 51,
   "metadata": {
    "id": "IV0ZM3OQkeMi",
    "outputId": "830a3311-d5ce-4cae-b733-2ad7cbb801bf"
   },
   "outputs": [
    {
     "data": {
      "text/html": [
       "<div>\n",
       "<style scoped>\n",
       "    .dataframe tbody tr th:only-of-type {\n",
       "        vertical-align: middle;\n",
       "    }\n",
       "\n",
       "    .dataframe tbody tr th {\n",
       "        vertical-align: top;\n",
       "    }\n",
       "\n",
       "    .dataframe thead th {\n",
       "        text-align: right;\n",
       "    }\n",
       "</style>\n",
       "<table border=\"1\" class=\"dataframe\">\n",
       "  <thead>\n",
       "    <tr style=\"text-align: right;\">\n",
       "      <th></th>\n",
       "      <th>key</th>\n",
       "      <th>data1</th>\n",
       "      <th>data2</th>\n",
       "    </tr>\n",
       "  </thead>\n",
       "  <tbody>\n",
       "    <tr>\n",
       "      <th>0</th>\n",
       "      <td>b</td>\n",
       "      <td>0.0</td>\n",
       "      <td>1.0</td>\n",
       "    </tr>\n",
       "    <tr>\n",
       "      <th>1</th>\n",
       "      <td>b</td>\n",
       "      <td>1.0</td>\n",
       "      <td>1.0</td>\n",
       "    </tr>\n",
       "    <tr>\n",
       "      <th>2</th>\n",
       "      <td>b</td>\n",
       "      <td>6.0</td>\n",
       "      <td>1.0</td>\n",
       "    </tr>\n",
       "    <tr>\n",
       "      <th>3</th>\n",
       "      <td>a</td>\n",
       "      <td>2.0</td>\n",
       "      <td>0.0</td>\n",
       "    </tr>\n",
       "    <tr>\n",
       "      <th>4</th>\n",
       "      <td>a</td>\n",
       "      <td>4.0</td>\n",
       "      <td>0.0</td>\n",
       "    </tr>\n",
       "    <tr>\n",
       "      <th>5</th>\n",
       "      <td>a</td>\n",
       "      <td>5.0</td>\n",
       "      <td>0.0</td>\n",
       "    </tr>\n",
       "    <tr>\n",
       "      <th>6</th>\n",
       "      <td>c</td>\n",
       "      <td>3.0</td>\n",
       "      <td>NaN</td>\n",
       "    </tr>\n",
       "    <tr>\n",
       "      <th>7</th>\n",
       "      <td>d</td>\n",
       "      <td>NaN</td>\n",
       "      <td>2.0</td>\n",
       "    </tr>\n",
       "  </tbody>\n",
       "</table>\n",
       "</div>"
      ],
      "text/plain": [
       "  key  data1  data2\n",
       "0   b    0.0    1.0\n",
       "1   b    1.0    1.0\n",
       "2   b    6.0    1.0\n",
       "3   a    2.0    0.0\n",
       "4   a    4.0    0.0\n",
       "5   a    5.0    0.0\n",
       "6   c    3.0    NaN\n",
       "7   d    NaN    2.0"
      ]
     },
     "execution_count": 51,
     "metadata": {},
     "output_type": "execute_result"
    }
   ],
   "source": [
    "# Conserver les clés manquantes à gauche et à droite lors de la fusion (équivalent à un FULL OUTER join)\n",
    "pd.merge(df1,df2,on=\"key\", how=\"outer\")"
   ]
  },
  {
   "cell_type": "markdown",
   "metadata": {
    "id": "gkDzDAUikeMi"
   },
   "source": [
    "Le fonctionnement de `merge` est semblable à la déclaration `JOIN` en SQL, les mêmes modes de jointures sont disponibles (\"left\", \"inner\", etc...). \n",
    "\n",
    "`merge` accepte un grand nombre de paramètres facultatifs pour autoriser toutes les jointures ou presque, garder sa [documentation](https://pandas.pydata.org/pandas-docs/stable/reference/api/pandas.DataFrame.merge.html) à portée de main lors de l'intégration de différents jeux de données est presque obligatoire."
   ]
  },
  {
   "cell_type": "markdown",
   "metadata": {
    "id": "Amm-jX4OkeMi"
   },
   "source": [
    "### 5.2 Concaténation selon un axe\n",
    "Concaténation verticale (axis=0) ou horizontale (axis=1) de tables. La concaténation horizontale est similaire à la jointure (option `outer`)."
   ]
  },
  {
   "cell_type": "code",
   "execution_count": 52,
   "metadata": {
    "id": "EsHehHa_keMi"
   },
   "outputs": [],
   "source": [
    "df1 = pd.DataFrame({\"key\": [\"b\", \"b\", \"a\", \"c\", \n",
    "    \"a\", \"a\", \"b\"],\"var\": range(7)})\n",
    "df2 = pd.DataFrame({\"key\": [\"a\", \"b\", \"d\"],\n",
    "    \"var\": range(3)})"
   ]
  },
  {
   "cell_type": "code",
   "execution_count": 53,
   "metadata": {
    "id": "ABeWkeQ6keMi",
    "outputId": "c7285ede-bcaf-4469-dc6a-754578fa9799"
   },
   "outputs": [
    {
     "data": {
      "text/html": [
       "<div>\n",
       "<style scoped>\n",
       "    .dataframe tbody tr th:only-of-type {\n",
       "        vertical-align: middle;\n",
       "    }\n",
       "\n",
       "    .dataframe tbody tr th {\n",
       "        vertical-align: top;\n",
       "    }\n",
       "\n",
       "    .dataframe thead th {\n",
       "        text-align: right;\n",
       "    }\n",
       "</style>\n",
       "<table border=\"1\" class=\"dataframe\">\n",
       "  <thead>\n",
       "    <tr style=\"text-align: right;\">\n",
       "      <th></th>\n",
       "      <th>key</th>\n",
       "      <th>var</th>\n",
       "    </tr>\n",
       "  </thead>\n",
       "  <tbody>\n",
       "    <tr>\n",
       "      <th>0</th>\n",
       "      <td>b</td>\n",
       "      <td>0</td>\n",
       "    </tr>\n",
       "    <tr>\n",
       "      <th>1</th>\n",
       "      <td>b</td>\n",
       "      <td>1</td>\n",
       "    </tr>\n",
       "    <tr>\n",
       "      <th>2</th>\n",
       "      <td>a</td>\n",
       "      <td>2</td>\n",
       "    </tr>\n",
       "    <tr>\n",
       "      <th>3</th>\n",
       "      <td>c</td>\n",
       "      <td>3</td>\n",
       "    </tr>\n",
       "    <tr>\n",
       "      <th>4</th>\n",
       "      <td>a</td>\n",
       "      <td>4</td>\n",
       "    </tr>\n",
       "    <tr>\n",
       "      <th>5</th>\n",
       "      <td>a</td>\n",
       "      <td>5</td>\n",
       "    </tr>\n",
       "    <tr>\n",
       "      <th>6</th>\n",
       "      <td>b</td>\n",
       "      <td>6</td>\n",
       "    </tr>\n",
       "    <tr>\n",
       "      <th>0</th>\n",
       "      <td>a</td>\n",
       "      <td>0</td>\n",
       "    </tr>\n",
       "    <tr>\n",
       "      <th>1</th>\n",
       "      <td>b</td>\n",
       "      <td>1</td>\n",
       "    </tr>\n",
       "    <tr>\n",
       "      <th>2</th>\n",
       "      <td>d</td>\n",
       "      <td>2</td>\n",
       "    </tr>\n",
       "  </tbody>\n",
       "</table>\n",
       "</div>"
      ],
      "text/plain": [
       "  key  var\n",
       "0   b    0\n",
       "1   b    1\n",
       "2   a    2\n",
       "3   c    3\n",
       "4   a    4\n",
       "5   a    5\n",
       "6   b    6\n",
       "0   a    0\n",
       "1   b    1\n",
       "2   d    2"
      ]
     },
     "execution_count": 53,
     "metadata": {},
     "output_type": "execute_result"
    }
   ],
   "source": [
    "# concaténation verticale (en lignes)\n",
    "pd.concat([df1,df2],axis=0)"
   ]
  },
  {
   "cell_type": "code",
   "execution_count": 54,
   "metadata": {
    "id": "zB1oa-LskeMi",
    "outputId": "2e9412da-e52d-431f-cf60-9f808646afdd"
   },
   "outputs": [
    {
     "data": {
      "text/html": [
       "<div>\n",
       "<style scoped>\n",
       "    .dataframe tbody tr th:only-of-type {\n",
       "        vertical-align: middle;\n",
       "    }\n",
       "\n",
       "    .dataframe tbody tr th {\n",
       "        vertical-align: top;\n",
       "    }\n",
       "\n",
       "    .dataframe thead th {\n",
       "        text-align: right;\n",
       "    }\n",
       "</style>\n",
       "<table border=\"1\" class=\"dataframe\">\n",
       "  <thead>\n",
       "    <tr style=\"text-align: right;\">\n",
       "      <th></th>\n",
       "      <th>key</th>\n",
       "      <th>var</th>\n",
       "      <th>key</th>\n",
       "      <th>var</th>\n",
       "    </tr>\n",
       "  </thead>\n",
       "  <tbody>\n",
       "    <tr>\n",
       "      <th>0</th>\n",
       "      <td>b</td>\n",
       "      <td>0</td>\n",
       "      <td>a</td>\n",
       "      <td>0.0</td>\n",
       "    </tr>\n",
       "    <tr>\n",
       "      <th>1</th>\n",
       "      <td>b</td>\n",
       "      <td>1</td>\n",
       "      <td>b</td>\n",
       "      <td>1.0</td>\n",
       "    </tr>\n",
       "    <tr>\n",
       "      <th>2</th>\n",
       "      <td>a</td>\n",
       "      <td>2</td>\n",
       "      <td>d</td>\n",
       "      <td>2.0</td>\n",
       "    </tr>\n",
       "    <tr>\n",
       "      <th>3</th>\n",
       "      <td>c</td>\n",
       "      <td>3</td>\n",
       "      <td>NaN</td>\n",
       "      <td>NaN</td>\n",
       "    </tr>\n",
       "    <tr>\n",
       "      <th>4</th>\n",
       "      <td>a</td>\n",
       "      <td>4</td>\n",
       "      <td>NaN</td>\n",
       "      <td>NaN</td>\n",
       "    </tr>\n",
       "    <tr>\n",
       "      <th>5</th>\n",
       "      <td>a</td>\n",
       "      <td>5</td>\n",
       "      <td>NaN</td>\n",
       "      <td>NaN</td>\n",
       "    </tr>\n",
       "    <tr>\n",
       "      <th>6</th>\n",
       "      <td>b</td>\n",
       "      <td>6</td>\n",
       "      <td>NaN</td>\n",
       "      <td>NaN</td>\n",
       "    </tr>\n",
       "  </tbody>\n",
       "</table>\n",
       "</div>"
      ],
      "text/plain": [
       "  key  var  key  var\n",
       "0   b    0    a  0.0\n",
       "1   b    1    b  1.0\n",
       "2   a    2    d  2.0\n",
       "3   c    3  NaN  NaN\n",
       "4   a    4  NaN  NaN\n",
       "5   a    5  NaN  NaN\n",
       "6   b    6  NaN  NaN"
      ]
     },
     "execution_count": 54,
     "metadata": {},
     "output_type": "execute_result"
    }
   ],
   "source": [
    "# concaténation horizontale (en colonnes)\n",
    "pd.concat([df1,df2],axis=1)"
   ]
  },
  {
   "cell_type": "markdown",
   "metadata": {
    "id": "fKO2by3QkeMi"
   },
   "source": [
    "`pandas` se chargera d'insérer des valeurs manquantes si nécessaire (e.g. concaténation horizontale mais certaines colonnes n'existent pas dans le tableau rajouté)."
   ]
  },
  {
   "cell_type": "markdown",
   "metadata": {
    "id": "kIZFgt8zkeMi"
   },
   "source": [
    "## 4. Exploration graphique rudimentaire\n",
    "\n",
    "`pandas` est capable de générer rapidement des graphes statiques simples (grâce à `matplotlib`). Ces graphes ne seront pas forcément les plus appropriés pour le rendu final de l'analyse, mais se révèlent efficaces pour explorer rapidement les données dans le DataFrame. \n",
    "\n",
    "On peut regretter toutefois que personnaliser les graphes se révèlent rapidement compliqué. Pour générer les graphes finaux de l'analyse, on préférera donc soit une bibliothèque plus agréable à utiliser (`plotly` dans la suite des TD), soit un logiciel tiers dédié à la dataviz (Tableau, Looker, PowerBI, ...) . On exportera alors classiquement les données finales de l'analyse avec un `to_csv`.\n",
    "\n",
    "Il n'est pas nécessaire de passer trop de temps sur cette partie."
   ]
  },
  {
   "cell_type": "code",
   "execution_count": 63,
   "metadata": {
    "id": "liDkCdUYkeMi"
   },
   "outputs": [],
   "source": [
    "# Permet l'affichage des graphes directement dans le notebook\n",
    "%matplotlib notebook\n",
    "%matplotlib inline\n",
    "\n",
    "\n",
    "import matplotlib.pyplot as plt"
   ]
  },
  {
   "cell_type": "markdown",
   "metadata": {
    "id": "e069c1whkeMi"
   },
   "source": [
    "## 4.1 Graphiques de distributions"
   ]
  },
  {
   "cell_type": "code",
   "execution_count": 64,
   "metadata": {
    "id": "gPuos_OykeMj",
    "outputId": "b48b58a4-0fc1-4a8e-aefe-e9d4a0b4bb14"
   },
   "outputs": [
    {
     "data": {
      "text/plain": [
       "<AxesSubplot:title={'center':'age'}, xlabel='[classe]'>"
      ]
     },
     "execution_count": 64,
     "metadata": {},
     "output_type": "execute_result"
    },
    {
     "data": {
      "image/png": "[encoded data removed]",
      "text/plain": [
       "<Figure size 432x288 with 1 Axes>"
      ]
     },
     "metadata": {
      "needs_background": "light"
     },
     "output_type": "display_data"
    }
   ],
   "source": [
    "df.boxplot(by=['classe'], column='age')"
   ]
  },
  {
   "cell_type": "markdown",
   "metadata": {
    "id": "5uzS696CkeMj"
   },
   "source": [
    "Visiblement les passagers les plus pauvres du Titanic étaient également les plus jeunes."
   ]
  },
  {
   "cell_type": "code",
   "execution_count": 65,
   "metadata": {
    "id": "TeDxiLdCkeMj",
    "outputId": "aeba2928-e157-4b21-cf1d-b634d95b9278"
   },
   "outputs": [
    {
     "data": {
      "text/plain": [
       "<AxesSubplot:ylabel='Density'>"
      ]
     },
     "execution_count": 65,
     "metadata": {},
     "output_type": "execute_result"
    },
    {
     "data": {
      "image/png": "[encoded data removed]",
      "text/plain": [
       "<Figure size 432x288 with 1 Axes>"
      ]
     },
     "metadata": {
      "needs_background": "light"
     },
     "output_type": "display_data"
    }
   ],
   "source": [
    "fig = plt.close() # fermer la figure précédente pour éviter de tracer dessus\n",
    "df.age.plot.density()"
   ]
  },
  {
   "cell_type": "code",
   "execution_count": 68,
   "metadata": {
    "id": "f12awjAIkeMj",
    "outputId": "94282ec5-5a65-4ca9-89fe-37c1550d538f"
   },
   "outputs": [
    {
     "data": {
      "text/plain": [
       "<AxesSubplot:ylabel='Frequency'>"
      ]
     },
     "execution_count": 68,
     "metadata": {},
     "output_type": "execute_result"
    },
    {
     "data": {
      "image/png": "[encoded data removed]",
      "text/plain": [
       "<Figure size 432x288 with 1 Axes>"
      ]
     },
     "metadata": {
      "needs_background": "light"
     },
     "output_type": "display_data"
    }
   ],
   "source": [
    "plt.close()\n",
    "df.prix.plot.hist(bins=50)"
   ]
  },
  {
   "cell_type": "markdown",
   "metadata": {
    "id": "FcDX3QarkeMj"
   },
   "source": [
    "## 4.2 Graphiques de comparaison\n",
    "\n",
    "Affichons le diagramme de dispersion en 3D: prix/age/survie"
   ]
  },
  {
   "cell_type": "code",
   "execution_count": 70,
   "metadata": {
    "id": "aLucUIKnkeMj",
    "outputId": "9020db4c-41bd-41fd-d5ba-ea05225beb77"
   },
   "outputs": [
    {
     "data": {
      "text/plain": [
       "<AxesSubplot:xlabel='age', ylabel='prix'>"
      ]
     },
     "execution_count": 70,
     "metadata": {},
     "output_type": "execute_result"
    },
    {
     "data": {
      "image/png": "[encoded data removed]",
      "text/plain": [
       "<Figure size 432x288 with 2 Axes>"
      ]
     },
     "metadata": {
      "needs_background": "light"
     },
     "output_type": "display_data"
    }
   ],
   "source": [
    "plt.close()\n",
    "df.plot.scatter(x='age', y='prix', c=df.survie, colormap='viridis')"
   ]
  },
  {
   "cell_type": "markdown",
   "metadata": {
    "id": "PXIA8EyLkeMj"
   },
   "source": [
    "## Graphiques de relations"
   ]
  },
  {
   "cell_type": "markdown",
   "metadata": {
    "id": "sB9TZkmMkeMj"
   },
   "source": [
    "Le support est partiel dans `pandas`, seules les variables quantitatives peuvent être représentées nativement. "
   ]
  },
  {
   "cell_type": "code",
   "execution_count": 71,
   "metadata": {
    "id": "vF5BQxBpkeMj",
    "outputId": "6d45ec69-2f08-46a0-9a69-b82a72f2fffc"
   },
   "outputs": [
    {
     "data": {
      "text/plain": [
       "<AxesSubplot:>"
      ]
     },
     "execution_count": 71,
     "metadata": {},
     "output_type": "execute_result"
    },
    {
     "data": {
      "image/png": "[encoded data removed]",
      "text/plain": [
       "<Figure size 432x288 with 1 Axes>"
      ]
     },
     "metadata": {
      "needs_background": "light"
     },
     "output_type": "display_data"
    }
   ],
   "source": [
    "plt.close()\n",
    "pd.plotting.parallel_coordinates(df, class_column='survie', cols=['age', 'nb_parents', 'nb_freres_soeurs', 'prix'])"
   ]
  },
  {
   "cell_type": "markdown",
   "metadata": {
    "id": "FYbA3t5ckeMj"
   },
   "source": [
    "Le visuel n'est pas idéal, l'échelle unique en y implique un écrasement des variables `nb_parents` et `nb_freres_soeurs`. Une solution possible serait de centrer et réduire (Z-score) toutes les variables quantitatives avant de les afficher."
   ]
  },
  {
   "cell_type": "markdown",
   "metadata": {
    "id": "e36wgJx0keMj"
   },
   "source": [
    "## 4.4 Graphiques de flux\n",
    "\n",
    "`pandas` n'est pas capable de générer (simplement) ces types de graphiques."
   ]
  }
 ],
 "metadata": {
  "colab": {
   "name": "2 - Intro pandas.ipynb",
   "provenance": []
  },
  "hide_input": false,
  "kernelspec": {
   "display_name": "Python 3 (ipykernel)",
   "language": "python",
   "name": "python3"
  },
  "language_info": {
   "codemirror_mode": {
    "name": "ipython",
    "version": 3
   },
   "file_extension": ".py",
   "mimetype": "text/x-python",
   "name": "python",
   "nbconvert_exporter": "python",
   "pygments_lexer": "ipython3",
   "version": "3.9.7"
  },
  "toc": {
   "nav_menu": {
    "height": "512px",
    "width": "252px"
   },
   "number_sections": true,
   "sideBar": true,
   "skip_h1_title": false,
   "toc_cell": false,
   "toc_position": {},
   "toc_section_display": "block",
   "toc_window_display": false
  }
 },
 "nbformat": 4,
 "nbformat_minor": 4
}
