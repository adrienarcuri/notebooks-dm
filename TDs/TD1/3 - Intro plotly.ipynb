{
 "cells": [
  {
   "cell_type": "markdown",
   "metadata": {
    "id": "qkoYjq08kZCG"
   },
   "source": [
    "# <a href=\"https://www.python.org/\"><img src=\"https://upload.wikimedia.org/wikipedia/commons/thumb/f/f8/Python_logo_and_wordmark.svg/390px-Python_logo_and_wordmark.svg.png\" style=\"max-width: 200px; display: inline\" alt=\"Python\"/></a> pour Statistique et Science des Données"
   ]
  },
  {
   "cell_type": "markdown",
   "metadata": {
    "id": "otZhGPB5kZCJ"
   },
   "source": [
    "# Génération de graphiques avec `plotly`\n",
    "\n",
    "Dernier élément de notre trousse à outil pour l'exploration de données, la bibliothèque `plotly` va nous permettre de **générer une grande variété de graphes** avec un **rendu visuel agréable** et facilement personnalisable.\n",
    "\n",
    "Les graphes générés par `plotly` sont avant tout conçus pour des supports numériques et sont donc **interactifs** (à la manière d'un `d3.js`, sans la complexité). Vous pourrez donc manipuler votre graphe rapidement une fois généré.\n",
    "\n",
    "Il reste toutefois **possible d'exporter un graphique vers un format statique** plus conventionnel (PNG ou JPEG pour des formats matriciels, PDF ou SVG pour des formats vectoriels adaptés à l'impression).\n",
    "\n",
    "`plotly` possède **deux contextes d'utilisation** (deux API) distincts.\n",
    "* Une première API impérative complète où il est nécessaire de détailler chaque élément du graphe. Cette API vous permettra de générer l'ensemble des [graphes supportés](https://plot.ly/python/) (plus de 40 types).\n",
    "* Une seconde API déclarative (dite **`plotly express`**) permettant de générer seulement une partie des types de graphes supportés (les plus courants uniquement) mais beaucoup plus succinctement.\n",
    "\n",
    "Les deux API seront vues dans cette introduction, en commençant par la première API, plus complexe mais également plus complète.\n",
    "\n",
    "Indépendamment de l'API utilisée, il est possible de personnaliser la figure selon ses besoins. Les styles par défaut ont néanmoins le bon goût d'être lisibles et bien conçus.\n",
    "\n",
    "\n",
    "Enfin, pour les allergiques au code, l'équipe derrière `plotly` a développé une version en ligne de la librairie ([Chart maker](https://chart-studio.plot.ly/create/#/)) offrant les mêmes fonctionnalités mais via une interface graphique. Il existe possiblement des limitations d'utilisation, l'offre étant normalement payante. Cette interface ne sera pas utilisée en TD.\n",
    "\n",
    "----"
   ]
  },
  {
   "cell_type": "markdown",
   "metadata": {
    "id": "qYR8t4l3kZCJ"
   },
   "source": [
    "\n",
    "## 1. Première prise en main\n",
    "\n",
    "Un graphique dans plotly est une *figure*. \n",
    "\n",
    "**Chaque figure est un conteneur** regroupant divers éléments (dit *graph objects*) qui, mis bout à bout, permettent de générer l'aperçu visuel final.\n",
    "\n",
    "Ces élements sont les suivants :\n",
    "* Une mise en page (un *layout*) définissant l'aspect visuel de la figure, le positionnement des graphes, la légende, etc...\n",
    "* Au moins un graphe (une *trace*). Une figure peut contenir plusieurs graphes qui seront alors superposés ou juxtaposés (selon les options choisies). Chaque graphe a un type unique qui l'identifie parmi les 40+ types supportés par `plotly`.\n",
    "\n",
    "Pour créer une figure dans `plotly`, il est nécessaire de **définir au minimum une trace**. Dans ce cas, `plotly` se charge de créer un **layout adapté par défaut**.\n",
    "\n",
    "Toutes les fonctions et classes nécessaires pour créer des traces sont dans le package `plotly.graph_objects`. \n",
    "\n",
    "Chaque trace (type de graphique) a évidemment ses **spécificités**, il est donc impossible d'en faire le tour au cours de cette introduction. Nous nous contenterons de voir les **types les plus classiques**, la [**documentation**](https://plot.ly/python/), assez qualitative et bien illustrée, vous permettra de découvrir et d'utiliser les graphes plus avancés.\n",
    "\n",
    "\n",
    "\n",
    "Petit exemple motivant :"
   ]
  },
  {
   "cell_type": "code",
   "execution_count": 1,
   "metadata": {
    "id": "_EuOixCWkZCK",
    "outputId": "6d565c5b-98ed-4c87-c921-760acf9f438a"
   },
   "outputs": [
    {
     "ename": "ModuleNotFoundError",
     "evalue": "No module named 'plotly'",
     "output_type": "error",
     "traceback": [
      "\u001b[0;31m---------------------------------------------------------------------------\u001b[0m",
      "\u001b[0;31mModuleNotFoundError\u001b[0m                       Traceback (most recent call last)",
      "\u001b[0;32m<ipython-input-1-93bbc9488348>\u001b[0m in \u001b[0;36m<module>\u001b[0;34m\u001b[0m\n\u001b[0;32m----> 1\u001b[0;31m \u001b[0;32mimport\u001b[0m \u001b[0mplotly\u001b[0m\u001b[0;34m.\u001b[0m\u001b[0mgraph_objects\u001b[0m \u001b[0;32mas\u001b[0m \u001b[0mgo\u001b[0m\u001b[0;34m\u001b[0m\u001b[0;34m\u001b[0m\u001b[0m\n\u001b[0m\u001b[1;32m      2\u001b[0m \u001b[0;34m\u001b[0m\u001b[0m\n\u001b[1;32m      3\u001b[0m \u001b[0mrandom_data\u001b[0m \u001b[0;34m=\u001b[0m \u001b[0;34m[\u001b[0m\u001b[0;36m45\u001b[0m\u001b[0;34m,\u001b[0m \u001b[0;36m65\u001b[0m\u001b[0;34m,\u001b[0m \u001b[0;36m12\u001b[0m\u001b[0;34m,\u001b[0m \u001b[0;36m50\u001b[0m\u001b[0;34m]\u001b[0m\u001b[0;34m\u001b[0m\u001b[0;34m\u001b[0m\u001b[0m\n\u001b[1;32m      4\u001b[0m \u001b[0;34m\u001b[0m\u001b[0m\n\u001b[1;32m      5\u001b[0m my_first_graph = go.Figure(\n",
      "\u001b[0;31mModuleNotFoundError\u001b[0m: No module named 'plotly'"
     ]
    }
   ],
   "source": [
    "import plotly.graph_objects as go\n",
    "\n",
    "random_data = [45, 65, 12, 50]\n",
    "\n",
    "my_first_graph = go.Figure(\n",
    "    data=[go.Bar(y=random_data)]\n",
    ")\n",
    "\n",
    "my_first_graph.show()"
   ]
  },
  {
   "cell_type": "markdown",
   "metadata": {
    "id": "QH4-1_vPkZCL"
   },
   "source": [
    "Ce premier exemple permet déjà d'apprécier le rendu visuel par défaut ainsi que l'interactivité du graphe.\n",
    "\n",
    "L'objet `my_first_graph` (de type `Figure`) contient l'ensemble des informations nécessaires à la création du graphe. Le paramètre **`data`** reçoit notamment la **liste des traces à afficher** dans le graphe. Dans notre cas, il s'agit uniquement d'une trace de type diagramme en barres. On constate également qu'en l'absence de données en abscisse, `plotly` a recréé un axe par défaut (numéroté de 0 à 3).\n",
    "\n",
    "On peut choisir d'afficher dans le notebook l'objet `my_first_graph` avec la fonction **`show`** (montrée ci-dessus). Pour exporter le graphe vers un format statique, il existe les fonctions **`write_html`** et **`write_image`**.\n",
    "\n",
    "* `write_html` crée un fichier HTML statique contenant le graphe et les données nécessaires. N'importe qui possédant ce fichier HTML peut l'ouvrir dans un navigateur pour afficher le graphe.\n",
    "* `write_image` crée une image avec le format souhaité"
   ]
  },
  {
   "cell_type": "code",
   "execution_count": null,
   "metadata": {
    "id": "K6iEfnvrkZCM"
   },
   "outputs": [],
   "source": [
    "my_first_graph.write_image('my_first_graph.pdf') # Enregistrement vers un format PDF\n",
    "\n",
    "# my_first_graph.write_image('my_first_graph.png') # Enregistrement vers un format PNG\n",
    "# etc... Le format final dépend uniquement de l'extension indiquée"
   ]
  },
  {
   "cell_type": "markdown",
   "metadata": {
    "id": "qIFGX844kZCM"
   },
   "source": [
    "Essayons désormais de combiner deux types de traces sur le même graphe, dans notre cas \n",
    "* Un diagramme en barres\n",
    "* Une courbe (dans `plotly`, il s'agit d'un nuage de points (*scatter plot*) ou les points sont connectés et masqués)\n",
    "\n",
    "Afin de se repérer entre les deux traces, nous leur donnerons également une légende. Dans `plotly`, la légende de chaque trace correspond à l'attribut `name`."
   ]
  },
  {
   "cell_type": "code",
   "execution_count": null,
   "metadata": {
    "id": "89YGzWqjkZCM"
   },
   "outputs": [],
   "source": [
    "combined_graph = go.Figure(\n",
    "    data=[go.Bar(y=random_data, name='Diagramme en barres'),\n",
    "          go.Scatter(y=random_data, mode='lines', name='Courbe')]\n",
    ")\n",
    "\n",
    "combined_graph.show()"
   ]
  },
  {
   "cell_type": "markdown",
   "metadata": {
    "id": "AlJvBqTqkZCN"
   },
   "source": [
    "Nous pouvons sinon tracer chaque graphe dans son propre espace (*subplot*)."
   ]
  },
  {
   "cell_type": "code",
   "execution_count": null,
   "metadata": {
    "id": "yO5OdW1ykZCN"
   },
   "outputs": [],
   "source": [
    "from plotly.subplots import make_subplots\n",
    "\n",
    "subplots = make_subplots(cols=2, rows=1)\n",
    "subplots.add_trace(go.Bar(y=random_data, name='Diagramme en barres'), \n",
    "                   col=1, row=1) # Graphe (1,1) → à gauche\n",
    "\n",
    "subplots.add_trace(go.Scatter(y=random_data, name='Courbe', mode='lines'), \n",
    "                   col=2, row=1) # Graphe (2, 1) → à droite"
   ]
  },
  {
   "cell_type": "markdown",
   "metadata": {
    "id": "SFVYMRtGkZCN"
   },
   "source": [
    "----\n",
    "\n",
    "## 2. Personnalisation du graphique\n",
    "\n",
    "Chaque composant d'une figure peut être personnalisé indépendamment des autres. \n",
    "\n",
    "Les options de personnalisation peuvent être définies lors de la création de la figure et des traces ou bien a posteriori, en mettant à jour l'objet `Figure`. Pour ce faire deux fonctions liées à l'objet de type `Figure` sont disponibles :\n",
    "* `update_layout` pour modifier des options propres au layout\n",
    "* `update_traces` pour modifier des options propres aux différentes traces\n",
    "\n",
    "L'ensemble des options de configuration est disponible dans [ce référentiel](https://plot.ly/python/reference/) à conserver à proximité lors de la création de graphe avec `plotly`.\n",
    "\n",
    "### Modification du `layout`\n",
    "\n",
    "On remarque notamment dans ce référentiel que les options sont imbriquées les unes dans les autres. Ainsi, dans la partie `Layout`, la hiérarchie suivante existe pour les options sur le titre du graphe `title` :\n",
    "* `title`\n",
    "    * `text`\n",
    "    * `font`\n",
    "        * `family`\n",
    "        * `size`\n",
    "        * `color`\n",
    "    * `yref`\n",
    "    * `xref`\n",
    "    * `x`\n",
    "    * `y`\n",
    "    * `xanchor`\n",
    "    * `yanchor`\n",
    "    * `pad`\n",
    "        * `t`\n",
    "        * `b`\n",
    "        * `l`\n",
    "        \n",
    "Nous allons voir les deux possibilités pour personnaliser le titre de notre graphe combiné ci-dessus."
   ]
  },
  {
   "cell_type": "code",
   "execution_count": null,
   "metadata": {
    "id": "ehkql2j-kZCO"
   },
   "outputs": [],
   "source": [
    "# Méthode 1 : passer un dictionnaire reproduisant l'imbrication présentée dans le référentiel\n",
    "# Il n'est pas nécessaire de préciser toutes les options, seulement celles que l'on souhaite changer\n",
    "\n",
    "combined_graph.update_layout(\n",
    "    {'title': {'text': 'Mon premier graphe combiné',\n",
    "               'font': {\n",
    "                   'size': 25,\n",
    "                   'family': 'Segoe UI Light'\n",
    "                    }\n",
    "               },\n",
    "     'legend': {'bgcolor': '#eaeaea',\n",
    "                'borderwidth': 1.5}\n",
    "    }\n",
    ")"
   ]
  },
  {
   "cell_type": "code",
   "execution_count": null,
   "metadata": {
    "id": "__r4yHQGkZCO"
   },
   "outputs": [],
   "source": [
    "# Méthode 2 (magic underscores): pour chaque propriété à modifier, préciser le \"chemin\" complet en \n",
    "# plaçant un underscore \"_\" entre chaque niveau\n",
    "# On applique les mêmes personnalisations que précédemment\n",
    "\n",
    "# Recréation du graphe non-personnalisé\n",
    "combined_graph = go.Figure(\n",
    "    data=[go.Bar(y=random_data, name='Diagramme en barres'),\n",
    "          go.Scatter(y=random_data, mode='lines', name='Courbe')]\n",
    ")\n",
    "\n",
    "combined_graph.update_layout(title_text = 'Mon premier graphe combiné',\n",
    "                             title_font_size = 25,\n",
    "                             title_font_family = 'Segoe UI Light',\n",
    "                             legend_bgcolor = '#eaeaea',\n",
    "                             legend_borderwidth = 1.5)"
   ]
  },
  {
   "cell_type": "markdown",
   "metadata": {
    "id": "xUlg2rfakZCO"
   },
   "source": [
    "**Les deux méthodes sont exactement équivalentes.**\n",
    "\n",
    "La première méthode est efficace lorsque l'on souhaite modifier de nombreuses propriétés similaires (e.g. personnaliser en profondeur l'apparence du titre). La seconde méthode est quant à elle plus concise et claire quand on souhaite ne modifier que quelques propriétés.\n",
    "\n",
    "Enfin, il est également possible de **configurer le `layout` directement lors de la création de la figure** (et non a posteriori comme vu ci-dessus). Pour ce faire, il suffit de **passer un objet `Layout` lors de l'instanciation** de la figure. Cet objet peut recevoir les **mêmes propriétés que précédemment**, et les deux modes de configuration (par dictionnaire, ou par \"magic underscore\")."
   ]
  },
  {
   "cell_type": "code",
   "execution_count": null,
   "metadata": {
    "id": "YeZ4ziQ2kZCO"
   },
   "outputs": [],
   "source": [
    "combined_graph = go.Figure(\n",
    "    data=[go.Bar(y=random_data, name='Diagramme en barres'),\n",
    "          go.Scatter(y=random_data, mode='lines', name='Courbe')],\n",
    "    # On rajoute la configuration du layout lors de la création du graphe\n",
    "    layout=go.Layout(title_text = 'Mon premier graphe combiné',\n",
    "                     title_font_size = 25,\n",
    "                     title_font_family = 'Segoe UI Light',\n",
    "                     legend_bgcolor = '#eaeaea',\n",
    "                     legend_borderwidth = 1.5)\n",
    ")\n",
    "\n",
    "combined_graph.show()"
   ]
  },
  {
   "cell_type": "markdown",
   "metadata": {
    "id": "5ztJISlKkZCO"
   },
   "source": [
    "### Modification des `traces`\n",
    "\n",
    "De la même manière, nous pouvons chercher dans le référentiel les options de configurations pour chaque trace.\n",
    "\n",
    "Appliquons quelques modifications sur les traces à l'aide de la méthode \"magic underscore\" (méthode 2 ci-dessus)."
   ]
  },
  {
   "cell_type": "code",
   "execution_count": null,
   "metadata": {
    "id": "zEIn__bnkZCP"
   },
   "outputs": [],
   "source": [
    "# Recréation du graphe non-personnalisé\n",
    "combined_graph = go.Figure(\n",
    "    data=[go.Bar(y=random_data, name='Diagramme en barres'),\n",
    "          go.Scatter(y=random_data, mode='lines', name='Courbe')]\n",
    ")\n",
    "\n",
    "combined_graph.update_traces(opacity=0.45, marker_color='darkolivegreen')"
   ]
  },
  {
   "cell_type": "markdown",
   "metadata": {
    "id": "Z1XfUveFkZCP"
   },
   "source": [
    "La méthode **`update_traces` s'appliquent uniformément sur toutes les traces** contenues dans une `Figure` (sous réserve que l'option précisée existe pour toute les traces).\n",
    "\n",
    "Afin de cibler plus précisément les traces que l'on souhaite personnaliser, la méthode `update_traces` possède un attribut **`selector`** pouvant recevoir un filtre. Toutes les traces de la figure répondant à ce filtre seront mises à jour, les autres seront conservées telles quelles.\n",
    "\n",
    "Un filtre est simplement un dictionnaire contenant des propriétés avec la même imbrication que dans le référentiel. Toutes les traces possédant les mêmes propriétés seront sélectionnés. Dans la plupart des cas, on cherchera simplement à sélectionner un type de graphique de particulier, nous abordons ce cas ci-dessous."
   ]
  },
  {
   "cell_type": "code",
   "execution_count": null,
   "metadata": {
    "id": "opGhw6oCkZCP"
   },
   "outputs": [],
   "source": [
    "# Recréation du graphe non-personnalisé\n",
    "combined_graph = go.Figure(\n",
    "    data=[go.Bar(y=random_data, name='Diagramme en barres'),\n",
    "          go.Scatter(y=random_data, mode='lines', name='Courbe')]\n",
    ")\n",
    "\n",
    "# On souhaite baisser l'opacité du diagramme en barres\n",
    "combined_graph.update_traces(opacity=0.45, selector={'type': 'bar'})\n",
    "# ... et changer la couleur de la courbe uniquement\n",
    "combined_graph.update_traces(marker_color='darkolivegreen', selector={'type': 'scatter'})"
   ]
  },
  {
   "cell_type": "markdown",
   "metadata": {
    "id": "5kuWi7DhkZCP"
   },
   "source": [
    "Enfin terminons cette première découverte de la personnalisation des figures dans `plotly` en remarquant que toutes les options passées à `update_traces` peuvent simplement être indiquées lors de la création des traces directement."
   ]
  },
  {
   "cell_type": "code",
   "execution_count": null,
   "metadata": {
    "id": "vrbZT4hAkZCP"
   },
   "outputs": [],
   "source": [
    "prestyled_graph = go.Figure(\n",
    "    data=[go.Bar(y=random_data, name='Diagramme en barres', opacity=0.45),\n",
    "          go.Scatter(y=random_data, mode='lines', name='Courbe', marker_color='darkolivegreen')]\n",
    ")\n",
    "\n",
    "prestyled_graph.show()"
   ]
  },
  {
   "cell_type": "markdown",
   "metadata": {
    "id": "ByaHcoGHkZCP"
   },
   "source": [
    "## 3. Chargement d'un jeu de données\n",
    "\n",
    "Pour simplifier nos expérimentations avec `plotly`, nous chargeons un **jeu déjà nettoyé** et prêt à l'emploi pour l'instant. Au cours des TD suivants, nous connecterons toutes les connaissances vues à présents pour suivre l'ensemble du processus d'analyse (processus KDD).\n",
    "\n",
    "Divers jeux de données nettoyés sont disponibles directement dans `plotly` en guise d'exemple. Nous travaillerons avec `gapminder` où sont indiqués différents indices de développement des pays à travers le monde."
   ]
  },
  {
   "cell_type": "code",
   "execution_count": null,
   "metadata": {
    "id": "Boe6_cBrkZCP",
    "scrolled": true
   },
   "outputs": [],
   "source": [
    "import plotly.data\n",
    "\n",
    "data = plotly.data.gapminder()\n",
    "data.head()"
   ]
  },
  {
   "cell_type": "markdown",
   "metadata": {
    "id": "0tYWwX1CkZCQ"
   },
   "source": [
    "Ce jeu de données contient :\n",
    "* 5 variables qualitatives (dont 2 numériques : `year` et `iso_num`)\n",
    "* 3 variable quantitatives\n",
    "\n",
    "Commençons par explorer les différentes distributions des variables quantitatives."
   ]
  },
  {
   "cell_type": "code",
   "execution_count": null,
   "metadata": {
    "id": "5uugEV54kZCQ"
   },
   "outputs": [],
   "source": [
    "data_2007 = data[data.year == 2007]\n",
    "\n",
    "gdp_distrib_2007 = go.Figure(\n",
    "    data=go.Histogram(x=data_2007.gdpPercap, nbinsx=20),\n",
    "    layout=go.Layout(title='Distribution du PIB par habitant en 2007',\n",
    "                     xaxis_title='PIB par habitant ($)',\n",
    "                     yaxis_title='Nombre de pays')\n",
    ")\n",
    "\n",
    "gdp_distrib_2007.show()"
   ]
  },
  {
   "cell_type": "markdown",
   "metadata": {
    "id": "iaPFJ6sjkZCQ"
   },
   "source": [
    "Les traces étant définies au sein d'une liste passée au paramètre `data`, nous pouvons tirer parti de la fonctionnalité de compréhension de liste de Python pour générer rapidement autant de trace que de modalités d'une variable (ici `continent`)."
   ]
  },
  {
   "cell_type": "code",
   "execution_count": null,
   "metadata": {
    "id": "JprYmcVCkZCQ"
   },
   "outputs": [],
   "source": [
    "gdp_boxplot_2007 = go.Figure(\n",
    "    data=[go.Violin(y=data_2007[data_2007.continent == continent].gdpPercap,\n",
    "                 name=continent, # On place le nom du continent en légende\n",
    "                 points='all'  # On affiche également tous les points pour chaque modalité\n",
    "                   ) for continent in data_2007.continent.unique()],\n",
    "    layout=go.Layout(title_text='Distribution du PIB par habitant en 2007 selon les continents',\n",
    "                    yaxis_title='PIB par habitant en 2007 ($)')\n",
    ")\n",
    "\n",
    "\n",
    "gdp_boxplot_2007.show()"
   ]
  },
  {
   "cell_type": "markdown",
   "metadata": {
    "id": "wIUJZds7kZCQ"
   },
   "source": [
    "On remarque que dans ce cas `plotly` calcule pour nous les quartiles et les indique dans l'infobulle pour chaque série de données.\n",
    "\n",
    "Intéressons nous désormais au lien entre espérance de vie moyenne et PIB par habitant selon les continents (toujours en 2007)."
   ]
  },
  {
   "cell_type": "code",
   "execution_count": null,
   "metadata": {
    "id": "KqRjAYV9kZCQ"
   },
   "outputs": [],
   "source": [
    "life_exp_vs_gdp_2007 = go.Figure(\n",
    "    data = [go.Scatter(x=data_2007[data_2007.continent == continent].sort_values(by='lifeExp').gdpPercap,\n",
    "                       y=data_2007[data_2007.continent == continent].sort_values(by='lifeExp').lifeExp,\n",
    "                       hovertext=data_2007[data_2007.continent == continent].sort_values(by='lifeExp').country,\n",
    "                       name=continent,\n",
    "                       mode='markers')\n",
    "            for continent in data_2007.continent.unique()\n",
    "            ],\n",
    "    \n",
    "    layout = go.Layout(title='Variation entre espérances de vie et PIB par habitant selon les continents',\n",
    "                       xaxis_title='PIB par habitant en 2007 ($)',\n",
    "                       yaxis_title='Espérances de vie moyenne en 2007')\n",
    ")\n",
    "\n",
    "life_exp_vs_gdp_2007.show()"
   ]
  },
  {
   "cell_type": "markdown",
   "metadata": {
    "id": "wy0g5DuzkZCQ"
   },
   "source": [
    "----\n",
    "\n",
    "## 4. Plotly Express\n",
    "\n",
    "Plotly Express est le nom donné à la deuxième API de la bibliothèque `plotly`. Il s'agit d'une **addition récente** (Mars 2019) qui offre la possibilité de créer très rapidement la plupart des graphes de base avec une **syntaxe déclarative**.\n",
    "\n",
    "Outre cette facilité de création, l'intérêt de cette deuxième API réside dans sa **parfaite compatibilité avec les graphes créés par la première API** vue jusqu'à présent. Vous pourrez donc combiner des graphes créés par les deux API sans aucun souci.\n",
    "\n",
    "De même, **Plotly Express renvoie un objet de type `Figure`** identique en tout point à ceux manipulés jusqu'à présent. Toutes les techniques de personnalisation abordées ci-dessus sont donc valides telles quelles.\n",
    "\n",
    "En somme, Plotly Express facilite l'étape d'instanciation de la figure pour les graphes les plus courants et permet d'expérimenter différents types de graphes rapidement.\n",
    "\n",
    "Seule limitation : Plotly Express fonctionne **uniquement avec des données dans le format dit `tidy`**. Autrement dit, les données utilisées doivent présenter les **variables en colonnes** et les **observations en ligne**. Nous verrons dans le prochain TD comment s'assurer avec `pandas` que ces données sont dans le bon format. Pour l'heure, travaillons avec le même jeu de données d'exemple qui est au bon format."
   ]
  },
  {
   "cell_type": "code",
   "execution_count": null,
   "metadata": {
    "id": "DSpLVzLDkZCQ"
   },
   "outputs": [],
   "source": [
    "# Commençons par importer cette API pour commencer\n",
    "import plotly.express as px"
   ]
  },
  {
   "cell_type": "markdown",
   "metadata": {
    "id": "JqurFV7CkZCQ"
   },
   "source": [
    "Les types de graphes (traces) supportés sont les suivants :\n",
    "* scatter\n",
    "* scatter_3d\n",
    "* scatter_polar\n",
    "* scatter_ternary\n",
    "* scatter_mapbox\n",
    "* scatter_geo\n",
    "* line\n",
    "* line_3d\n",
    "* line_polar\n",
    "* line_ternary\n",
    "* line_mapbox\n",
    "* line_geo\n",
    "* area\n",
    "* bar\n",
    "* bar_polar\n",
    "* violin\n",
    "* box\n",
    "* strip\n",
    "* histogram\n",
    "* pie\n",
    "* treemap\n",
    "* sunburst\n",
    "* funnel\n",
    "* funnel_area\n",
    "* scatter_matrix\n",
    "* parallel_coordinates\n",
    "* parallel_categories\n",
    "* choropleth\n",
    "* choropleth_mapbox\n",
    "* density_contour\n",
    "* density_heatmap\n",
    "* density_mapbox\n",
    "* imshow\n",
    "\n",
    "On retrouve comme prévu la plupart des types de graphes courants (`scatter`, `line`, `box`, `area`, `choropleth`).\n",
    "\n",
    "Plotly Express est intimement lié à la structure du DataFrame de `pandas`. Chacune des fonctions ci-dessus accepte comme **premier argument un DataFrame** avec des variables en colonne et des observations en ligne. Ensuite, il vous suffit d'indiquer pour chaque caractéristique du graphe le nom de la colonne dont vous souhaitez utiliser les données. Plotly Express se charge alors de faire le lien entre les données dans le colonne et les opérations nécessaires pour construire le graphe.\n",
    "\n",
    "Un exemple s'impose, reconstruisons un des graphes créés ci-dessus sur le jeu de données GapMinder."
   ]
  },
  {
   "cell_type": "code",
   "execution_count": null,
   "metadata": {
    "id": "cC5ZFrHnkZCQ"
   },
   "outputs": [],
   "source": [
    "# Pour rappel, le code nécessaire pour tracer la figure avec l'API impérative\n",
    "\n",
    "# life_exp_vs_gdp_2007 = go.Figure(\n",
    "#     data = [go.Scatter(x=data_2007[data_2007.continent == continent].sort_values(by='lifeExp').gdpPercap,\n",
    "#                        y=data_2007[data_2007.continent == continent].sort_values(by='lifeExp').lifeExp,\n",
    "#                        hovertext=data_2007[data_2007.continent == continent].sort_values(by='lifeExp').country,\n",
    "#                        name=continent,\n",
    "#                        mode='markers')\n",
    "#             for continent in data_2007.continent.unique()\n",
    "#             ],\n",
    "    \n",
    "#     layout = go.Layout(title='Variation entre espérances de vie et PIB par habitant selon les continents',\n",
    "#                        xaxis_title='PIB par habitant en 2007 ($)',\n",
    "#                        yaxis_title='Espérances de vie moyenne en 2007')\n",
    "# )\n",
    "\n",
    "# life_exp_vs_gdp_2007.show()\n",
    "\n",
    "# ===========\n",
    "# Et maintenant avec Plotly Express\n",
    "\n",
    "px_life_exp_vs_gdp_2007 = px.scatter(data_2007, # On passe le DF en premier lieu\n",
    "                                     y='lifeExp', # On souhaite avoir l'espérance de vie moyenne en ordonnée\n",
    "                                     x='gdpPercap', # Et le PIB par habitant en abscisse\n",
    "                                     color='continent', # On colorie chaque point selon le continent du pays\n",
    "                                     hover_name='country') # Nom du pays dans l'infobulle de chaque point\n",
    "\n",
    "px_life_exp_vs_gdp_2007.show()"
   ]
  },
  {
   "cell_type": "markdown",
   "metadata": {
    "id": "YrZfwGRGkZCQ"
   },
   "source": [
    "Le graphe a été reproduit presqu'à l'identique en quelques lignes seulement.\n",
    "\n",
    "On retrouve bien le paradigme déclaratif de cette API : nous avons indiqué uniquement ce qui nous souhaitions obtenir (valeurs de `lifeExp` en ordonnées, couleur liée au `continent`, etc...) et Plotly s'est chargé du reste.\n",
    "\n",
    "Remarquons que l'objet retourné par Plotly Express est une `Figure`, nous pouvons donc terminer de personnaliser le graphe comme nous le désirons."
   ]
  },
  {
   "cell_type": "code",
   "execution_count": null,
   "metadata": {
    "id": "fhKH_f7FkZCQ"
   },
   "outputs": [],
   "source": [
    "type(px_life_exp_vs_gdp_2007)"
   ]
  },
  {
   "cell_type": "code",
   "execution_count": null,
   "metadata": {
    "id": "jR3JLDIwkZCQ"
   },
   "outputs": [],
   "source": [
    "px_life_exp_vs_gdp_2007.update_layout(title='Variation entre espérances de vie et PIB par habitant selon les continents',\n",
    "                                      xaxis_title='PIB par habitant en 2007 ($)',\n",
    "                                      yaxis_title='Espérances de vie moyenne en 2007')\n",
    "\n",
    "px_life_exp_vs_gdp_2007.show()"
   ]
  },
  {
   "cell_type": "markdown",
   "metadata": {
    "id": "2lqckigkkZCR"
   },
   "source": [
    "Plotly Express excelle surtout lorsqu'il s'agit de crée des **graphes complexes** dont les caractéristiques d'apparences dépendent de nombreuses colonnes.\n",
    "\n",
    "Considérons le graphe (animé !) ci-dessous et la simplicité de sa création pour s'en convaincre."
   ]
  },
  {
   "cell_type": "code",
   "execution_count": null,
   "metadata": {
    "id": "VXoRxqYYkZCR"
   },
   "outputs": [],
   "source": [
    "complex_gapminder = px.scatter(data,\n",
    "                               # Définition des axes\n",
    "                               x='gdpPercap',\n",
    "                               y='lifeExp',\n",
    "                               # Taille de chaque point dynamique selon la population du pays (avec une taille max)\n",
    "                               size='pop',\n",
    "                               size_max=50,\n",
    "                               # On dissocie chaque continent par une couleur propre et on isole les graphes\n",
    "                               color='continent',\n",
    "                               facet_col='continent',\n",
    "                               facet_col_wrap=2, # 2 subplot par lignes au maximum\n",
    "                               height=800, # On augmente la hauteur de la figure pour davantage de visibilité\n",
    "                               animation_frame='year', # Une image par année distincte dans le jeu de donnée\n",
    "                               hover_name='country', # On ajoute le nom du pays dans l'infobulle\n",
    "                               log_x=True, # Echelle log en x pour rester lisible entre les pays riches et pauvres\n",
    "                               range_y=[25, 90], # Echelle manuelle en y pour représenter toute la plage couverte\n",
    "                               labels = {'lifeExp': 'Espérance de vie moyenne',\n",
    "                                         'gdpPercap': 'PIB par habitant ($)'}) \n",
    "\n",
    "complex_gapminder.update_layout(showlegend=False,  # La légende est inutile\n",
    "                                title = 'Variation de la relation espérance de vie ~ PIB par habitant selon les continents')\n",
    "\n",
    "dir(complex_gapminder)\n",
    "complex_gapminder.show()"
   ]
  },
  {
   "cell_type": "markdown",
   "metadata": {
    "id": "MFr6nhQmkZCR"
   },
   "source": [
    "----\n",
    "\n",
    "## Conclusion\n",
    "Nous nous arrêterons ici pour la découverte de cette seconde API et de Plotly en général.\n",
    "\n",
    "Dans les TD à suivre, nous mêlerons **toutes les bibliothèques vues jusqu'à présent** afin de retracer le processus KDD sur des jeux de données réels.\n",
    "\n",
    "N'hésitez pas à vous entraîner pour **être à l'aise avec les fonctions principales des bibliothèques** en attendant. Il est bien entendu illusoire d'espérer maîtriser complètement `pandas`, `numpy` ou `plotly` compte tenu du nombre élevé de fonctionnalités offertes, mais la connaissances des fonctions de base vous permettra de **passer plus de temps sur l'analyse** en elle-même et **moins sur le code**. Dans tous les cas, les **documentations** vous permettront de vous rafraîchir la mémoire."
   ]
  }
 ],
 "metadata": {
  "colab": {
   "name": "3 - Intro plotly.ipynb",
   "provenance": []
  },
  "kernelspec": {
   "display_name": "Python 3.8.8 64-bit ('base': conda)",
   "language": "python",
   "name": "python388jvsc74a57bd061fe9a7f0903cff0ca60eb471895a68b4c9672076f938997875ad58d1ee08a38"
  },
  "language_info": {
   "codemirror_mode": {
    "name": "ipython",
    "version": 3
   },
   "file_extension": ".py",
   "mimetype": "text/x-python",
   "name": "python",
   "nbconvert_exporter": "python",
   "pygments_lexer": "ipython3",
   "version": "3.8.8"
  }
 },
 "nbformat": 4,
 "nbformat_minor": 4
}
