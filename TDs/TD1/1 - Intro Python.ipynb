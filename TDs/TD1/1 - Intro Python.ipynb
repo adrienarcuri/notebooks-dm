{
 "cells": [
  {
   "cell_type": "markdown",
   "metadata": {
    "id": "zNW0Me5zklc1"
   },
   "source": [
    "# <a href=\"https://www.python.org/\"><img src=\"https://upload.wikimedia.org/wikipedia/commons/thumb/f/f8/Python_logo_and_wordmark.svg/390px-Python_logo_and_wordmark.svg.png\" style=\"max-width: 200px; display: inline\" alt=\"Python\"/></a> pour Statistique et Science des Données"
   ]
  },
  {
   "cell_type": "markdown",
   "metadata": {
    "id": "ho-tTMURklc5"
   },
   "source": [
    "Ce notebook est fortement inspiré du cours d'[introduction à Python](https://github.com/wikistat/Intro-Python) réalisé par **Philippe Besse** pour l'INSA Toulouse et utilisé avec respect de la licence. Quelques modifications ont été apportées afin de mieux cibler les besoins du cours de Data Mining."
   ]
  },
  {
   "cell_type": "markdown",
   "metadata": {
    "id": "4ahMqtxSklc6"
   },
   "source": [
    "# Introduction à <a href=\"https://www.python.org/\"><img src=\"https://upload.wikimedia.org/wikipedia/commons/thumb/f/f8/Python_logo_and_wordmark.svg/390px-Python_logo_and_wordmark.svg.png\" style=\"max-width: 150px; display: inline\" alt=\"Python\"/></a> pour Calcul Scientifique - Statistique"
   ]
  },
  {
   "cell_type": "markdown",
   "metadata": {
    "id": "IstPKEmNklc7"
   },
   "source": [
    "#### Résumé\n",
    "Présentation de **Python**, exécution de commandes interactives ou de scripts avec un IDE, utilisation d'un **notebook**; les **types et structures élémentaires** de données, les structures de contrôle, les **fonctions, classes et modules**. Introduction à l'utilisation des librairies scientifiques: **`Numpy, Matplotlib, Scipy`** et au type `array`."
   ]
  },
  {
   "cell_type": "markdown",
   "metadata": {
    "id": "IUaQHwNAklc7"
   },
   "source": [
    "----\n",
    "\n",
    "# Tables des matières \n",
    "\n",
    "1. [Introduction](#1-Introduction)\n",
    "    1. [Prérequis](#1.1-Prérequis)\n",
    "    2. [Installation](#1.2-Installation)\n",
    "2. [Utilisation de Python](#2-Utilisation-de-Python)\n",
    "    1. [Notebook Jupyter](#2.1-Notebook-Jupyter)\n",
    "    2. [Utilisation d'un IDE](#2.2-Utilisation-d'un-IDE)\n",
    "    3. [Exemple](#2.3-Exemple)\n",
    "3. [Types de données](#3.-Types-de-données)\n",
    "    1. [Scalaires et chaînes](#3.1-Scalaires-et-chaînes)\n",
    "    2. [Structures de données de base](#3.2-Structures-de-données-de-base)\n",
    "4. [Syntaxe de Python](#4.-Syntaxe-de-Python)\n",
    "    1. [Structure de contrôles élémentaires](#4.1-Structures-de-contrôle-élémentaires)\n",
    "    2. [Fonctions](#4.2-Fonctions)\n",
    "    3. [Modules et librairies](#4.3-Modules-et-librairies)\n",
    "5. [Calcul scientifique](#5.-Calcul-scientifique)\n",
    "    1. [Principales librairies ou packages](#5.1-Principales-librairies-ou-packages)\n",
    "    2. [Le type `array`](#5.2-Type-array)\n",
    "----"
   ]
  },
  {
   "cell_type": "markdown",
   "metadata": {
    "id": "-FFPZMbmklc8"
   },
   "source": [
    "## 1 Introduction"
   ]
  },
  {
   "cell_type": "markdown",
   "metadata": {
    "id": "Bil1Ezsuklc9"
   },
   "source": [
    "### 1.1 Prérequis\n",
    "\n",
    "Ce notebook introduit le langage libre Python et décrit les premières commandes nécessaires au **pré-traitement des données** avant l'utilisation de méthodes statistiques avec ce langage. Les aspects statistiques développés dans le CM1 sont supposés acquis ainsi qu'une connaissance des principes élémentaires de programmation dans un langage matriciel comme R ou Matlab. \n",
    "\n",
    "#### Ressources d'approfondissement\n",
    "\n",
    "Pour des approfondissements, il existe de très nombreuses ressources pédagogiques accessibles sur la toile dont:\n",
    "- [`tutoriel officiel`](https://docs.python.org/3/tutorial/index.html) de Python 3\n",
    "- [`pythontutor.com`](http://pythontutor.com/) :Très utile pour comprendre visuellement ce qui se cache derrière chaque exécution de code en Python. \n",
    "- [`courspython.com`](http://www.courspython.com/) : pour les débutants qui souhaitent acquérir des bases de programmation pour les sciences, en particulier pour le calcul numérique et la visualisation.\n",
    "- [`realpython.com`](https://realpython.com/) : Célèbre pour ces nombreux tutoriels sur Python et ses articles de blogs.\n",
    "\n",
    "#### Autres ressources d'approfondissement **e-learnings ou MOOCs**:\n",
    "- (🇫🇷 ) [Apprenez les bases du langage Python, Openclassrooms](https://openclassrooms.com/fr/courses/7168871-apprenez-les-bases-du-langage-python) : simple et efficace pour tout débutant en programmation.\n",
    "- (🇫🇷 ) [Python 3 : des fondamentaux aux concepts avancés du langage, MOOC FUN](https://www.fun-mooc.fr/fr/cours/python-3-des-fondamentaux-aux-concepts-avances-du-langage/) : \n",
    "- (🇺🇸 ) [Using Python for Research, Harvard University](https://pll.harvard.edu/course/using-python-research?delta=1): Utilisation de Python appliqué à des cas d'usage pour la recherche scientifique.\n",
    "- (🇺🇸 ) [Python for Data Science, The University of California](https://www.edx.org/course/python-for-data-science-2), San Diego Logo sur EdX: Utilisation de Python orienté Data Science\n",
    "\n",
    "#### Pour ceux dérisant aller plus loins avec **livre papier ou numérique** :\n",
    "* *Introduction to Python for Econometrics, Statistics and Data Analysis*, **Sheppard K.**  (2014) : Pour ceux voulant approfondir Python d'un point vu statistique et analyse de données.\n",
    "* *Analyse de données avec Python*,  **Wes McKinney**  (2018) : Pour ceux voulant découvrir les techniques de manipulation , nettoyage de données en Python.\n",
    "* *Natural Langaguage Processing with Python*, **Bird, Klein & Loper**: Pour ceux désirant avoir une introduction au traitement automatique des langues avec Python.\n",
    "* *Le Machine Learning avec Python*, **Müller & Guido** : Pour ceux désirant mettre en place des solutions de Machine Learning avec Python."
   ]
  },
  {
   "cell_type": "markdown",
   "metadata": {},
   "source": [
    "### 1.2 Installation\n",
    "\n",
    "Python et ses librairies peuvent être installés dans quasiment tout environnement matériel et système d'exploitation à partir du [site officiel](https://www.python.org/downloads/). Voici les principales librairies scientifiques définissant des structures de données et fonctions de calcul indispensables. \n",
    "- [ipython](https://ipython.readthedocs.io/en/stable/): pour une utilisation interactive de Python (et qui vous donne l'interface que vous avez sous les yeux)\n",
    "- [numpy](https://numpy.org): pour utiliser vecteurs et tableaux\n",
    "- [scipy](https://scipy.org): intègre les principaux algorithmes numériques,\n",
    "- [matplotlib](https://matplotlib.org) et [seaborn](https://seaborn.pydata.org): pour les graphes statiques\n",
    "- [plotly](https://plotly.com) : pour les graphes interactifs\n",
    "- [pandas](https://pandas.pydata.org): structure de données plus haut niveau, construite à partir de `numpy`, et offrant des fonctions avancées notamment pour la gestion de données temporelles \n",
    "- [scikit-learn](https://scikit-learn.org): librarie d'apprentissage automatique avec des algorithmes clé en main.\n",
    "\n",
    "Bien qu'il ne soit pas nécessaire d'utiliser un **distribution de Python** (comme Anaconda), il sera fortement recommandé de l'utiliser pour ce cours et pour tout débutant.\n",
    "Cela évite d'installer plus de 200 packages à la main par exemple car les distributions regroupent de multiples modules fonctionnant ensemble au sein d'un même 'logiciel'.\n",
    "Les distributions sont développées par des communautés open-source ou entreprises commerciales mais libres de droits pour une utilisation académique ou de recherche.\n",
    "Citons deux distributions:\n",
    "\n",
    "- <img src=\"https://interactivechaos.com/sites/default/files/inline-images/recursos_conda.jpg\" style=\"max-width: 100px; display: inline\" alt=\"Anaconda Logo\"/>*La distribution Python [Anaconda](https://www.anaconda.com)*: qui est une distribution pour le calcul scientifique, gratuite pour un étudiant, ou un chercheur et open-source (**c'est celle que nous utiliserons pour les cours**). \n",
    "\n",
    "- <img src=\"https://www.enthought.com/wp-content/uploads/2019/08/logo_crispy-1.png\" style=\"max-width: 100px; display: inline\" alt=\"Anaconda Logo\"/> *La distribution Python [Enthought](https://www.enthought.com/)*.\n",
    "\n",
    "\n",
    "Les travaux dirigés de ce cours, nous utiliserons Anaconda avec Python en version v3.6 minimum.\n",
    "La version v3.6 est normalement installée sur les postes d'UT1 Capitole.\n",
    "\n",
    "Dans le cadre de ce cours, nous utiliserons principalement les librairies `numpy`, `pandas` et `plotly`.\n",
    "\n",
    "#### Installation d'Anaconda \n",
    "\n",
    "\n",
    "\n",
    "Si ce n'est pas encore fait, veuillez installer [Anaconda Individual Edition](https://www.anaconda.com/products/individual) disponible sur Linux, MacOs et Windows. A l'heure où ces lignes sont écrites, Anaconda utilise la version 3.9 de Python.\n",
    "\n",
    "\n",
    "\n",
    "#### Remarque sur la version de Python\n",
    "\n",
    "En cherchant des informations ou de l'aide sur Internet, vous pourrez trouver la mention de **Python 2 ou Python 3**. Il s'agit des deux version majeures de Python.\n",
    "\n",
    "Depuis le 1er Janvier 2020, **Python 2 n'est plus maintenu** et va donc progressivement représenter un risque de sécurité (les bugs n'étant plus corrigés). Dans tous vos futurs projets Python, **choisissez donc toujours la version 3, sans exception**.\n",
    "\n",
    "Pour ce cours, nous utiliserons une version de Python supérieure à v3.6 (où 3 signifie à majeure, et 6 mineure)\n",
    "\n",
    "La [documentation officielle](https://docs.python.org/3/) est disponible pour chaque version du langage (pour tenir compte des évolutions entre chaque version mineure) et vous tomberez parfois par erreur (par exemple en suivant un résultat d'un moteur de recherche) sur une page correspondant à la version 2. Pensez à **vérifier la version en haut à gauche** (à côté de la langue).\n",
    "\n",
    "La documentation pour la version 2 est principalement bleue et \"datée\", celle pour la version 3 est généralement blanche et \"moderne\".\n",
    "\n",
    "----"
   ]
  },
  {
   "cell_type": "markdown",
   "metadata": {},
   "source": [
    "\n",
    "## 2 Utilisation de Python\n",
    "\n",
    "Python peut s'exécuter dans **deux modes distincts** :\n",
    "* **Utilisation interactive**, à partir de l'interpréteur directement. Vous pouvez utiliser un interprète de commande (`python` ou `ipython`) ou des notebooks exécutés dans un navigateur, plus conviviaux pour de l'exploration de données (`jupyter`). Un fichier est un document bloc-note utilisé par Jupyter Notebook avec l'extension `.ipynb`.\n",
    "* **Exécution de scripts et programmes**. Vous écrivez alors la logique du programme dans un ou plusieurs fichier(s) `.py` que vous appelez avec l'interpréteur (`python mon_programme.py`)\n",
    "\n",
    "Le premier mode est très adapté à des tâches telles que l'exploration initiale de données puisqu'il permet d'obtenir directement les réponses à ses questions sans avoir à relancer un programme ou recréer des objets en mémoire.\n",
    "\n",
    "Le deuxième mode quant à lui est préférable dans un contexte plus programmatoire, lorsque l'on souhaite souhaite par exemple exécuter une tâche d'analyse bien définie par le biais d'un orchestrateur.\n",
    "\n",
    "\n",
    "### 2.1 Notebook *Jupyter*\n",
    "<img src=\"https://upload.wikimedia.org/wikipedia/commons/thumb/3/38/Jupyter_logo.svg/1200px-Jupyter_logo.svg.png\n",
    "\" style=\"max-width: 50px; display: inline\" alt=\"Python\"/>\n",
    "Un notebook Jupyter (ce que vous voyez actuellement est un notebook) est un fichier qui permet de combiner du code et des éléments de texte riche (paragraphe, équations, liens, figures) écrit soit en [Markdown](https://stackedit.io/app), soit un texte brute.\n",
    "\n",
    "Vous pourrez utiliser un notebook Jupyter pour travailler sur les projets et effectuer vos développements mais il faudra quand même rendre un rapport.\n",
    "\n",
    "#### Présentation\n",
    "\n",
    "Les commandes sont regroupées dans des cellules suivies de leur résultat après exécution. Ces résultats et commentaires sont  stockés dans un fichier spécifique `.ipynb` et sauvegardés. Les commandes $LaTeX$ sont acceptées pour intégrer des formules, la mise en page est assurée par des balises HTML ou [*Markdown*](https://stackedit.io/app#(http://fr.wikipedia.org/wiki/Markdown).\n",
    "\n",
    "La commande de sauvegarde permet également d'extraire les seules commandes Python dans un fichier d'extension `.py`. C'est une façon simple et efficace de conserver tout l'historique d'une analyse pour en faire une présentation ou créer un tutoriel. Le calepin peut être en effet chargé  sous un autre format: page `html`, fichier `.pdf` ou diaporama.\n",
    "\n",
    "Le projet [Jupyter](http://jupyter.org/) propose cet environnement de calepin pour beaucoup de langages (Python, R, Julia, Scala...). Il devient un outil indispensable pour assurer simplement la *reproductibilité* des analyses. \n",
    "\n",
    "#### Ouverture\n",
    "\n",
    "L'ouverture d'un navigateur sur un calepin (Ipython ou Jupyter) est obtenu, selon l'installation,  à partir des menus ou en exécutant: \n",
    "`jupyter notebook`\n",
    "ou \n",
    "`ipython notebook` \n",
    "dans une fenêtre de commande.\n",
    "\n",
    "#### Utilisation\n",
    "\n",
    "Une fois le calepin ouvert, \n",
    "- Entrer des commandes Python dans une cellule,\n",
    "- Cliquer sur le bouton d'exécution de la cellule (ou lancer la cellule courante avec **Ctrl+Entrée**).\n",
    "- Ajouter une ou des cellules de commentaires et balises HTML ou [Markdown](http://fr.wikipedia.org/wiki/Markdown). Pour ajouter et modifier des cellules :\n",
    "    - 'A' (**A**bove) pour ajouter une nouvelle cellule *au-dessus* de la cellule courante\n",
    "    - 'B' (**B**elow) pour ajouter une nouvelle cellule *en-dessous* de la cellule courante\n",
    "    - 'D-D' (**D**elete) pour supprimer les cellules sélectionnées\n",
    "    - 'Shift+M' (**M**erge) pour fusionner les cellules sélectionnées (qui doivent contiguës)\n",
    "    - 'Y' pour convertir la cellule courante en cellule de code, 'M' pour la convertir en cellule **Markdown/HTML**\n",
    "    - 'Enter' pour modifier le contenu d'une cellule\n",
    "    \n",
    "Vous retrouverez une liste des raccourcies assez complètes sur cet article : [Jupyter Notebook Shortcuts (towardsdatascience)](https://towardsdatascience.com/jypyter-notebook-shortcuts-bf0101a98330) \n",
    "    \n",
    "Itérer l'ajout de cellules. Une fois l'exécution terminée:\n",
    "- Sauver le calepin `.ipynb` \n",
    "- Exporter éventuellement une version `.html` pour une page web.\n",
    "- Exporter le fichier `.py` regroupant les commandes Python pour une version opérationnelle.\n",
    "\n",
    "**Attention** Un calepin de IPython ou Jupyter est un outil de travail exploratoire efficace et visuel qui facilite la collaboration entre plusieurs analystes; ce n'est pas un *rapport* d'une étude statistique mais simplement un moyen de générer tous les résultats (figures et valeurs) qui seront réutilisés dans le rapport.\n",
    "\n",
    "#### Complétion de code\n",
    "\n",
    "Les notebooks vous aident lors de rédaction de code afin d'accélérer le développement et de limiter les erreurs.\n",
    "\n",
    "Pour bénéficier de la complétion de code, utiliser la **touche Tab**. \n",
    "\n",
    "Exemple : j'ai une variable `my_long_variable`. Je peux taper `my_lon<TAB>` et une liste déroulante apparaît et me propose `my_long_variable`.\n",
    "\n",
    "Les différents délimiteurs sont également automatiquement appairés. En sélectionnant une portion de code et en tapant `\"` (un guillemet), l'ensemble de la portion sélectionnée est entourée de guillemet. Ceci fonctionne avec `\"`, `'`, `(`, `[`, `{` et `` ` `` (backtick).\n",
    "\n",
    "### 2.2 Utilisation d'un IDE\n",
    "\n",
    "Pour la réalisation d'applications et programmes plus complexes, l'usage d'un IDE (*integrated Development Environment*) libre comme [Spyder](http://code.google.com/p/spyderlib/) est recommandé. Ce dernier est intégré à la distribution `Anaconda` et sa présentation proche de celles de Matlab ou RStudio.\n",
    "\n",
    "On peut citer également [Pycharm](https://www.jetbrains.com/pycharm/) qui offre des capacités encore plus avancées de développement. La licence d'utilisation est offerte pour les étudiants, et une version libre, gratuite et open-source est également disponible.\n",
    "\n",
    "L'utilisation de ces logiciels ne sera pas abordée dans ces TP.\n",
    "\n",
    "### 2.3 Exemple\n",
    "\n",
    "En résumé, utiliser un notebook pour des analyses exploratoires élémentaires et un IDE `Spyder` ou `Pycharm` pour la construction de programmes et modules. \n",
    "\n",
    "Selon l'installation et à partir du répertoire de travail, exécuter la commande:\n",
    "\n",
    "`jupyter notebook`\n",
    "\n",
    "Entrer les commandes ci-dessous dans le calepin et les exécuter cellule après cellule.\n",
    "**Ne pas hésiter à me solliciter en cas de question**."
   ]
  },
  {
   "cell_type": "markdown",
   "metadata": {
    "id": "YuyPNvTrkldD",
    "outputId": "f7e2b74e-4140-43aa-a2c3-2ba777ffa4ae"
   },
   "source": [
    "# Ceci est le début d'une session Python gérée à l'aide d'un notebook.\n",
    "# Le script est divisé en cellules avec généralement l'affichage d'au plus un résultat par cellule.\n",
    "# Comme vous l'avez remarqué, les commentaires en Python sont précédés d'un symbole \"#\"\n",
    "# Ils peuvent être situés sur leur propre ligne, ou bien en suivant une instruction\n",
    "\n",
    "print('Hello world !') # Affiche \"Hello world !\""
   ]
  },
  {
   "cell_type": "markdown",
   "metadata": {},
   "source": [
    "----\n",
    "## 3. Les bases de Python\n",
    "\n",
    "Python est le langage **le plus populaire** en 2021 pour la **science des données**. Il tient sont nom d'une émission de la BCC *Monty Python's*.\n",
    "\n",
    "C'est un langage **interprété**, **multiplatforme** et doté d'un **typage dynamique et fort**. Revenons sur ces termes:\n",
    "-  **interprété**: contrairement à un langage compilé, qui doit passer par un compilateur pour traduire le programme en code machine en binaire, un langage interprété va être lu par un **interpréteur** qui pourra exécuter directement le code sans le transformer en code machine.\n",
    "- **multiplatforme**: il est utilisable sur plusieurs systèmes d'exploitation Linux, MaxOs, Windows.\n",
    "- **typage fort**:  c'est-à-dire que le type ne change pas de manière inattendue.\n",
    "- **dynamique**: on peut facilement échanger le type d'une variable."
   ]
  },
  {
   "cell_type": "code",
   "execution_count": 13,
   "metadata": {},
   "outputs": [
    {
     "name": "stdout",
     "output_type": "stream",
     "text": [
      "1\n",
      "hello\n",
      "True\n"
     ]
    }
   ],
   "source": [
    "# Exemple de typage fort:\n",
    "# Dé-commenter le code ci-dessous va générer une erreur car on ne peut pas concatener deux types différents\n",
    "# '2' + 2\n",
    "\n",
    "# Exemple pour la caractère dynamique:\n",
    "# Les variables n'ont pas un type statique et le type d'une variable peut changer\n",
    "a = 1\n",
    "print(a)\n",
    "a = 'hello'\n",
    "print(a)\n",
    "a = True\n",
    "print(a)"
   ]
  },
  {
   "cell_type": "markdown",
   "metadata": {
    "id": "0Iif4mQgkldF"
   },
   "source": [
    "### 3.1 Tout est objet\n",
    "\n",
    "Il notion important à comprendre est qu'en Python, **tout est objet** et **relation entre objet** : les chaînes, les entiers, les listes, les fonctions, les classes, les modules, etc.\n",
    "\n",
    "Tout les objets sont manipulés par **référence**:\n",
    "- une variable contient une référence vers un objet\n",
    "- un objet peut être référencé par plusieurs variables.\n",
    "\n",
    "1 variable -- référence --> 1 objet\n",
    "\n",
    "1 objet -- est référencable --> N variables\n",
    "\n",
    "Voici un modèle de déclaration d'objet, aussi appelé *Classe*:\n",
    "```python\n",
    "class Person:\n",
    "    \"Definition d'un modèle d'objet personne\"\n",
    "    \n",
    "```\n",
    "\n",
    "Il existe **2 types d'objets**:\n",
    "- les objets **mutables** : ce sont les objets dont les valeurs ne peuvent pas changer après avoir été créé (ex: les strings)\n",
    "- les objets **non mutables** : ce sont les objets dont les valeurs peuvent changer (ex: les listes)\n",
    "\n",
    "Chaque objet à **3 caractéristiques principales**: \n",
    "- **Identité** : c'est un numéro unique qui distingue l'allocation dans la mémoire de l'ordinateur pour chaque objet.\n",
    "- **Type**: indique quel est la nature de l'objet traité : nombre, string, booléen, list, etc ...\n",
    "- **Valeur**: c'est la valeur des données contenues par l'objet : la valeur d'un nombre, une chaine de caractères pour un string, les éléments d'une liste...\n",
    "\n",
    "Les objets peuvent également posséder des attributs ou des méthodes:\n",
    "- **attributs**: c'est une valeur attachée à un objet\n",
    "- **méthodes**: c'est une fonction attachée à un objet\n",
    "\n",
    "Un object peut avoir 0 ou plusieurs instances: ce sont des exemplaires d'un objet. \n",
    "\n",
    "> Remarque: un objet (ou une classe) statique ne possède qu'une seule et unique instance."
   ]
  },
  {
   "cell_type": "code",
   "execution_count": 43,
   "metadata": {},
   "outputs": [
    {
     "name": "stdout",
     "output_type": "stream",
     "text": [
      "Verifiez que p1 et p2 sont bien des objets disctincts\n",
      "<__main__.Person object at 0x7f80c8024a90>\n",
      "<__main__.Person object at 0x7f80c80247f0>\n",
      "Observez que p3 à la même allocation mémoire que p1\n",
      "<__main__.Person object at 0x7f80c8024a90>\n",
      "p1 is p2 ? False\n",
      "p1 is p3 ? True\n",
      "\n",
      "La liste est un objet mutable\n",
      "[1, 2, 3]\n",
      "[5, 2, 3]\n"
     ]
    }
   ],
   "source": [
    "# Exemple de déclaration d'un objet (ou classe)\n",
    "class Person:\n",
    "    \"Definition d'un modèle d'objet personne\"\n",
    "\n",
    "# Instanciation de deux objets personnes dans deux allocations distinctes\n",
    "print('Verifiez que p1 et p2 sont bien des objets disctincts')\n",
    "p1 = Person()\n",
    "p2 = Person()\n",
    "# Observez que les allocations dans la mémoire vie commençant par 0x ne sont pas égales\n",
    "print(p1)\n",
    "print(p2)\n",
    "\n",
    "p3 = p1\n",
    "print('Observez que p3 à la même allocation mémoire que p1')\n",
    "print(p3)\n",
    "# Vérification de l'identité avec le mot clé 'is'\n",
    "print(f'p1 is p2 ? {p1 is p2}')\n",
    "print(f'p1 is p3 ? {p1 is p3}')\n",
    "\n",
    "# Exemple d'objets mutable\n",
    "# On peut changer la valeur d'un élement de la liste\n",
    "print('\\nLa liste est un objet mutable')\n",
    "mylist = [1,2,3]\n",
    "print(mylist)\n",
    "mylist[0] = 5\n",
    "print(mylist)\n",
    "\n",
    "# Exemple d'objets non mutable \n",
    "# Décommenter pour essayer et vous obtiendrez une erreur car la valeur de l'objet ne peut pas être changé)\n",
    "# myString = 'Hello World'\n",
    "# myString[0] = 'T'"
   ]
  },
  {
   "cell_type": "markdown",
   "metadata": {},
   "source": [
    "### 3.2 Types de données\n",
    "\n",
    "Python est un langage **fortement typé**, mais qui fait le choix d'un **typage dynamique**. En d'autres termes il n'y a pas à déclarer le type de chaque variable, néanmoins les opérations incompatibles avec certains types (e.g. additionner un nombre et une chaîne) soulèveront une erreur.\n",
    "\n",
    "La déclaration des variables est implicite (integer, float, boolean, string): pas besoin d'un mot clé `var` par exemple.\n",
    "\n",
    "```python\n",
    "b = True\n",
    "x = 0\n",
    "s = 'hello'\n",
    "\n",
    "```\n",
    "\n",
    "La devise générale de Python est donc \"**We are all consenting adults**\". Peu de limitations sur la forme du code sont mises en place, mais vous êtes responsables des erreurs qui peuvent apparaître en raison de cette liberté.\n",
    "\n",
    "Il existe également des moyens de mieux préciser les types attendus des variables ([*type hinting*](https://docs.python.org/3/library/typing.html)) mais ceux-ci sont plus adaptés dans un cadre de développement que pour une analyse. Afin de simplifier cette découverte de Python et alléger le code, ces moyens ne seront pas utilisés dans les TP."
   ]
  },
  {
   "cell_type": "code",
   "execution_count": 49,
   "metadata": {},
   "outputs": [],
   "source": [
    "# Exemple de fonction sans hinting\n",
    "def greeting(name):\n",
    "    return 'Hello ' + name\n",
    "\n",
    "# Exemple de fonction avec hinting\n",
    "def greeting_2(name: str) -> str:\n",
    "    return 'Hello ' + name"
   ]
  },
  {
   "cell_type": "markdown",
   "metadata": {},
   "source": [
    "Comme vous pouvez le voir ci-dessus, utiliser une syntaxe avec *hinting* permet d'indiquer au développeur le type des paramètres en entrée de la fonction et le type de la sortie.\n",
    "Personnellement, j'apprécie de plus en plus l'écriture avec *hinting* dans lors du développement de programme un peu plus complexe car cela évite de faire des erreur de type et améliore parfois les attentes d'une fonction.\n",
    "\n"
   ]
  },
  {
   "cell_type": "markdown",
   "metadata": {
    "id": "ICturRURkldG"
   },
   "source": [
    "#### 3.2.1 Booléens\n",
    "\n",
    "\n",
    "Python propose une logique ternaire, i.e. à trois états : Vrai, Faux et Inconnu. Il se rapproche en cela de la plupart des langages que vous avez pu manipuler jusqu'à présent (comme le SQL par exemple).\n",
    "\n",
    "Chaque état est associé à un unique mot-clé."
   ]
  },
  {
   "cell_type": "code",
   "execution_count": 73,
   "metadata": {
    "id": "uwfIclvYkldH"
   },
   "outputs": [
    {
     "name": "stdout",
     "output_type": "stream",
     "text": [
      "True\n",
      "False\n"
     ]
    },
    {
     "data": {
      "text/plain": [
       "bool"
      ]
     },
     "execution_count": 73,
     "metadata": {},
     "output_type": "execute_result"
    }
   ],
   "source": [
    "# Etat vrai\n",
    "a = True\n",
    "\n",
    "# Etat faux\n",
    "b = False\n",
    "\n",
    "# Etant inconnu\n",
    "c = None\n",
    "\n",
    "# Mot clé not \n",
    "print(not False)\n",
    "print(True and False and not False)\n",
    "\n",
    "\n",
    "# Pour vérifier le type d'une variable\n",
    "type(a)"
   ]
  },
  {
   "cell_type": "markdown",
   "metadata": {
    "id": "yjiPb6IAkldH"
   },
   "source": [
    "nombres entiers nuls, positifs ou négatifs sans partie fractionnaire et ayant une précision illimitée, par exemple 0, 100, -10 Remarque\n",
    "**La casse est importante**. `True`, `False` et `None` doivent commencer par une majuscule.\n",
    "\n",
    "La valeur `None` désigne une absence d'informations dans l'ensemble du langage Python. Aussi, il est possible que les valeurs `None` soient traitées différemment par de nombreuses fonctions.\n",
    "\n",
    "Dans le cadre de l'exploration de données, on utilisera des représentations plus adaptées pour désigner des points de données manquants. Il est donc souvent **inutile d'utiliser `None`** dans ce contexte, on réservera donc ce mot-clé à un cadre plus programmatoire en dehors de la portée de ces TP. "
   ]
  },
  {
   "cell_type": "markdown",
   "metadata": {
    "id": "PYnBOOpQkldG"
   },
   "source": [
    "#### 3.2.2 Scalaires (ou nombres)\n",
    "\n",
    "En Python, les nombres peuvent être de 3 types:\n",
    "- **int**: les nombres entiers positifs, négatifs ou nuls à précision illimitées\n",
    "- **float**: les nombres à virgule flottante\n",
    "- **complex**: les nombres complexe est un nombre avec des composantes réelles et imaginaires"
   ]
  },
  {
   "cell_type": "code",
   "execution_count": 68,
   "metadata": {
    "id": "yzmiFjqqkldH"
   },
   "outputs": [
    {
     "name": "stdout",
     "output_type": "stream",
     "text": [
      "<class 'int'>\n",
      "<class 'float'>\n",
      "<class 'complex'>\n"
     ]
    }
   ],
   "source": [
    "# int\n",
    "a = 3\n",
    "\n",
    "# float\n",
    "b = 1.5\n",
    "\n",
    "# complex\n",
    "c = 5 + 6j\n",
    "\n",
    "print(type(a))\n",
    "print(type(b))\n",
    "print(type(c))"
   ]
  },
  {
   "cell_type": "code",
   "execution_count": 57,
   "metadata": {
    "id": "J1TH9MrHkldI"
   },
   "outputs": [
    {
     "name": "stdout",
     "output_type": "stream",
     "text": [
      "4.5\n",
      "1.5\n",
      "4.5\n",
      "2.0\n",
      "2.0\n",
      "2\n",
      "8\n"
     ]
    }
   ],
   "source": [
    "# Tous les opérateurs mathématiques de bases fonctionnent comme on s'y attend, pas de surprise ici\n",
    "# Addition\n",
    "print(a+b)\n",
    "\n",
    "# Soustraction\n",
    "print(a-b)\n",
    "\n",
    "# Multiplication\n",
    "print(a*b)\n",
    "\n",
    "# Division\n",
    "print(a/b)\n",
    "\n",
    "# Division entière \n",
    "print(a//b)\n",
    "\n",
    "# Modulo\n",
    "print(7%5)\n",
    "\n",
    "# Puissance\n",
    "print(2 ** 3)"
   ]
  },
  {
   "cell_type": "markdown",
   "metadata": {
    "id": "L5ehdyF4kldI"
   },
   "source": [
    "**Opérateurs de comparaison arithmétique** : `==, >, <, !=` dont le résultat est un booléen."
   ]
  },
  {
   "cell_type": "code",
   "execution_count": 74,
   "metadata": {
    "id": "WqRWlyYvkldI"
   },
   "outputs": [
    {
     "name": "stdout",
     "output_type": "stream",
     "text": [
      "False\n",
      "True\n",
      "True\n",
      "False\n",
      "True\n"
     ]
    }
   ],
   "source": [
    "# Comparaison de **valeurs**\n",
    "# Pas besoin de isEqual ou équivalent comme en Java\n",
    "\n",
    "# Egalité\n",
    "print(1 == 2)\n",
    "# Egalité implicite entre un int et un float\n",
    "print(2.0 == 2)\n",
    "\n",
    "# Inégalité\n",
    "print(1 != 2)\n",
    "\n",
    "# Plus grand que\n",
    "print(1 > 2)\n",
    "\n",
    "# Plus petit que\n",
    "print(1 < 2)"
   ]
  },
  {
   "cell_type": "markdown",
   "metadata": {
    "id": "kQhKhkX7kldI"
   },
   "source": [
    "**Comparaison d'identité (ou de référence)**\n",
    "\n",
    "Si l'on souhaite comparer les **références** de chaque objet, il existe l'opérateur `is`.\n",
    "\n",
    "Pour rappel, \n",
    "* Deux objets ayant la même valeur n'ont pas forcément la même référence (`a=3` et `b=3`, `a` et `b` sont deux objets distincts)\n",
    "* Deux objets ayant la même référence sont en réalité deux fois le même objet mais nommés différemment. Ils ont nécessairement la même valeur (`a=3` et `a=b`, les deux objets ont la même référence et la même valeur, ici 3)"
   ]
  },
  {
   "cell_type": "code",
   "execution_count": 69,
   "metadata": {
    "id": "nduwCOTdkldJ"
   },
   "outputs": [
    {
     "name": "stdout",
     "output_type": "stream",
     "text": [
      "True\n"
     ]
    }
   ],
   "source": [
    "a = 3\n",
    "b = a\n",
    "\n",
    "print(a is b) # Comparaison de références"
   ]
  },
  {
   "cell_type": "code",
   "execution_count": 63,
   "metadata": {
    "id": "fKti0HMVkldJ"
   },
   "outputs": [
    {
     "data": {
      "text/plain": [
       "False"
      ]
     },
     "execution_count": 63,
     "metadata": {},
     "output_type": "execute_result"
    }
   ],
   "source": [
    "a = 1000\n",
    "b = 1000\n",
    "\n",
    "a is b # Même valeur, mais deux objets distincts, donc la référence ne correspond pas"
   ]
  },
  {
   "cell_type": "markdown",
   "metadata": {
    "id": "h4T2adHbkldJ"
   },
   "source": [
    "Pour information, il est possible de consulter la référence construite par Python pour chaque objet à l'aide de la fonction `id`. Le format de cette référence est interne au langage et ne signifie rien de particulier (si ce n'est qu'il est unique à chaque objet au cours d'une même session).\n",
    "\n",
    "Il n'est **pas nécessaire de retenir ce détail d'implémentation** pour la suite des TD, néanmoins gardez à l'esprit (comme dans tous les langages) la différence entre comparaison de valeurs et de références. "
   ]
  },
  {
   "cell_type": "code",
   "execution_count": 34,
   "metadata": {
    "id": "FyzI_JpqkldJ"
   },
   "outputs": [
    {
     "name": "stdout",
     "output_type": "stream",
     "text": [
      "140630942025712\n",
      "140630942025424\n"
     ]
    }
   ],
   "source": [
    "print(id(a))\n",
    "print(id(b))"
   ]
  },
  {
   "cell_type": "markdown",
   "metadata": {
    "id": "C3ojETM1kldK"
   },
   "source": [
    "#### Chaînes de caractères (ou String)\n",
    "\n",
    "En Python, les chaînes de caractères sont des **séquences de caractères non mutables**."
   ]
  },
  {
   "cell_type": "code",
   "execution_count": 79,
   "metadata": {
    "id": "nuXZH4sFkldK"
   },
   "outputs": [],
   "source": [
    "# Chaîne de caractère\n",
    "a='bonjour '\n",
    "b='le '\n",
    "c=\"monde\" # une chaîne est délimitée par des apostrophes ('blabla') ou des guillemets (\"blabla\") : le choix est libre"
   ]
  },
  {
   "cell_type": "markdown",
   "metadata": {
    "id": "3tKSHaA0kldK"
   },
   "source": [
    "En Python 3 (version actuelle et maintenue), toutes les chaînes de caractères sont **automatiquement encodées en `UTF-8`** qui supporte peu ou prou tous les alphabets envisageables.\n",
    "\n",
    "Si vous lisez des fichiers écrits dans un autre encodage (classiquement `latin-1` pour des fichiers occidentaux enregistrés avec Excel et consorts), vous devrez préciser au moment de la lecture l'encodage du fichier. Nous aborderons ce point plus loin."
   ]
  },
  {
   "cell_type": "code",
   "execution_count": 80,
   "metadata": {
    "id": "oduVibVkkldK"
   },
   "outputs": [
    {
     "name": "stdout",
     "output_type": "stream",
     "text": [
      "bonjour le monde\n",
      "bonjour le monde\n",
      "bonjour le monde\n"
     ]
    }
   ],
   "source": [
    "# Concaténation de chaînes, plusieurs techniques possibles\n",
    "\n",
    "# 1. Somme de chaînes\n",
    "w = a + b + c\n",
    "print(w)\n",
    "\n",
    "# 2. Insertion de chaque variable de la fonction format dans le groupe {} correspondants\n",
    "print('{}{}{}'.format(a, b, c)) \n",
    "\n",
    "# 3. Formatted strings (f-string), depuis Python 3.6\n",
    "print(f'{a}{b}{c}')\n",
    "\n",
    "# Remarques : les méthodes 2 et 3 permettent de concaténer d'autres types que les chaînes. Les types non-chaînes\n",
    "# à concaténer seront alors automatiquement convertis en chaînes de caractères. Elles peuvent également effectuer\n",
    "# des opérations de formattages plus avancées (alignement gauche/droite, centrage, justification, etc...). Nous\n",
    "# n'aborderons pas ces opérations dans ce cours.\n",
    "\n",
    "# J'utiliserai généralement la méthode 3. dans les corrigés qui est à mon goût la plus expressive tout en restant\n",
    "# courte. Vous êtes bien sûr libres d'utiliser le style qui vous convient le mieux."
   ]
  },
  {
   "cell_type": "code",
   "execution_count": 91,
   "metadata": {},
   "outputs": [
    {
     "name": "stdout",
     "output_type": "stream",
     "text": [
      "H\n",
      "d\n",
      "Hello \n",
      "Worl\n",
      "True\n",
      "True\n"
     ]
    }
   ],
   "source": [
    "s = 'Hello World'\n",
    "\n",
    "# Récupérer le 1er caractère\n",
    "print(s[0])\n",
    "\n",
    "# Récupérer le dernier caractère\n",
    "print(s[-1])\n",
    "\n",
    "# Récupérer le premier mot\n",
    "print(s[0:6])\n",
    "\n",
    "# Récupérer le dernier mot\n",
    "print(s[-5:-1])\n",
    "\n",
    "# Vérification de la présence d'une lettre ou d'un mot avec le mot clé 'in' (sensible à la casse)\n",
    "print('H' in s)\n",
    "print('Hello' in s)"
   ]
  },
  {
   "cell_type": "code",
   "execution_count": 97,
   "metadata": {
    "id": "3Tg2yhBqkldK"
   },
   "outputs": [
    {
     "name": "stdout",
     "output_type": "stream",
     "text": [
      "11\n",
      "['Hello', 'World']\n",
      "HELLO WORLD\n",
      "hello world\n",
      "Hello world\n",
      "Hella Warld\n",
      "See you World\n"
     ]
    }
   ],
   "source": [
    "# Quelques fonctions utiles sur les chaînes\n",
    "# Nombre de caractères\n",
    "print(len(s))\n",
    "\n",
    "# Séparer la chaîne selon un séparateur arbitraire (ici une espace)\n",
    "print(s.split(' ')) \n",
    "\n",
    "# Mettre en majuscule\n",
    "print(s.upper())\n",
    "\n",
    "# Mettre en minuscule\n",
    "print(s.lower())\n",
    "\n",
    "# Mettre en capitale\n",
    "print(s.capitalize())\n",
    "\n",
    "# Remplacer une lettre ou d'un mot\n",
    "print(s.replace('o','a'))\n",
    "print(s.replace('Hello','See you'))"
   ]
  },
  {
   "cell_type": "markdown",
   "metadata": {
    "id": "nXVLeH6jkldK"
   },
   "source": [
    "### 3.3 Structures de données\n",
    "\n",
    "Il existe plusieurs de structure de données:\n",
    "* Les **Séquences** : collections d'objets ordonnées par leur position décomposables en 3 catégories\n",
    "  * **Listes (ou list)**\n",
    "  * **Tuples**\n",
    "  * **Ranges**\n",
    "* Les **Ensembles (ou Sets)**  : collections d'objets non ordonnées d'objets distincts\n",
    "* Les **Dictionnaires (ou Dictionnaries)**: collections de paire clé valeurs non ordonnées"
   ]
  },
  {
   "cell_type": "markdown",
   "metadata": {
    "id": "ZnNPP-aokldK"
   },
   "source": [
    "#### Listes\n",
    "La liste est une séquence **ordonnée** (i.e. l'ordre d'insertion est mémorisé et constant dans le temps). Elle peut contenir une **combinaison arbitraire de types** (int, objets, boolean, d'autres listes, etc...) et un nombre arbitraire d'éléments.\n",
    "\n",
    "La liste est **mutable**, on peut ajouter, supprimer ou modifier des éléments de la liste tout en conservant le même objet liste.\n",
    "\n",
    "On accède à chaque élément avec sa position dans la liste (i.e. **la clé d'un élément est sa position**).\n",
    "\n",
    "**Attention**, le premier élément d'une liste ou d'un tableau est indicé par **0**, pas par 1.\n",
    "\n",
    "Une liste est délimitée par des crochets (`[]`)"
   ]
  },
  {
   "cell_type": "code",
   "execution_count": 183,
   "metadata": {
    "id": "HMA8T8m9kldK"
   },
   "outputs": [],
   "source": [
    "# Création d'une liste vide\n",
    "empty_list = []\n",
    "empty_list = list()\n",
    "\n",
    "# Les deux syntaxes sont équivalentes"
   ]
  },
  {
   "cell_type": "code",
   "execution_count": 184,
   "metadata": {
    "id": "x-2vdsLokldK"
   },
   "outputs": [
    {
     "data": {
      "text/plain": [
       "3"
      ]
     },
     "execution_count": 184,
     "metadata": {},
     "output_type": "execute_result"
    }
   ],
   "source": [
    "# Exemples de listes\n",
    "liste_A = [0,3,2,'hi']\n",
    "liste_B = [0,3,2,4,5,6,1]\n",
    "liste_C = [0,3,2,'hi',[1,2,3]]   \n",
    "\n",
    "# Accéder à un élément d'une liste (ici le **deuxième élément**)\n",
    "liste_A[1]"
   ]
  },
  {
   "cell_type": "code",
   "execution_count": 185,
   "metadata": {
    "id": "j0s7oebikldL"
   },
   "outputs": [
    {
     "name": "stdout",
     "output_type": "stream",
     "text": [
      "[0, 3, 2, 'hi']\n",
      "0 3 2 hi\n"
     ]
    }
   ],
   "source": [
    "# On peut très bien afficher telle quelle une liste, qui apparaît alors avec des crochets []\n",
    "print(liste_A)\n",
    "\n",
    "# La fonction print admet en réalité un nombre illimité d'arguments. Tous les arguments sont concaténés avant l'affichage\n",
    "# et séparés par une espace (par défaut mais paramétrable)\n",
    "print(liste_A[0], liste_A[1], liste_A[2], liste_A[3])"
   ]
  },
  {
   "cell_type": "code",
   "execution_count": 186,
   "metadata": {
    "id": "GbW5sFQakldL"
   },
   "outputs": [
    {
     "name": "stdout",
     "output_type": "stream",
     "text": [
      "[1, 2, 3]\n",
      "hi\n",
      "1\n"
     ]
    }
   ],
   "source": [
    "# Indexer une liste\n",
    "\n",
    "# Dernier élément\n",
    "print(liste_C[-1])\n",
    "# Avant-dernier\n",
    "print(liste_C[-2])\n",
    "\n",
    "# Dans le cas de listes imbriquées, on peut spécifier les indexs de façon hiérarchique\n",
    "print(liste_C[-1][0])"
   ]
  },
  {
   "cell_type": "markdown",
   "metadata": {
    "id": "OyYQXsmOkldL"
   },
   "source": [
    "La syntaxe générale pour parcourir/extraire des sous-listes est la suivante : **`my_list[start:end:step]`**\n",
    "\n",
    "Avec :\n",
    "* `start` : index à partir duquel on parcourt la liste initiale (ici `my_list`). Si omis, démarrer à partir du début de la liste initiale (soit `start = 0`)\n",
    "* `end` : index final de parcours. Cet élément est **exclus** (i.e. le dernier élément parcouru est à la position `end - 1`. Si omis, s'arrêter à la fin de la liste initiale (soit `end = len(my_list)`). \n",
    "* `step` : pas à utiliser pour parcourir la liste. Si omis, le pas vaut 1 (i.e. on parcourt tous les éléments). Le pas peut être positif (parcours par ordre croissant de positions) ou négatif (parcours dans le sens opposé)\n",
    "\n",
    "Quelques exemples"
   ]
  },
  {
   "cell_type": "code",
   "execution_count": 187,
   "metadata": {
    "id": "yT_H7WmFkldL"
   },
   "outputs": [
    {
     "name": "stdout",
     "output_type": "stream",
     "text": [
      "Liste B : [0, 3, 2, 4, 5, 6, 1]\n",
      "[0, 3]\n",
      "[0, 3]\n",
      "[3, 4]\n",
      "[0, 4, 1]\n",
      "[1, 6, 5, 4, 2, 3, 0]\n"
     ]
    }
   ],
   "source": [
    "# Extraire une sous-liste\n",
    "print('Liste B :', liste_B) # liste initiale\n",
    "print(liste_B[0:2]) # Du premier élément jusqu'au 3e (**exclus**)\n",
    "print(liste_B[:2]) # Equivalent à la ligne précédente\n",
    "\n",
    "print(liste_B[1:5:2]) # du deuxième au sixième élément (exclus), en sélectionner une valeur sur deux\n",
    "print(liste_B[::3]) # Parcourir toute la liste, mais uniquement un élément sur 3, en partant du premier\n",
    "print(liste_B[::-1]) # Parcourir toute la liste mais avec un pas de -1, i.e. parcourir dans le sens inverse"
   ]
  },
  {
   "cell_type": "markdown",
   "metadata": {
    "id": "q9qNXywgkldL"
   },
   "source": [
    "La dernière expression (`liste_B[::-1]`) est un moyen efficace d'inverser une liste avant de l'affecter à une variable."
   ]
  },
  {
   "cell_type": "markdown",
   "metadata": {
    "id": "labSTfISkldL"
   },
   "source": [
    "##### Quelques fonctions de listes"
   ]
  },
  {
   "cell_type": "markdown",
   "metadata": {},
   "source": [
    "**Trier**\n",
    "\n",
    "```python\n",
    "my_list.sort()  # le tri se fait en place, my_list est écrasée et remplacée par une version triée \n",
    "```"
   ]
  },
  {
   "cell_type": "code",
   "execution_count": 188,
   "metadata": {
    "id": "Ptoktm_okldM"
   },
   "outputs": [
    {
     "name": "stdout",
     "output_type": "stream",
     "text": [
      "[1, 2, 3, 4]\n"
     ]
    }
   ],
   "source": [
    "my_list = [3,2,4,1]\n",
    "\n",
    "my_list.sort()\n",
    "\n",
    "print(my_list)"
   ]
  },
  {
   "cell_type": "markdown",
   "metadata": {},
   "source": [
    "**Ajouter un élément**\n",
    "\n",
    "```python\n",
    "my_list.append('hi') # l'ajout se fait 'en place' (aucune valeur retournée mais my_list est modifiée')\n",
    "```"
   ]
  },
  {
   "cell_type": "code",
   "execution_count": 189,
   "metadata": {
    "id": "cpU73z1ukldM"
   },
   "outputs": [
    {
     "name": "stdout",
     "output_type": "stream",
     "text": [
      "[1, 2, 3, 4, 'hi']\n"
     ]
    }
   ],
   "source": [
    "my_list.append('hi') \n",
    "\n",
    "print(my_list) # remarquer que l'ordre d'insertion est conservé"
   ]
  },
  {
   "cell_type": "markdown",
   "metadata": {},
   "source": [
    "**Insérer un élement à un certain index**\n",
    "\n",
    "```python\n",
    "my_list.insert(index, ()  \n",
    "```"
   ]
  },
  {
   "cell_type": "code",
   "execution_count": 190,
   "metadata": {},
   "outputs": [
    {
     "name": "stdout",
     "output_type": "stream",
     "text": [
      "[1, 2, 3, 4, 'hi', \"Ceci sera inséré à l'index 5 !\"]\n"
     ]
    }
   ],
   "source": [
    "my_list.insert(5,\"Ceci sera inséré à l'index 5 !\")\n",
    "print(my_list)"
   ]
  },
  {
   "cell_type": "markdown",
   "metadata": {},
   "source": [
    "**Supprimer le dernier élément**\n",
    "\n",
    "```python\n",
    "my_list.pop() # Supprime par défaut le dernier élement\n",
    "```"
   ]
  },
  {
   "cell_type": "code",
   "execution_count": 191,
   "metadata": {},
   "outputs": [
    {
     "data": {
      "text/plain": [
       "\"Ceci sera inséré à l'index 5 !\""
      ]
     },
     "execution_count": 191,
     "metadata": {},
     "output_type": "execute_result"
    }
   ],
   "source": [
    "my_list.pop() # Remarquez que pop() supprime par défaut le dernier élement !"
   ]
  },
  {
   "cell_type": "markdown",
   "metadata": {},
   "source": [
    "**Supprimer l'élément à l'index `i`**\n",
    "\n",
    "```python\n",
    "my_list.pop(i)  \n",
    "```"
   ]
  },
  {
   "cell_type": "code",
   "execution_count": 192,
   "metadata": {},
   "outputs": [
    {
     "data": {
      "text/plain": [
       "'hi'"
      ]
     },
     "execution_count": 192,
     "metadata": {},
     "output_type": "execute_result"
    }
   ],
   "source": [
    "my_list.pop(4) # Remarquez que l'élement supprimé est retourné !"
   ]
  },
  {
   "cell_type": "markdown",
   "metadata": {},
   "source": [
    "**Taille de la liste**\n",
    "\n",
    "```python\n",
    "len(my_list)\n",
    "```\n",
    "\n",
    "**Compter le nombre d'occurence d'un élement `e`**\n",
    "\n",
    "```python\n",
    "my_list.count(e)\n",
    "```"
   ]
  },
  {
   "cell_type": "code",
   "execution_count": 193,
   "metadata": {
    "id": "aKWhEYlikldM"
   },
   "outputs": [
    {
     "name": "stdout",
     "output_type": "stream",
     "text": [
      "4\n",
      "1\n"
     ]
    }
   ],
   "source": [
    "print(len(my_list)) # Nombre d'éléments dans une liste\n",
    "\n",
    "print(my_list.count(3)) # Compter le nombre d'occurences du paramètre (ici le nombre d'occurences de 3) "
   ]
  },
  {
   "cell_type": "markdown",
   "metadata": {},
   "source": [
    "**Etendre une liste `my_list` avec une autre liste `other_list`**\n",
    "\n",
    "```python\n",
    "my_list.extend(other_list)\n",
    "```"
   ]
  },
  {
   "cell_type": "code",
   "execution_count": 194,
   "metadata": {
    "id": "Yhm-9dJykldM"
   },
   "outputs": [
    {
     "name": "stdout",
     "output_type": "stream",
     "text": [
      "[1, 2, 3, 4]\n",
      "[1, 2, 3, 4, 7, 8, 9]\n"
     ]
    }
   ],
   "source": [
    "print(my_list)\n",
    "my_list.extend([7,8,9]) # Etendre my_liste : chaque élément de la liste passée en paramètre est ajouté dans my_list\n",
    "print(my_list)"
   ]
  },
  {
   "cell_type": "markdown",
   "metadata": {},
   "source": [
    "**Max/Min d'une liste de même type**\n",
    "\n",
    "```python\n",
    "# max et min suppose que tous les éléments de la liste soit comparables deux à deux\n",
    "max(my_list)\n",
    "min(my_list)\n",
    "```"
   ]
  },
  {
   "cell_type": "code",
   "execution_count": 195,
   "metadata": {
    "id": "6X9FF3chkldM"
   },
   "outputs": [
    {
     "name": "stdout",
     "output_type": "stream",
     "text": [
      "Max de my_list: 900\n",
      "Min de my_list: -678\n"
     ]
    }
   ],
   "source": [
    "my_list = [900, 78, 65, -678, 0, -22, 15, 78, -22]\n",
    "\n",
    "print('Max de my_list:', max(my_list)) \n",
    "print('Min de my_list:', min(my_list))\n"
   ]
  },
  {
   "cell_type": "markdown",
   "metadata": {},
   "source": [
    "**Inverser une liste**\n",
    "```python\n",
    "my_list.reverse() # Inverse les élements de la liste (Le dernier <-> Le premier, l'avant dernier <-> 2ème, etc...)\n",
    "```"
   ]
  },
  {
   "cell_type": "code",
   "execution_count": 196,
   "metadata": {},
   "outputs": [
    {
     "name": "stdout",
     "output_type": "stream",
     "text": [
      "[-22, 78, 15, -22, 0, -678, 65, 78, 900]\n"
     ]
    }
   ],
   "source": [
    "my_list.reverse()\n",
    "print(my_list)"
   ]
  },
  {
   "cell_type": "markdown",
   "metadata": {},
   "source": [
    "**Supprimer la première occurence d'une valeur `v`**\n",
    "\n",
    "```python\n",
    "my_list.remove(v)\n",
    "```"
   ]
  },
  {
   "cell_type": "code",
   "execution_count": 197,
   "metadata": {},
   "outputs": [
    {
     "name": "stdout",
     "output_type": "stream",
     "text": [
      "[-22, 15, -22, 0, -678, 65, 78, 900]\n"
     ]
    }
   ],
   "source": [
    "my_list.remove(78)\n",
    "print(my_list)"
   ]
  },
  {
   "cell_type": "markdown",
   "metadata": {},
   "source": [
    "**Supprime tous les élements**\n",
    "\n",
    "```python\n",
    "my_list.clear()\n",
    "```"
   ]
  },
  {
   "cell_type": "code",
   "execution_count": 198,
   "metadata": {},
   "outputs": [
    {
     "name": "stdout",
     "output_type": "stream",
     "text": [
      "[]\n"
     ]
    }
   ],
   "source": [
    "my_list.clear()\n",
    "print(my_list)"
   ]
  },
  {
   "cell_type": "markdown",
   "metadata": {},
   "source": [
    "**Unpack une liste dans des variables**\n",
    "```python\n",
    "my_list.reverse() # Inverse les élements de la liste (Le dernier <-> Le premier, l'avant dernier <-> 2ème, etc...)\n",
    "```"
   ]
  },
  {
   "cell_type": "code",
   "execution_count": 199,
   "metadata": {
    "id": "8ImV1SPqkldM"
   },
   "outputs": [
    {
     "name": "stdout",
     "output_type": "stream",
     "text": [
      "1\n",
      "65\n",
      "blabla\n"
     ]
    }
   ],
   "source": [
    "tmp_list = [1, 65, 'blabla']\n",
    "(a, b, c) = tmp_list # List unpacking : on sépare chaque élément de la liste à sa propre variable\n",
    "print(a)\n",
    "print(b)\n",
    "print(c)"
   ]
  },
  {
   "cell_type": "markdown",
   "metadata": {
    "id": "zRqWvojJkldM"
   },
   "source": [
    "#### Tuple\n",
    "\n",
    "Un tuple (n-uplet en bon français) est identique à une liste mais **ne peut être modifié après sa création** (il est immutable), il est défini par des parenthèses.\n",
    "\n",
    "Toutes les techniques et fonctions montrées ci-dessus sur les listes fonctionnent également sur les tuples, à l'exception de celles modifiant le tuple (ce qui est impossible).\n",
    "\n",
    "Vous aurez rarement besoin de le manipuler pour les TD, mais il est couramment utilisé par les librairies en raison de son caractère immutable."
   ]
  },
  {
   "cell_type": "code",
   "execution_count": 274,
   "metadata": {
    "id": "8Pm7kM_okldM"
   },
   "outputs": [
    {
     "name": "stdout",
     "output_type": "stream",
     "text": [
      "<class 'tuple'>\n"
     ]
    }
   ],
   "source": [
    "my_tuple = (0,3,2,'h')\n",
    "my_tuple[1]\n",
    "print(type(my_tuple))"
   ]
  },
  {
   "cell_type": "code",
   "execution_count": 52,
   "metadata": {
    "id": "erFQrT6xkldM"
   },
   "outputs": [
    {
     "ename": "TypeError",
     "evalue": "'tuple' object does not support item assignment",
     "output_type": "error",
     "traceback": [
      "\u001b[0;31m---------------------------------------------------------------------------\u001b[0m",
      "\u001b[0;31mTypeError\u001b[0m                                 Traceback (most recent call last)",
      "\u001b[0;32m<ipython-input-52-eb31e0c17bde>\u001b[0m in \u001b[0;36m<module>\u001b[0;34m\u001b[0m\n\u001b[0;32m----> 1\u001b[0;31m \u001b[0mmy_tuple\u001b[0m\u001b[0;34m[\u001b[0m\u001b[0;36m1\u001b[0m\u001b[0;34m]\u001b[0m \u001b[0;34m=\u001b[0m \u001b[0;36m10\u001b[0m \u001b[0;31m# TypeError : impossible de modifier un tuple existant\u001b[0m\u001b[0;34m\u001b[0m\u001b[0;34m\u001b[0m\u001b[0m\n\u001b[0m",
      "\u001b[0;31mTypeError\u001b[0m: 'tuple' object does not support item assignment"
     ]
    }
   ],
   "source": [
    "my_tuple[1] = 10 # TypeError : impossible de modifier un tuple existant"
   ]
  },
  {
   "cell_type": "code",
   "execution_count": 201,
   "metadata": {},
   "outputs": [],
   "source": [
    "# Tuple d'un élement\n",
    "my_tuple = (1,)"
   ]
  },
  {
   "cell_type": "code",
   "execution_count": 203,
   "metadata": {},
   "outputs": [
    {
     "name": "stdout",
     "output_type": "stream",
     "text": [
      "0 0\n",
      "1 1\n",
      "2 2\n"
     ]
    }
   ],
   "source": [
    "# Un cas utile\n",
    "coord = [(0,0),(1,1),(2,2)]\n",
    "for (x,y) in coord:\n",
    "    print(x,y)"
   ]
  },
  {
   "cell_type": "markdown",
   "metadata": {},
   "source": [
    "#### Ranges\n",
    "\n",
    "Les ranges sont des séquences non mutables d'entiers beaucoup utilisé dans les boucles for pour créer des listes de nombres rapidement et d'éviter de stocker inutilement des données (mais plutôt de les générer)."
   ]
  },
  {
   "cell_type": "code",
   "execution_count": 294,
   "metadata": {},
   "outputs": [
    {
     "name": "stdout",
     "output_type": "stream",
     "text": [
      "<class 'range'>\n",
      "[0, 1, 2, 3, 4]\n"
     ]
    }
   ],
   "source": [
    "print(type(range(5)))\n",
    "\n",
    "print(list(range(5)))"
   ]
  },
  {
   "cell_type": "code",
   "execution_count": 295,
   "metadata": {},
   "outputs": [
    {
     "data": {
      "text/plain": [
       "[5, 6, 7, 8, 9, 10]"
      ]
     },
     "execution_count": 295,
     "metadata": {},
     "output_type": "execute_result"
    }
   ],
   "source": [
    "list(range(5,11))"
   ]
  },
  {
   "cell_type": "code",
   "execution_count": 298,
   "metadata": {},
   "outputs": [
    {
     "data": {
      "text/plain": [
       "[1, 3, 5, 7, 9, 11, 13, 15, 17, 19, 21]"
      ]
     },
     "execution_count": 298,
     "metadata": {},
     "output_type": "execute_result"
    }
   ],
   "source": [
    "list(range(1,22,2))"
   ]
  },
  {
   "cell_type": "code",
   "execution_count": 301,
   "metadata": {},
   "outputs": [
    {
     "name": "stdout",
     "output_type": "stream",
     "text": [
      "-20\n",
      "-15\n",
      "-10\n",
      "-5\n",
      "0\n",
      "5\n",
      "10\n",
      "15\n",
      "20\n"
     ]
    }
   ],
   "source": [
    "for r in range(-20,21,5):\n",
    "    print(r)"
   ]
  },
  {
   "cell_type": "markdown",
   "metadata": {},
   "source": [
    "#### Ensembles (sets)\n",
    "\n",
    "Les  ensembles (ou `sets`) sont des collections **non ordonnées** d'objets **distincts et unique**."
   ]
  },
  {
   "cell_type": "code",
   "execution_count": 273,
   "metadata": {},
   "outputs": [
    {
     "name": "stdout",
     "output_type": "stream",
     "text": [
      "<class 'set'>\n"
     ]
    }
   ],
   "source": [
    "my_set = set() # Ensemble vide\n",
    "my_set = {'a','b','c',1,2,3} \n",
    "print(type(my_set))"
   ]
  },
  {
   "cell_type": "markdown",
   "metadata": {},
   "source": [
    "**Ajouter un élement**"
   ]
  },
  {
   "cell_type": "code",
   "execution_count": 236,
   "metadata": {},
   "outputs": [
    {
     "name": "stdout",
     "output_type": "stream",
     "text": [
      "6\n",
      "7\n",
      "{'e', 1, 2, 3, 'b', 'a', 'c'}\n"
     ]
    }
   ],
   "source": [
    "print(len(my_set))\n",
    "my_set.add('e')\n",
    "print(len(my_set))\n",
    "my_set.add('e') # N'ajoute rien car 'e' est déjà dans l'ensemble\n",
    "print(my_set)"
   ]
  },
  {
   "cell_type": "markdown",
   "metadata": {},
   "source": [
    "**Union** AuB"
   ]
  },
  {
   "cell_type": "code",
   "execution_count": 253,
   "metadata": {},
   "outputs": [
    {
     "name": "stdout",
     "output_type": "stream",
     "text": [
      "{'e', 1, 2, 3, 4, 5, 'b', 'a', 'd', 'c'}\n"
     ]
    }
   ],
   "source": [
    "A = {'a','b','c',1,2,3} \n",
    "B = {'c','d','e',3,4,5}\n",
    "C = A.union(B)\n",
    "print(C)"
   ]
  },
  {
   "cell_type": "markdown",
   "metadata": {},
   "source": [
    "**Intersection** AnB"
   ]
  },
  {
   "cell_type": "code",
   "execution_count": 250,
   "metadata": {},
   "outputs": [
    {
     "name": "stdout",
     "output_type": "stream",
     "text": [
      "{'c', 3}\n"
     ]
    }
   ],
   "source": [
    "C = A.intersection(B)\n",
    "print(C)"
   ]
  },
  {
   "cell_type": "markdown",
   "metadata": {},
   "source": [
    "**Différence** A \\ B"
   ]
  },
  {
   "cell_type": "code",
   "execution_count": 251,
   "metadata": {},
   "outputs": [
    {
     "name": "stdout",
     "output_type": "stream",
     "text": [
      "{1, 2, 'a', 'b'}\n"
     ]
    }
   ],
   "source": [
    "C = A.difference(B)\n",
    "print(new_set)"
   ]
  },
  {
   "cell_type": "code",
   "execution_count": 252,
   "metadata": {},
   "outputs": [
    {
     "name": "stdout",
     "output_type": "stream",
     "text": [
      "{1, 2, 'a', 'b'}\n"
     ]
    }
   ],
   "source": [
    "C = A - B\n",
    "print(new_set)"
   ]
  },
  {
   "cell_type": "markdown",
   "metadata": {},
   "source": [
    "**Différence symmétrique** AΔB"
   ]
  },
  {
   "cell_type": "code",
   "execution_count": 257,
   "metadata": {},
   "outputs": [
    {
     "name": "stdout",
     "output_type": "stream",
     "text": [
      "{1, 2, 4, 5, 'e', 'b', 'a', 'd'}\n"
     ]
    }
   ],
   "source": [
    "C = A.symmetric_difference(B)\n",
    "print(C)"
   ]
  },
  {
   "cell_type": "markdown",
   "metadata": {
    "id": "CEHWwM96kldM"
   },
   "source": [
    "#### Dictionnaire\n",
    "\n",
    "Un dictionnaire est similaire à une liste mais chaque entrée est assignée par une clé / un nom, il est **défini avec des accolades**.\n",
    "\n",
    "Cet objet est notamment utilisé pour la construction de l'index des colonnes (variables) du type *DataFrame* de la librairie `pandas`.\n",
    "\n",
    "> Remarque importante : les clés du dictionnaire doivent être hashables. Autrement dit elles ne peuvent pas être modifiées après création (et est donc unique). Une liste ne peut donc pas être une clé de dictionnaire (mais possible de l'utiliser en valeur). Une chaîne de caractère, un nombre ou un tuple (pour ne citer qu'eux) peuvent être utilisés comme clés."
   ]
  },
  {
   "cell_type": "code",
   "execution_count": 275,
   "metadata": {
    "id": "qcLLyNNWkldN"
   },
   "outputs": [
    {
     "data": {
      "text/plain": [
       "dict"
      ]
     },
     "execution_count": 275,
     "metadata": {},
     "output_type": "execute_result"
    }
   ],
   "source": [
    "# Création d'un dictionnaire vide (les deux syntaxes sont équivalentes)\n",
    "my_dict = dict()\n",
    "my_dict = {}\n",
    "type(my_dict)"
   ]
  },
  {
   "cell_type": "code",
   "execution_count": 258,
   "metadata": {
    "id": "QEuJt3IKkldN"
   },
   "outputs": [
    {
     "data": {
      "text/plain": [
       "31"
      ]
     },
     "execution_count": 258,
     "metadata": {},
     "output_type": "execute_result"
    }
   ],
   "source": [
    "# Création d'un dictionnaire pré-rempli\n",
    "months = {'Jan':31 , 'Fév': 28, 'Mar':31}\n",
    "months['Jan']"
   ]
  },
  {
   "cell_type": "markdown",
   "metadata": {},
   "source": [
    "**Ajout d'une paire (clé,valeur)**"
   ]
  },
  {
   "cell_type": "code",
   "execution_count": 55,
   "metadata": {
    "id": "fwr_YqdckldN"
   },
   "outputs": [
    {
     "name": "stdout",
     "output_type": "stream",
     "text": [
      "{'Jan': 31, 'Fév': 28, 'Mar': 31}\n",
      "{'Jan': 31, 'Fév': 28, 'Mar': 31, 'Déc': 31}\n"
     ]
    }
   ],
   "source": [
    "print(months) # valeur initiale\n",
    "months['Déc'] = 31\n",
    "print(months) # nouvelle valeur"
   ]
  },
  {
   "cell_type": "markdown",
   "metadata": {},
   "source": [
    "**Suppression d'une paire (clé,valeur)**"
   ]
  },
  {
   "cell_type": "code",
   "execution_count": 283,
   "metadata": {},
   "outputs": [
    {
     "data": {
      "text/plain": [
       "31"
      ]
     },
     "execution_count": 283,
     "metadata": {},
     "output_type": "execute_result"
    }
   ],
   "source": [
    "months.pop('Jan')"
   ]
  },
  {
   "cell_type": "markdown",
   "metadata": {},
   "source": [
    "**Modification de la valeur d'une clé**"
   ]
  },
  {
   "cell_type": "code",
   "execution_count": 284,
   "metadata": {
    "id": "RDbRGihykldN"
   },
   "outputs": [
    {
     "name": "stdout",
     "output_type": "stream",
     "text": [
      "{'Fév': 29, 'Mar': 31}\n"
     ]
    }
   ],
   "source": [
    "months['Fév'] = 29 # Année bissextile...\n",
    "print(months)"
   ]
  },
  {
   "cell_type": "markdown",
   "metadata": {},
   "source": [
    "**Récupérer toutes les clés**"
   ]
  },
  {
   "cell_type": "code",
   "execution_count": 57,
   "metadata": {
    "id": "yfvM7dSRkldN"
   },
   "outputs": [
    {
     "data": {
      "text/plain": [
       "dict_keys(['Jan', 'Fév', 'Mar', 'Déc'])"
      ]
     },
     "execution_count": 57,
     "metadata": {},
     "output_type": "execute_result"
    }
   ],
   "source": [
    "# Itérer le long de clés\n",
    "months.keys()"
   ]
  },
  {
   "cell_type": "markdown",
   "metadata": {},
   "source": [
    "**Récupérer toutes les valeurs**"
   ]
  },
  {
   "cell_type": "code",
   "execution_count": 261,
   "metadata": {
    "id": "9RDBiIctkldN"
   },
   "outputs": [
    {
     "data": {
      "text/plain": [
       "dict_values([31, 29, 31])"
      ]
     },
     "execution_count": 261,
     "metadata": {},
     "output_type": "execute_result"
    }
   ],
   "source": [
    "# Itérer le long des valeurs\n",
    "months.values()"
   ]
  },
  {
   "cell_type": "markdown",
   "metadata": {},
   "source": [
    "**Récupérer les combinaison (clé, valeur)**"
   ]
  },
  {
   "cell_type": "code",
   "execution_count": 265,
   "metadata": {
    "id": "4_8Z9XIOkldN"
   },
   "outputs": [
    {
     "data": {
      "text/plain": [
       "dict_items([('Jan', 31), ('Fév', 29), ('Mar', 31)])"
      ]
     },
     "execution_count": 265,
     "metadata": {},
     "output_type": "execute_result"
    }
   ],
   "source": [
    "# Combinaison de keys() et values() : renvoie des tuples clé/valeur pour itérer sur chaque couple\n",
    "months.items()"
   ]
  },
  {
   "cell_type": "code",
   "execution_count": 285,
   "metadata": {},
   "outputs": [
    {
     "name": "stdout",
     "output_type": "stream",
     "text": [
      "('Fév', 29)\n",
      "('Mar', 31)\n"
     ]
    }
   ],
   "source": [
    "for item in months.items():\n",
    "    print(item)"
   ]
  },
  {
   "cell_type": "markdown",
   "metadata": {
    "id": "vNPOBaiYkldN"
   },
   "source": [
    "#### Matrices, array, DataFrame, ...\n",
    "\n",
    "Dictionnaires, tuples et listes constituent les **structures de données de base** en Python. Leurs fonctionnalités sont néanmoins limitées pour une analyse de données (pas de calcul facile d'indicateurs numériques par exemple).\n",
    "\n",
    "Des structures de données plus avancées sont fournies par des bibliothèques tierces. On étudiera le `DataFrame` fourni par `pandas` dans le notebook suivant.\n",
    "\n",
    "----"
   ]
  },
  {
   "cell_type": "markdown",
   "metadata": {
    "id": "o7lOO3TjkldN"
   },
   "source": [
    "## 4. Syntaxe de Python"
   ]
  },
  {
   "cell_type": "markdown",
   "metadata": {
    "id": "emsuP1TPkldN"
   },
   "source": [
    "### 4.1 Structures de contrôle élémentaires\n",
    "Un bloc de commande est défini par **deux points suivis d'une indentation fixe**.  Cela force l'écriture de codes faciles à lire mais à être très attentif sur la gestion des indentations car la fin d'indentation signifie la fin d'un bloc de commandes.\n",
    "\n",
    "Heureusement, les notebooks vous aident dans la rédaction de ces blocs en vous proposant par défaut une indentation censée être correcte."
   ]
  },
  {
   "cell_type": "markdown",
   "metadata": {
    "id": "61QU_Hr9kldN"
   },
   "source": [
    "#### Structure conditionnelle"
   ]
  },
  {
   "cell_type": "code",
   "execution_count": 286,
   "metadata": {
    "id": "cAqRXIyAkldO"
   },
   "outputs": [
    {
     "name": "stdout",
     "output_type": "stream",
     "text": [
      "0\n",
      "0\n"
     ]
    }
   ],
   "source": [
    "# si alors, sinon si alors, sinon\n",
    "# L'expression en face de chaque mot clé if/elif/else doit fournir un booléen quand elle est évaluée\n",
    "a = 2\n",
    "\n",
    "if a>0:\n",
    "    b = 0\n",
    "    print(b)\n",
    "elif a > 50:\n",
    "    print(\"a est plus grand que 50\")\n",
    "else:\n",
    "    b=-1\n",
    "\n",
    "print(b)"
   ]
  },
  {
   "cell_type": "markdown",
   "metadata": {
    "id": "xzdikIaekldO"
   },
   "source": [
    "#### Structure itérative / boucles"
   ]
  },
  {
   "cell_type": "code",
   "execution_count": 61,
   "metadata": {
    "id": "iWkOYE46kldO"
   },
   "outputs": [
    {
     "name": "stdout",
     "output_type": "stream",
     "text": [
      "0\n",
      "1\n",
      "2\n",
      "3\n"
     ]
    }
   ],
   "source": [
    "for i in range(4):\n",
    "    print(i)"
   ]
  },
  {
   "cell_type": "code",
   "execution_count": 62,
   "metadata": {
    "id": "FXm-ZUnQkldO"
   },
   "outputs": [
    {
     "name": "stdout",
     "output_type": "stream",
     "text": [
      "1\n",
      "3\n",
      "5\n",
      "7\n"
     ]
    }
   ],
   "source": [
    "for i in range(1,8,2):\n",
    "    print(i)"
   ]
  },
  {
   "cell_type": "code",
   "execution_count": 63,
   "metadata": {
    "id": "v8T4BcyDkldO"
   },
   "outputs": [
    {
     "name": "stdout",
     "output_type": "stream",
     "text": [
      "1\n",
      "2\n",
      "3\n",
      "4\n",
      "hi\n",
      "7\n",
      "8\n",
      "9\n",
      "[10, 11, 12]\n"
     ]
    }
   ],
   "source": [
    "# Pas la peine de définir un compteur pour itérer sur un élément itérable (liste, tuple, ...)\n",
    "# Python peut directement renvoyer l'élément à chaque tour de boucle\n",
    "# Cette fonctionnalité est très efficace en la combinant aux méthodes d'indexation vues précédemment\n",
    "\n",
    "for element in my_list:\n",
    "    print(element) # un élément par ligne"
   ]
  },
  {
   "cell_type": "markdown",
   "metadata": {
    "id": "qAbLg6aOkldO"
   },
   "source": [
    "Il existe également une structure `while` plus rarement utilisée. Elle n'est pas présentée ici (toutes les boucles `while` peuvent être réécrites en boucles `for`)."
   ]
  },
  {
   "cell_type": "markdown",
   "metadata": {
    "id": "z9YqceHIkldO"
   },
   "source": [
    "### 4.2 Fonctions\n",
    "\n",
    "Les fonctions permettent de diviser de(s) grande(s) parties de code en morceaux afin de favoriser la ré-utilisation de code et éviter les réptétitions ([DRY](https://fr.wikipedia.org/wiki/Ne_vous_répétez_pas)).\n",
    "Elles sont déclarées avec le mot-clé **`def`**."
   ]
  },
  {
   "cell_type": "code",
   "execution_count": 287,
   "metadata": {
    "id": "ZSEoThQ7kldO"
   },
   "outputs": [],
   "source": [
    "# Définition d'une fonction, le mot clé \"def\" est obligatoire\n",
    "def pythagorus(x,y):\n",
    "    \"\"\" Calcule l'hypoténuse d'un triangle \"\"\" # Docstring (optionnelle) : document la fonction\n",
    "    r = pow(x**2+y**2,0.5)\n",
    "    \n",
    "    return x,y,r # Valeur de retour"
   ]
  },
  {
   "cell_type": "code",
   "execution_count": 65,
   "metadata": {
    "id": "lNqaNQezkldO"
   },
   "outputs": [
    {
     "data": {
      "text/plain": [
       "(3, 4, 5.0)"
      ]
     },
     "execution_count": 65,
     "metadata": {},
     "output_type": "execute_result"
    }
   ],
   "source": [
    "# exemples d'appel, tous équivalents\n",
    "pythagorus(3,4) # paramètres passés dans l'ordre d'appel\n",
    "pythagorus(x=3,y=4) # pour plus de clarté\n",
    "pythagorus(y=4, x=3) # équivalent aux appels précédents, l'ordre des paramètres **nommés** n'est pas important"
   ]
  },
  {
   "cell_type": "code",
   "execution_count": 289,
   "metadata": {
    "id": "CZjj66nDkldO"
   },
   "outputs": [
    {
     "name": "stdout",
     "output_type": "stream",
     "text": [
      "Help on function pythagorus in module __main__:\n",
      "\n",
      "pythagorus(x, y)\n",
      "    Calcule l'hypoténuse d'un triangle\n",
      "\n"
     ]
    }
   ],
   "source": [
    "# aide intégrée\n",
    "help(pythagorus)"
   ]
  },
  {
   "cell_type": "code",
   "execution_count": 67,
   "metadata": {
    "id": "04Rxi3vbkldO"
   },
   "outputs": [
    {
     "data": {
      "text/plain": [
       "(5, 1, 5.0990195135927845)"
      ]
     },
     "execution_count": 67,
     "metadata": {},
     "output_type": "execute_result"
    }
   ],
   "source": [
    "# Fonction avec des paramètres par défaut\n",
    "def pythagorus(x=1,y=1):\n",
    "    \"\"\" calcule l'hypoténuse d'un triangle \"\"\"\n",
    "    r = pow(x**2+y**2,0.5)\n",
    "    return x,y,r\n",
    "\n",
    "pythagorus()\n",
    "pythagorus(5) # équivalent à pythagorus(x=5)"
   ]
  },
  {
   "cell_type": "markdown",
   "metadata": {
    "id": "8EL1N0jBkldO"
   },
   "source": [
    "La fonction `pythagorus` renvoie 3 valeurs correspondant aux longueurs des trois côtés. Il est possible d'affecter directement chaque valeur dans une variable distincte des autres, de la même manière que pour découper une liste (*list unpacking*)."
   ]
  },
  {
   "cell_type": "code",
   "execution_count": 68,
   "metadata": {
    "id": "KI00l_3ukldP"
   },
   "outputs": [
    {
     "name": "stdout",
     "output_type": "stream",
     "text": [
      "(5, 4, 6.4031242374328485)\n",
      "<class 'tuple'>\n"
     ]
    }
   ],
   "source": [
    "# Si une seule variable est donnée pour récupérer la sortie, alors elle recevra un tuple avec toutes les valeurs\n",
    "# retournées par la fonction\n",
    "a = pythagorus(5, 4)\n",
    "\n",
    "print(a)\n",
    "print(type(a))"
   ]
  },
  {
   "cell_type": "code",
   "execution_count": 303,
   "metadata": {
    "id": "LXsJmpFckldP",
    "scrolled": true
   },
   "outputs": [
    {
     "name": "stdout",
     "output_type": "stream",
     "text": [
      "5\n",
      "4\n",
      "6.4031242374328485\n",
      "<class 'float'>\n"
     ]
    }
   ],
   "source": [
    "# Si autant de variables sont données que de valeurs sont retournées par la fonction, alors chaque variable recevra\n",
    "# une valeur retournée, dans l'ordre de retour\n",
    "\n",
    "a, b, hypotenuse = pythagorus(5, 4)\n",
    "print(a)\n",
    "print(b)\n",
    "print(hypotenuse)\n",
    "print(type(hypotenuse))"
   ]
  },
  {
   "cell_type": "markdown",
   "metadata": {
    "id": "28N3eJP-kldP"
   },
   "source": [
    "Le cas intermédiaire où le nombre de variables données est inférieur au nombre de valeurs retournées par la fonction ne fonctionne pas par défaut et renverra une erreur (une Exception). En effet ce **cas est ambigu**, Python ne sait pas comment répartir les valeurs retournées entre les variables données.\n",
    "\n",
    "Il est possible d'utiliser **l'opérateur `*`** (dit *splat operator*) pour indiquer clairement le contenu que chaque variable est censé recevoir. Ce cas ne sera pas étudié en TD, mais il représente un allié efficace pour limiter le nombre de lignes de code nécessaire."
   ]
  },
  {
   "cell_type": "markdown",
   "metadata": {},
   "source": [
    "### 4.3 Compréhensions de liste (List Comprehensions)\n",
    "\n",
    "La Compréhension de liste sont un opérateur un peu spécial en Python. Elle permet d'effectuer de façon courte et élégante des opérations sur tous les éléments d'une liste et de retourner cette liste (ce qui évite d'utiliser un boucle for pour faire la même chose)."
   ]
  },
  {
   "cell_type": "code",
   "execution_count": 311,
   "metadata": {},
   "outputs": [
    {
     "name": "stdout",
     "output_type": "stream",
     "text": [
      "[-1, -8, -27, -64, -125]\n",
      "['aaaaaaaaaa', 'bbbbbbbbbb', 'cccccccccc']\n"
     ]
    }
   ],
   "source": [
    "valeurs = [-1,-2,-3,-4,-5]\n",
    "print([v**3 for v in valeurs])\n",
    "\n",
    "valeurs = ['a','b','c']\n",
    "print([v*10 for v in valeurs])"
   ]
  },
  {
   "cell_type": "markdown",
   "metadata": {
    "id": "CcapNdkekldP"
   },
   "source": [
    "### 4.4 Modules et librairies\n",
    "\n",
    "Comme tous les langages de programmation modernes, Python est conçu pour être modulaire et permet facilement d'incorporer des fonctions et classes issues de sources diverses.\n",
    "\n",
    "Ces bouts de code externes peuvent être rangés dans des **modules** ou des **packages** selon le niveau de complexité du projet.\n",
    "\n",
    "#### Modules \n",
    "Un **module** contient plusieurs fonctions et commandes qui sont regroupées dans un fichier d'extension `.py`. **Un module est donc un unique fichier `.py`**.\n",
    "\n",
    "Un **package** est une collection de plusieurs modules, interagissant entre eux si nécessaire. **Un package est donc un dossier de fichier `.py` et sous-dossiers**. Pour transformer un simple dossier en package, il faut insérer un fichier avec le nom `__init__.py` à sa racine (et celle de chaque sous-dossier). Le code dans ce fichier sera exécuté lorsque le package est importé. Les fichiers `__init__.py` peuvent être vides mais doivent être créés.\n",
    "\n",
    "Dans tous les cas, importer un objet défini dans un module/package se fait à l'aide de la déclaration **`import`** "
   ]
  },
  {
   "cell_type": "markdown",
   "metadata": {
    "id": "SVBfDU6TkldP"
   },
   "source": [
    "Commencer par définir un module dans un fichier texte contenant les commandes suivantes.\n",
    "\n",
    "```python\n",
    "def dit_bonjour():\n",
    "    print(\"Bonjour\")\n",
    "    \n",
    "def div_by_2(x):\n",
    "    return x/2\n",
    "```\n",
    "\n",
    "Sauver le fichier avec pour nom `testM.py` dans le répertoire courant de ce notebook.\n",
    "\n",
    "Deux fonctions sont définies dans ce module : `dit_bonjour` et `div_by_2`. Nous allons tester les différents modes d'importation sur ce module.\n",
    "\n",
    "**Premier cas** : on importe toutes les fonctions du module. Afin d'éviter les conflits de nommage (e.g. si une fonction `div_by_2` a déjà été définie auparavant et que l'on ne souhaite pas l'écraser), Python va par défaut importer ces fonctions dans le *namespace* du même nom que le module."
   ]
  },
  {
   "cell_type": "code",
   "execution_count": 70,
   "metadata": {
    "id": "eWT49wYpkldP"
   },
   "outputs": [
    {
     "ename": "ModuleNotFoundError",
     "evalue": "No module named 'testM'",
     "output_type": "error",
     "traceback": [
      "\u001b[0;31m---------------------------------------------------------------------------\u001b[0m",
      "\u001b[0;31mModuleNotFoundError\u001b[0m                       Traceback (most recent call last)",
      "\u001b[0;32m<ipython-input-70-26e52c0498d3>\u001b[0m in \u001b[0;36m<module>\u001b[0;34m\u001b[0m\n\u001b[0;32m----> 1\u001b[0;31m \u001b[0;32mimport\u001b[0m \u001b[0mtestM\u001b[0m\u001b[0;34m\u001b[0m\u001b[0;34m\u001b[0m\u001b[0m\n\u001b[0m\u001b[1;32m      2\u001b[0m \u001b[0mtestM\u001b[0m\u001b[0;34m.\u001b[0m\u001b[0mdit_bonjour\u001b[0m\u001b[0;34m(\u001b[0m\u001b[0;34m)\u001b[0m \u001b[0;31m# Les éléments de testM (ici les deux fonctions) sont accessibles dans le namespace \"testM\"\u001b[0m\u001b[0;34m\u001b[0m\u001b[0;34m\u001b[0m\u001b[0m\n",
      "\u001b[0;31mModuleNotFoundError\u001b[0m: No module named 'testM'"
     ]
    }
   ],
   "source": [
    "import testM\n",
    "testM.dit_bonjour() # Les éléments de testM (ici les deux fonctions) sont accessibles dans le namespace \"testM\""
   ]
  },
  {
   "cell_type": "code",
   "execution_count": null,
   "metadata": {
    "id": "Lt5taXpEkldP"
   },
   "outputs": [],
   "source": [
    "print(testM.div_by_2(10))"
   ]
  },
  {
   "cell_type": "markdown",
   "metadata": {
    "id": "w6Tc0A8IkldP"
   },
   "source": [
    "**Deuxième cas** : On peut également **cibler précisément les objets à importer** (ici la fonction `dit_bonjour`). Dans ce cas, l'objet importé sera disponible dans le namespace par défaut et donc aucun préfixe ne sera nécessaire pour l'utiliser. **Attention aux conflits de nommage** dans ce cas, Python ne lèvera aucune exception si un objet précédemment créé possède le même nom."
   ]
  },
  {
   "cell_type": "code",
   "execution_count": null,
   "metadata": {
    "id": "ASq84pHTkldP"
   },
   "outputs": [],
   "source": [
    "from testM import dit_bonjour\n",
    "dit_bonjour() # aucun préfixe nécessaire"
   ]
  },
  {
   "cell_type": "code",
   "execution_count": null,
   "metadata": {
    "id": "sH1QEj0_kldP"
   },
   "outputs": [],
   "source": [
    "# On vérifie bien que l'objet importé est le même que précédemment\n",
    "# En Python, les fonctions sont des objets comme les autres, et sont donc également comparables en référence\n",
    "dit_bonjour is testM.dit_bonjour"
   ]
  },
  {
   "cell_type": "markdown",
   "metadata": {
    "id": "e0FOey3AkldP"
   },
   "source": [
    "**Troisième cas** : Identique au deuxième cas, mais en définissant un alias pour l'objet importé. Ceci permet d'éviter les conflits de nommage."
   ]
  },
  {
   "cell_type": "code",
   "execution_count": null,
   "metadata": {
    "id": "TFkLL0xBkldP"
   },
   "outputs": [],
   "source": [
    "from testM import dit_bonjour as salut # on importe la même fonction qu'au dessus, mais avec un alias \"salut\"\n",
    "\n",
    "salut()"
   ]
  },
  {
   "cell_type": "code",
   "execution_count": null,
   "metadata": {
    "id": "wSebppYIkldP"
   },
   "outputs": [],
   "source": [
    "# A nouveau, on vérifie bien que l'alias et l'objet initial sont identiques\n",
    "salut is dit_bonjour"
   ]
  },
  {
   "cell_type": "markdown",
   "metadata": {
    "id": "_wKLq2WlkldQ"
   },
   "source": [
    "Les fonctions et classes importées fonctionnent exactement de la même manière que les fonctions définies au cours de la session (par exemple dans le notebook).\n",
    "\n",
    "Lors de son premier appel, un module est pré-compilé dans un fichier `.pyc` qui est utilisé pour les appels suivants. **Attention**, si le fichier a été modifié / corrigé, il a besoin d'être rechargé par la commande `reload(name)`.\n",
    "\n",
    "#### Package\n",
    "\n",
    "Une librairie (*package*) regroupe plusieurs modules dans différents sous-répertoires. Le chargement spécifique d'un des modules se fait en précisant le chemin.\n",
    "\n",
    "Chaque répertoire d'un package doit être séparé par un point (`.`)."
   ]
  },
  {
   "cell_type": "code",
   "execution_count": null,
   "metadata": {
    "id": "arjfcBtOkldQ"
   },
   "outputs": [],
   "source": [
    "# Import de la fonction randint dans le module random lui-même dans le package numpy\n",
    "from numpy.random import randint"
   ]
  },
  {
   "cell_type": "markdown",
   "metadata": {
    "id": "ZPt0V2y8kldQ"
   },
   "source": [
    "Les modules et packages développés par la communauté peuvent être téléchargés facilement avec l'utilitaire `pip` que vous avez utilisé au début de ce TD pour mettre en place votre environnement.\n",
    "\n",
    "Ces modules et package externes sont importables exactement de la même façon que montrés ci-dessus.\n",
    "\n",
    "### Librairie et documentation standard\n",
    "\n",
    "La [**librairie standard Python**](https://docs.python.org/3/library/) contient une **quantité immense de fonctions** pouvant accomplir la grande majorité des tâches. Certaines bibliothèques tierces permettent néanmoins de combler les manques et d'apporter des fonctionnalités plus avancées. C'est notamment le cas pour du calcul scientifique.\n",
    "\n",
    "Dans la plupart des cas, ce que vous souhaitez accomplir sera **déjà implémenté dans la librairie standard**. Il est donc recommandé de se familiariser avec la documentation (de qualité !) et de ne pas hésiter à chercher un peu dans la librairie standard avant de télécharger des modules depuis des sources tierces (souvent moins maintenues)."
   ]
  },
  {
   "cell_type": "markdown",
   "metadata": {
    "id": "ZRmWCSYfkldQ"
   },
   "source": [
    "## 4.5 A vous de jouer\n",
    "\n",
    "On définit ci-dessous un texte dans une variable `txt` (sur plusieurs lignes avec les caractères `\\`). Avec les concepts vus jusqu'à présent, calculer et afficher les résultats suivants : \n",
    "\n",
    "1. Nombre de caractères dans `txt`\n",
    "2. Nombre de caractères dans chaque phrase. On définit une phrase comme un groupe de mots, deux phrases sont délimitées par un point (`.`).\n",
    "3. Nombre moyen de caractère sur l'ensemble des phrases. Indice : La fonction `sum(my_list)` renvoie la somme de tous les éléments dans `my_list`.\n",
    "4. Afficher le cinquième mot de chaque phrase s'il existe, sinon afficher \"`n/a`\" ('not available')"
   ]
  },
  {
   "cell_type": "code",
   "execution_count": 73,
   "metadata": {
    "id": "atrdGFR4kldQ"
   },
   "outputs": [
    {
     "name": "stdout",
     "output_type": "stream",
     "text": [
      "The Zen of Python. Beautiful is better than ugly. Explicit is better than implicit. Simple is better than complex. Complex is better than complicated. Flat is better than nested. Sparse is better than dense. Readability counts. Special cases aren't special enough to break the rules. Although practicality beats purity. Errors should never pass silently. Unless explicitly silenced. In the face of ambiguity, refuse the temptation to guess. There should be one-- and preferably only one --obvious way to do it. Although that way may not be obvious at first unless you're Dutch. Now is better than never. Although never is often better than *right* now. If the implementation is hard to explain, it's a bad idea. If the implementation is easy to explain, it may be a good idea. Namespaces are one honking great idea -- let's do more of those!\n"
     ]
    }
   ],
   "source": [
    "txt = \"The Zen of Python. \\\n",
    "Beautiful is better than ugly. \\\n",
    "Explicit is better than implicit. \\\n",
    "Simple is better than complex. \\\n",
    "Complex is better than complicated. \\\n",
    "Flat is better than nested. \\\n",
    "Sparse is better than dense. \\\n",
    "Readability counts. \\\n",
    "Special cases aren't special enough to break the rules. \\\n",
    "Although practicality beats purity. \\\n",
    "Errors should never pass silently. \\\n",
    "Unless explicitly silenced. \\\n",
    "In the face of ambiguity, refuse the temptation to guess. \\\n",
    "There should be one-- and preferably only one --obvious way to do it. \\\n",
    "Although that way may not be obvious at first unless you're Dutch. \\\n",
    "Now is better than never. \\\n",
    "Although never is often better than *right* now. \\\n",
    "If the implementation is hard to explain, it's a bad idea. \\\n",
    "If the implementation is easy to explain, it may be a good idea. \\\n",
    "Namespaces are one honking great idea -- let's do more of those!\"\n",
    "\n",
    "print(txt)"
   ]
  },
  {
   "cell_type": "code",
   "execution_count": 75,
   "metadata": {
    "id": "e9TF9I0kkldQ"
   },
   "outputs": [
    {
     "ename": "ValueError",
     "evalue": "empty separator",
     "output_type": "error",
     "traceback": [
      "\u001b[0;31m---------------------------------------------------------------------------\u001b[0m",
      "\u001b[0;31mValueError\u001b[0m                                Traceback (most recent call last)",
      "\u001b[0;32m<ipython-input-75-70b5b845448b>\u001b[0m in \u001b[0;36m<module>\u001b[0;34m\u001b[0m\n\u001b[1;32m      1\u001b[0m \u001b[0;31m# 1. Nombre de caractères dans txt\u001b[0m\u001b[0;34m\u001b[0m\u001b[0;34m\u001b[0m\u001b[0;34m\u001b[0m\u001b[0m\n\u001b[0;32m----> 2\u001b[0;31m \u001b[0mtxt\u001b[0m\u001b[0;34m.\u001b[0m\u001b[0msplit\u001b[0m\u001b[0;34m(\u001b[0m\u001b[0;34m''\u001b[0m\u001b[0;34m)\u001b[0m\u001b[0;34m\u001b[0m\u001b[0;34m\u001b[0m\u001b[0m\n\u001b[0m",
      "\u001b[0;31mValueError\u001b[0m: empty separator"
     ]
    }
   ],
   "source": [
    "# 1. Nombre de caractères dans txt\n",
    "txt.split('')"
   ]
  },
  {
   "cell_type": "code",
   "execution_count": null,
   "metadata": {
    "id": "COExn3M6kldQ"
   },
   "outputs": [],
   "source": [
    "# 2. Nombre de caractères dans chaque phrases\n"
   ]
  },
  {
   "cell_type": "code",
   "execution_count": null,
   "metadata": {
    "id": "I2w_ZF37kldQ"
   },
   "outputs": [],
   "source": [
    "# 3. Nombre moyen de caractères par phrase, sur l'ensemble du texte\n"
   ]
  },
  {
   "cell_type": "code",
   "execution_count": null,
   "metadata": {
    "id": "XOd2LEqYkldQ"
   },
   "outputs": [],
   "source": [
    "# 4. Cinquième mot de chaque phrase\n"
   ]
  },
  {
   "cell_type": "markdown",
   "metadata": {
    "id": "6i4hgYkBkldQ"
   },
   "source": [
    "----\n",
    "\n",
    "## 5. Calcul scientifique\n",
    "Voici deux des principales librairies indispensables au calcul scientifique. \n",
    "\n",
    "Deux autres librairies: `pandas`, et `plotly` seront exposées en détail dans les notebooks suivants."
   ]
  },
  {
   "cell_type": "markdown",
   "metadata": {
    "id": "1Jhes334kldQ"
   },
   "source": [
    "### 5.1 Principales librairies ou *packages*"
   ]
  },
  {
   "cell_type": "markdown",
   "metadata": {
    "id": "zf58uW3rkldQ"
   },
   "source": [
    "#### `numpy`\n",
    "Cette librairie définit le type de données `array` ainsi que les fonctions de calcul qui y sont associées. Il contient aussi quelques fonctions d'algèbre linéaire et statistiques. "
   ]
  },
  {
   "cell_type": "markdown",
   "metadata": {
    "id": "jexbwkNTkldQ"
   },
   "source": [
    "#### `SciPy`\n",
    "Cette librairie est un ensemble très complet de modules d'algèbre linéaire, statistiques et autres algorithmes numériques. Le site  de la documentation en fournit la [liste](http://docs.scipy.org/doc/scipy/reference). \n",
    "\n",
    "La plupart de ces fonctions ne seront pas utiles pour l'analyse de données mais peuvent se révéler utile en cas de besoin spécifiques. Ce package ne sera pas utilisé dans la suite de ces TD.\n",
    "\n",
    "\n",
    "Les fonctions dans `SciPy` et `numpy` sont **implémentées pour la plupart en C**. Les performances offertes sont donc proches des performances maximales de la machine."
   ]
  },
  {
   "cell_type": "markdown",
   "metadata": {
    "id": "tnGZ24BBkldR"
   },
   "source": [
    "### 5.2 Type `array`\n",
    "\n",
    "C'est de loin la structure de données la plus utilisée pour le calcul scientifique sous Python. Elle décrit des tableaux ou **matrices multi-indices de dimension arbitraire $ n = 1, 2, 3, \\ldots , 40, \\ldots $**. **Tous les éléments d'un `array` sont de même type (booléen, entier, réel, complexe)**. \n",
    "\n",
    "Il est possible de contrôler précisément le type d'un `array`, par exemple pour gagner  de la place en mémoire, en codant les entiers sur 8, 16, 32 ou 64 bits, de même pour les réels (*float*) ou les complexes.\n",
    "\n",
    "Les tableaux ou tables de données (*DataFrame*), bases d'analyses statistiques et regroupant des objets de types différents sont décrits avec la librairie `pandas`. On peut donc voir un `DataFrame` comme une collection d'`array`, **chaque colonne du `DataFrame` étant un `array` 1D**.\n",
    "\n",
    "Un `DataFrame` se rapproche très fortement du concept de **cube OLAP**. Chaque `DataFrame` est ainsi un cube, néanmoins le `DataFrame` doit **tenir** (par défaut) **entièrement en mémoire** ce qui limite fortement sa taille.\n",
    "\n",
    "#### Définition du type `array`"
   ]
  },
  {
   "cell_type": "code",
   "execution_count": null,
   "metadata": {
    "id": "EGTKCojukldR"
   },
   "outputs": [],
   "source": [
    "# Importation du package numpy, ici aliasé par np\n",
    "import numpy as np\n",
    "\n",
    "my_1d_array = np.array([4,3,2]) # On crée un array à partir d'une simple liste Python\n",
    "print(my_1d_array)"
   ]
  },
  {
   "cell_type": "code",
   "execution_count": null,
   "metadata": {
    "id": "suEgRVt8kldR"
   },
   "outputs": [],
   "source": [
    "# Un array 2D est simplement une liste de listes\n",
    "# Par défaut, chaque liste imbriquée est une ligne de l'array final, \n",
    "# mais il est possible de personnaliser ce comportement\n",
    "\n",
    "my_2d_array = np.array([[1,0,0],[0,2,0],[0,0,3]]) \n",
    "print(my_2d_array)"
   ]
  },
  {
   "cell_type": "code",
   "execution_count": null,
   "metadata": {
    "id": "Fg69XH3VkldT"
   },
   "outputs": [],
   "source": [
    "my_2d_array.shape"
   ]
  },
  {
   "cell_type": "markdown",
   "metadata": {
    "id": "_RBfVparkldT"
   },
   "source": [
    "Le principal avantage de `numpy` par rapport à des listes imbriquées réside dans ses capacités d'**indexation**. Il est ainsi possible de sélectionner des morceaux d'array efficacement et avec une **syntaxe proche de la sélection de sous-listes**."
   ]
  },
  {
   "cell_type": "code",
   "execution_count": null,
   "metadata": {
    "id": "AiiNhX1FkldT"
   },
   "outputs": [],
   "source": [
    "a = np.array([[0,1],[2,3],[4,5]])\n",
    "\n",
    "a[2,1] # (ligne, colonne), les indices commencent à 0"
   ]
  },
  {
   "cell_type": "code",
   "execution_count": null,
   "metadata": {
    "id": "ChKwr31rkldT"
   },
   "outputs": [],
   "source": [
    "a[:,1] # Sélectionner toute une colonne (ici la deuxième)"
   ]
  },
  {
   "cell_type": "code",
   "execution_count": null,
   "metadata": {
    "id": "LzxJo-6_kldT"
   },
   "outputs": [],
   "source": [
    "a[0,:] # Sélectionner toute une ligne (ici la première)"
   ]
  },
  {
   "cell_type": "markdown",
   "metadata": {
    "id": "EPmJxdy6kldT"
   },
   "source": [
    "#### Fonctions de type `array`\n",
    "\n",
    "Ces fonctions permettent d'initialiser rapidement un array répondant à certains critères courants (que des 1 sur la diagonale, éléments croissants, ...)"
   ]
  },
  {
   "cell_type": "code",
   "execution_count": null,
   "metadata": {
    "id": "2UiHyIgbkldT"
   },
   "outputs": [],
   "source": [
    "np.arange(5)"
   ]
  },
  {
   "cell_type": "code",
   "execution_count": null,
   "metadata": {
    "id": "Ah1c7kH5kldU"
   },
   "outputs": [],
   "source": [
    "np.ones(3)"
   ]
  },
  {
   "cell_type": "code",
   "execution_count": null,
   "metadata": {
    "id": "rHvWTWyokldU"
   },
   "outputs": [],
   "source": [
    "np.ones(shape=(3,4))"
   ]
  },
  {
   "cell_type": "code",
   "execution_count": null,
   "metadata": {
    "id": "dALHy4eakldU"
   },
   "outputs": [],
   "source": [
    "np.eye(3)"
   ]
  },
  {
   "cell_type": "code",
   "execution_count": null,
   "metadata": {
    "id": "csrFdpOUkldU"
   },
   "outputs": [],
   "source": [
    "np.linspace(3, 7, 3)\n",
    "np.linspace(start=3, stop=7, num=3) # équivalent à la ligne précédente"
   ]
  },
  {
   "cell_type": "code",
   "execution_count": null,
   "metadata": {
    "id": "hS6OBLlgkldU"
   },
   "outputs": [],
   "source": [
    "d = np.diag([1,2,4,3])\n",
    "d"
   ]
  },
  {
   "cell_type": "code",
   "execution_count": null,
   "metadata": {
    "id": "yVVQI3BUkldU"
   },
   "outputs": [],
   "source": [
    "M = np.array([[10*n+m for n in range(3)] \n",
    "              for m in range(2)]) \n",
    "print(M)"
   ]
  },
  {
   "cell_type": "markdown",
   "metadata": {
    "id": "_MpJrP1lkldU"
   },
   "source": [
    "Le module `numpy.random` fournit toute une liste de fonctions pour la génération de matrices aléatoires."
   ]
  },
  {
   "cell_type": "code",
   "execution_count": null,
   "metadata": {
    "id": "F3-0-E-rkldU"
   },
   "outputs": [],
   "source": [
    "from numpy import random\n",
    "random.rand(4,2) # tirage uniforme entre 0 et 1, taille finale (4, 2)"
   ]
  },
  {
   "cell_type": "code",
   "execution_count": null,
   "metadata": {
    "id": "_FcU_Q8AkldU"
   },
   "outputs": [],
   "source": [
    "random.randn(4,2) # tirage selon la loi N(0,1), taille finale (4,2)"
   ]
  },
  {
   "cell_type": "code",
   "execution_count": null,
   "metadata": {
    "id": "jSFVvpmGkldU"
   },
   "outputs": [],
   "source": [
    "# Enregistrement d'un array dans un fichier\n",
    "# Le format .npy est optimisé pour stocker des matrices numériques efficacement\n",
    "np.save('data.npy', M)\n",
    "np.load('data.npy')"
   ]
  },
  {
   "cell_type": "markdown",
   "metadata": {
    "id": "iLMf7t_zkldU"
   },
   "source": [
    "#### Slicing\n",
    "\n",
    "Le slicing est l'action de sélectionner une partie d'un `array`. On peut voir cette opération comme une découpe (*slice*) de l'array selon un certain nombre d'axes.\n",
    "\n",
    "Le résultat d'une opération de *slicing* est donc un array de dimension égale ou plus petite que l'array source."
   ]
  },
  {
   "cell_type": "code",
   "execution_count": null,
   "metadata": {
    "id": "u6nPg4-okldU"
   },
   "outputs": [],
   "source": [
    "v = np.array([1,2,3,4,5])\n",
    "print(v)"
   ]
  },
  {
   "cell_type": "markdown",
   "metadata": {
    "id": "kq2VI5sRkldU"
   },
   "source": [
    "Les `array` 1D se comportent comme des listes Python, si ce n'est que les bornes des slices sont **incluses dans le résultat**"
   ]
  },
  {
   "cell_type": "code",
   "execution_count": null,
   "metadata": {
    "id": "gr1V4liQkldV"
   },
   "outputs": [],
   "source": [
    "v[1:4]"
   ]
  },
  {
   "cell_type": "code",
   "execution_count": null,
   "metadata": {
    "id": "HYv5dXB4kldV"
   },
   "outputs": [],
   "source": [
    "v[1:4:2]"
   ]
  },
  {
   "cell_type": "code",
   "execution_count": null,
   "metadata": {
    "id": "wIpGz6wakldV"
   },
   "outputs": [],
   "source": [
    "v[::]"
   ]
  },
  {
   "cell_type": "code",
   "execution_count": null,
   "metadata": {
    "id": "Q-Ek79-ikldV"
   },
   "outputs": [],
   "source": [
    "v[::2] # par pas de 2"
   ]
  },
  {
   "cell_type": "code",
   "execution_count": null,
   "metadata": {
    "id": "_xDquMKIkldV"
   },
   "outputs": [],
   "source": [
    "v[:3] # Jusqu'au troisième élement (inclus)"
   ]
  },
  {
   "cell_type": "code",
   "execution_count": null,
   "metadata": {
    "id": "6JTbR6hYkldV"
   },
   "outputs": [],
   "source": [
    "v[3:] # à partir du 3e élément"
   ]
  },
  {
   "cell_type": "code",
   "execution_count": null,
   "metadata": {
    "id": "pC9ywSv5kldV"
   },
   "outputs": [],
   "source": [
    "v[-1] # dernier élément"
   ]
  },
  {
   "cell_type": "code",
   "execution_count": null,
   "metadata": {
    "id": "BEe0dMc2kldV"
   },
   "outputs": [],
   "source": [
    "v[-2:] # deux derniers éléments "
   ]
  },
  {
   "cell_type": "code",
   "execution_count": null,
   "metadata": {
    "id": "JKbw3r0UkldV"
   },
   "outputs": [],
   "source": [
    "M = random.rand(4,3) \n",
    "print(M)"
   ]
  },
  {
   "cell_type": "code",
   "execution_count": null,
   "metadata": {
    "id": "_Pnn2rNWkldV"
   },
   "outputs": [],
   "source": [
    "ind = [1,2]\n",
    "M[ind] # lignes d'indices 1 et 2"
   ]
  },
  {
   "cell_type": "code",
   "execution_count": null,
   "metadata": {
    "id": "w8X5cp-lkldV"
   },
   "outputs": [],
   "source": [
    "M[:,ind] # colonnes d'indices 1 et 2"
   ]
  },
  {
   "cell_type": "code",
   "execution_count": null,
   "metadata": {
    "id": "bUmVjV7UkldV"
   },
   "outputs": [],
   "source": [
    "# Masque (filtre) de sélection à partir d'une condition\n",
    "(M > 0.5)"
   ]
  },
  {
   "cell_type": "code",
   "execution_count": null,
   "metadata": {
    "id": "iw4H5bK9kldV"
   },
   "outputs": [],
   "source": [
    "M[M > 0.5]"
   ]
  },
  {
   "cell_type": "markdown",
   "metadata": {
    "id": "eG39Hm7KkldW"
   },
   "source": [
    "#### Autres fonctions"
   ]
  },
  {
   "cell_type": "code",
   "execution_count": null,
   "metadata": {
    "id": "kUCtOV81kldW"
   },
   "outputs": [],
   "source": [
    "a = np.array([[0,1],[2,3],[4,5]])\n",
    "a"
   ]
  },
  {
   "cell_type": "code",
   "execution_count": null,
   "metadata": {
    "id": "2lqouglwkldW"
   },
   "outputs": [],
   "source": [
    "np.ndim(a) # Nombre de dimensions"
   ]
  },
  {
   "cell_type": "code",
   "execution_count": null,
   "metadata": {
    "id": "INzhBAXZkldW"
   },
   "outputs": [],
   "source": [
    "np.size(a) # Nombre d’éléments au total"
   ]
  },
  {
   "cell_type": "code",
   "execution_count": null,
   "metadata": {
    "id": "R8ljnotykldW"
   },
   "outputs": [],
   "source": [
    "a.min() # Valeur min"
   ]
  },
  {
   "cell_type": "code",
   "execution_count": null,
   "metadata": {
    "id": "Wavz3qM4kldW"
   },
   "outputs": [],
   "source": [
    "a.sum() # Somme des valeurs"
   ]
  },
  {
   "cell_type": "code",
   "execution_count": null,
   "metadata": {
    "id": "8fZ-tZd3kldW"
   },
   "outputs": [],
   "source": [
    "a.sum(axis=0)  # Somme sur les lignes"
   ]
  },
  {
   "cell_type": "code",
   "execution_count": null,
   "metadata": {
    "id": "Ri8c1ZoYkldW"
   },
   "outputs": [],
   "source": [
    "a.sum(axis=1)  # sur les colonnes"
   ]
  },
  {
   "cell_type": "markdown",
   "metadata": {
    "id": "bjg7zequkldW"
   },
   "source": [
    "Manipulation de formes (*reshaping*)"
   ]
  },
  {
   "cell_type": "code",
   "execution_count": null,
   "metadata": {
    "id": "sCq4AVVZkldW"
   },
   "outputs": [],
   "source": [
    "a = np.arange(6)\n",
    "print(a, a.shape)\n",
    "a = a.reshape(3, 2) # il faut que les deux formes soient compatibles : même nombre d'éléments dans les deux cas\n",
    "print(a, a.shape)"
   ]
  },
  {
   "cell_type": "markdown",
   "metadata": {
    "id": "xZXH7mjWkldW"
   },
   "source": [
    "#### Opérations entre  `array`s\n",
    "\n",
    "Les opérateurs classiques (+, -, * , /) sont calculés termes à termes, entre deux éléments à la même position. Il faut donc que les deux opérandes soient de la même taille (même *shape*)"
   ]
  },
  {
   "cell_type": "code",
   "execution_count": null,
   "metadata": {
    "id": "t1YCzKwKkldW"
   },
   "outputs": [],
   "source": [
    "# Somme\n",
    "a = np.arange(6).reshape(3,2)\n",
    "b = np.arange(3,9).reshape(3,2)\n",
    "c = np.transpose(b) # Shape = (2, 3)\n",
    "\n",
    "a + b"
   ]
  },
  {
   "cell_type": "code",
   "execution_count": null,
   "metadata": {
    "id": "Ea5PLkTrkldW"
   },
   "outputs": [],
   "source": [
    "a * b # produit terme à terme"
   ]
  },
  {
   "cell_type": "code",
   "execution_count": null,
   "metadata": {
    "id": "NqHj8oBqkldW"
   },
   "outputs": [],
   "source": [
    "np.dot(a,c) # produit scalaire (dot product en anglais)"
   ]
  },
  {
   "cell_type": "code",
   "execution_count": null,
   "metadata": {
    "id": "uuyY8Sy3kldW"
   },
   "outputs": [],
   "source": [
    "np.power(a,2) # équivalent à np.dot(a, a)"
   ]
  },
  {
   "cell_type": "code",
   "execution_count": null,
   "metadata": {
    "id": "v9qV0GIJkldX"
   },
   "outputs": [],
   "source": [
    "a / 3"
   ]
  }
 ],
 "metadata": {
  "celltoolbar": "Aucun(e)",
  "colab": {
   "name": "1 - Intro Python.ipynb",
   "provenance": []
  },
  "hide_input": false,
  "kernelspec": {
   "display_name": "Python 3",
   "language": "python",
   "name": "python3"
  },
  "language_info": {
   "codemirror_mode": {
    "name": "ipython",
    "version": 3
   },
   "file_extension": ".py",
   "mimetype": "text/x-python",
   "name": "python",
   "nbconvert_exporter": "python",
   "pygments_lexer": "ipython3",
   "version": "3.8.8"
  },
  "toc": {
   "base_numbering": 1,
   "nav_menu": {
    "height": "512px",
    "width": "252px"
   },
   "number_sections": true,
   "sideBar": true,
   "skip_h1_title": false,
   "title_cell": "Sommaire",
   "title_sidebar": "Plan",
   "toc_cell": false,
   "toc_position": {},
   "toc_section_display": "block",
   "toc_window_display": false
  }
 },
 "nbformat": 4,
 "nbformat_minor": 4
}
