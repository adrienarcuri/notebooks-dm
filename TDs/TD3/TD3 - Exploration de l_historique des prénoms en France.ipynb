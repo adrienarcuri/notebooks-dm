{
 "cells": [
  {
   "cell_type": "markdown",
   "metadata": {},
   "source": [
    "# TD3 - Exploration de l'historique des prénoms en France\n",
    "\n",
    "Nous allons enfin passer à une véritable application du Data Mining dans ce TD. Suite à la préparation des données dans le TD précédent, nous allons en effet pouvoir explorer les grandes tendances de ce jeu puis nous chercherons à déceler quelques particularités remarquables cachées sous la masse des données en entrée.\n",
    "\n",
    "Ce TD est exclusivement dédié à la famille d'application `Description` du Data Mining. Le prochain TD portera quant à lui sur l'explication (modélisation d'une série temporelle) et la structuration (*clustering*). L'associativité, ou recherche des motifs fréquents, ne sera pas abordée en TD faute de temps.\n",
    "\n",
    "## Etude des grandes tendances\n",
    "\n",
    "Commençons tout d'abord par s'intéresser aux grandes tendances de ce jeu de données, en partant d'une simple analyse univariée. Nous étudierons la distribution du nombre d'individu portant un même prénom, toutes années et toutes régions confondues. Nous conserverons la variable qualitative `sexe` puisque l'on s'attend à observer des différences de distribution selon les deux sexes."
   ]
  },
  {
   "cell_type": "code",
   "execution_count": null,
   "metadata": {},
   "outputs": [],
   "source": [
    "# Lecture du jeu traité précédemment\n",
    "\n",
    "import pandas as pd\n",
    "\n",
    "df = pd.read_csv(r'prenoms_transformed.csv', index_col=0, dtype={\n",
    "    'sexe': 'category',\n",
    "    'prenom': 'category',\n",
    "    'gender': 'category',})\n",
    "\n",
    "df = df.astype({'region': 'category'})\n",
    "\n",
    "df.head()"
   ]
  },
  {
   "cell_type": "code",
   "execution_count": null,
   "metadata": {},
   "outputs": [],
   "source": [
    "# Calcul des effectifs pour chaque prénom donné\n",
    "\n",
    "effectifs_par_prenoms = df.groupby(['prenom', 'sexe'], observed=True, as_index=False).nombre.sum()\n",
    "\n",
    "effectifs_par_prenoms.sample(5) # 5 effectifs au hasard"
   ]
  },
  {
   "cell_type": "code",
   "execution_count": null,
   "metadata": {},
   "outputs": [],
   "source": [
    "# Diagramme de distribution de cette série\n",
    "import plotly.express as px\n",
    "\n",
    "px.histogram(effectifs_par_prenoms, x='nombre', y='nombre', \n",
    "             histfunc='count', # nous aurons en ordonnées \"count(nombre)\"\n",
    "             log_y=True, \n",
    "             facet_col='sexe', \n",
    "             color='sexe',\n",
    "             marginal='rug',\n",
    "             labels={'nombre': 'Effectif total'},\n",
    "             title='Distribution des effectifs pour tous les prénoms donnés depuis 1900')"
   ]
  },
  {
   "cell_type": "markdown",
   "metadata": {},
   "source": [
    "Remarquons que plotly trace par défaut des histogrammes de classes d'amplitudes égales. Nous pourrions choisir de trace des classes d'effectifs égaux en calculant d'abord les quantiles souhaités du jeu de données.\n",
    "\n",
    "On remarque comme prévu que l'immense majorité des prénoms sont relativement peu donnés en France (l'échelle des ordonnées est logarithmique !). De surcroît, la repartition des effectifs est légèrement plus étalée pour les hommes que pour les femmes, indiquant que les prénoms féminins sont généralement plus rares que les prénoms féminins. \n",
    "\n",
    "On constate cependant l'existance d'un prénom singulier pour les femmes (`MARIE`), qui est remarquablement courant, bien plus que le prénom masculin le plus courant (`JEAN`).\n",
    "\n",
    "En guise d'exercice, on pourrait s'intéresser pour chaque sexe à la proportion des effectifs cumulés pour les 5 ou 10 prénoms les plus courants par rapport aux effectifs cumulés de tous les autres prénoms. En d'autres termes, on s'intéressent dans ce cas au niveau de domination des prénoms courants par rapport aux prénoms moins courants.\n",
    "\n",
    "Pour poursuivre cette étude, on pourrait ensuite s'intéresser aux effectifs cumulés :\n",
    "* Des 5 prénoms les plus courants\n",
    "* Du 6è au 100è prénom le plus courant\n",
    "* De tous les autres prénoms\n",
    "\n",
    "Dans les deux cas, des diagrammes camembert sont adapté en raison du faible nombre de classes à représenter, et du rôle de la représentation (importance d'une classe par rapport à l'ensemble).\n",
    "\n",
    "Ces deux exercices sont laissés à la charge du lecteur."
   ]
  },
  {
   "cell_type": "code",
   "execution_count": null,
   "metadata": {},
   "outputs": [],
   "source": [
    "# Effectifs cumulés du top 5 vs les autres (pour chaque sexe)\n",
    "\n"
   ]
  },
  {
   "cell_type": "code",
   "execution_count": null,
   "metadata": {},
   "outputs": [],
   "source": [
    "# Effectifs cumulés du top 5, du top 100 et des autres (pour chaque sexe)\n",
    "\n"
   ]
  },
  {
   "cell_type": "markdown",
   "metadata": {},
   "source": [
    "## Exploration multivariée des données\n",
    "\n",
    "Outre l'étude des grandes tendances, rappelons que l'exploration de données est **un processus avant tout créatif**. Libre à vous donc de **définir des axes intéressants d'études**.\n",
    "\n",
    "En pratique il est fréquent d'avoir des **préjugés ou des a priori** sur un phénomène ou un système que l'on connaît ou maîtrise (ou pense maîtriser). Ces a priori fournissent naturellement les premiers axes d'analyse, le but étant de les vérifier en toute **impartialité** à l'aide des données disponibles.\n",
    "\n",
    "En ce qui concerne le cas de ce TD, mes *a priori* initiaux sont les suivants, du plus certain au moins sûr :\n",
    "* le fichier des prénoms à la naissance fournit une bonne image de la natalité française, l'impact des guerres et de la transition démographique sera facilement visible\n",
    "* il y a davantage de garçons qui naîssent que de filles, et cet écart est biologique donc doit rester approximativement constant entre les départements\n",
    "* il y a de plus en plus de prénoms différents donnés chaque année, en particulier depuis les années 80\n",
    "* les hommes reçoivent davantage de prénoms composés que les femmes\n",
    "* les prénoms composés deviennent de plus en plus rares au fil du temps\n",
    "* les nouveaux prénoms apparaissant chaque année sont en majorité des dérivés de prénoms existants avec une légère modification orthographique. En pratique la proportion de chaque groupe de prénoms (ex : Alexandre, Alexandra, Alex, Alexis, etc...) est semblable à la proportion du prénom original (Alexandre) observée au début du siècle.\n",
    "* Une partie disproportionnée des prénoms commencent par une lettre proche du début de l'alphabet\n",
    "* Les prénoms typiquement régionaux (e.g. bretons, corses, basques, etc...) sont devenus progressivement impopulaires au début du XXe siècle mais redeviennent de plus en plus courants récemment (XXIe siècle)\n",
    "\n",
    "\n",
    "Nous allons approfondir quelques-uns de ces différents axes d'étude. Ceux n'étant pas abordés constituent de bons exercices laissés à la charge du lecteur.\n",
    "\n",
    "Les différents choix de visualisation sont avant tout personnels et en aucun cas la \"bonne\" solution. **D'autres graphes ou choix graphiques peuvent être plus appropriés**.\n",
    "\n",
    "### Etude de la natalité"
   ]
  },
  {
   "cell_type": "code",
   "execution_count": null,
   "metadata": {},
   "outputs": [],
   "source": [
    "grouped = df.groupby(['annee', 'sexe'], as_index=False).nombre.sum()\n",
    "\n",
    "grouped.head()"
   ]
  },
  {
   "cell_type": "code",
   "execution_count": null,
   "metadata": {},
   "outputs": [],
   "source": [
    "# Tracé de l'évolution de la natalité\n",
    "\n",
    "px.line(grouped, x='annee', y='nombre', color='sexe')"
   ]
  },
  {
   "cell_type": "markdown",
   "metadata": {},
   "source": [
    "L'impact des deux guerres mondiales est saisissant. On observe également le Baby Boom s'étalant de 1945 à 1975. Ce fichier semble donc peindre une bonne image de la natalité en France.\n",
    "\n",
    "On peut également étudier l'évolution de la natalité d'une année sur l'autre. Pour ce faire, concentrons nous sur les différences de natalité N/N-1 et traçons-les sous forme de diagramme en barre. Une simple échelle de couleur est associée à ce graphe pour renforcer sa compréhension (vert : natalité en hausse, rouge : en baisse)."
   ]
  },
  {
   "cell_type": "code",
   "execution_count": null,
   "metadata": {},
   "outputs": [],
   "source": [
    "nat_diff = grouped.copy()\n",
    "nat_diff['evolution'] = grouped.nombre.diff(2)\n",
    "nat_diff = nat_diff.dropna()\n",
    "nat_diff = nat_diff.astype({'evolution': 'int'})\n",
    "\n",
    "nat_diff.head()"
   ]
  },
  {
   "cell_type": "code",
   "execution_count": null,
   "metadata": {},
   "outputs": [],
   "source": [
    "fig = px.bar(nat_diff, x='annee', y='evolution', \n",
    "             color=pd.np.sign(nat_diff.evolution),\n",
    "             facet_col='sexe', \n",
    "             labels={'evolution': 'Evolution naissance N/N-1','annee': 'Année'},\n",
    "             color_continuous_scale='RdYlGn' # Echelle de couleur Rouge → Vert\n",
    "      )\n",
    "\n",
    "fig.update_layout(coloraxis_showscale = False) # On cache la légende"
   ]
  },
  {
   "cell_type": "markdown",
   "metadata": {},
   "source": [
    "Remarque : Un [diagramme Renko](https://datavizproject.com/data-type/renko-chart/) superposé au premier graphe ci-dessus (lineplot) est une alternative élégante, quoique plus difficile à produire en Python, à ce deuxième graphe.\n",
    "\n",
    "Avec Plotly, vous pourrez le produire assez simplement avec le type de graphe [Waterfall](https://plot.ly/python/waterfall-charts/). L'utilisation de ce graphe est laissée en exercice.\n",
    "\n",
    "### Ecart garçon/fille à la naissance\n",
    "\n",
    "Nous étudions dans cette partie le [sex ratio](https://fr.wikipedia.org/wiki/Sex-ratio), *i.e.* la proportion homme/femme à la naissance. Ce sex ratio est normalement très légèrement supérieur à 1 et n'est réellement affecté que par des pratiques sociétales (infanticide, avortement après avoir pris connaissance du sexe de l'enfant, etc...). Le stress intense serait également un facteur favorisant la diminution du sex ratio (la population devient alors plus féminine).\n",
    "\n",
    "Vérifions l'évolution de cette statistique à travers les âges en France."
   ]
  },
  {
   "cell_type": "code",
   "execution_count": null,
   "metadata": {},
   "outputs": [],
   "source": [
    "# Partons de l'aggrégation précédente\n",
    "grouped.head()"
   ]
  },
  {
   "cell_type": "markdown",
   "metadata": {},
   "source": [
    "Nous devons \"pivoter\" ce tableau pour obtenir deux colonnes correspondant aux deux modalités de `sexe`, avec l'année en index et les effectifs en tant que valeur.\n",
    "\n",
    "Cette opération de \"pivotage\" (ou tableau croisé sur Excel) peut être effectuée dans pandas avec la fonction `pivot`. Cette dernière accepte la colonne à utiliser pour créer les nouvelles colonnes, la colonne à utiliser pour calculer le nouvel index, et la colonne à utiliser pour calculer les nouvelles valeurs."
   ]
  },
  {
   "cell_type": "code",
   "execution_count": null,
   "metadata": {},
   "outputs": [],
   "source": [
    "pd.pivot_table(grouped, columns='sexe', index='annee', values='nombre', aggfunc='sum')"
   ]
  },
  {
   "cell_type": "code",
   "execution_count": null,
   "metadata": {},
   "outputs": [],
   "source": [
    "pivoted = grouped.pivot(columns='sexe', # Créer une colonne par modalité au sein de la colonne \"sexe\"\n",
    "                        index='annee',  # Utiliser les valeurs de cette colonne comme index\n",
    "                        values='nombre',# Utiliser les effectifs totaux comme valeur à conserver\n",
    "                       ) \n",
    "\n",
    "pivoted.head()"
   ]
  },
  {
   "cell_type": "code",
   "execution_count": null,
   "metadata": {},
   "outputs": [],
   "source": [
    "# La colonne \"sexe\" était qualitative, donc les colonnes créées le sont également\n",
    "# Un bug dans pandas empêche la création de nouvelles colonnes si ces dernières sont qualitatives\n",
    "# Nous corrigeons leur type pour palier temporairement à ce bug\n",
    "pivoted.columns = pivoted.columns.astype(str)\n",
    "\n",
    "# Nous pouvons à présent calculer simplement le sex ratio de chaque année\n",
    "pivoted['sex_ratio'] = pivoted.Homme / pivoted.Femme\n",
    "pivoted.head()"
   ]
  },
  {
   "cell_type": "code",
   "execution_count": null,
   "metadata": {},
   "outputs": [],
   "source": [
    "# Traçons enfin l'évolution du sex ratio\n",
    "\n",
    "px.line(pivoted, y='sex_ratio', x=pivoted.index)"
   ]
  },
  {
   "cell_type": "markdown",
   "metadata": {},
   "source": [
    "La courbe précédente indique un sex ratio actuel (à la naissance) de 1.14 ce qui classerait la France nettement en tête du [classement](https://fr.wikipedia.org/wiki/Liste_des_pays_par_taux_de_masculinité). On peut donc affirmer que ces données sont visiblement incorrectes en l'état. Parmi les raisons possibles on peut citer :\n",
    "* Le tronquage des données brutes en raison de démarches d'anonymisation\n",
    "* La suppression de lignes opérée lors du TD précédent pour améliorer la qualité du jeu de données\n",
    "* La réattribution de la modalité `_PRENOMS_RARES` lors du précédent TD qui a pu perturber l'équilibre H/F\n",
    "\n",
    "On ne pourra donc pas tirer d'enseignement de cette première exploration, passons donc à la suite."
   ]
  },
  {
   "cell_type": "markdown",
   "metadata": {},
   "source": [
    "### Evolution du nombre de prénoms uniques"
   ]
  },
  {
   "cell_type": "code",
   "execution_count": null,
   "metadata": {},
   "outputs": [],
   "source": [
    "unique_hf = df.groupby(['annee', 'sexe']).agg(nombre_prenoms_uniques=('prenom', 'nunique')).reset_index()\n",
    "\n",
    "unique_hf.head()"
   ]
  },
  {
   "cell_type": "code",
   "execution_count": null,
   "metadata": {},
   "outputs": [],
   "source": [
    "px.line(unique_hf,\n",
    "        x='annee',\n",
    "        y='nombre_prenoms_uniques', \n",
    "        color='sexe',\n",
    "        color_discrete_sequence=['Red', 'Blue'],\n",
    "        labels={'nombre_prenoms_uniques': 'Nombre de prénoms uniques',\n",
    "                'annee': 'Année'})"
   ]
  },
  {
   "cell_type": "markdown",
   "metadata": {},
   "source": [
    "Il y a toujours eu une plus grande diversité dans les prénoms féminins que masculins, mais dans les deux cas la tendance est à la hausse. Cette croissance s'est accélérée dans les années 2000 jusqu'à se stabiliser il y a peu.\n",
    "\n",
    "On remarque de surcroît que l'écart de diversité entre les deux sexes tend à ce réduire. Plusieurs phénomènes peuvent possiblement expliquer ceci :\n",
    "* Les prénoms masculins sont de plus en plus diversifiés, ce qui se traduit par un nombre de prénoms uniques accrus\n",
    "* Les prénoms féminins sont de moins en moins diversifiés\n",
    "\n",
    "Pour séparer plus clairement ces deux phénomènes possibles, vous pourrez vous intéresser à l'évolution N/N-1 pour chaque sexe et tracer par exemple la différence H/F de cette évolution. Ceci revient mathématiquement à calculer la dérivée de chaque série et étudier la différence des dérivées.\n",
    "\n",
    "Cette étude est laissée en exercice.\n",
    "\n",
    "### Evolution de l'attribution des prénoms composés\n",
    "\n",
    "On définit un prénom composé comme tout prénom possédant au moins un trait d'union (`-`).\n",
    "\n",
    "Commençons par les filtrer depuis le jeu de donnée global."
   ]
  },
  {
   "cell_type": "code",
   "execution_count": null,
   "metadata": {
    "scrolled": true
   },
   "outputs": [],
   "source": [
    "df_prenoms_composes = df[df.prenom.str.contains('-')]\n",
    "df_prenoms_composes.head()"
   ]
  },
  {
   "cell_type": "markdown",
   "metadata": {},
   "source": [
    "Afin de tester deux axes d'analyses, nous allons extraire les pourcentages d'attributions des prénoms composés par année et par sexe. Le pourcentage est calculé par rapport au nombre total d'individus nés cette année avec le même sexe.\n",
    "\n",
    "Nous représenterons enfin ce DataFrame sous la forme d'un diagramme à aires empilées. Afin de mieux discerner les séries \"Homme\" et \"Femme\", nous tracerons en réalité la série \"Homme\" et l'opposé de la série \"Femme\". Cette astuce de calcul nous permet alors de générer simplement un [Stream Graph](https://datavizproject.com/data-type/stream-graph/)."
   ]
  },
  {
   "cell_type": "code",
   "execution_count": null,
   "metadata": {},
   "outputs": [],
   "source": [
    "grouped_prenoms_composes = df_prenoms_composes.groupby(['annee', 'sexe'], as_index=False).nombre.sum()\n",
    "grouped_prenoms_composes.head()"
   ]
  },
  {
   "cell_type": "code",
   "execution_count": null,
   "metadata": {},
   "outputs": [],
   "source": [
    "ratio_prenoms_composes = grouped_prenoms_composes.copy()\n",
    "ratio_prenoms_composes['ratio'] = ratio_prenoms_composes.nombre / grouped.nombre\n",
    "ratio_prenoms_composes.head()"
   ]
  },
  {
   "cell_type": "code",
   "execution_count": null,
   "metadata": {},
   "outputs": [],
   "source": [
    "# On passe les ratio pour les Femmes à l'opposé (multiplication par -1) pour inverser le graphe\n",
    "ratio_prenoms_composes.loc[ratio_prenoms_composes.sexe =='Femme', 'ratio'] *= - 1\n",
    "ratio_prenoms_composes.head()"
   ]
  },
  {
   "cell_type": "code",
   "execution_count": null,
   "metadata": {},
   "outputs": [],
   "source": [
    "fig = px.area(ratio_prenoms_composes, x='annee', y='ratio', color='sexe', \n",
    "              color_discrete_sequence=['Red', 'Blue'],\n",
    "              labels={'annee': 'Année',\n",
    "                      'ratio': '% prénom composé / total prénoms'})\n",
    "\n",
    "# Nous remplissons l'intérieur de chaque trace uniquement jusqu'au 0 des ordonnées\n",
    "\n",
    "fig.update_traces({'fill': 'tozeroy'})\n",
    "# fig.update_traces({'fill': 'tonexty'}) # Valeur par défaut, décommentez cette ligne pour observer la différence"
   ]
  },
  {
   "cell_type": "markdown",
   "metadata": {},
   "source": [
    "Les prénoms composés apparaissent clairement comme étant en perte de vitesse depuis les années 60, sans aucun signe de regain d'intérêt.\n",
    "\n",
    "Au sommet de leur popularité, les hommes recevaient davantage de prénoms composés que les femmes, mais ce ne fut pas toujours le cas, notamment au début du XXe siècle où les proportions étaient presque identiques.\n",
    "\n",
    "Les prénoms composés restent dans tous les cas de figure minoritaires, représentant à l'apogée de leur popularité autour de 10% des prénoms attribués (hommes et femmes cumulés) en terme d'effectif.\n",
    "\n",
    "Remarque : pour mieux mettre en valeur le changement de proportion de l'affectation de prénoms composés entre hommes et femmes (davantage les femmes au début du XXe siècle puis davantage les hommes), un diagramme à aires empilées trié ([**sorted streamgraph**](https://datavizproject.com/data-type/sorted-stream-graph/)) peut se révéler utile. Leur génération restent toutefois délicates avec les bibliothèques utilisées ici (et en général dans la plupart des outils).\n",
    "\n",
    "### Popularité des prénoms régionaux\n",
    "\n",
    "Il convient de définir avant tout le concept de prénoms \"régionaux\". On propose deux solutions :\n",
    "* Tout prénom défini dans une liste externe de prénoms régionaux, on se charge alors de vérifier la qualité de cette source externe avant de l'utiliser pour repérer parmi tous les prénoms ceux étant issus d'une identité régionale (par exemple avec la fonction `isin`)\n",
    "* De manière plus automatisée, on considère un prénom comme régional si sur l'ensemble des effectifs portant ce prénom, plus de la moîtié d'entre eux sont issus d'une région en particulier. On peut se fixer également un effectif cumulé minimum afin d'être certain de conserver des prénoms populaires (car leur effectif cumulé total est important) et principalement affectés à une région en particulier.\n",
    "\n",
    "On choisit d'appliquer la deuxième méthode pour ne pas avoir à trouver une autre source de données.\n",
    "\n",
    "Pour tenir compte des écarts naturels de naissances entre les régions, on choisit de procéder à deux transformations :\n",
    "1. Normaliser chaque effectif pour chaque couple `(prenom, region)` pour le nombre de naissance total dans la région\n",
    "2. Normaliser une seconde fois les effectifs réduits précédents pour chaque couple `(prenom, region)` par la somme des effectifs réduits pour ce prénom\n",
    "\n",
    "Après la deuxième normalisation, la somme des effectifs normalisés par chaque prénom doit donc valoir 1."
   ]
  },
  {
   "cell_type": "code",
   "execution_count": null,
   "metadata": {},
   "outputs": [],
   "source": [
    "# Premier groupby : calculer les effectifs cumulés par prénom et par région\n",
    "grouped_par_region = df.groupby(['prenom', 'region']).nombre.sum()\n",
    "\n",
    "print(len(grouped_par_region))\n",
    "grouped_par_region.head()"
   ]
  },
  {
   "cell_type": "code",
   "execution_count": null,
   "metadata": {},
   "outputs": [],
   "source": [
    "# On filtre les prénoms dont l'effectif cumulé (toutes régions confondues) ne dépasse pas un seuil fixé\n",
    "seuil = 50 # arbitraire\n",
    "\n",
    "grouped_par_region = grouped_par_region.groupby('prenom').filter(lambda x: x.sum() > seuil)\n",
    "\n",
    "print(len(grouped_par_region))\n",
    "grouped_par_region.head(10)"
   ]
  },
  {
   "cell_type": "code",
   "execution_count": null,
   "metadata": {},
   "outputs": [],
   "source": [
    "# Transformation 1 : \n",
    "# On réduit pour chaque prénom les effectifs par le nombre total de naissances dans la région\n",
    "# Ceci permet de placer tous les prénoms sur la même échelle et de prendre en compte la différence de population\n",
    "# entre les régions\n",
    "grouped_par_region_normalise = grouped_par_region.groupby(['region', 'prenom']).sum() / df.groupby('region').nombre.sum()\n",
    "grouped_par_region_normalise.head(10)"
   ]
  },
  {
   "cell_type": "code",
   "execution_count": null,
   "metadata": {},
   "outputs": [],
   "source": [
    "# Transformation 2 : \n",
    "# Pour chaque prénom, normaliser les effectifs par l'effectif total du prénom (somme pour toutes les régions)\n",
    "distrib_prenoms_courants = grouped_par_region_normalise.groupby('prenom').transform(lambda x: x / x.sum())\n",
    "distrib_prenoms_courants.head(10)"
   ]
  },
  {
   "cell_type": "code",
   "execution_count": null,
   "metadata": {},
   "outputs": [],
   "source": [
    "# Deuxième filtre : on conserve uniquement les prénoms dont l'effectif réduit dans une région vaut au moins 50%\n",
    "distrib_prenoms_regionaux = distrib_prenoms_courants.groupby('prenom').filter(lambda x: x.max() >= 0.5)\n",
    "distrib_prenoms_regionaux.head(10)"
   ]
  },
  {
   "cell_type": "markdown",
   "metadata": {},
   "source": [
    "Toutes les données nécessaires sont désormais calculées. On peut vérifier que ce mode de sélection automatique fonctionne en vérifiant pour quelques régions les prénoms reconnus comme régionaux les plus donnés (en relatif)."
   ]
  },
  {
   "cell_type": "code",
   "execution_count": null,
   "metadata": {},
   "outputs": [],
   "source": [
    "distrib_prenoms_regionaux['Bretagne'].nlargest(10)"
   ]
  },
  {
   "cell_type": "code",
   "execution_count": null,
   "metadata": {},
   "outputs": [],
   "source": [
    "distrib_prenoms_regionaux['Corse'].nlargest(10)"
   ]
  },
  {
   "cell_type": "markdown",
   "metadata": {},
   "source": [
    "Ce mode de sélection semble conforme à l'intuition.\n",
    "\n",
    "On peut donc extraire la liste de tous les prénoms régionaux et observer leur évolution au fil du temps."
   ]
  },
  {
   "cell_type": "code",
   "execution_count": null,
   "metadata": {},
   "outputs": [],
   "source": [
    "prenoms_regionaux = distrib_prenoms_regionaux.reset_index().prenom\n",
    "\n",
    "prenoms_regionaux.head()"
   ]
  },
  {
   "cell_type": "code",
   "execution_count": null,
   "metadata": {},
   "outputs": [],
   "source": [
    "px.area(df[df.prenom.isin(prenoms_regionaux)].groupby('annee', as_index=False).nombre.sum(),\n",
    "        x='annee', y='nombre',\n",
    "        labels={'annee': 'Année',\n",
    "                'nombre': 'Nombre de prénoms régionaux'})"
   ]
  },
  {
   "cell_type": "markdown",
   "metadata": {},
   "source": [
    "Conformément à l'a priori, les prénoms régionaux ont connu un certain passage à vide au milieu du siècle dernier mais sont plus populaires que jamais.\n",
    "\n",
    "Afin de visualiser les régions contribuants le plus à ces effectifs de prénoms régionaux, traçons un diagramme à aires empilées où chaque aire représente l'évolution des effectifs cumulés des prénoms régionaux pour chaque région."
   ]
  },
  {
   "cell_type": "code",
   "execution_count": null,
   "metadata": {},
   "outputs": [],
   "source": [
    "# On récupère les prénoms régionaux pour chaque région\n",
    "prenom_regionaux_par_region = distrib_prenoms_regionaux[distrib_prenoms_regionaux >= 0.5]"
   ]
  },
  {
   "cell_type": "code",
   "execution_count": null,
   "metadata": {},
   "outputs": [],
   "source": [
    "# On a donc les couples (region, prenom) à conserver\n",
    "# Pour récupérer les effectifs il faut repartir du jeu de données complet, que l'on indexe avec les mêmes couples (region, prenom)\n",
    "tmp = df.set_index(['region' , 'prenom']).loc[prenom_regionaux_par_region.index, ['annee', 'nombre']]\n",
    "\n",
    "tmp.head()"
   ]
  },
  {
   "cell_type": "code",
   "execution_count": null,
   "metadata": {},
   "outputs": [],
   "source": [
    "# Enfin, on veut les effectifs cumulés pour tous les prénoms régionaux par région et année\n",
    "\n",
    "tmp = tmp.groupby(['region', 'annee']).nombre.sum().reset_index()\n",
    "\n",
    "tmp.head(10)"
   ]
  },
  {
   "cell_type": "code",
   "execution_count": null,
   "metadata": {},
   "outputs": [],
   "source": [
    "# Traçons enfin notre diagramme à aires empilées\n",
    "px.area(tmp, x='annee', y='nombre', color='region')"
   ]
  },
  {
   "cell_type": "markdown",
   "metadata": {},
   "source": [
    "Ce graphe est riche en enseignements. On peut notamment citer l'explosion de nouveaux prénoms en Île-de-France, la baisse progressive des prénoms régionaux en Auvergne-Rhône-Alpes et des Hauts-de-France, ou encore l'absence notable de certaines régions pourtant frontalières telles l'Occitanie.\n",
    "\n",
    "Rappelons qu'un prénom a été défini comme régional si \n",
    "* il existe au moins une année où il a été majoritairement donné dans une unique région\n",
    "* au moins 50 personnes en cumulés ont possédé ce prénom (pour éviter les modalités rares, les variantes orthographiques, etc...)\n",
    "\n",
    "Nous pourrions étudier le pourcentage de partage de ces prénoms entre chaque région au fil des années. Il est alors nécessaire de construire le tableau de contigence entre chaque paire de régions (une matrice 14x14) comptant le nombre de prénoms en commun. On pourra représenter cette matrice par une carte thermique (*heatmap*) ou un [diagramme en cordes](https://datavizproject.com/data-type/chord-diagram/).\n",
    "\n",
    "Entraînez-vous à produire le tableau de contingence ci-dessous avec la fonction `pivot_table` ou `crosstab`."
   ]
  },
  {
   "cell_type": "code",
   "execution_count": null,
   "metadata": {},
   "outputs": [],
   "source": [
    "# Calcul du tableau de contingence\n",
    "# Compter le nombre de modalités en commun (ou l'effectif cumulé lié à ces modalités) pour chaque couple de région\n",
    "\n"
   ]
  },
  {
   "cell_type": "markdown",
   "metadata": {},
   "source": [
    "### Mouvement de population\n",
    "\n",
    "\n",
    "Pour cette dernière analyse, nous allons nous baser sur les données supplémentaires intégrées lors du TD précédent. Afin de pouvoir espérer observer une manifestation des différentes vagues d'immigration en France au cours du XXè siècle, nous allons étudier la statistique suivante calculée pour chaque prénom et chaque année : `effectif_cumule * abs(frequence_region - frequence_France)`.\n",
    "\n",
    "Cette statistique peut être vue comme une image de l'affectation d'un prénom donné dans chaque grande région du monde avec les effectifs français. On s'intéresse à `abs(frequence_region - frequence_France)` afin d'étudier la dissimilarité des prénoms par rapport aux coutumes de nommage françaises.\n",
    "\n",
    "Une fois cette statistique calculée pour chaque couple `(annee, prénom)`, nous conservons la médiane de ces statistiques pour chaque année afin de la tracer."
   ]
  },
  {
   "cell_type": "code",
   "execution_count": null,
   "metadata": {},
   "outputs": [],
   "source": [
    "df.head()"
   ]
  },
  {
   "cell_type": "code",
   "execution_count": null,
   "metadata": {},
   "outputs": [],
   "source": [
    "# Créons une liste contenant les noms de colonnes avec les fréquences d'attribution dans d'autres régions\n",
    "\n",
    "international_cols = ['europe_est', 'europe_ouest', 'europe_nord', 'europe_sud', 'asie_ouest', 'asie_centre' , 'asie_est']\n",
    "df[international_cols]"
   ]
  },
  {
   "cell_type": "code",
   "execution_count": null,
   "metadata": {},
   "outputs": [],
   "source": [
    "# Première aggrégation des effectifs par couple (prénom, année)\n",
    "# On inclus également toutes les fréquences d'affectation dans ce groupby\n",
    "# Ces fréquences sont uniques à chaque prénom donc ne changent pas l'agrégation\n",
    "\n",
    "effectifs_cumules = df.groupby(['prenom', *international_cols, 'France', 'annee'], \n",
    "                               observed=True).nombre.sum().reset_index()\n",
    "\n",
    "effectifs_cumules.head()"
   ]
  },
  {
   "cell_type": "code",
   "execution_count": null,
   "metadata": {},
   "outputs": [],
   "source": [
    "# Puis calculons la statistique souhaitée en lieu et place des fréquences d'affectation\n",
    "\n",
    "effectifs_cumules[international_cols] = (effectifs_cumules[international_cols]\n",
    "                                         .apply(lambda x: abs(x - effectifs_cumules.France) * effectifs_cumules.nombre, \n",
    "                                                axis=0))\n",
    "\n",
    "effectifs_cumules.head()"
   ]
  },
  {
   "cell_type": "code",
   "execution_count": null,
   "metadata": {},
   "outputs": [],
   "source": [
    "# Agrégeons une dernière fois ces lignes uniquement par année\n",
    "# On conserve ici la médiane pour ne pas être trop affecté par les extrêmes\n",
    "\n",
    "by_year = effectifs_cumules.groupby('annee')[international_cols].median().reset_index()\n",
    "\n",
    "by_year.head()"
   ]
  },
  {
   "cell_type": "markdown",
   "metadata": {},
   "source": [
    "Ce dernier DataFrame n'est pas dans le format `tidy` : les noms de colonnes contiennent une variable (ici le nom de la région concernée).\n",
    "\n",
    "Nous le transformons dans ce format en le \"dépivotant\". Dans pandas, le plus simple est d'utiliser la fonction `melt` qui accepte :\n",
    "* les colonnes à conserver telles quelles (ici `annee`)\n",
    "* les colonnes à dépivoter (ici toutes sauf `annee`)\n",
    "* le nom de la colonne qui contiendra les noms des colonnes dépivotées (ici `region_monde`)\n",
    "* le nom de la colonne qui contiendra les valeurs initiales (ici `mediane_affectation`)"
   ]
  },
  {
   "cell_type": "code",
   "execution_count": null,
   "metadata": {},
   "outputs": [],
   "source": [
    "to_plot = pd.melt(by_year, \n",
    "                  id_vars = 'annee',\n",
    "                  value_vars=international_cols,\n",
    "                  var_name = 'region_monde', \n",
    "                  value_name='mediane_affectation')\n",
    "\n",
    "to_plot.head()"
   ]
  },
  {
   "cell_type": "markdown",
   "metadata": {},
   "source": [
    "On peut enfin passer à tracé de la figure."
   ]
  },
  {
   "cell_type": "code",
   "execution_count": null,
   "metadata": {},
   "outputs": [],
   "source": [
    "fig = px.area(to_plot, \n",
    "              x='annee',\n",
    "              y='mediane_affectation',\n",
    "              color='region_monde',\n",
    "              line_shape='spline', # Lissage des courbes pour améliorer le rendu\n",
    "              facet_row='region_monde', \n",
    "              height=1200, \n",
    "              labels={'mediane_affectation': 'Médiane affectation'})\n",
    "\n",
    "fig.update_layout(showlegend=False) # Masquer la légende de droite\n",
    "fig.for_each_annotation(lambda a: a.update(text=a.text.split(\"=\")[-1])) # Nettoyer le titre de chaque graphe"
   ]
  },
  {
   "cell_type": "markdown",
   "metadata": {},
   "source": [
    "On peut observer quelques grandes tendances sur ce graphe, notamment les vagues d'immigration en provenance de l'Europe du Sud d'abord dans les années 20 puis post-seconde Guerre Mondiale.\n",
    "\n",
    "On remarquera également pendant la seconde Guerre Mondiale exclusivement un pic de prénoms (et donc de naissances) en provenance d'Europe de l'Ouest mais dissimilaires aux prénoms typiquement Français. En d'autres termes, il s'agit de prénoms courants en Europe de l'Ouest mais pas en France. La baisse subite de ces naissances dès 1945 laisse suggérer qu'il s'agit possiblement d'enfants nés de soldats étrangers présents en France.\n",
    "\n",
    "Remarquons toutefois que l'étude des prénoms donnés à la naissance ne permet qu'une appréciation tronquée des vagues d'immigration. En effet, les naissances ont nécessairement lieu après une arrivée en France, possiblement des années plus tard. De plus, le prénom donné à l'enfant n'a pas nécessairement de raison d'être \"typique\" de la région d'origine de ses parents."
   ]
  },
  {
   "cell_type": "markdown",
   "metadata": {},
   "source": [
    "# Conclusion\n",
    "\n",
    "Ce premier TD vous a permis d'appréhender les **principaux concepts et difficultés du Data Mining**. Certains types d'analyse n'ont pas été explorés ici, en particulier les données géographiques laissées à l'écart ou encore les données sur la phonétique inutilisées également.\n",
    "\n",
    "Les visualisations employées sont assez simplistes. Ceux désirant explorer d'autres visualisations sont invités à simplement importer les données traités dans un logiciel approprié (Tableau, PowerBI, etc...) ou à poursuivre leur apprentissage de plotly.\n",
    "\n",
    "Il est enfin à noter que cette analyse répond bien à la définition du Data Mining en cela qu'elle a permis de dégager des concepts haut-niveau, facilement assimilables par un humain, à partir d'un jeu de donnée difficilement interprétable tel quel (3.5M de lignes).\n",
    "\n",
    "Un rapport d'analyse sur ce jeu de donnée s'appuierait sur les différents graphes et métriques produits dans ce notebook afin de tirer des conclusions pertinentes sur le jeu de donnée. Dans le cas précis, une mise en relation avec divers phénomènes historiques (*e.g.* évolution du droit des femmes) permettrait de donner un début d'explication aux phénomènes observés."
   ]
  }
 ],
 "metadata": {
  "kernelspec": {
   "display_name": "Python 3 (ipykernel)",
   "language": "python",
   "name": "python3"
  },
  "language_info": {
   "codemirror_mode": {
    "name": "ipython",
    "version": 3
   },
   "file_extension": ".py",
   "mimetype": "text/x-python",
   "name": "python",
   "nbconvert_exporter": "python",
   "pygments_lexer": "ipython3",
   "version": "3.9.7"
  },
  "toc": {
   "base_numbering": 1,
   "nav_menu": {},
   "number_sections": false,
   "sideBar": true,
   "skip_h1_title": false,
   "title_cell": "Sommaire",
   "title_sidebar": "Plan",
   "toc_cell": true,
   "toc_position": {},
   "toc_section_display": true,
   "toc_window_display": false
  }
 },
 "nbformat": 4,
 "nbformat_minor": 4
}
